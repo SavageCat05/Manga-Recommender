{
 "cells": [
  {
   "cell_type": "markdown",
   "id": "6d586f77",
   "metadata": {},
   "source": [
    "### trying out content based filtering "
   ]
  },
  {
   "cell_type": "code",
   "execution_count": 7,
   "id": "425f6ef2",
   "metadata": {},
   "outputs": [],
   "source": [
    "import pandas as pd \n",
    "from sklearn.metrics.pairwise import cosine_similarity"
   ]
  },
  {
   "cell_type": "code",
   "execution_count": 8,
   "id": "5bf7748c",
   "metadata": {},
   "outputs": [],
   "source": [
    "user_input = pd.read_csv('User_input.csv', on_bad_lines='skip')"
   ]
  },
  {
   "cell_type": "code",
   "execution_count": 9,
   "id": "44a74925",
   "metadata": {},
   "outputs": [
    {
     "data": {
      "text/html": [
       "<div>\n",
       "<style scoped>\n",
       "    .dataframe tbody tr th:only-of-type {\n",
       "        vertical-align: middle;\n",
       "    }\n",
       "\n",
       "    .dataframe tbody tr th {\n",
       "        vertical-align: top;\n",
       "    }\n",
       "\n",
       "    .dataframe thead th {\n",
       "        text-align: right;\n",
       "    }\n",
       "</style>\n",
       "<table border=\"1\" class=\"dataframe\">\n",
       "  <thead>\n",
       "    <tr style=\"text-align: right;\">\n",
       "      <th></th>\n",
       "      <th>Username</th>\n",
       "      <th>Gender</th>\n",
       "      <th>Mean Score</th>\n",
       "      <th>Completed</th>\n",
       "      <th>Birth_Year</th>\n",
       "      <th>user_id</th>\n",
       "      <th>anime_id</th>\n",
       "      <th>Anime Title</th>\n",
       "      <th>rating</th>\n",
       "      <th>Genres</th>\n",
       "      <th>...</th>\n",
       "      <th>Genre_Gourmet</th>\n",
       "      <th>Genre_Hentai</th>\n",
       "      <th>Genre_Horror</th>\n",
       "      <th>Genre_Mystery</th>\n",
       "      <th>Genre_Romance</th>\n",
       "      <th>Genre_Sci-Fi</th>\n",
       "      <th>Genre_Slice of Life</th>\n",
       "      <th>Genre_Sports</th>\n",
       "      <th>Genre_Supernatural</th>\n",
       "      <th>Genre_Suspense</th>\n",
       "    </tr>\n",
       "  </thead>\n",
       "  <tbody>\n",
       "    <tr>\n",
       "      <th>0</th>\n",
       "      <td>Xinil</td>\n",
       "      <td>Male</td>\n",
       "      <td>7.37</td>\n",
       "      <td>233.0</td>\n",
       "      <td>1985</td>\n",
       "      <td>1</td>\n",
       "      <td>21</td>\n",
       "      <td>One Piece</td>\n",
       "      <td>9</td>\n",
       "      <td>Action, Adventure, Fantasy</td>\n",
       "      <td>...</td>\n",
       "      <td>0</td>\n",
       "      <td>0</td>\n",
       "      <td>0</td>\n",
       "      <td>0</td>\n",
       "      <td>0</td>\n",
       "      <td>0</td>\n",
       "      <td>0</td>\n",
       "      <td>0</td>\n",
       "      <td>0</td>\n",
       "      <td>0</td>\n",
       "    </tr>\n",
       "    <tr>\n",
       "      <th>1</th>\n",
       "      <td>Xinil</td>\n",
       "      <td>Male</td>\n",
       "      <td>7.37</td>\n",
       "      <td>233.0</td>\n",
       "      <td>1985</td>\n",
       "      <td>1</td>\n",
       "      <td>48</td>\n",
       "      <td>.hack//Sign</td>\n",
       "      <td>7</td>\n",
       "      <td>Adventure, Fantasy, Mystery</td>\n",
       "      <td>...</td>\n",
       "      <td>0</td>\n",
       "      <td>0</td>\n",
       "      <td>0</td>\n",
       "      <td>1</td>\n",
       "      <td>0</td>\n",
       "      <td>0</td>\n",
       "      <td>0</td>\n",
       "      <td>0</td>\n",
       "      <td>0</td>\n",
       "      <td>0</td>\n",
       "    </tr>\n",
       "    <tr>\n",
       "      <th>2</th>\n",
       "      <td>Xinil</td>\n",
       "      <td>Male</td>\n",
       "      <td>7.37</td>\n",
       "      <td>233.0</td>\n",
       "      <td>1985</td>\n",
       "      <td>1</td>\n",
       "      <td>320</td>\n",
       "      <td>A Kite</td>\n",
       "      <td>5</td>\n",
       "      <td>Action, Drama, Hentai</td>\n",
       "      <td>...</td>\n",
       "      <td>0</td>\n",
       "      <td>1</td>\n",
       "      <td>0</td>\n",
       "      <td>0</td>\n",
       "      <td>0</td>\n",
       "      <td>0</td>\n",
       "      <td>0</td>\n",
       "      <td>0</td>\n",
       "      <td>0</td>\n",
       "      <td>0</td>\n",
       "    </tr>\n",
       "    <tr>\n",
       "      <th>3</th>\n",
       "      <td>Xinil</td>\n",
       "      <td>Male</td>\n",
       "      <td>7.37</td>\n",
       "      <td>233.0</td>\n",
       "      <td>1985</td>\n",
       "      <td>1</td>\n",
       "      <td>49</td>\n",
       "      <td>Aa! Megami-sama!</td>\n",
       "      <td>8</td>\n",
       "      <td>Comedy, Romance, Supernatural</td>\n",
       "      <td>...</td>\n",
       "      <td>0</td>\n",
       "      <td>0</td>\n",
       "      <td>0</td>\n",
       "      <td>0</td>\n",
       "      <td>1</td>\n",
       "      <td>0</td>\n",
       "      <td>0</td>\n",
       "      <td>0</td>\n",
       "      <td>1</td>\n",
       "      <td>0</td>\n",
       "    </tr>\n",
       "    <tr>\n",
       "      <th>4</th>\n",
       "      <td>Xinil</td>\n",
       "      <td>Male</td>\n",
       "      <td>7.37</td>\n",
       "      <td>233.0</td>\n",
       "      <td>1985</td>\n",
       "      <td>1</td>\n",
       "      <td>304</td>\n",
       "      <td>Aa! Megami-sama! Movie</td>\n",
       "      <td>8</td>\n",
       "      <td>Comedy, Romance, Supernatural</td>\n",
       "      <td>...</td>\n",
       "      <td>0</td>\n",
       "      <td>0</td>\n",
       "      <td>0</td>\n",
       "      <td>0</td>\n",
       "      <td>1</td>\n",
       "      <td>0</td>\n",
       "      <td>0</td>\n",
       "      <td>0</td>\n",
       "      <td>1</td>\n",
       "      <td>0</td>\n",
       "    </tr>\n",
       "  </tbody>\n",
       "</table>\n",
       "<p>5 rows × 31 columns</p>\n",
       "</div>"
      ],
      "text/plain": [
       "  Username Gender  Mean Score  Completed  Birth_Year  user_id  anime_id  \\\n",
       "0    Xinil   Male        7.37      233.0        1985        1        21   \n",
       "1    Xinil   Male        7.37      233.0        1985        1        48   \n",
       "2    Xinil   Male        7.37      233.0        1985        1       320   \n",
       "3    Xinil   Male        7.37      233.0        1985        1        49   \n",
       "4    Xinil   Male        7.37      233.0        1985        1       304   \n",
       "\n",
       "              Anime Title  rating                         Genres  ...  \\\n",
       "0               One Piece       9     Action, Adventure, Fantasy  ...   \n",
       "1             .hack//Sign       7    Adventure, Fantasy, Mystery  ...   \n",
       "2                  A Kite       5          Action, Drama, Hentai  ...   \n",
       "3        Aa! Megami-sama!       8  Comedy, Romance, Supernatural  ...   \n",
       "4  Aa! Megami-sama! Movie       8  Comedy, Romance, Supernatural  ...   \n",
       "\n",
       "   Genre_Gourmet  Genre_Hentai  Genre_Horror  Genre_Mystery  Genre_Romance  \\\n",
       "0              0             0             0              0              0   \n",
       "1              0             0             0              1              0   \n",
       "2              0             1             0              0              0   \n",
       "3              0             0             0              0              1   \n",
       "4              0             0             0              0              1   \n",
       "\n",
       "   Genre_Sci-Fi  Genre_Slice of Life  Genre_Sports  Genre_Supernatural  \\\n",
       "0             0                    0             0                   0   \n",
       "1             0                    0             0                   0   \n",
       "2             0                    0             0                   0   \n",
       "3             0                    0             0                   1   \n",
       "4             0                    0             0                   1   \n",
       "\n",
       "   Genre_Suspense  \n",
       "0               0  \n",
       "1               0  \n",
       "2               0  \n",
       "3               0  \n",
       "4               0  \n",
       "\n",
       "[5 rows x 31 columns]"
      ]
     },
     "execution_count": 9,
     "metadata": {},
     "output_type": "execute_result"
    }
   ],
   "source": [
    "user_input.head()"
   ]
  },
  {
   "cell_type": "code",
   "execution_count": 10,
   "id": "7cfdb81a",
   "metadata": {},
   "outputs": [
    {
     "name": "stdout",
     "output_type": "stream",
     "text": [
      "<class 'pandas.core.frame.DataFrame'>\n",
      "RangeIndex: 3033293 entries, 0 to 3033292\n",
      "Data columns (total 31 columns):\n",
      " #   Column               Dtype  \n",
      "---  ------               -----  \n",
      " 0   Username             object \n",
      " 1   Gender               object \n",
      " 2   Mean Score           float64\n",
      " 3   Completed            float64\n",
      " 4   Birth_Year           int64  \n",
      " 5   user_id              int64  \n",
      " 6   anime_id             int64  \n",
      " 7   Anime Title          object \n",
      " 8   rating               int64  \n",
      " 9   Genres               object \n",
      " 10  Genre_Action         int64  \n",
      " 11  Genre_Adventure      int64  \n",
      " 12  Genre_Avant Garde    int64  \n",
      " 13  Genre_Award Winning  int64  \n",
      " 14  Genre_Boys Love      int64  \n",
      " 15  Genre_Comedy         int64  \n",
      " 16  Genre_Drama          int64  \n",
      " 17  Genre_Ecchi          int64  \n",
      " 18  Genre_Erotica        int64  \n",
      " 19  Genre_Fantasy        int64  \n",
      " 20  Genre_Girls Love     int64  \n",
      " 21  Genre_Gourmet        int64  \n",
      " 22  Genre_Hentai         int64  \n",
      " 23  Genre_Horror         int64  \n",
      " 24  Genre_Mystery        int64  \n",
      " 25  Genre_Romance        int64  \n",
      " 26  Genre_Sci-Fi         int64  \n",
      " 27  Genre_Slice of Life  int64  \n",
      " 28  Genre_Sports         int64  \n",
      " 29  Genre_Supernatural   int64  \n",
      " 30  Genre_Suspense       int64  \n",
      "dtypes: float64(2), int64(25), object(4)\n",
      "memory usage: 717.4+ MB\n"
     ]
    }
   ],
   "source": [
    "df = user_input\n",
    "df.info()"
   ]
  },
  {
   "cell_type": "code",
   "execution_count": 11,
   "id": "e80a497e",
   "metadata": {},
   "outputs": [
    {
     "name": "stdout",
     "output_type": "stream",
     "text": [
      "<class 'pandas.core.frame.DataFrame'>\n",
      "RangeIndex: 3033293 entries, 0 to 3033292\n",
      "Data columns (total 33 columns):\n",
      " #   Column               Dtype  \n",
      "---  ------               -----  \n",
      " 0   Username             object \n",
      " 1   Mean Score           float64\n",
      " 2   Completed            float64\n",
      " 3   Birth_Year           int64  \n",
      " 4   user_id              int64  \n",
      " 5   anime_id             int64  \n",
      " 6   Anime Title          object \n",
      " 7   rating               int64  \n",
      " 8   Genres               object \n",
      " 9   Genre_Action         int64  \n",
      " 10  Genre_Adventure      int64  \n",
      " 11  Genre_Avant Garde    int64  \n",
      " 12  Genre_Award Winning  int64  \n",
      " 13  Genre_Boys Love      int64  \n",
      " 14  Genre_Comedy         int64  \n",
      " 15  Genre_Drama          int64  \n",
      " 16  Genre_Ecchi          int64  \n",
      " 17  Genre_Erotica        int64  \n",
      " 18  Genre_Fantasy        int64  \n",
      " 19  Genre_Girls Love     int64  \n",
      " 20  Genre_Gourmet        int64  \n",
      " 21  Genre_Hentai         int64  \n",
      " 22  Genre_Horror         int64  \n",
      " 23  Genre_Mystery        int64  \n",
      " 24  Genre_Romance        int64  \n",
      " 25  Genre_Sci-Fi         int64  \n",
      " 26  Genre_Slice of Life  int64  \n",
      " 27  Genre_Sports         int64  \n",
      " 28  Genre_Supernatural   int64  \n",
      " 29  Genre_Suspense       int64  \n",
      " 30  Gender__Female       bool   \n",
      " 31  Gender__Male         bool   \n",
      " 32  Gender__Non-Binary   bool   \n",
      "dtypes: bool(3), float64(2), int64(25), object(3)\n",
      "memory usage: 702.9+ MB\n"
     ]
    }
   ],
   "source": [
    "df = pd.get_dummies(df, columns=['Gender'], prefix='Gender_')\n",
    "# df_new = df.drop(columns=['Gender'])\n",
    "df.info()"
   ]
  },
  {
   "cell_type": "code",
   "execution_count": 20,
   "id": "e6af0d60",
   "metadata": {},
   "outputs": [],
   "source": [
    "df = df.drop(columns=['Genres'])"
   ]
  },
  {
   "cell_type": "code",
   "execution_count": 21,
   "id": "5c3b96e0",
   "metadata": {},
   "outputs": [
    {
     "data": {
      "text/plain": [
       "Username               0\n",
       "Mean Score             0\n",
       "Completed              0\n",
       "Birth_Year             0\n",
       "user_id                0\n",
       "anime_id               0\n",
       "Anime Title            0\n",
       "rating                 0\n",
       "Genre_Action           0\n",
       "Genre_Adventure        0\n",
       "Genre_Avant Garde      0\n",
       "Genre_Award Winning    0\n",
       "Genre_Boys Love        0\n",
       "Genre_Comedy           0\n",
       "Genre_Drama            0\n",
       "Genre_Ecchi            0\n",
       "Genre_Erotica          0\n",
       "Genre_Fantasy          0\n",
       "Genre_Girls Love       0\n",
       "Genre_Gourmet          0\n",
       "Genre_Hentai           0\n",
       "Genre_Horror           0\n",
       "Genre_Mystery          0\n",
       "Genre_Romance          0\n",
       "Genre_Sci-Fi           0\n",
       "Genre_Slice of Life    0\n",
       "Genre_Sports           0\n",
       "Genre_Supernatural     0\n",
       "Genre_Suspense         0\n",
       "Gender__Female         0\n",
       "Gender__Male           0\n",
       "Gender__Non-Binary     0\n",
       "dtype: int64"
      ]
     },
     "execution_count": 21,
     "metadata": {},
     "output_type": "execute_result"
    }
   ],
   "source": [
    "df.isna().sum()"
   ]
  },
  {
   "cell_type": "code",
   "execution_count": 27,
   "id": "cbea79a6",
   "metadata": {},
   "outputs": [
    {
     "name": "stderr",
     "output_type": "stream",
     "text": [
      "c:\\Users\\Anshuman Raj\\OneDrive\\Desktop\\ML grp project\\ml_project\\venv\\Lib\\site-packages\\sklearn\\neural_network\\_multilayer_perceptron.py:698: UserWarning: Training interrupted by user.\n",
      "  warnings.warn(\"Training interrupted by user.\")\n"
     ]
    },
    {
     "name": "stdout",
     "output_type": "stream",
     "text": [
      "Test RMSE: 1.677\n",
      "                                            Anime Title  predicted_rating\n",
      "338               Pokemon Movie 01: Mewtwo no Gyakushuu          9.049713\n",
      "17878                               One Piece Film: Red          9.049713\n",
      "140201  Chiisana Eiyuu: Kani to Tamago to Toumei Ningen          8.894372\n",
      "10516                    Lupin III: Cagliostro no Shiro          8.863139\n",
      "6722                                       Sennen Joyuu          8.774777\n",
      "321                                  Majo no Takkyuubin          8.751261\n",
      "7744                                      Golgo 13 (TV)          8.609997\n",
      "4241                                        Banana Fish          8.609997\n",
      "22691                                  Mori no Densetsu          8.598336\n",
      "645494                        Wu Liuqi: Xuanwu Guo Pian          8.589660\n"
     ]
    }
   ],
   "source": [
    "import pandas as pd\n",
    "from sklearn.preprocessing import LabelEncoder\n",
    "from sklearn.neural_network import MLPRegressor\n",
    "from sklearn.model_selection import train_test_split\n",
    "from sklearn.metrics import root_mean_squared_error\n",
    "\n",
    "df['user_id'] = df['user_id'].astype(str)\n",
    "df['anime_id'] = pd.to_numeric(df['anime_id'], errors='coerce')\n",
    "df = df.dropna(subset=['anime_id'])  # Drop rows with invalid anime_id\n",
    "df['anime_id'] = df['anime_id'].astype(int)\n",
    "\n",
    "# Encode user_id\n",
    "user_encoder = LabelEncoder()\n",
    "df['user_id_enc'] = user_encoder.fit_transform(df['user_id'])\n",
    "\n",
    "# Genre columns\n",
    "genre_cols = [col for col in df.columns if col.startswith('Genre_')]\n",
    "\n",
    "# Features and target\n",
    "X = pd.concat([df[['user_id_enc']], df[genre_cols]], axis=1)\n",
    "y = df['rating']\n",
    "\n",
    "# Train/test split\n",
    "X_train, X_test, y_train, y_test = train_test_split(X, y, random_state=42)\n",
    "\n",
    "# Neural network model (Scikit-learn)\n",
    "model = MLPRegressor(hidden_layer_sizes=(64, 32), max_iter=300, random_state=42)\n",
    "model.fit(X_train, y_train)\n",
    "\n",
    "# Evaluate\n",
    "preds = model.predict(X_test)\n",
    "rmse = root_mean_squared_error(y_test, preds)\n",
    "print(f\"Test RMSE: {rmse:.3f}\")\n",
    "def recommend_for_user(user_id, top_n=10):\n",
    "    user_enc = user_encoder.transform([str(user_id)])[0]\n",
    "\n",
    "    # Get anime profiles\n",
    "    anime_profiles = df[['anime_id', 'Anime Title'] + genre_cols].drop_duplicates('anime_id')\n",
    "\n",
    "    # Filter unseen anime\n",
    "    seen_anime_ids = df[df['user_id_enc'] == user_enc]['anime_id'].unique()\n",
    "    unseen = anime_profiles[~anime_profiles['anime_id'].isin(seen_anime_ids)].copy()\n",
    "\n",
    "    # Build input\n",
    "    X_unseen = pd.concat([\n",
    "        pd.Series([user_enc] * len(unseen), name='user_id_enc'),\n",
    "        unseen[genre_cols].reset_index(drop=True)\n",
    "    ], axis=1)\n",
    "\n",
    "    # Predict and sort\n",
    "    unseen['predicted_rating'] = model.predict(X_unseen)\n",
    "    return unseen.sort_values(by='predicted_rating', ascending=False)[['Anime Title', 'predicted_rating']].head(top_n)\n",
    "\n",
    "# 🔍 Example usage\n",
    "recommendations = recommend_for_user(\"1\")  # Pass user_id as a string\n",
    "print(recommendations)"
   ]
  },
  {
   "cell_type": "code",
   "execution_count": 28,
   "id": "4d800526",
   "metadata": {},
   "outputs": [
    {
     "data": {
      "text/plain": [
       "['user_encoder.pkl']"
      ]
     },
     "execution_count": 28,
     "metadata": {},
     "output_type": "execute_result"
    }
   ],
   "source": [
    "import joblib\n",
    "\n",
    "# Save the trained model\n",
    "joblib.dump(model, 'anime_rating_model.pkl')\n",
    "\n",
    "# Also save the label encoder if needed for inference\n",
    "joblib.dump(user_encoder, 'user_encoder.pkl')\n"
   ]
  },
  {
   "cell_type": "code",
   "execution_count": 29,
   "id": "6b3888f6",
   "metadata": {},
   "outputs": [],
   "source": [
    "# Load the model\n",
    "model = joblib.load('anime_rating_model.pkl')\n",
    "\n",
    "# Load the user encoder\n",
    "user_encoder = joblib.load('user_encoder.pkl')\n"
   ]
  },
  {
   "cell_type": "code",
   "execution_count": 32,
   "id": "43d2deca",
   "metadata": {},
   "outputs": [
    {
     "data": {
      "text/plain": [
       "array([7.61205293, 6.53912424, 6.97449499, 7.01766491, 7.67095784,\n",
       "       7.16203893, 6.61415179, 7.69100461, 7.30512604, 6.65818098])"
      ]
     },
     "execution_count": 32,
     "metadata": {},
     "output_type": "execute_result"
    }
   ],
   "source": [
    "model.predict(X_test[:10])"
   ]
  },
  {
   "cell_type": "code",
   "execution_count": 33,
   "id": "b85a94b0",
   "metadata": {},
   "outputs": [
    {
     "data": {
      "text/plain": [
       "428608     9\n",
       "1169160    6\n",
       "2235765    6\n",
       "1214451    7\n",
       "2731830    4\n",
       "2730274    8\n",
       "651720     9\n",
       "2476124    8\n",
       "1988535    6\n",
       "170489     6\n",
       "Name: rating, dtype: int64"
      ]
     },
     "execution_count": 33,
     "metadata": {},
     "output_type": "execute_result"
    }
   ],
   "source": [
    "y_test[:10]"
   ]
  }
 ],
 "metadata": {
  "kernelspec": {
   "display_name": "venv",
   "language": "python",
   "name": "python3"
  },
  "language_info": {
   "codemirror_mode": {
    "name": "ipython",
    "version": 3
   },
   "file_extension": ".py",
   "mimetype": "text/x-python",
   "name": "python",
   "nbconvert_exporter": "python",
   "pygments_lexer": "ipython3",
   "version": "3.11.9"
  }
 },
 "nbformat": 4,
 "nbformat_minor": 5
}
