{
 "cells": [
  {
   "cell_type": "code",
   "execution_count": 71,
   "metadata": {},
   "outputs": [],
   "source": [
    "import pandas as pd\n",
    "import numpy as np\n",
    "from sklearn.linear_model import LinearRegression\n",
    "from sklearn.ensemble import RandomForestClassifier, RandomForestRegressor\n",
    "from sklearn.model_selection import train_test_split\n",
    "from sklearn.metrics import mean_squared_error, r2_score\n",
    "import matplotlib.pyplot as plt\n",
    "import seaborn as sns"
   ]
  },
  {
   "cell_type": "code",
   "execution_count": 72,
   "metadata": {},
   "outputs": [],
   "source": [
    "file_loc = '../datasets/manga.csv'\n",
    "df = pd.read_csv(file_loc)"
   ]
  },
  {
   "cell_type": "code",
   "execution_count": 73,
   "metadata": {},
   "outputs": [
    {
     "data": {
      "text/plain": [
       "Index(['manga_id', 'title', 'type', 'score', 'scored_by', 'status', 'volumes',\n",
       "       'chapters', 'start_date', 'end_date', 'members', 'favorites', 'sfw',\n",
       "       'approved', 'created_at_before', 'updated_at', 'real_start_date',\n",
       "       'real_end_date', 'genres', 'themes', 'demographics', 'authors',\n",
       "       'serializations', 'synopsis', 'background', 'main_picture', 'url',\n",
       "       'title_english', 'title_japanese', 'title_synonyms'],\n",
       "      dtype='object')"
      ]
     },
     "execution_count": 73,
     "metadata": {},
     "output_type": "execute_result"
    }
   ],
   "source": [
    "df.columns"
   ]
  },
  {
   "cell_type": "code",
   "execution_count": 74,
   "metadata": {},
   "outputs": [
    {
     "data": {
      "text/html": [
       "<div>\n",
       "<style scoped>\n",
       "    .dataframe tbody tr th:only-of-type {\n",
       "        vertical-align: middle;\n",
       "    }\n",
       "\n",
       "    .dataframe tbody tr th {\n",
       "        vertical-align: top;\n",
       "    }\n",
       "\n",
       "    .dataframe thead th {\n",
       "        text-align: right;\n",
       "    }\n",
       "</style>\n",
       "<table border=\"1\" class=\"dataframe\">\n",
       "  <thead>\n",
       "    <tr style=\"text-align: right;\">\n",
       "      <th></th>\n",
       "      <th>manga_id</th>\n",
       "      <th>title</th>\n",
       "      <th>score</th>\n",
       "      <th>status</th>\n",
       "      <th>favorites</th>\n",
       "      <th>genres</th>\n",
       "      <th>type</th>\n",
       "      <th>start_date</th>\n",
       "      <th>chapters</th>\n",
       "    </tr>\n",
       "  </thead>\n",
       "  <tbody>\n",
       "    <tr>\n",
       "      <th>0</th>\n",
       "      <td>2</td>\n",
       "      <td>Berserk</td>\n",
       "      <td>9.47</td>\n",
       "      <td>currently_publishing</td>\n",
       "      <td>119470</td>\n",
       "      <td>['Action', 'Adventure', 'Award Winning', 'Dram...</td>\n",
       "      <td>manga</td>\n",
       "      <td>1989-08-25</td>\n",
       "      <td>NaN</td>\n",
       "    </tr>\n",
       "    <tr>\n",
       "      <th>1</th>\n",
       "      <td>13</td>\n",
       "      <td>One Piece</td>\n",
       "      <td>9.22</td>\n",
       "      <td>currently_publishing</td>\n",
       "      <td>111462</td>\n",
       "      <td>['Action', 'Adventure', 'Fantasy']</td>\n",
       "      <td>manga</td>\n",
       "      <td>1997-07-22</td>\n",
       "      <td>NaN</td>\n",
       "    </tr>\n",
       "    <tr>\n",
       "      <th>2</th>\n",
       "      <td>1706</td>\n",
       "      <td>JoJo no Kimyou na Bouken Part 7: Steel Ball Run</td>\n",
       "      <td>9.30</td>\n",
       "      <td>finished</td>\n",
       "      <td>41713</td>\n",
       "      <td>['Action', 'Adventure', 'Mystery', 'Supernatur...</td>\n",
       "      <td>manga</td>\n",
       "      <td>2004-01-19</td>\n",
       "      <td>96.0</td>\n",
       "    </tr>\n",
       "    <tr>\n",
       "      <th>3</th>\n",
       "      <td>4632</td>\n",
       "      <td>Oyasumi Punpun</td>\n",
       "      <td>9.02</td>\n",
       "      <td>finished</td>\n",
       "      <td>49361</td>\n",
       "      <td>['Drama', 'Slice of Life']</td>\n",
       "      <td>manga</td>\n",
       "      <td>2007-03-15</td>\n",
       "      <td>147.0</td>\n",
       "    </tr>\n",
       "    <tr>\n",
       "      <th>4</th>\n",
       "      <td>25</td>\n",
       "      <td>Fullmetal Alchemist</td>\n",
       "      <td>9.03</td>\n",
       "      <td>finished</td>\n",
       "      <td>29634</td>\n",
       "      <td>['Action', 'Adventure', 'Award Winning', 'Dram...</td>\n",
       "      <td>manga</td>\n",
       "      <td>2001-07-12</td>\n",
       "      <td>116.0</td>\n",
       "    </tr>\n",
       "  </tbody>\n",
       "</table>\n",
       "</div>"
      ],
      "text/plain": [
       "   manga_id                                            title  score  \\\n",
       "0         2                                          Berserk   9.47   \n",
       "1        13                                        One Piece   9.22   \n",
       "2      1706  JoJo no Kimyou na Bouken Part 7: Steel Ball Run   9.30   \n",
       "3      4632                                   Oyasumi Punpun   9.02   \n",
       "4        25                              Fullmetal Alchemist   9.03   \n",
       "\n",
       "                 status  favorites  \\\n",
       "0  currently_publishing     119470   \n",
       "1  currently_publishing     111462   \n",
       "2              finished      41713   \n",
       "3              finished      49361   \n",
       "4              finished      29634   \n",
       "\n",
       "                                              genres   type  start_date  \\\n",
       "0  ['Action', 'Adventure', 'Award Winning', 'Dram...  manga  1989-08-25   \n",
       "1                 ['Action', 'Adventure', 'Fantasy']  manga  1997-07-22   \n",
       "2  ['Action', 'Adventure', 'Mystery', 'Supernatur...  manga  2004-01-19   \n",
       "3                         ['Drama', 'Slice of Life']  manga  2007-03-15   \n",
       "4  ['Action', 'Adventure', 'Award Winning', 'Dram...  manga  2001-07-12   \n",
       "\n",
       "   chapters  \n",
       "0       NaN  \n",
       "1       NaN  \n",
       "2      96.0  \n",
       "3     147.0  \n",
       "4     116.0  "
      ]
     },
     "execution_count": 74,
     "metadata": {},
     "output_type": "execute_result"
    }
   ],
   "source": [
    "df_new = df[['manga_id','title','score','status','favorites','genres','type','start_date', 'chapters']]\n",
    "df_new.head()"
   ]
  },
  {
   "cell_type": "code",
   "execution_count": 75,
   "metadata": {},
   "outputs": [
    {
     "name": "stdout",
     "output_type": "stream",
     "text": [
      "<class 'pandas.core.frame.DataFrame'>\n",
      "RangeIndex: 64833 entries, 0 to 64832\n",
      "Data columns (total 9 columns):\n",
      " #   Column      Non-Null Count  Dtype  \n",
      "---  ------      --------------  -----  \n",
      " 0   manga_id    64833 non-null  int64  \n",
      " 1   title       64833 non-null  object \n",
      " 2   score       24636 non-null  float64\n",
      " 3   status      64833 non-null  object \n",
      " 4   favorites   64833 non-null  int64  \n",
      " 5   genres      64833 non-null  object \n",
      " 6   type        64833 non-null  object \n",
      " 7   start_date  62950 non-null  object \n",
      " 8   chapters    46042 non-null  float64\n",
      "dtypes: float64(2), int64(2), object(5)\n",
      "memory usage: 4.5+ MB\n"
     ]
    }
   ],
   "source": [
    "df_new.info()"
   ]
  },
  {
   "cell_type": "code",
   "execution_count": 76,
   "metadata": {},
   "outputs": [
    {
     "name": "stdout",
     "output_type": "stream",
     "text": [
      "(64833, 9)\n"
     ]
    }
   ],
   "source": [
    "df_new.isna().sum()\n",
    "print(df_new.shape)"
   ]
  },
  {
   "cell_type": "code",
   "execution_count": 79,
   "metadata": {},
   "outputs": [
    {
     "name": "stdout",
     "output_type": "stream",
     "text": [
      "Mean Squared Error: 0.15\n",
      "R² Score: 0.44\n"
     ]
    }
   ],
   "source": [
    "df_reg = df_new[['favorites', 'score']]\n",
    "df_reg.isna().sum()\n",
    "\n",
    "train_data = df_reg.dropna()  # Dropping rows with NaN values\n",
    "X = train_data[['favorites']]\n",
    "y = train_data['score']\n",
    "\n",
    "X_train, X_val, y_train, y_val = train_test_split(X, y, test_size=0.2, random_state=42)\n",
    "\n",
    "# First model: Predict zero vs non-zero\n",
    "classifier = RandomForestClassifier(random_state=42)\n",
    "classifier.fit(X_train, (y_train == 0).astype(int))  # Convert to integer for classification\n",
    "\n",
    "# Second model: Predict non-zero values\n",
    "regressor = RandomForestRegressor(random_state=42)\n",
    "regressor.fit(X_train.loc[y_train != 0], y_train[y_train != 0])\n",
    "\n",
    "# Combined model\n",
    "rf = RandomForestRegressor(\n",
    "    n_estimators=200,\n",
    "    max_depth=5,\n",
    "    min_samples_leaf=10,\n",
    "    random_state=42\n",
    ")\n",
    "rf.fit(X_train, y_train)\n",
    "\n",
    "# Making predictions\n",
    "is_zero = classifier.predict(X_val).astype(bool)  # Ensure boolean indexing\n",
    "final_pred = np.zeros_like(y_val)  # Initialize predictions with zeros\n",
    "\n",
    "# Predict non-zero values only where classifier predicts non-zero\n",
    "non_zero_indices = ~is_zero\n",
    "final_pred[non_zero_indices] = regressor.predict(X_val.loc[non_zero_indices])\n",
    "\n",
    "# Compute evaluation metrics\n",
    "mse = mean_squared_error(y_val, final_pred)\n",
    "r2 = r2_score(y_val, final_pred)\n",
    "\n",
    "# Additional Random Forest model predictions\n",
    "rf_preds = rf.predict(X_val)\n",
    "\n",
    "print(f'Mean Squared Error: {mse:.2f}')\n",
    "print(f'R² Score: {r2:.2f}')"
   ]
  },
  {
   "cell_type": "code",
   "execution_count": 80,
   "metadata": {},
   "outputs": [
    {
     "data": {
      "image/png": "[encoded data removed]",
      "text/plain": [
       "<Figure size 800x600 with 1 Axes>"
      ]
     },
     "metadata": {},
     "output_type": "display_data"
    }
   ],
   "source": [
    "plt.figure(figsize=(8, 6))\n",
    "sns.regplot(\n",
    "    x=X_train.squeeze(),  # Ensure x is a Series\n",
    "    y=y_train, \n",
    "    scatter_kws={'alpha': 0.5}, \n",
    "    line_kws={'color': 'red'}\n",
    ")\n",
    "plt.xlabel(\"Favorites\")\n",
    "plt.ylabel(\"Score\")\n",
    "plt.title(\"Scatter Plot with Regression Line\")\n",
    "plt.grid(True)  # Improve readability\n",
    "plt.show()\n"
   ]
  },
  {
   "cell_type": "code",
   "execution_count": null,
   "metadata": {},
   "outputs": [],
   "source": [
    "# Identify missing values in 'score'\n",
    "missing_data = df_reg[df_reg['score'].isna()]\n",
    "X_test = missing_data[['favorites']]\n",
    "\n",
    "# Predict missing scores using the trained regressor\n",
    "y_pred = rf.predict(X_test).round(2)  # Use 'rf' instead of 'regr' and round directly\n",
    "\n",
    "# Fill missing values with predictions\n",
    "df_reg.loc[df_reg['score'].isna(), 'score'] = y_pred\n",
    "\n",
    "# Verify if missing values are filled\n",
    "print(df_reg.isna().sum())  \n",
    "print(df_reg.shape)\n",
    "\n",
    "# Efficiently update df_new with corrected scores instead of merging\n",
    "df_new.update(df_reg)\n"
   ]
  }
 ],
 "metadata": {
  "kernelspec": {
   "display_name": "venv",
   "language": "python",
   "name": "python3"
  },
  "language_info": {
   "codemirror_mode": {
    "name": "ipython",
    "version": 3
   },
   "file_extension": ".py",
   "mimetype": "text/x-python",
   "name": "python",
   "nbconvert_exporter": "python",
   "pygments_lexer": "ipython3",
   "version": "3.11.9"
  }
 },
 "nbformat": 4,
 "nbformat_minor": 2
}
