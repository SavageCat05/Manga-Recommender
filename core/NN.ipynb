{
 "cells": [
  {
   "cell_type": "markdown",
   "id": "0db3612a",
   "metadata": {},
   "source": [
    "# Obtained_data:"
   ]
  },
  {
   "cell_type": "code",
   "execution_count": 1,
   "id": "ce088793",
   "metadata": {},
   "outputs": [],
   "source": [
    "import numpy as np \n",
    "import pandas as pd"
   ]
  },
  {
   "cell_type": "code",
   "execution_count": 2,
   "id": "ad86276c",
   "metadata": {},
   "outputs": [
    {
     "name": "stderr",
     "output_type": "stream",
     "text": [
      "C:\\Users\\Lenovo\\AppData\\Local\\Temp\\ipykernel_22712\\3708410406.py:2: DtypeWarning: Columns (20) have mixed types. Specify dtype option on import or set low_memory=False.\n",
      "  item_data=pd.read_csv(\"Final_Anime_Dataset.csv\")\n"
     ]
    }
   ],
   "source": [
    "\n",
    "user_data=pd.read_csv(\"Final_User_Dataset.csv\")\n",
    "item_data=pd.read_csv(\"Final_Anime_Dataset.csv\")\n",
    "user_input=pd.read_csv(\"User_input.csv\")\n",
    "\n"
   ]
  },
  {
   "cell_type": "code",
   "execution_count": 3,
   "id": "f25c55f3",
   "metadata": {},
   "outputs": [
    {
     "data": {
      "text/plain": [
       "dtype('float64')"
      ]
     },
     "execution_count": 3,
     "metadata": {},
     "output_type": "execute_result"
    }
   ],
   "source": [
    "user_data[user_data.columns[21]].dtype"
   ]
  },
  {
   "cell_type": "code",
   "execution_count": 4,
   "id": "20eed514",
   "metadata": {},
   "outputs": [
    {
     "data": {
      "text/plain": [
       "array([347, 'troublesome4u', 'Male', 8.64, 167.0, 8.84, 8.83, 7.93, 9.56,\n",
       "       7.06, 8.1, 8.67, 8.0, 6.8, 8.47, 7.17, 7.53, 6.47, 8.54, 6.83,\n",
       "       8.57, 8.32, 7.87, 9.0, 8.69, 10.0, 47, 'Gen_X', 0, 1], dtype=object)"
      ]
     },
     "execution_count": 4,
     "metadata": {},
     "output_type": "execute_result"
    }
   ],
   "source": [
    "user_data.iloc[21, :].unique()"
   ]
  },
  {
   "cell_type": "code",
   "execution_count": 5,
   "id": "066899aa",
   "metadata": {},
   "outputs": [],
   "source": [
    "from sklearn.base import BaseEstimator, TransformerMixin\n",
    "import pandas as pd\n",
    "\n",
    "class GenreRatingTypeConverter(BaseEstimator, TransformerMixin):\n",
    "    \"\"\"\n",
    "    A transformer that converts all columns with a specific prefix to numeric data types,\n",
    "    handling non-numeric values by converting them to NaN.\n",
    "    \n",
    "    Parameters:\n",
    "    -----------\n",
    "    column_prefix : str, default='avg_'\n",
    "        Prefix used to identify columns for conversion\n",
    "    errors : str, default='coerce'\n",
    "        How to handle errors in conversion:\n",
    "        - 'ignore': leave invalid values as is\n",
    "        - 'raise': raise an exception\n",
    "        - 'coerce': convert invalid values to NaN\n",
    "    downcast : str or None, default=None\n",
    "        Type to downcast to if possible ('integer', 'signed', 'unsigned', 'float')\n",
    "    \"\"\"\n",
    "    \n",
    "    def __init__(self, column_prefix='avg_', errors='coerce', downcast=None):\n",
    "        self.column_prefix = column_prefix\n",
    "        self.errors = errors\n",
    "        self.downcast = downcast\n",
    "        self.columns_converted_ = None\n",
    "    \n",
    "    def fit(self, X, y=None):\n",
    "        \"\"\"\n",
    "        Identify columns to convert based on prefix.\n",
    "        \n",
    "        Parameters:\n",
    "        -----------\n",
    "        X : pandas.DataFrame\n",
    "            Input DataFrame\n",
    "        y : array-like, default=None\n",
    "            Not used, present for API consistency\n",
    "            \n",
    "        Returns:\n",
    "        --------\n",
    "        self\n",
    "        \"\"\"\n",
    "        # Identify columns starting with the specified prefix\n",
    "        self.columns_converted_ = [col for col in X.columns if col.startswith(self.column_prefix)]\n",
    "        return self\n",
    "    \n",
    "    def transform(self, X):\n",
    "        \"\"\"\n",
    "        Convert identified columns to numeric types.\n",
    "        \n",
    "        Parameters:\n",
    "        -----------\n",
    "        X : pandas.DataFrame\n",
    "            Input DataFrame to transform\n",
    "            \n",
    "        Returns:\n",
    "        --------\n",
    "        pandas.DataFrame\n",
    "            Transformed DataFrame with numeric columns\n",
    "        \"\"\"\n",
    "        X_result = X.copy()\n",
    "        \n",
    "        for column in self.columns_converted_:\n",
    "            X_result[column] = pd.to_numeric(X_result[column], \n",
    "                                             errors=self.errors, \n",
    "                                             downcast=self.downcast)\n",
    "        \n",
    "        return X_result\n",
    "    \n",
    "    def get_feature_names_out(self, input_features=None):\n",
    "        \"\"\"\n",
    "        Get output feature names.\n",
    "        \n",
    "        Parameters:\n",
    "        -----------\n",
    "        input_features : array-like of str or None, default=None\n",
    "            Input features\n",
    "            \n",
    "        Returns:\n",
    "        --------\n",
    "        list\n",
    "            List of converted column names\n",
    "        \"\"\"\n",
    "        return self.columns_converted_"
   ]
  },
  {
   "cell_type": "code",
   "execution_count": 6,
   "id": "f90724c8",
   "metadata": {},
   "outputs": [
    {
     "name": "stdout",
     "output_type": "stream",
     "text": [
      "avg_Action: float64\n",
      "avg_Adventure: float64\n",
      "avg_Avant Garde: float64\n",
      "avg_Award Winning: float64\n",
      "avg_Boys Love: float64\n",
      "avg_Comedy: float64\n",
      "avg_Drama: float64\n",
      "avg_Ecchi: float64\n",
      "avg_Erotica: float64\n",
      "avg_Fantasy: float64\n",
      "avg_Girls Love: float64\n",
      "avg_Gourmet: float64\n",
      "avg_Hentai: float64\n",
      "avg_Horror: float64\n",
      "avg_Mystery: float64\n",
      "avg_Romance: float64\n",
      "avg_Sci-Fi: float64\n",
      "avg_Slice of Life: float64\n",
      "avg_Sports: float64\n",
      "avg_Supernatural: float64\n",
      "avg_Suspense: float64\n"
     ]
    }
   ],
   "source": [
    "# Initialize the transformer\n",
    "genre_converter = GenreRatingTypeConverter(column_prefix='avg_', errors='coerce')\n",
    "\n",
    "# Apply the transformation\n",
    "user_data = genre_converter.fit_transform(user_data)\n",
    "\n",
    "# Check the data types of converted columns\n",
    "for col in genre_converter.columns_converted_:\n",
    "    print(f\"{col}: {user_data[col].dtype}\")"
   ]
  },
  {
   "cell_type": "code",
   "execution_count": 7,
   "id": "278053da",
   "metadata": {},
   "outputs": [
    {
     "data": {
      "text/plain": [
       "dtype('float64')"
      ]
     },
     "execution_count": 7,
     "metadata": {},
     "output_type": "execute_result"
    }
   ],
   "source": [
    "user_data[\"avg_Romance\"].dtype"
   ]
  },
  {
   "cell_type": "code",
   "execution_count": 8,
   "id": "0e309d39",
   "metadata": {},
   "outputs": [
    {
     "name": "stdout",
     "output_type": "stream",
     "text": [
      "Range of avg_Mystery: 1.0 to 10.0\n"
     ]
    }
   ],
   "source": [
    "min_value = user_data['avg_Mystery'].min()\n",
    "max_value = user_data['avg_Mystery'].max()\n",
    "print(f\"Range of avg_Mystery: {min_value} to {max_value}\")"
   ]
  },
  {
   "cell_type": "code",
   "execution_count": 9,
   "id": "77ed4ef7",
   "metadata": {},
   "outputs": [
    {
     "data": {
      "text/plain": [
       "dtype('float64')"
      ]
     },
     "execution_count": 9,
     "metadata": {},
     "output_type": "execute_result"
    }
   ],
   "source": [
    "user_data[\"avg_Mystery\"].dtype"
   ]
  },
  {
   "cell_type": "code",
   "execution_count": 10,
   "id": "2a528533",
   "metadata": {},
   "outputs": [
    {
     "data": {
      "text/plain": [
       "(19848, 1571)"
      ]
     },
     "execution_count": 10,
     "metadata": {},
     "output_type": "execute_result"
    }
   ],
   "source": [
    "item_data.shape"
   ]
  },
  {
   "cell_type": "code",
   "execution_count": 11,
   "id": "7bbd5b8b",
   "metadata": {},
   "outputs": [
    {
     "data": {
      "text/plain": [
       "Index(['user_id', 'Username', 'Gender', 'Mean Score', 'Completed',\n",
       "       'avg_Action', 'avg_Adventure', 'avg_Avant Garde', 'avg_Award Winning',\n",
       "       'avg_Boys Love', 'avg_Comedy', 'avg_Drama', 'avg_Ecchi', 'avg_Erotica',\n",
       "       'avg_Fantasy', 'avg_Girls Love', 'avg_Gourmet', 'avg_Hentai',\n",
       "       'avg_Horror', 'avg_Mystery', 'avg_Romance', 'avg_Sci-Fi',\n",
       "       'avg_Slice of Life', 'avg_Sports', 'avg_Supernatural', 'avg_Suspense',\n",
       "       'Age', 'Viewer_Category', 'Age_Group__Gen_Alpha', 'Age_Group__Zoomers',\n",
       "       'Age_Group__Millennials', 'Age_Group__Gen_X', 'Age_Group__Boomers_Plus',\n",
       "       'Category_Classic_Era_Fans', 'Category_Gen_Alpha_Viewers',\n",
       "       'Category_Millennial_Favorites', 'Category_Retro_Anime_Lovers',\n",
       "       'Category_Zoomer_Picks'],\n",
       "      dtype='object')"
      ]
     },
     "execution_count": 11,
     "metadata": {},
     "output_type": "execute_result"
    }
   ],
   "source": [
    "user_data.columns"
   ]
  },
  {
   "cell_type": "code",
   "execution_count": 12,
   "id": "ede8c699",
   "metadata": {},
   "outputs": [
    {
     "data": {
      "text/html": [
       "<div>\n",
       "<style scoped>\n",
       "    .dataframe tbody tr th:only-of-type {\n",
       "        vertical-align: middle;\n",
       "    }\n",
       "\n",
       "    .dataframe tbody tr th {\n",
       "        vertical-align: top;\n",
       "    }\n",
       "\n",
       "    .dataframe thead th {\n",
       "        text-align: right;\n",
       "    }\n",
       "</style>\n",
       "<table border=\"1\" class=\"dataframe\">\n",
       "  <thead>\n",
       "    <tr style=\"text-align: right;\">\n",
       "      <th></th>\n",
       "      <th>anime_id</th>\n",
       "      <th>Name</th>\n",
       "      <th>English name</th>\n",
       "      <th>Other name</th>\n",
       "      <th>Score</th>\n",
       "      <th>Genres</th>\n",
       "      <th>Synopsis</th>\n",
       "      <th>Episodes</th>\n",
       "      <th>Aired</th>\n",
       "      <th>Premiered</th>\n",
       "      <th>...</th>\n",
       "      <th>Studio_pH Studio, D &amp; D Pictures</th>\n",
       "      <th>Studio_pH Studio, Noovo</th>\n",
       "      <th>Studio_production doA</th>\n",
       "      <th>Studio_studio MOTHER</th>\n",
       "      <th>Studio_studio YOG</th>\n",
       "      <th>Studio_trenova</th>\n",
       "      <th>Studio_ufotable</th>\n",
       "      <th>Studio_ufotable, Shaft, A-1 Pictures, SILVER LINK., Lerche, Lay-duce, CloverWorks, Drive</th>\n",
       "      <th>Studio_ufotable, feel., Studio Flag</th>\n",
       "      <th>Release_Year</th>\n",
       "    </tr>\n",
       "  </thead>\n",
       "  <tbody>\n",
       "    <tr>\n",
       "      <th>2485</th>\n",
       "      <td>2726</td>\n",
       "      <td>Sukeban Deka</td>\n",
       "      <td>Delinquent Detective</td>\n",
       "      <td>スケバン刑事</td>\n",
       "      <td>6.4</td>\n",
       "      <td>Action, Drama</td>\n",
       "      <td>Having spent time at a juvenile corrections fa...</td>\n",
       "      <td>2</td>\n",
       "      <td>Apr 21, 1991 to Jul 21, 1991</td>\n",
       "      <td>UNKNOWN</td>\n",
       "      <td>...</td>\n",
       "      <td>0</td>\n",
       "      <td>0</td>\n",
       "      <td>0</td>\n",
       "      <td>0</td>\n",
       "      <td>0</td>\n",
       "      <td>0</td>\n",
       "      <td>0</td>\n",
       "      <td>0</td>\n",
       "      <td>0</td>\n",
       "      <td>1991.0</td>\n",
       "    </tr>\n",
       "  </tbody>\n",
       "</table>\n",
       "<p>1 rows × 1571 columns</p>\n",
       "</div>"
      ],
      "text/plain": [
       "      anime_id          Name          English name Other name  Score  \\\n",
       "2485      2726  Sukeban Deka  Delinquent Detective     スケバン刑事    6.4   \n",
       "\n",
       "             Genres                                           Synopsis  \\\n",
       "2485  Action, Drama  Having spent time at a juvenile corrections fa...   \n",
       "\n",
       "      Episodes                         Aired Premiered  ...  \\\n",
       "2485         2  Apr 21, 1991 to Jul 21, 1991   UNKNOWN  ...   \n",
       "\n",
       "     Studio_pH Studio, D & D Pictures Studio_pH Studio, Noovo  \\\n",
       "2485                                0                       0   \n",
       "\n",
       "     Studio_production doA Studio_studio MOTHER Studio_studio YOG  \\\n",
       "2485                     0                    0                 0   \n",
       "\n",
       "     Studio_trenova Studio_ufotable  \\\n",
       "2485              0               0   \n",
       "\n",
       "      Studio_ufotable, Shaft, A-1 Pictures, SILVER LINK., Lerche, Lay-duce, CloverWorks, Drive  \\\n",
       "2485                                                  0                                          \n",
       "\n",
       "      Studio_ufotable, feel., Studio Flag  Release_Year  \n",
       "2485                                    0        1991.0  \n",
       "\n",
       "[1 rows x 1571 columns]"
      ]
     },
     "execution_count": 12,
     "metadata": {},
     "output_type": "execute_result"
    }
   ],
   "source": [
    "item_data.columns\n",
    "item_data.sample()"
   ]
  },
  {
   "cell_type": "code",
   "execution_count": 13,
   "id": "a0e42210",
   "metadata": {},
   "outputs": [
    {
     "name": "stdout",
     "output_type": "stream",
     "text": [
      "   user_id  Username  Mean Score  Completed  avg_Action  avg_Adventure  \\\n",
      "0        1     Xinil        7.37      233.0        7.68           7.90   \n",
      "1       20    vondur        8.06       94.0        8.02           8.24   \n",
      "2       66    Hiromi        7.53      148.0        7.49           7.31   \n",
      "3       82    Achtor        7.17      153.0        7.36           7.71   \n",
      "4      112  luffykun        8.77      125.0        8.60           8.36   \n",
      "\n",
      "   avg_Avant Garde  avg_Award Winning  avg_Boys Love  avg_Comedy  ...  \\\n",
      "0             8.00               8.18           7.06        7.02  ...   \n",
      "1             9.00               8.43           7.06        7.77  ...   \n",
      "2             7.00               7.90           7.06        7.46  ...   \n",
      "3             8.80               8.25           7.06        7.05  ...   \n",
      "4             7.93               9.80           7.06        8.67  ...   \n",
      "\n",
      "   Age_Group__Gen_X  Age_Group__Boomers_Plus  Category_Classic_Era_Fans  \\\n",
      "0                 1                        0                          0   \n",
      "1                 1                        0                          0   \n",
      "2                 0                        0                          0   \n",
      "3                 1                        0                          0   \n",
      "4                 1                        0                          0   \n",
      "\n",
      "   Category_Gen_Alpha_Viewers  Category_Millennial_Favorites  \\\n",
      "0                           0                              0   \n",
      "1                           0                              0   \n",
      "2                           0                              0   \n",
      "3                           0                              0   \n",
      "4                           0                              0   \n",
      "\n",
      "   Category_Retro_Anime_Lovers  Category_Zoomer_Picks  Gender_Female  \\\n",
      "0                            0                      0              0   \n",
      "1                            0                      0              0   \n",
      "2                            0                      0              0   \n",
      "3                            0                      0              0   \n",
      "4                            0                      0              0   \n",
      "\n",
      "   Gender_Male  Gender_Non-Binary  \n",
      "0            1                  0  \n",
      "1            1                  0  \n",
      "2            1                  0  \n",
      "3            1                  0  \n",
      "4            1                  0  \n",
      "\n",
      "[5 rows x 40 columns]\n"
     ]
    }
   ],
   "source": [
    "from sklearn.preprocessing import OneHotEncoder\n",
    "\n",
    "# Initialize the OneHotEncoder\n",
    "encoder = OneHotEncoder(sparse_output=False, drop=None, dtype=int)\n",
    "\n",
    "# Fit and transform the 'Gender' column\n",
    "gender_encoded = encoder.fit_transform(user_data[['Gender']])\n",
    "\n",
    "# Get the column names for the encoded features\n",
    "gender_columns = encoder.get_feature_names_out(['Gender'])\n",
    "\n",
    "# Create a DataFrame for the encoded features\n",
    "gender_encoded_df = pd.DataFrame(gender_encoded, columns=gender_columns)\n",
    "\n",
    "# Concatenate the one-hot encoded columns with the original DataFrame\n",
    "user_data = pd.concat([user_data, gender_encoded_df], axis=1)\n",
    "\n",
    "# Drop the original 'Gender' column if no longer needed\n",
    "user_data.drop(columns=['Gender'], inplace=True)\n",
    "\n",
    "# Display the updated DataFrame\n",
    "print(user_data.head())"
   ]
  },
  {
   "cell_type": "code",
   "execution_count": 14,
   "id": "d28877d7",
   "metadata": {},
   "outputs": [
    {
     "data": {
      "text/plain": [
       "array(['R - 17+ (violence & profanity)', 'R - 17+ (violence & profanity)',\n",
       "       'PG-13 - Teens 13 or older', ..., 'PG-13 - Teens 13 or older',\n",
       "       'PG-13 - Teens 13 or older', 'PG-13 - Teens 13 or older'],\n",
       "      dtype=object)"
      ]
     },
     "execution_count": 14,
     "metadata": {},
     "output_type": "execute_result"
    }
   ],
   "source": [
    "item_data[\"Rating\"].values"
   ]
  },
  {
   "cell_type": "code",
   "execution_count": 15,
   "id": "c5d8dede",
   "metadata": {},
   "outputs": [
    {
     "data": {
      "text/plain": [
       "(71278, 40)"
      ]
     },
     "execution_count": 15,
     "metadata": {},
     "output_type": "execute_result"
    }
   ],
   "source": [
    "user_data.shape"
   ]
  },
  {
   "cell_type": "code",
   "execution_count": 16,
   "id": "9dcd0112",
   "metadata": {},
   "outputs": [
    {
     "data": {
      "text/plain": [
       "Index(['user_id', 'Username', 'Mean Score', 'Completed', 'avg_Action',\n",
       "       'avg_Adventure', 'avg_Avant Garde', 'avg_Award Winning',\n",
       "       'avg_Boys Love', 'avg_Comedy', 'avg_Drama', 'avg_Ecchi', 'avg_Erotica',\n",
       "       'avg_Fantasy', 'avg_Girls Love', 'avg_Gourmet', 'avg_Hentai',\n",
       "       'avg_Horror', 'avg_Mystery', 'avg_Romance', 'avg_Sci-Fi',\n",
       "       'avg_Slice of Life', 'avg_Sports', 'avg_Supernatural', 'avg_Suspense',\n",
       "       'Age', 'Viewer_Category', 'Age_Group__Gen_Alpha', 'Age_Group__Zoomers',\n",
       "       'Age_Group__Millennials', 'Age_Group__Gen_X', 'Age_Group__Boomers_Plus',\n",
       "       'Category_Classic_Era_Fans', 'Category_Gen_Alpha_Viewers',\n",
       "       'Category_Millennial_Favorites', 'Category_Retro_Anime_Lovers',\n",
       "       'Category_Zoomer_Picks', 'Gender_Female', 'Gender_Male',\n",
       "       'Gender_Non-Binary'],\n",
       "      dtype='object')"
      ]
     },
     "execution_count": 16,
     "metadata": {},
     "output_type": "execute_result"
    }
   ],
   "source": [
    "user_data.columns"
   ]
  },
  {
   "cell_type": "code",
   "execution_count": 17,
   "id": "48596c15",
   "metadata": {},
   "outputs": [
    {
     "data": {
      "text/plain": [
       "Index(['anime_id', 'Name', 'English name', 'Other name', 'Score', 'Genres',\n",
       "       'Synopsis', 'Episodes', 'Aired', 'Premiered',\n",
       "       ...\n",
       "       'Studio_pH Studio, D & D Pictures', 'Studio_pH Studio, Noovo',\n",
       "       'Studio_production doA', 'Studio_studio MOTHER', 'Studio_studio YOG',\n",
       "       'Studio_trenova', 'Studio_ufotable',\n",
       "       'Studio_ufotable, Shaft, A-1 Pictures, SILVER LINK., Lerche, Lay-duce, CloverWorks, Drive',\n",
       "       'Studio_ufotable, feel., Studio Flag', 'Release_Year'],\n",
       "      dtype='object', length=1571)"
      ]
     },
     "execution_count": 17,
     "metadata": {},
     "output_type": "execute_result"
    }
   ],
   "source": [
    "item_data.columns\n"
   ]
  },
  {
   "cell_type": "code",
   "execution_count": 18,
   "id": "e2b9f364",
   "metadata": {},
   "outputs": [
    {
     "data": {
      "text/plain": [
       "anime_id                                                                                       0\n",
       "Name                                                                                           0\n",
       "English name                                                                                   0\n",
       "Other name                                                                                     0\n",
       "Score                                                                                       5183\n",
       "                                                                                            ... \n",
       "Studio_trenova                                                                                 0\n",
       "Studio_ufotable                                                                                0\n",
       "Studio_ufotable, Shaft, A-1 Pictures, SILVER LINK., Lerche, Lay-duce, CloverWorks, Drive       0\n",
       "Studio_ufotable, feel., Studio Flag                                                            0\n",
       "Release_Year                                                                                   0\n",
       "Length: 1571, dtype: int64"
      ]
     },
     "execution_count": 18,
     "metadata": {},
     "output_type": "execute_result"
    }
   ],
   "source": [
    "\n",
    "item_data.isna().sum()"
   ]
  },
  {
   "cell_type": "code",
   "execution_count": 19,
   "id": "a067f280",
   "metadata": {},
   "outputs": [
    {
     "name": "stdout",
     "output_type": "stream",
     "text": [
      "   anime_id                             Name             English name  \\\n",
      "0         1                     Cowboy Bebop             Cowboy Bebop   \n",
      "1         5  Cowboy Bebop: Tengoku no Tobira  Cowboy Bebop: The Movie   \n",
      "2         6                           Trigun                   Trigun   \n",
      "3         7               Witch Hunter Robin       Witch Hunter Robin   \n",
      "4         8                   Bouken Ou Beet   Beet the Vandel Buster   \n",
      "\n",
      "                         Other name  Score  \\\n",
      "0                         カウボーイビバップ   8.75   \n",
      "1                    カウボーイビバップ 天国の扉   8.38   \n",
      "2                             トライガン   8.22   \n",
      "3  Witch Hunter ROBIN (ウイッチハンターロビン)   7.25   \n",
      "4                            冒険王ビィト   6.94   \n",
      "\n",
      "                                            Synopsis    Source  \\\n",
      "0  Crime is timeless. By the year 2071, humanity ...  Original   \n",
      "1  Another day, another bounty—such is the life o...  Original   \n",
      "2  Vash the Stampede is the man with a $$60,000,0...     Manga   \n",
      "3  Robin Sena is a powerful craft user drafted in...  Original   \n",
      "4  It is the dark century and the people are suff...     Manga   \n",
      "\n",
      "                           Rating  Rank  Popularity  ...  \\\n",
      "0  R - 17+ (violence & profanity)    41          43  ...   \n",
      "1  R - 17+ (violence & profanity)   189         602  ...   \n",
      "2       PG-13 - Teens 13 or older   328         246  ...   \n",
      "3       PG-13 - Teens 13 or older  2764        1795  ...   \n",
      "4                   PG - Children  4240        5126  ...   \n",
      "\n",
      "   Studio_pH Studio, D & D Pictures Studio_pH Studio, Noovo  \\\n",
      "0                                 0                       0   \n",
      "1                                 0                       0   \n",
      "2                                 0                       0   \n",
      "3                                 0                       0   \n",
      "4                                 0                       0   \n",
      "\n",
      "   Studio_production doA Studio_studio MOTHER  Studio_studio YOG  \\\n",
      "0                      0                    0                  0   \n",
      "1                      0                    0                  0   \n",
      "2                      0                    0                  0   \n",
      "3                      0                    0                  0   \n",
      "4                      0                    0                  0   \n",
      "\n",
      "   Studio_trenova  Studio_ufotable  \\\n",
      "0               0                0   \n",
      "1               0                0   \n",
      "2               0                0   \n",
      "3               0                0   \n",
      "4               0                0   \n",
      "\n",
      "   Studio_ufotable, Shaft, A-1 Pictures, SILVER LINK., Lerche, Lay-duce, CloverWorks, Drive  \\\n",
      "0                                                  0                                          \n",
      "1                                                  0                                          \n",
      "2                                                  0                                          \n",
      "3                                                  0                                          \n",
      "4                                                  0                                          \n",
      "\n",
      "   Studio_ufotable, feel., Studio Flag  Release_Year  \n",
      "0                                    0        1998.0  \n",
      "1                                    0        2001.0  \n",
      "2                                    0        1998.0  \n",
      "3                                    0        2002.0  \n",
      "4                                    0        2004.0  \n",
      "\n",
      "[5 rows x 1562 columns]\n"
     ]
    }
   ],
   "source": [
    "from sklearn.base import BaseEstimator, TransformerMixin\n",
    "from sklearn.pipeline import Pipeline\n",
    "\n",
    "class ColumnDropper(BaseEstimator, TransformerMixin):\n",
    "    \"\"\"\n",
    "    A transformer that drops specified columns from a DataFrame.\n",
    "    \n",
    "    Parameters:\n",
    "    -----------\n",
    "    columns_to_drop : list of str\n",
    "        List of column names to drop by default.\n",
    "    \"\"\"\n",
    "    def __init__(self, columns_to_drop=None):\n",
    "        self.columns_to_drop = columns_to_drop if columns_to_drop else []\n",
    "\n",
    "    def fit(self, X, y=None):\n",
    "        # No fitting required for this transformer\n",
    "        return self\n",
    "\n",
    "    def transform(self, X):\n",
    "        \"\"\"\n",
    "        Drops the specified columns from the DataFrame.\n",
    "        \n",
    "        Parameters:\n",
    "        -----------\n",
    "        X : pandas.DataFrame\n",
    "            Input DataFrame\n",
    "            \n",
    "        Returns:\n",
    "        --------\n",
    "        pandas.DataFrame\n",
    "            Transformed DataFrame with specified columns dropped\n",
    "        \"\"\"\n",
    "        X_transformed = X.drop(columns=self.columns_to_drop, errors='ignore')\n",
    "        return X_transformed\n",
    "\n",
    "# Define the default columns to drop\n",
    "default_columns_to_drop = [\n",
    "    \"Genres\", \"Episodes\", \"Rating_UNKNOWN\", \"Producers\", \"Aired\",\n",
    "    \"Premiered\", \"Status\", \"Studios\", \"Licensors\", \"Duration\"\n",
    "]\n",
    "\n",
    "# Create the pipeline\n",
    "pipeline = Pipeline([\n",
    "    ('column_dropper', ColumnDropper(columns_to_drop=default_columns_to_drop))\n",
    "])\n",
    "\n",
    "# Apply the pipeline to the item_data DataFrame\n",
    "filtered_item_data_df = pipeline.fit_transform(item_data)\n",
    "\n",
    "# Display the resulting DataFrame\n",
    "print(filtered_item_data_df.head())"
   ]
  },
  {
   "cell_type": "code",
   "execution_count": 20,
   "id": "4e1ea698",
   "metadata": {},
   "outputs": [
    {
     "data": {
      "text/plain": [
       "Index(['anime_id', 'Name', 'English name', 'Other name', 'Score', 'Synopsis',\n",
       "       'Source', 'Rating', 'Rank', 'Popularity',\n",
       "       ...\n",
       "       'Studio_pH Studio, D & D Pictures', 'Studio_pH Studio, Noovo',\n",
       "       'Studio_production doA', 'Studio_studio MOTHER', 'Studio_studio YOG',\n",
       "       'Studio_trenova', 'Studio_ufotable',\n",
       "       'Studio_ufotable, Shaft, A-1 Pictures, SILVER LINK., Lerche, Lay-duce, CloverWorks, Drive',\n",
       "       'Studio_ufotable, feel., Studio Flag', 'Release_Year'],\n",
       "      dtype='object', length=1562)"
      ]
     },
     "execution_count": 20,
     "metadata": {},
     "output_type": "execute_result"
    }
   ],
   "source": [
    "filtered_item_data_df.columns"
   ]
  },
  {
   "cell_type": "code",
   "execution_count": 21,
   "id": "f5df5f3a",
   "metadata": {},
   "outputs": [
    {
     "data": {
      "text/html": [
       "<div>\n",
       "<style scoped>\n",
       "    .dataframe tbody tr th:only-of-type {\n",
       "        vertical-align: middle;\n",
       "    }\n",
       "\n",
       "    .dataframe tbody tr th {\n",
       "        vertical-align: top;\n",
       "    }\n",
       "\n",
       "    .dataframe thead th {\n",
       "        text-align: right;\n",
       "    }\n",
       "</style>\n",
       "<table border=\"1\" class=\"dataframe\">\n",
       "  <thead>\n",
       "    <tr style=\"text-align: right;\">\n",
       "      <th></th>\n",
       "      <th>anime_id</th>\n",
       "      <th>Name</th>\n",
       "      <th>English name</th>\n",
       "      <th>Other name</th>\n",
       "      <th>Score</th>\n",
       "      <th>Synopsis</th>\n",
       "      <th>Source</th>\n",
       "      <th>Rating</th>\n",
       "      <th>Rank</th>\n",
       "      <th>Popularity</th>\n",
       "      <th>...</th>\n",
       "      <th>Studio_pH Studio, D &amp; D Pictures</th>\n",
       "      <th>Studio_pH Studio, Noovo</th>\n",
       "      <th>Studio_production doA</th>\n",
       "      <th>Studio_studio MOTHER</th>\n",
       "      <th>Studio_studio YOG</th>\n",
       "      <th>Studio_trenova</th>\n",
       "      <th>Studio_ufotable</th>\n",
       "      <th>Studio_ufotable, Shaft, A-1 Pictures, SILVER LINK., Lerche, Lay-duce, CloverWorks, Drive</th>\n",
       "      <th>Studio_ufotable, feel., Studio Flag</th>\n",
       "      <th>Release_Year</th>\n",
       "    </tr>\n",
       "  </thead>\n",
       "  <tbody>\n",
       "    <tr>\n",
       "      <th>17107</th>\n",
       "      <td>49335</td>\n",
       "      <td>Torokase Orgasm The Animation</td>\n",
       "      <td>UNKNOWN</td>\n",
       "      <td>とろかせおるがずむ THE ANIMATION</td>\n",
       "      <td>6.83</td>\n",
       "      <td>No description available for this anime.</td>\n",
       "      <td>Manga</td>\n",
       "      <td>Rx - Hentai</td>\n",
       "      <td>0</td>\n",
       "      <td>7621</td>\n",
       "      <td>...</td>\n",
       "      <td>0</td>\n",
       "      <td>0</td>\n",
       "      <td>0</td>\n",
       "      <td>0</td>\n",
       "      <td>0</td>\n",
       "      <td>0</td>\n",
       "      <td>0</td>\n",
       "      <td>0</td>\n",
       "      <td>0</td>\n",
       "      <td>2021.0</td>\n",
       "    </tr>\n",
       "    <tr>\n",
       "      <th>16617</th>\n",
       "      <td>48101</td>\n",
       "      <td>Wo Shi Bu Bai Chi</td>\n",
       "      <td>UNKNOWN</td>\n",
       "      <td>我是不白吃</td>\n",
       "      <td>NaN</td>\n",
       "      <td>No description available for this anime.</td>\n",
       "      <td>Original</td>\n",
       "      <td>G - All Ages</td>\n",
       "      <td>13406</td>\n",
       "      <td>20287</td>\n",
       "      <td>...</td>\n",
       "      <td>0</td>\n",
       "      <td>0</td>\n",
       "      <td>0</td>\n",
       "      <td>0</td>\n",
       "      <td>0</td>\n",
       "      <td>0</td>\n",
       "      <td>0</td>\n",
       "      <td>0</td>\n",
       "      <td>0</td>\n",
       "      <td>2019.0</td>\n",
       "    </tr>\n",
       "    <tr>\n",
       "      <th>1709</th>\n",
       "      <td>1883</td>\n",
       "      <td>Kappa no Kaikata</td>\n",
       "      <td>How to Breed Kappas</td>\n",
       "      <td>カッパの飼い方</td>\n",
       "      <td>6.17</td>\n",
       "      <td>A young man passes a pet shop on his way home,...</td>\n",
       "      <td>Manga</td>\n",
       "      <td>PG - Children</td>\n",
       "      <td>8032</td>\n",
       "      <td>10407</td>\n",
       "      <td>...</td>\n",
       "      <td>0</td>\n",
       "      <td>0</td>\n",
       "      <td>0</td>\n",
       "      <td>0</td>\n",
       "      <td>0</td>\n",
       "      <td>0</td>\n",
       "      <td>0</td>\n",
       "      <td>0</td>\n",
       "      <td>0</td>\n",
       "      <td>2004.0</td>\n",
       "    </tr>\n",
       "    <tr>\n",
       "      <th>11337</th>\n",
       "      <td>35029</td>\n",
       "      <td>Tensei Kendo no Harem Colosseo</td>\n",
       "      <td>UNKNOWN</td>\n",
       "      <td>転生剣奴の子づくり闘技場〈ハーレムコロッセオ〉</td>\n",
       "      <td>6.65</td>\n",
       "      <td>Based on the light novel by Hisasi and Habara ...</td>\n",
       "      <td>Light novel</td>\n",
       "      <td>Rx - Hentai</td>\n",
       "      <td>0</td>\n",
       "      <td>6221</td>\n",
       "      <td>...</td>\n",
       "      <td>0</td>\n",
       "      <td>0</td>\n",
       "      <td>0</td>\n",
       "      <td>0</td>\n",
       "      <td>0</td>\n",
       "      <td>0</td>\n",
       "      <td>0</td>\n",
       "      <td>0</td>\n",
       "      <td>0</td>\n",
       "      <td>2017.0</td>\n",
       "    </tr>\n",
       "    <tr>\n",
       "      <th>201</th>\n",
       "      <td>225</td>\n",
       "      <td>Dragon Ball GT</td>\n",
       "      <td>Dragon Ball GT</td>\n",
       "      <td>ドラゴンボールGT</td>\n",
       "      <td>6.48</td>\n",
       "      <td>Emperor Pilaf finally has his hands on the Bla...</td>\n",
       "      <td>Manga</td>\n",
       "      <td>PG-13 - Teens 13 or older</td>\n",
       "      <td>6466</td>\n",
       "      <td>327</td>\n",
       "      <td>...</td>\n",
       "      <td>0</td>\n",
       "      <td>0</td>\n",
       "      <td>0</td>\n",
       "      <td>0</td>\n",
       "      <td>0</td>\n",
       "      <td>0</td>\n",
       "      <td>0</td>\n",
       "      <td>0</td>\n",
       "      <td>0</td>\n",
       "      <td>1996.0</td>\n",
       "    </tr>\n",
       "  </tbody>\n",
       "</table>\n",
       "<p>5 rows × 1562 columns</p>\n",
       "</div>"
      ],
      "text/plain": [
       "       anime_id                            Name         English name  \\\n",
       "17107     49335   Torokase Orgasm The Animation              UNKNOWN   \n",
       "16617     48101               Wo Shi Bu Bai Chi              UNKNOWN   \n",
       "1709       1883                Kappa no Kaikata  How to Breed Kappas   \n",
       "11337     35029  Tensei Kendo no Harem Colosseo              UNKNOWN   \n",
       "201         225                  Dragon Ball GT       Dragon Ball GT   \n",
       "\n",
       "                    Other name  Score  \\\n",
       "17107  とろかせおるがずむ THE ANIMATION   6.83   \n",
       "16617                    我是不白吃    NaN   \n",
       "1709                   カッパの飼い方   6.17   \n",
       "11337  転生剣奴の子づくり闘技場〈ハーレムコロッセオ〉   6.65   \n",
       "201                  ドラゴンボールGT   6.48   \n",
       "\n",
       "                                                Synopsis       Source  \\\n",
       "17107           No description available for this anime.        Manga   \n",
       "16617           No description available for this anime.     Original   \n",
       "1709   A young man passes a pet shop on his way home,...        Manga   \n",
       "11337  Based on the light novel by Hisasi and Habara ...  Light novel   \n",
       "201    Emperor Pilaf finally has his hands on the Bla...        Manga   \n",
       "\n",
       "                          Rating   Rank  Popularity  ...  \\\n",
       "17107                Rx - Hentai      0        7621  ...   \n",
       "16617               G - All Ages  13406       20287  ...   \n",
       "1709               PG - Children   8032       10407  ...   \n",
       "11337                Rx - Hentai      0        6221  ...   \n",
       "201    PG-13 - Teens 13 or older   6466         327  ...   \n",
       "\n",
       "       Studio_pH Studio, D & D Pictures Studio_pH Studio, Noovo  \\\n",
       "17107                                 0                       0   \n",
       "16617                                 0                       0   \n",
       "1709                                  0                       0   \n",
       "11337                                 0                       0   \n",
       "201                                   0                       0   \n",
       "\n",
       "       Studio_production doA Studio_studio MOTHER  Studio_studio YOG  \\\n",
       "17107                      0                    0                  0   \n",
       "16617                      0                    0                  0   \n",
       "1709                       0                    0                  0   \n",
       "11337                      0                    0                  0   \n",
       "201                        0                    0                  0   \n",
       "\n",
       "       Studio_trenova  Studio_ufotable  \\\n",
       "17107               0                0   \n",
       "16617               0                0   \n",
       "1709                0                0   \n",
       "11337               0                0   \n",
       "201                 0                0   \n",
       "\n",
       "       Studio_ufotable, Shaft, A-1 Pictures, SILVER LINK., Lerche, Lay-duce, CloverWorks, Drive  \\\n",
       "17107                                                  0                                          \n",
       "16617                                                  0                                          \n",
       "1709                                                   0                                          \n",
       "11337                                                  0                                          \n",
       "201                                                    0                                          \n",
       "\n",
       "       Studio_ufotable, feel., Studio Flag  Release_Year  \n",
       "17107                                    0        2021.0  \n",
       "16617                                    0        2019.0  \n",
       "1709                                     0        2004.0  \n",
       "11337                                    0        2017.0  \n",
       "201                                      0        1996.0  \n",
       "\n",
       "[5 rows x 1562 columns]"
      ]
     },
     "execution_count": 21,
     "metadata": {},
     "output_type": "execute_result"
    }
   ],
   "source": [
    "filtered_item_data_df.shape\n",
    "filtered_item_data_df.sample(5)"
   ]
  },
  {
   "cell_type": "code",
   "execution_count": 22,
   "id": "0e36921f",
   "metadata": {},
   "outputs": [
    {
     "data": {
      "text/plain": [
       "5183"
      ]
     },
     "execution_count": 22,
     "metadata": {},
     "output_type": "execute_result"
    }
   ],
   "source": [
    "filtered_item_data_df[\"Score\"].isna().sum()"
   ]
  },
  {
   "cell_type": "code",
   "execution_count": 23,
   "id": "961b92d9",
   "metadata": {},
   "outputs": [
    {
     "data": {
      "image/png": "[encoded data removed]",
      "text/plain": [
       "<Figure size 640x480 with 1 Axes>"
      ]
     },
     "metadata": {},
     "output_type": "display_data"
    }
   ],
   "source": [
    "import matplotlib.pyplot as plt\n",
    "\n",
    "plt.hist(filtered_item_data_df['Score'].dropna(), bins=20, color='blue', alpha=0.7)\n",
    "plt.title('Distribution of Scores')\n",
    "plt.xlabel('Score')\n",
    "plt.ylabel('Frequency')\n",
    "plt.show()\n"
   ]
  },
  {
   "cell_type": "code",
   "execution_count": 24,
   "id": "f209fe3a",
   "metadata": {},
   "outputs": [
    {
     "name": "stdout",
     "output_type": "stream",
     "text": [
      "0\n"
     ]
    }
   ],
   "source": [
    "from sklearn.preprocessing import FunctionTransformer\n",
    "import pandas as pd\n",
    "\n",
    "# Define the function for the transformation\n",
    "def impute_score_column(filtered_item_data_df):\n",
    "    \"\"\"\n",
    "    Replaces 'UNKNOWN' with NaN in the 'Score' column and imputes missing values using the mean.\n",
    "    \n",
    "    Parameters:\n",
    "    -----------\n",
    "    filtered_item_data_df : pandas.DataFrame\n",
    "        The DataFrame containing the 'Score' column to be processed.\n",
    "        \n",
    "    Returns:\n",
    "    --------\n",
    "    pandas.DataFrame\n",
    "        The DataFrame with the 'Score' column imputed.\n",
    "    \"\"\"\n",
    "    # Replace 'UNKNOWN' with NaN\n",
    "    filtered_item_data_df['Score'] = filtered_item_data_df['Score'].replace('UNKNOWN', pd.NA)\n",
    "    \n",
    "    # Impute missing values with the mean\n",
    "    filtered_item_data_df['Score'] = filtered_item_data_df['Score'].astype(float).fillna(filtered_item_data_df['Score'].astype(float).mean())\n",
    "    \n",
    "    return filtered_item_data_df\n",
    "\n",
    "# Create the FunctionTransformer\n",
    "impute_score_transformer = FunctionTransformer(impute_score_column)\n",
    "\n",
    "# Apply the transformer\n",
    "filtered_item_data_df = impute_score_transformer.transform(filtered_item_data_df)\n",
    "\n",
    "# Verify that there are no missing values left in 'Score'\n",
    "print(filtered_item_data_df['Score'].isna().sum())  # Should print 0\n"
   ]
  },
  {
   "cell_type": "code",
   "execution_count": 25,
   "id": "03cacdfb",
   "metadata": {},
   "outputs": [
    {
     "name": "stdout",
     "output_type": "stream",
     "text": [
      "   anime_id                             Name             English name  \\\n",
      "0         1                     Cowboy Bebop             Cowboy Bebop   \n",
      "1         5  Cowboy Bebop: Tengoku no Tobira  Cowboy Bebop: The Movie   \n",
      "2         6                           Trigun                   Trigun   \n",
      "3         7               Witch Hunter Robin       Witch Hunter Robin   \n",
      "4         8                   Bouken Ou Beet   Beet the Vandel Buster   \n",
      "\n",
      "                         Other name  Score  \\\n",
      "0                         カウボーイビバップ   8.75   \n",
      "1                    カウボーイビバップ 天国の扉   8.38   \n",
      "2                             トライガン   8.22   \n",
      "3  Witch Hunter ROBIN (ウイッチハンターロビン)   7.25   \n",
      "4                            冒険王ビィト   6.94   \n",
      "\n",
      "                                            Synopsis    Source  \\\n",
      "0  Crime is timeless. By the year 2071, humanity ...  Original   \n",
      "1  Another day, another bounty—such is the life o...  Original   \n",
      "2  Vash the Stampede is the man with a $$60,000,0...     Manga   \n",
      "3  Robin Sena is a powerful craft user drafted in...  Original   \n",
      "4  It is the dark century and the people are suff...     Manga   \n",
      "\n",
      "                           Rating  Rank  Popularity  ...  \\\n",
      "0  R - 17+ (violence & profanity)    41          43  ...   \n",
      "1  R - 17+ (violence & profanity)   189         602  ...   \n",
      "2       PG-13 - Teens 13 or older   328         246  ...   \n",
      "3       PG-13 - Teens 13 or older  2764        1795  ...   \n",
      "4                   PG - Children  4240        5126  ...   \n",
      "\n",
      "   Studio_pH Studio, D & D Pictures Studio_pH Studio, Noovo  \\\n",
      "0                                 0                       0   \n",
      "1                                 0                       0   \n",
      "2                                 0                       0   \n",
      "3                                 0                       0   \n",
      "4                                 0                       0   \n",
      "\n",
      "   Studio_production doA Studio_studio MOTHER  Studio_studio YOG  \\\n",
      "0                      0                    0                  0   \n",
      "1                      0                    0                  0   \n",
      "2                      0                    0                  0   \n",
      "3                      0                    0                  0   \n",
      "4                      0                    0                  0   \n",
      "\n",
      "   Studio_trenova  Studio_ufotable  \\\n",
      "0               0                0   \n",
      "1               0                0   \n",
      "2               0                0   \n",
      "3               0                0   \n",
      "4               0                0   \n",
      "\n",
      "   Studio_ufotable, Shaft, A-1 Pictures, SILVER LINK., Lerche, Lay-duce, CloverWorks, Drive  \\\n",
      "0                                                  0                                          \n",
      "1                                                  0                                          \n",
      "2                                                  0                                          \n",
      "3                                                  0                                          \n",
      "4                                                  0                                          \n",
      "\n",
      "   Studio_ufotable, feel., Studio Flag  Release_Year  \n",
      "0                                    0        1998.0  \n",
      "1                                    0        2001.0  \n",
      "2                                    0        1998.0  \n",
      "3                                    0        2002.0  \n",
      "4                                    0        2004.0  \n",
      "\n",
      "[5 rows x 1562 columns]\n"
     ]
    }
   ],
   "source": [
    "from sklearn.preprocessing import FunctionTransformer\n",
    "import pandas as pd\n",
    "\n",
    "def filter_score_and_release_year(df):\n",
    "    \"\"\"\n",
    "    Filters rows where both 'Score' and 'Release_Year' are not null.\n",
    "\n",
    "    Parameters:\n",
    "    -----------\n",
    "    df : pandas.DataFrame\n",
    "        The input DataFrame to filter.\n",
    "\n",
    "    Returns:\n",
    "    --------\n",
    "    pandas.DataFrame\n",
    "        The filtered DataFrame.\n",
    "    \"\"\"\n",
    "    return df[df[\"Score\"].notna() & df[\"Release_Year\"].notna()]\n",
    "\n",
    "# Create the FunctionTransformer\n",
    "filter_transformer = FunctionTransformer(filter_score_and_release_year)\n",
    "\n",
    "# Apply the transformer to the filtered_item_data_df\n",
    "filtered_item_data_df = filter_transformer.transform(filtered_item_data_df)\n",
    "\n",
    "# Verify the result\n",
    "print(filtered_item_data_df.head())"
   ]
  },
  {
   "cell_type": "code",
   "execution_count": 26,
   "id": "f8ed202c",
   "metadata": {},
   "outputs": [
    {
     "name": "stdout",
     "output_type": "stream",
     "text": [
      "anime_id                                                                                    0\n",
      "Name                                                                                        0\n",
      "English name                                                                                0\n",
      "Other name                                                                                  0\n",
      "Score                                                                                       0\n",
      "                                                                                           ..\n",
      "Studio_trenova                                                                              0\n",
      "Studio_ufotable                                                                             0\n",
      "Studio_ufotable, Shaft, A-1 Pictures, SILVER LINK., Lerche, Lay-duce, CloverWorks, Drive    0\n",
      "Studio_ufotable, feel., Studio Flag                                                         0\n",
      "Release_Year                                                                                0\n",
      "Length: 1562, dtype: int64\n"
     ]
    }
   ],
   "source": [
    "print(filtered_item_data_df.isna().sum())"
   ]
  },
  {
   "cell_type": "code",
   "execution_count": 27,
   "id": "92e25c3e",
   "metadata": {},
   "outputs": [
    {
     "data": {
      "text/plain": [
       "(19848, 1562)"
      ]
     },
     "execution_count": 27,
     "metadata": {},
     "output_type": "execute_result"
    }
   ],
   "source": [
    "filtered_item_data_df.shape"
   ]
  },
  {
   "cell_type": "code",
   "execution_count": 28,
   "id": "d7775449",
   "metadata": {},
   "outputs": [
    {
     "data": {
      "text/plain": [
       "Index(['user_id', 'Username', 'Mean Score', 'Completed', 'avg_Action',\n",
       "       'avg_Adventure', 'avg_Avant Garde', 'avg_Award Winning',\n",
       "       'avg_Boys Love', 'avg_Comedy', 'avg_Drama', 'avg_Ecchi', 'avg_Erotica',\n",
       "       'avg_Fantasy', 'avg_Girls Love', 'avg_Gourmet', 'avg_Hentai',\n",
       "       'avg_Horror', 'avg_Mystery', 'avg_Romance', 'avg_Sci-Fi',\n",
       "       'avg_Slice of Life', 'avg_Sports', 'avg_Supernatural', 'avg_Suspense',\n",
       "       'Age', 'Viewer_Category', 'Age_Group__Gen_Alpha', 'Age_Group__Zoomers',\n",
       "       'Age_Group__Millennials', 'Age_Group__Gen_X', 'Age_Group__Boomers_Plus',\n",
       "       'Category_Classic_Era_Fans', 'Category_Gen_Alpha_Viewers',\n",
       "       'Category_Millennial_Favorites', 'Category_Retro_Anime_Lovers',\n",
       "       'Category_Zoomer_Picks', 'Gender_Female', 'Gender_Male',\n",
       "       'Gender_Non-Binary'],\n",
       "      dtype='object')"
      ]
     },
     "execution_count": 28,
     "metadata": {},
     "output_type": "execute_result"
    }
   ],
   "source": [
    "user_data.columns"
   ]
  },
  {
   "cell_type": "code",
   "execution_count": 29,
   "id": "11a73dda",
   "metadata": {},
   "outputs": [
    {
     "data": {
      "text/plain": [
       "Index(['anime_id', 'Name', 'English name', 'Other name', 'Score', 'Synopsis',\n",
       "       'Source', 'Rating', 'Rank', 'Popularity',\n",
       "       ...\n",
       "       'Studio_pH Studio, D & D Pictures', 'Studio_pH Studio, Noovo',\n",
       "       'Studio_production doA', 'Studio_studio MOTHER', 'Studio_studio YOG',\n",
       "       'Studio_trenova', 'Studio_ufotable',\n",
       "       'Studio_ufotable, Shaft, A-1 Pictures, SILVER LINK., Lerche, Lay-duce, CloverWorks, Drive',\n",
       "       'Studio_ufotable, feel., Studio Flag', 'Release_Year'],\n",
       "      dtype='object', length=1562)"
      ]
     },
     "execution_count": 29,
     "metadata": {},
     "output_type": "execute_result"
    }
   ],
   "source": [
    "filtered_item_data_df.columns"
   ]
  },
  {
   "cell_type": "code",
   "execution_count": 30,
   "id": "4f5dfc3e",
   "metadata": {},
   "outputs": [
    {
     "data": {
      "text/plain": [
       "Index(['Username', 'Gender', 'Mean Score', 'Completed', 'Birth_Year',\n",
       "       'user_id', 'anime_id', 'Anime Title', 'rating', 'Genres',\n",
       "       'Genre_Action', 'Genre_Adventure', 'Genre_Avant Garde',\n",
       "       'Genre_Award Winning', 'Genre_Boys Love', 'Genre_Comedy', 'Genre_Drama',\n",
       "       'Genre_Ecchi', 'Genre_Erotica', 'Genre_Fantasy', 'Genre_Girls Love',\n",
       "       'Genre_Gourmet', 'Genre_Hentai', 'Genre_Horror', 'Genre_Mystery',\n",
       "       'Genre_Romance', 'Genre_Sci-Fi', 'Genre_Slice of Life', 'Genre_Sports',\n",
       "       'Genre_Supernatural', 'Genre_Suspense'],\n",
       "      dtype='object')"
      ]
     },
     "execution_count": 30,
     "metadata": {},
     "output_type": "execute_result"
    }
   ],
   "source": [
    "user_input.columns"
   ]
  },
  {
   "cell_type": "code",
   "execution_count": 31,
   "id": "2284909e",
   "metadata": {},
   "outputs": [
    {
     "name": "stdout",
     "output_type": "stream",
     "text": [
      "Columns containing 'UNKNOWN': ['English name', 'Other name', 'Scored By']\n"
     ]
    }
   ],
   "source": [
    "# Check if any column in filtered_item_data_df contains the value 'UNKNOWN'\n",
    "columns_with_unknown = filtered_item_data_df.columns[filtered_item_data_df.isin(['UNKNOWN']).any()]\n",
    "\n",
    "# Print the columns that contain 'UNKNOWN'\n",
    "print(\"Columns containing 'UNKNOWN':\", list(columns_with_unknown))\n"
   ]
  },
  {
   "cell_type": "code",
   "execution_count": 32,
   "id": "1e65f654",
   "metadata": {},
   "outputs": [
    {
     "name": "stdout",
     "output_type": "stream",
     "text": [
      "Total instances with 'UNKNOWN' values: 15974\n"
     ]
    }
   ],
   "source": [
    "unknown_counts = filtered_item_data_df.isin(['UNKNOWN']).sum().sum()\n",
    "print(f\"Total instances with 'UNKNOWN' values: {unknown_counts}\")"
   ]
  },
  {
   "cell_type": "code",
   "execution_count": 33,
   "id": "3886534c",
   "metadata": {},
   "outputs": [],
   "source": [
    "from scipy.sparse import csr_matrix, hstack\n",
    "import numpy as np\n",
    "import pandas as pd\n",
    "\n",
    "def prepare_training_data(user_input_df, user_data_df, filtered_item_data_df):\n",
    "    \"\"\"\n",
    "    Prepares training data for a neural network using sparse matrices during processing,\n",
    "    then converts back to dense arrays in the output.\n",
    "    \n",
    "    Parameters:\n",
    "    -----------\n",
    "    user_input_df : DataFrame\n",
    "        Contains user ratings for anime with columns including user_id, anime_id, rating\n",
    "    user_data_df : DataFrame\n",
    "        Contains user demographic data and average genre ratings\n",
    "    filtered_item_data_df : DataFrame\n",
    "        Contains anime metadata including genres, types, and ratings\n",
    "        \n",
    "    Returns:\n",
    "    --------\n",
    "    dict\n",
    "        A dictionary containing:\n",
    "        - 'X_U': User features array (dense)\n",
    "        - 'X_A': Anime features array (dense)\n",
    "        - 'Y': Rating values array\n",
    "        - 'X_U_columns': List of column names for user features\n",
    "        - 'X_A_columns': List of column names for anime features\n",
    "        - 'Y_column': Name of the rating column\n",
    "        - 'X_U_indices': List of indices for user features\n",
    "        - 'X_A_indices': List of indices for anime features\n",
    "        - 'Y_index': Index of the rating column\n",
    "        - 'merged_df': The merged and cleaned dataframe\n",
    "    \"\"\"\n",
    "    # Step 1: Merge dataframes with suffixes to handle column conflicts\n",
    "    merged_df = user_input_df.merge(user_data_df, on='user_id', suffixes=('', '_user'))\n",
    "    merged_df = merged_df.merge(filtered_item_data_df, on='anime_id', suffixes=('', '_anime'))\n",
    "    \n",
    "    # Step 2: Identify columns to drop (non-numerical or identifiers)\n",
    "    columns_to_drop = ['Username', 'user_id', 'anime_id', 'Anime Title', \n",
    "                     'Name', 'English name', 'Other name', 'Synopsis', \n",
    "                     'Source', \"Scored by\", 'Image URL']\n",
    "    \n",
    "    # Only drop columns that actually exist in the merged dataframe\n",
    "    columns_to_drop = [col for col in columns_to_drop if col in merged_df.columns]\n",
    "    \n",
    "    # Drop identified columns\n",
    "    cleaned_df = merged_df.drop(columns_to_drop, axis=1)\n",
    "    \n",
    "    # Step 3: Define columns for each component\n",
    "    X_U_columns = [\n",
    "        'Mean Score', 'Completed',\n",
    "        'avg_Action', 'avg_Adventure', 'avg_Avant Garde', 'avg_Award Winning',\n",
    "        'avg_Boys Love', 'avg_Comedy', 'avg_Drama', 'avg_Ecchi', 'avg_Erotica',\n",
    "        'avg_Fantasy', 'avg_Girls Love', 'avg_Gourmet', 'avg_Hentai',\n",
    "        'avg_Horror', 'avg_Mystery', 'avg_Romance', 'avg_Sci-Fi',\n",
    "        'avg_Slice of Life', 'avg_Sports', 'avg_Supernatural', 'avg_Suspense',\n",
    "        'Gender_Female', 'Gender_Male', 'Gender_Non-Binary','Age',\n",
    "        'Category_Classic_Era_Fans', 'Category_Gen_Alpha_Viewers',\n",
    "        'Category_Millennial_Favorites', \n",
    "        'Category_Retro_Anime_Lovers', \n",
    "        'Category_Zoomer_Picks'\n",
    "    ]\n",
    "    \n",
    "    excluded_columns = ['anime_id', 'Name', 'English name', 'Other name',\n",
    "                      'Score', \"Synopsis\", \"Source\", \"Rank\",\"Rating\"]\n",
    "    \n",
    "    X_A_columns = [col for col in filtered_item_data_df.columns \n",
    "                  if col not in excluded_columns and col in cleaned_df.columns]\n",
    "    X_U_columns = [col for col in X_U_columns if col in cleaned_df.columns]\n",
    "    \n",
    "    Y_column = \"rating\"\n",
    "    if Y_column not in cleaned_df.columns:\n",
    "        raise ValueError(f\"Rating column '{Y_column}' not found in merged dataframe\")\n",
    "    \n",
    "    # Step 4: Get indices for features\n",
    "    X_U_indices = [cleaned_df.columns.get_loc(col) for col in X_U_columns]\n",
    "    X_A_indices = [cleaned_df.columns.get_loc(col) for col in X_A_columns]\n",
    "    Y_index = cleaned_df.columns.get_loc(Y_column)\n",
    "    \n",
    "    # Step 5: Process with sparse matrices\n",
    "    # Convert relevant portions to sparse format\n",
    "    X_U_sparse = csr_matrix(cleaned_df.iloc[:, X_U_indices].values)\n",
    "    X_A_sparse = csr_matrix(cleaned_df.iloc[:, X_A_indices].values)\n",
    "    \n",
    "    # Perform sparse operations if needed (e.g., scaling)\n",
    "    # ... (your sparse-compatible preprocessing here) ...\n",
    "    \n",
    "    # Convert back to dense for output (if your model requires dense inputs)\n",
    "    X_U = X_U_sparse.toarray()\n",
    "    X_A = X_A_sparse.toarray()\n",
    "    Y = cleaned_df.iloc[:, Y_index].values\n",
    "    \n",
    "    return {\n",
    "        \"X_U\": X_U,\n",
    "        \"X_A\": X_A,\n",
    "        \"Y\": Y,\n",
    "        \"X_U_columns\": X_U_columns,\n",
    "        \"X_A_columns\": X_A_columns,\n",
    "        \"Y_column\": Y_column,\n",
    "        \"X_U_indices\": X_U_indices,\n",
    "        \"X_A_indices\": X_A_indices,\n",
    "        \"Y_index\": Y_index,\n",
    "        \"merged_df\": cleaned_df,\n",
    "    }\n"
   ]
  },
  {
   "cell_type": "code",
   "execution_count": 34,
   "id": "486c4d0c",
   "metadata": {},
   "outputs": [],
   "source": [
    "# Prepare the training data\n",
    "# Select a smaller dataframe with 200000 samples from user_input\n",
    "user_input_sample = user_input.sample(n=200000, random_state=42)\n",
    "\n",
    "# Get the indices of the sampled rows\n",
    "sampled_indices = user_input_sample.index\n",
    "\n",
    "\n",
    "# Ensure all columns in user_input_sample, user_data, and filtered_item_data_df are numeric\n",
    "user_input_sample = user_input_sample.select_dtypes(include=[np.number])\n",
    "user_data = user_data.select_dtypes(include=[np.number])\n",
    "filtered_item_data_df = filtered_item_data_df.select_dtypes(include=[np.number])\n",
    "\n",
    "# Prepare the training data using the sampled dataframe\n",
    "result = prepare_training_data(user_input_sample, user_data, filtered_item_data_df)\n",
    "\n",
    "# Access the prepared data\n",
    "X_U = result['X_U']  # User features\n",
    "X_A = result['X_A']  # Anime features\n",
    "Y = result['Y']      # Ratings\n",
    "\n",
    "# You can also access indices if needed\n",
    "X_U_indices = result['X_U_indices']\n",
    "X_A_indices = result['X_A_indices']"
   ]
  },
  {
   "cell_type": "code",
   "execution_count": 35,
   "id": "4fbf410b",
   "metadata": {},
   "outputs": [
    {
     "data": {
      "text/plain": [
       "32"
      ]
     },
     "execution_count": 35,
     "metadata": {},
     "output_type": "execute_result"
    }
   ],
   "source": [
    "len(result['X_U_columns']) # Number of user feature names"
   ]
  },
  {
   "cell_type": "code",
   "execution_count": 36,
   "id": "ed29ca73",
   "metadata": {},
   "outputs": [
    {
     "data": {
      "text/plain": [
       "(200000, 32)"
      ]
     },
     "execution_count": 36,
     "metadata": {},
     "output_type": "execute_result"
    }
   ],
   "source": [
    "X_U.shape"
   ]
  },
  {
   "cell_type": "code",
   "execution_count": 37,
   "id": "2ead081d",
   "metadata": {},
   "outputs": [
    {
     "data": {
      "text/plain": [
       "(200000, 1551)"
      ]
     },
     "execution_count": 37,
     "metadata": {},
     "output_type": "execute_result"
    }
   ],
   "source": [
    "X_A.shape"
   ]
  },
  {
   "cell_type": "code",
   "execution_count": 38,
   "id": "dad9a37e",
   "metadata": {},
   "outputs": [
    {
     "data": {
      "text/plain": [
       "(200000,)"
      ]
     },
     "execution_count": 38,
     "metadata": {},
     "output_type": "execute_result"
    }
   ],
   "source": [
    "Y.shape"
   ]
  },
  {
   "cell_type": "code",
   "execution_count": 39,
   "id": "c8bb3363",
   "metadata": {},
   "outputs": [
    {
     "data": {
      "text/plain": [
       "array([ 7,  9, 10,  9, 10,  7,  9,  2,  8,  8], dtype=int64)"
      ]
     },
     "execution_count": 39,
     "metadata": {},
     "output_type": "execute_result"
    }
   ],
   "source": [
    "Y[:10]"
   ]
  },
  {
   "cell_type": "markdown",
   "id": "6d561d94",
   "metadata": {},
   "source": [
    "# Neural Network for implementing Content Based Filtering:"
   ]
  },
  {
   "cell_type": "code",
   "execution_count": 40,
   "id": "30fd1563",
   "metadata": {},
   "outputs": [],
   "source": [
    "import numpy as np\n",
    "import tensorflow as tf\n",
    "from tensorflow.keras import layers, models\n",
    "from sklearn.model_selection import train_test_split\n"
   ]
  },
  {
   "cell_type": "code",
   "execution_count": 41,
   "id": "23c72040",
   "metadata": {},
   "outputs": [
    {
     "name": "stdout",
     "output_type": "stream",
     "text": [
      "Training set: 120000 samples\n",
      "Validation set: 40000 samples\n",
      "Test set: 40000 samples\n",
      "(120000, 32)\n"
     ]
    }
   ],
   "source": [
    "from sklearn.model_selection import train_test_split\n",
    "from sklearn.preprocessing import StandardScaler\n",
    "import tensorflow as tf\n",
    "import numpy as np\n",
    "\n",
    "# --- Scaling the data ---\n",
    "# Create scalers\n",
    "user_scaler = StandardScaler()\n",
    "anime_scaler = StandardScaler()\n",
    "\n",
    "# Ensure all columns in X_A are numeric\n",
    "# Convert categorical columns (e.g., 'Rating') to numeric using one-hot encoding\n",
    "#X_A_df = pd.DataFrame(X_A, columns=result['X_A_columns'])  # Convert X_A to DataFrame for easier processing\n",
    "\n",
    "# print(X_A_df.columns)  # Check the columns after encoding\n",
    "# Scale the features\n",
    "X_U_scaled = user_scaler.fit_transform(X_U)\n",
    "X_A_scaled = anime_scaler.fit_transform(X_A)\n",
    "\n",
    "# --- Splitting the scaled data ---\n",
    "# First split: 80% train+val, 20% test\n",
    "X_U_temp, X_U_test, X_A_temp, X_A_test, Y_temp, Y_test = train_test_split(\n",
    "    X_U_scaled, X_A_scaled, Y, test_size=0.2, random_state=42\n",
    ")\n",
    "\n",
    "# Second split: 75% train, 25% validation (results in 60% train, 20% val, 20% test overall)\n",
    "X_U_train, X_U_val, X_A_train, X_A_val, Y_train, Y_val = train_test_split(\n",
    "    X_U_temp, X_A_temp, Y_temp, test_size=0.25, random_state=42\n",
    ")\n",
    "\n",
    "print(f\"Training set: {X_U_train.shape[0]} samples\")\n",
    "print(f\"Validation set: {X_U_val.shape[0]} samples\")\n",
    "print(f\"Test set: {X_U_test.shape[0]} samples\")\n",
    "\n",
    "print(X_U_train.shape)\n"
   ]
  },
  {
   "cell_type": "code",
   "execution_count": 42,
   "id": "507e6f05",
   "metadata": {},
   "outputs": [
    {
     "data": {
      "text/html": [
       "<pre style=\"white-space:pre;overflow-x:auto;line-height:normal;font-family:Menlo,'DejaVu Sans Mono',consolas,'Courier New',monospace\"><span style=\"font-weight: bold\">Model: \"functional_2\"</span>\n",
       "</pre>\n"
      ],
      "text/plain": [
       "\u001b[1mModel: \"functional_2\"\u001b[0m\n"
      ]
     },
     "metadata": {},
     "output_type": "display_data"
    },
    {
     "data": {
      "text/html": [
       "<pre style=\"white-space:pre;overflow-x:auto;line-height:normal;font-family:Menlo,'DejaVu Sans Mono',consolas,'Courier New',monospace\">┏━━━━━━━━━━━━━━━━━━━━━┳━━━━━━━━━━━━━━━━━━━┳━━━━━━━━━━━━┳━━━━━━━━━━━━━━━━━━━┓\n",
       "┃<span style=\"font-weight: bold\"> Layer (type)        </span>┃<span style=\"font-weight: bold\"> Output Shape      </span>┃<span style=\"font-weight: bold\">    Param # </span>┃<span style=\"font-weight: bold\"> Connected to      </span>┃\n",
       "┡━━━━━━━━━━━━━━━━━━━━━╇━━━━━━━━━━━━━━━━━━━╇━━━━━━━━━━━━╇━━━━━━━━━━━━━━━━━━━┩\n",
       "│ user_input          │ (<span style=\"color: #00d7ff; text-decoration-color: #00d7ff\">None</span>, <span style=\"color: #00af00; text-decoration-color: #00af00\">32</span>)        │          <span style=\"color: #00af00; text-decoration-color: #00af00\">0</span> │ -                 │\n",
       "│ (<span style=\"color: #0087ff; text-decoration-color: #0087ff\">InputLayer</span>)        │                   │            │                   │\n",
       "├─────────────────────┼───────────────────┼────────────┼───────────────────┤\n",
       "│ item_input          │ (<span style=\"color: #00d7ff; text-decoration-color: #00d7ff\">None</span>, <span style=\"color: #00af00; text-decoration-color: #00af00\">1551</span>)      │          <span style=\"color: #00af00; text-decoration-color: #00af00\">0</span> │ -                 │\n",
       "│ (<span style=\"color: #0087ff; text-decoration-color: #0087ff\">InputLayer</span>)        │                   │            │                   │\n",
       "├─────────────────────┼───────────────────┼────────────┼───────────────────┤\n",
       "│ user_nn             │ (<span style=\"color: #00d7ff; text-decoration-color: #00d7ff\">None</span>, <span style=\"color: #00af00; text-decoration-color: #00af00\">32</span>)        │     <span style=\"color: #00af00; text-decoration-color: #00af00\">53,472</span> │ user_input[<span style=\"color: #00af00; text-decoration-color: #00af00\">0</span>][<span style=\"color: #00af00; text-decoration-color: #00af00\">0</span>]  │\n",
       "│ (<span style=\"color: #0087ff; text-decoration-color: #0087ff\">Sequential</span>)        │                   │            │                   │\n",
       "├─────────────────────┼───────────────────┼────────────┼───────────────────┤\n",
       "│ item_nn             │ (<span style=\"color: #00d7ff; text-decoration-color: #00d7ff\">None</span>, <span style=\"color: #00af00; text-decoration-color: #00af00\">32</span>)        │    <span style=\"color: #00af00; text-decoration-color: #00af00\">442,336</span> │ item_input[<span style=\"color: #00af00; text-decoration-color: #00af00\">0</span>][<span style=\"color: #00af00; text-decoration-color: #00af00\">0</span>]  │\n",
       "│ (<span style=\"color: #0087ff; text-decoration-color: #0087ff\">Sequential</span>)        │                   │            │                   │\n",
       "├─────────────────────┼───────────────────┼────────────┼───────────────────┤\n",
       "│ dot (<span style=\"color: #0087ff; text-decoration-color: #0087ff\">Dot</span>)           │ (<span style=\"color: #00d7ff; text-decoration-color: #00d7ff\">None</span>, <span style=\"color: #00af00; text-decoration-color: #00af00\">1</span>)         │          <span style=\"color: #00af00; text-decoration-color: #00af00\">0</span> │ user_nn[<span style=\"color: #00af00; text-decoration-color: #00af00\">0</span>][<span style=\"color: #00af00; text-decoration-color: #00af00\">0</span>],    │\n",
       "│                     │                   │            │ item_nn[<span style=\"color: #00af00; text-decoration-color: #00af00\">0</span>][<span style=\"color: #00af00; text-decoration-color: #00af00\">0</span>]     │\n",
       "└─────────────────────┴───────────────────┴────────────┴───────────────────┘\n",
       "</pre>\n"
      ],
      "text/plain": [
       "┏━━━━━━━━━━━━━━━━━━━━━┳━━━━━━━━━━━━━━━━━━━┳━━━━━━━━━━━━┳━━━━━━━━━━━━━━━━━━━┓\n",
       "┃\u001b[1m \u001b[0m\u001b[1mLayer (type)       \u001b[0m\u001b[1m \u001b[0m┃\u001b[1m \u001b[0m\u001b[1mOutput Shape     \u001b[0m\u001b[1m \u001b[0m┃\u001b[1m \u001b[0m\u001b[1m   Param #\u001b[0m\u001b[1m \u001b[0m┃\u001b[1m \u001b[0m\u001b[1mConnected to     \u001b[0m\u001b[1m \u001b[0m┃\n",
       "┡━━━━━━━━━━━━━━━━━━━━━╇━━━━━━━━━━━━━━━━━━━╇━━━━━━━━━━━━╇━━━━━━━━━━━━━━━━━━━┩\n",
       "│ user_input          │ (\u001b[38;5;45mNone\u001b[0m, \u001b[38;5;34m32\u001b[0m)        │          \u001b[38;5;34m0\u001b[0m │ -                 │\n",
       "│ (\u001b[38;5;33mInputLayer\u001b[0m)        │                   │            │                   │\n",
       "├─────────────────────┼───────────────────┼────────────┼───────────────────┤\n",
       "│ item_input          │ (\u001b[38;5;45mNone\u001b[0m, \u001b[38;5;34m1551\u001b[0m)      │          \u001b[38;5;34m0\u001b[0m │ -                 │\n",
       "│ (\u001b[38;5;33mInputLayer\u001b[0m)        │                   │            │                   │\n",
       "├─────────────────────┼───────────────────┼────────────┼───────────────────┤\n",
       "│ user_nn             │ (\u001b[38;5;45mNone\u001b[0m, \u001b[38;5;34m32\u001b[0m)        │     \u001b[38;5;34m53,472\u001b[0m │ user_input[\u001b[38;5;34m0\u001b[0m][\u001b[38;5;34m0\u001b[0m]  │\n",
       "│ (\u001b[38;5;33mSequential\u001b[0m)        │                   │            │                   │\n",
       "├─────────────────────┼───────────────────┼────────────┼───────────────────┤\n",
       "│ item_nn             │ (\u001b[38;5;45mNone\u001b[0m, \u001b[38;5;34m32\u001b[0m)        │    \u001b[38;5;34m442,336\u001b[0m │ item_input[\u001b[38;5;34m0\u001b[0m][\u001b[38;5;34m0\u001b[0m]  │\n",
       "│ (\u001b[38;5;33mSequential\u001b[0m)        │                   │            │                   │\n",
       "├─────────────────────┼───────────────────┼────────────┼───────────────────┤\n",
       "│ dot (\u001b[38;5;33mDot\u001b[0m)           │ (\u001b[38;5;45mNone\u001b[0m, \u001b[38;5;34m1\u001b[0m)         │          \u001b[38;5;34m0\u001b[0m │ user_nn[\u001b[38;5;34m0\u001b[0m][\u001b[38;5;34m0\u001b[0m],    │\n",
       "│                     │                   │            │ item_nn[\u001b[38;5;34m0\u001b[0m][\u001b[38;5;34m0\u001b[0m]     │\n",
       "└─────────────────────┴───────────────────┴────────────┴───────────────────┘\n"
      ]
     },
     "metadata": {},
     "output_type": "display_data"
    },
    {
     "data": {
      "text/html": [
       "<pre style=\"white-space:pre;overflow-x:auto;line-height:normal;font-family:Menlo,'DejaVu Sans Mono',consolas,'Courier New',monospace\"><span style=\"font-weight: bold\"> Total params: </span><span style=\"color: #00af00; text-decoration-color: #00af00\">495,808</span> (1.89 MB)\n",
       "</pre>\n"
      ],
      "text/plain": [
       "\u001b[1m Total params: \u001b[0m\u001b[38;5;34m495,808\u001b[0m (1.89 MB)\n"
      ]
     },
     "metadata": {},
     "output_type": "display_data"
    },
    {
     "data": {
      "text/html": [
       "<pre style=\"white-space:pre;overflow-x:auto;line-height:normal;font-family:Menlo,'DejaVu Sans Mono',consolas,'Courier New',monospace\"><span style=\"font-weight: bold\"> Trainable params: </span><span style=\"color: #00af00; text-decoration-color: #00af00\">494,016</span> (1.88 MB)\n",
       "</pre>\n"
      ],
      "text/plain": [
       "\u001b[1m Trainable params: \u001b[0m\u001b[38;5;34m494,016\u001b[0m (1.88 MB)\n"
      ]
     },
     "metadata": {},
     "output_type": "display_data"
    },
    {
     "data": {
      "text/html": [
       "<pre style=\"white-space:pre;overflow-x:auto;line-height:normal;font-family:Menlo,'DejaVu Sans Mono',consolas,'Courier New',monospace\"><span style=\"font-weight: bold\"> Non-trainable params: </span><span style=\"color: #00af00; text-decoration-color: #00af00\">1,792</span> (7.00 KB)\n",
       "</pre>\n"
      ],
      "text/plain": [
       "\u001b[1m Non-trainable params: \u001b[0m\u001b[38;5;34m1,792\u001b[0m (7.00 KB)\n"
      ]
     },
     "metadata": {},
     "output_type": "display_data"
    },
    {
     "name": "stdout",
     "output_type": "stream",
     "text": [
      "Epoch 1/60\n",
      "\u001b[1m 650/3750\u001b[0m \u001b[32m━━━\u001b[0m\u001b[37m━━━━━━━━━━━━━━━━━\u001b[0m \u001b[1m9s\u001b[0m 3ms/step - loss: 72.5443 - mean_absolute_error: 6.9402"
     ]
    },
    {
     "ename": "KeyboardInterrupt",
     "evalue": "",
     "output_type": "error",
     "traceback": [
      "\u001b[1;31m---------------------------------------------------------------------------\u001b[0m",
      "\u001b[1;31mKeyboardInterrupt\u001b[0m                         Traceback (most recent call last)",
      "Cell \u001b[1;32mIn[42], line 59\u001b[0m\n\u001b[0;32m     51\u001b[0m model\u001b[38;5;241m.\u001b[39mcompile(\n\u001b[0;32m     52\u001b[0m     optimizer\u001b[38;5;241m=\u001b[39mtf\u001b[38;5;241m.\u001b[39mkeras\u001b[38;5;241m.\u001b[39moptimizers\u001b[38;5;241m.\u001b[39mAdam(learning_rate\u001b[38;5;241m=\u001b[39m\u001b[38;5;241m0.001\u001b[39m),\n\u001b[0;32m     53\u001b[0m     loss\u001b[38;5;241m=\u001b[39m\u001b[38;5;124m'\u001b[39m\u001b[38;5;124mmean_squared_error\u001b[39m\u001b[38;5;124m'\u001b[39m,\n\u001b[0;32m     54\u001b[0m     metrics\u001b[38;5;241m=\u001b[39m[\u001b[38;5;124m'\u001b[39m\u001b[38;5;124mmean_absolute_error\u001b[39m\u001b[38;5;124m'\u001b[39m]\n\u001b[0;32m     55\u001b[0m )\n\u001b[0;32m     57\u001b[0m model\u001b[38;5;241m.\u001b[39msummary()\n\u001b[1;32m---> 59\u001b[0m history \u001b[38;5;241m=\u001b[39m \u001b[43mmodel\u001b[49m\u001b[38;5;241;43m.\u001b[39;49m\u001b[43mfit\u001b[49m\u001b[43m(\u001b[49m\n\u001b[0;32m     60\u001b[0m \u001b[43m    \u001b[49m\u001b[43m[\u001b[49m\u001b[43mX_U_train\u001b[49m\u001b[43m,\u001b[49m\u001b[43m \u001b[49m\u001b[43mX_A_train\u001b[49m\u001b[43m]\u001b[49m\u001b[43m,\u001b[49m\n\u001b[0;32m     61\u001b[0m \u001b[43m    \u001b[49m\u001b[43mY_train\u001b[49m\u001b[43m,\u001b[49m\n\u001b[0;32m     62\u001b[0m \u001b[43m    \u001b[49m\u001b[43mvalidation_data\u001b[49m\u001b[38;5;241;43m=\u001b[39;49m\u001b[43m(\u001b[49m\u001b[43m[\u001b[49m\u001b[43mX_U_val\u001b[49m\u001b[43m,\u001b[49m\u001b[43m \u001b[49m\u001b[43mX_A_val\u001b[49m\u001b[43m]\u001b[49m\u001b[43m,\u001b[49m\u001b[43m \u001b[49m\u001b[43mY_val\u001b[49m\u001b[43m)\u001b[49m\u001b[43m,\u001b[49m\n\u001b[0;32m     63\u001b[0m \u001b[43m    \u001b[49m\u001b[43mepochs\u001b[49m\u001b[38;5;241;43m=\u001b[39;49m\u001b[38;5;241;43m60\u001b[39;49m\u001b[43m,\u001b[49m\n\u001b[0;32m     64\u001b[0m \u001b[43m    \u001b[49m\u001b[43mbatch_size\u001b[49m\u001b[38;5;241;43m=\u001b[39;49m\u001b[38;5;241;43m32\u001b[39;49m\u001b[43m,\u001b[49m\n\u001b[0;32m     65\u001b[0m \u001b[43m    \u001b[49m\u001b[43mcallbacks\u001b[49m\u001b[38;5;241;43m=\u001b[39;49m\u001b[43m[\u001b[49m\u001b[43mearly_stopping\u001b[49m\u001b[43m,\u001b[49m\u001b[43m \u001b[49m\u001b[43mreduce_lr\u001b[49m\u001b[43m]\u001b[49m\u001b[43m,\u001b[49m\n\u001b[0;32m     66\u001b[0m \u001b[43m    \u001b[49m\u001b[43mverbose\u001b[49m\u001b[38;5;241;43m=\u001b[39;49m\u001b[38;5;241;43m1\u001b[39;49m\n\u001b[0;32m     67\u001b[0m \u001b[43m)\u001b[49m\n",
      "File \u001b[1;32mc:\\Users\\Lenovo\\AppData\\Local\\Programs\\Python\\Python312\\Lib\\site-packages\\keras\\src\\utils\\traceback_utils.py:117\u001b[0m, in \u001b[0;36mfilter_traceback.<locals>.error_handler\u001b[1;34m(*args, **kwargs)\u001b[0m\n\u001b[0;32m    115\u001b[0m filtered_tb \u001b[38;5;241m=\u001b[39m \u001b[38;5;28;01mNone\u001b[39;00m\n\u001b[0;32m    116\u001b[0m \u001b[38;5;28;01mtry\u001b[39;00m:\n\u001b[1;32m--> 117\u001b[0m     \u001b[38;5;28;01mreturn\u001b[39;00m \u001b[43mfn\u001b[49m\u001b[43m(\u001b[49m\u001b[38;5;241;43m*\u001b[39;49m\u001b[43margs\u001b[49m\u001b[43m,\u001b[49m\u001b[43m \u001b[49m\u001b[38;5;241;43m*\u001b[39;49m\u001b[38;5;241;43m*\u001b[39;49m\u001b[43mkwargs\u001b[49m\u001b[43m)\u001b[49m\n\u001b[0;32m    118\u001b[0m \u001b[38;5;28;01mexcept\u001b[39;00m \u001b[38;5;167;01mException\u001b[39;00m \u001b[38;5;28;01mas\u001b[39;00m e:\n\u001b[0;32m    119\u001b[0m     filtered_tb \u001b[38;5;241m=\u001b[39m _process_traceback_frames(e\u001b[38;5;241m.\u001b[39m__traceback__)\n",
      "File \u001b[1;32mc:\\Users\\Lenovo\\AppData\\Local\\Programs\\Python\\Python312\\Lib\\site-packages\\keras\\src\\backend\\tensorflow\\trainer.py:320\u001b[0m, in \u001b[0;36mTensorFlowTrainer.fit\u001b[1;34m(self, x, y, batch_size, epochs, verbose, callbacks, validation_split, validation_data, shuffle, class_weight, sample_weight, initial_epoch, steps_per_epoch, validation_steps, validation_batch_size, validation_freq)\u001b[0m\n\u001b[0;32m    318\u001b[0m \u001b[38;5;28;01mfor\u001b[39;00m step, iterator \u001b[38;5;129;01min\u001b[39;00m epoch_iterator\u001b[38;5;241m.\u001b[39menumerate_epoch():\n\u001b[0;32m    319\u001b[0m     callbacks\u001b[38;5;241m.\u001b[39mon_train_batch_begin(step)\n\u001b[1;32m--> 320\u001b[0m     logs \u001b[38;5;241m=\u001b[39m \u001b[38;5;28;43mself\u001b[39;49m\u001b[38;5;241;43m.\u001b[39;49m\u001b[43mtrain_function\u001b[49m\u001b[43m(\u001b[49m\u001b[43miterator\u001b[49m\u001b[43m)\u001b[49m\n\u001b[0;32m    321\u001b[0m     logs \u001b[38;5;241m=\u001b[39m \u001b[38;5;28mself\u001b[39m\u001b[38;5;241m.\u001b[39m_pythonify_logs(logs)\n\u001b[0;32m    322\u001b[0m     callbacks\u001b[38;5;241m.\u001b[39mon_train_batch_end(step, logs)\n",
      "File \u001b[1;32mc:\\Users\\Lenovo\\AppData\\Local\\Programs\\Python\\Python312\\Lib\\site-packages\\tensorflow\\python\\util\\traceback_utils.py:150\u001b[0m, in \u001b[0;36mfilter_traceback.<locals>.error_handler\u001b[1;34m(*args, **kwargs)\u001b[0m\n\u001b[0;32m    148\u001b[0m filtered_tb \u001b[38;5;241m=\u001b[39m \u001b[38;5;28;01mNone\u001b[39;00m\n\u001b[0;32m    149\u001b[0m \u001b[38;5;28;01mtry\u001b[39;00m:\n\u001b[1;32m--> 150\u001b[0m   \u001b[38;5;28;01mreturn\u001b[39;00m \u001b[43mfn\u001b[49m\u001b[43m(\u001b[49m\u001b[38;5;241;43m*\u001b[39;49m\u001b[43margs\u001b[49m\u001b[43m,\u001b[49m\u001b[43m \u001b[49m\u001b[38;5;241;43m*\u001b[39;49m\u001b[38;5;241;43m*\u001b[39;49m\u001b[43mkwargs\u001b[49m\u001b[43m)\u001b[49m\n\u001b[0;32m    151\u001b[0m \u001b[38;5;28;01mexcept\u001b[39;00m \u001b[38;5;167;01mException\u001b[39;00m \u001b[38;5;28;01mas\u001b[39;00m e:\n\u001b[0;32m    152\u001b[0m   filtered_tb \u001b[38;5;241m=\u001b[39m _process_traceback_frames(e\u001b[38;5;241m.\u001b[39m__traceback__)\n",
      "File \u001b[1;32mc:\\Users\\Lenovo\\AppData\\Local\\Programs\\Python\\Python312\\Lib\\site-packages\\tensorflow\\python\\eager\\polymorphic_function\\polymorphic_function.py:833\u001b[0m, in \u001b[0;36mFunction.__call__\u001b[1;34m(self, *args, **kwds)\u001b[0m\n\u001b[0;32m    830\u001b[0m compiler \u001b[38;5;241m=\u001b[39m \u001b[38;5;124m\"\u001b[39m\u001b[38;5;124mxla\u001b[39m\u001b[38;5;124m\"\u001b[39m \u001b[38;5;28;01mif\u001b[39;00m \u001b[38;5;28mself\u001b[39m\u001b[38;5;241m.\u001b[39m_jit_compile \u001b[38;5;28;01melse\u001b[39;00m \u001b[38;5;124m\"\u001b[39m\u001b[38;5;124mnonXla\u001b[39m\u001b[38;5;124m\"\u001b[39m\n\u001b[0;32m    832\u001b[0m \u001b[38;5;28;01mwith\u001b[39;00m OptionalXlaContext(\u001b[38;5;28mself\u001b[39m\u001b[38;5;241m.\u001b[39m_jit_compile):\n\u001b[1;32m--> 833\u001b[0m   result \u001b[38;5;241m=\u001b[39m \u001b[38;5;28;43mself\u001b[39;49m\u001b[38;5;241;43m.\u001b[39;49m\u001b[43m_call\u001b[49m\u001b[43m(\u001b[49m\u001b[38;5;241;43m*\u001b[39;49m\u001b[43margs\u001b[49m\u001b[43m,\u001b[49m\u001b[43m \u001b[49m\u001b[38;5;241;43m*\u001b[39;49m\u001b[38;5;241;43m*\u001b[39;49m\u001b[43mkwds\u001b[49m\u001b[43m)\u001b[49m\n\u001b[0;32m    835\u001b[0m new_tracing_count \u001b[38;5;241m=\u001b[39m \u001b[38;5;28mself\u001b[39m\u001b[38;5;241m.\u001b[39mexperimental_get_tracing_count()\n\u001b[0;32m    836\u001b[0m without_tracing \u001b[38;5;241m=\u001b[39m (tracing_count \u001b[38;5;241m==\u001b[39m new_tracing_count)\n",
      "File \u001b[1;32mc:\\Users\\Lenovo\\AppData\\Local\\Programs\\Python\\Python312\\Lib\\site-packages\\tensorflow\\python\\eager\\polymorphic_function\\polymorphic_function.py:878\u001b[0m, in \u001b[0;36mFunction._call\u001b[1;34m(self, *args, **kwds)\u001b[0m\n\u001b[0;32m    875\u001b[0m \u001b[38;5;28mself\u001b[39m\u001b[38;5;241m.\u001b[39m_lock\u001b[38;5;241m.\u001b[39mrelease()\n\u001b[0;32m    876\u001b[0m \u001b[38;5;66;03m# In this case we have not created variables on the first call. So we can\u001b[39;00m\n\u001b[0;32m    877\u001b[0m \u001b[38;5;66;03m# run the first trace but we should fail if variables are created.\u001b[39;00m\n\u001b[1;32m--> 878\u001b[0m results \u001b[38;5;241m=\u001b[39m \u001b[43mtracing_compilation\u001b[49m\u001b[38;5;241;43m.\u001b[39;49m\u001b[43mcall_function\u001b[49m\u001b[43m(\u001b[49m\n\u001b[0;32m    879\u001b[0m \u001b[43m    \u001b[49m\u001b[43margs\u001b[49m\u001b[43m,\u001b[49m\u001b[43m \u001b[49m\u001b[43mkwds\u001b[49m\u001b[43m,\u001b[49m\u001b[43m \u001b[49m\u001b[38;5;28;43mself\u001b[39;49m\u001b[38;5;241;43m.\u001b[39;49m\u001b[43m_variable_creation_config\u001b[49m\n\u001b[0;32m    880\u001b[0m \u001b[43m\u001b[49m\u001b[43m)\u001b[49m\n\u001b[0;32m    881\u001b[0m \u001b[38;5;28;01mif\u001b[39;00m \u001b[38;5;28mself\u001b[39m\u001b[38;5;241m.\u001b[39m_created_variables:\n\u001b[0;32m    882\u001b[0m   \u001b[38;5;28;01mraise\u001b[39;00m \u001b[38;5;167;01mValueError\u001b[39;00m(\u001b[38;5;124m\"\u001b[39m\u001b[38;5;124mCreating variables on a non-first call to a function\u001b[39m\u001b[38;5;124m\"\u001b[39m\n\u001b[0;32m    883\u001b[0m                    \u001b[38;5;124m\"\u001b[39m\u001b[38;5;124m decorated with tf.function.\u001b[39m\u001b[38;5;124m\"\u001b[39m)\n",
      "File \u001b[1;32mc:\\Users\\Lenovo\\AppData\\Local\\Programs\\Python\\Python312\\Lib\\site-packages\\tensorflow\\python\\eager\\polymorphic_function\\tracing_compilation.py:139\u001b[0m, in \u001b[0;36mcall_function\u001b[1;34m(args, kwargs, tracing_options)\u001b[0m\n\u001b[0;32m    137\u001b[0m bound_args \u001b[38;5;241m=\u001b[39m function\u001b[38;5;241m.\u001b[39mfunction_type\u001b[38;5;241m.\u001b[39mbind(\u001b[38;5;241m*\u001b[39margs, \u001b[38;5;241m*\u001b[39m\u001b[38;5;241m*\u001b[39mkwargs)\n\u001b[0;32m    138\u001b[0m flat_inputs \u001b[38;5;241m=\u001b[39m function\u001b[38;5;241m.\u001b[39mfunction_type\u001b[38;5;241m.\u001b[39munpack_inputs(bound_args)\n\u001b[1;32m--> 139\u001b[0m \u001b[38;5;28;01mreturn\u001b[39;00m \u001b[43mfunction\u001b[49m\u001b[38;5;241;43m.\u001b[39;49m\u001b[43m_call_flat\u001b[49m\u001b[43m(\u001b[49m\u001b[43m  \u001b[49m\u001b[38;5;66;43;03m# pylint: disable=protected-access\u001b[39;49;00m\n\u001b[0;32m    140\u001b[0m \u001b[43m    \u001b[49m\u001b[43mflat_inputs\u001b[49m\u001b[43m,\u001b[49m\u001b[43m \u001b[49m\u001b[43mcaptured_inputs\u001b[49m\u001b[38;5;241;43m=\u001b[39;49m\u001b[43mfunction\u001b[49m\u001b[38;5;241;43m.\u001b[39;49m\u001b[43mcaptured_inputs\u001b[49m\n\u001b[0;32m    141\u001b[0m \u001b[43m\u001b[49m\u001b[43m)\u001b[49m\n",
      "File \u001b[1;32mc:\\Users\\Lenovo\\AppData\\Local\\Programs\\Python\\Python312\\Lib\\site-packages\\tensorflow\\python\\eager\\polymorphic_function\\concrete_function.py:1322\u001b[0m, in \u001b[0;36mConcreteFunction._call_flat\u001b[1;34m(self, tensor_inputs, captured_inputs)\u001b[0m\n\u001b[0;32m   1318\u001b[0m possible_gradient_type \u001b[38;5;241m=\u001b[39m gradients_util\u001b[38;5;241m.\u001b[39mPossibleTapeGradientTypes(args)\n\u001b[0;32m   1319\u001b[0m \u001b[38;5;28;01mif\u001b[39;00m (possible_gradient_type \u001b[38;5;241m==\u001b[39m gradients_util\u001b[38;5;241m.\u001b[39mPOSSIBLE_GRADIENT_TYPES_NONE\n\u001b[0;32m   1320\u001b[0m     \u001b[38;5;129;01mand\u001b[39;00m executing_eagerly):\n\u001b[0;32m   1321\u001b[0m   \u001b[38;5;66;03m# No tape is watching; skip to running the function.\u001b[39;00m\n\u001b[1;32m-> 1322\u001b[0m   \u001b[38;5;28;01mreturn\u001b[39;00m \u001b[38;5;28;43mself\u001b[39;49m\u001b[38;5;241;43m.\u001b[39;49m\u001b[43m_inference_function\u001b[49m\u001b[38;5;241;43m.\u001b[39;49m\u001b[43mcall_preflattened\u001b[49m\u001b[43m(\u001b[49m\u001b[43margs\u001b[49m\u001b[43m)\u001b[49m\n\u001b[0;32m   1323\u001b[0m forward_backward \u001b[38;5;241m=\u001b[39m \u001b[38;5;28mself\u001b[39m\u001b[38;5;241m.\u001b[39m_select_forward_and_backward_functions(\n\u001b[0;32m   1324\u001b[0m     args,\n\u001b[0;32m   1325\u001b[0m     possible_gradient_type,\n\u001b[0;32m   1326\u001b[0m     executing_eagerly)\n\u001b[0;32m   1327\u001b[0m forward_function, args_with_tangents \u001b[38;5;241m=\u001b[39m forward_backward\u001b[38;5;241m.\u001b[39mforward()\n",
      "File \u001b[1;32mc:\\Users\\Lenovo\\AppData\\Local\\Programs\\Python\\Python312\\Lib\\site-packages\\tensorflow\\python\\eager\\polymorphic_function\\atomic_function.py:216\u001b[0m, in \u001b[0;36mAtomicFunction.call_preflattened\u001b[1;34m(self, args)\u001b[0m\n\u001b[0;32m    214\u001b[0m \u001b[38;5;28;01mdef\u001b[39;00m \u001b[38;5;21mcall_preflattened\u001b[39m(\u001b[38;5;28mself\u001b[39m, args: Sequence[core\u001b[38;5;241m.\u001b[39mTensor]) \u001b[38;5;241m-\u001b[39m\u001b[38;5;241m>\u001b[39m Any:\n\u001b[0;32m    215\u001b[0m \u001b[38;5;250m  \u001b[39m\u001b[38;5;124;03m\"\"\"Calls with flattened tensor inputs and returns the structured output.\"\"\"\u001b[39;00m\n\u001b[1;32m--> 216\u001b[0m   flat_outputs \u001b[38;5;241m=\u001b[39m \u001b[38;5;28;43mself\u001b[39;49m\u001b[38;5;241;43m.\u001b[39;49m\u001b[43mcall_flat\u001b[49m\u001b[43m(\u001b[49m\u001b[38;5;241;43m*\u001b[39;49m\u001b[43margs\u001b[49m\u001b[43m)\u001b[49m\n\u001b[0;32m    217\u001b[0m   \u001b[38;5;28;01mreturn\u001b[39;00m \u001b[38;5;28mself\u001b[39m\u001b[38;5;241m.\u001b[39mfunction_type\u001b[38;5;241m.\u001b[39mpack_output(flat_outputs)\n",
      "File \u001b[1;32mc:\\Users\\Lenovo\\AppData\\Local\\Programs\\Python\\Python312\\Lib\\site-packages\\tensorflow\\python\\eager\\polymorphic_function\\atomic_function.py:251\u001b[0m, in \u001b[0;36mAtomicFunction.call_flat\u001b[1;34m(self, *args)\u001b[0m\n\u001b[0;32m    249\u001b[0m \u001b[38;5;28;01mwith\u001b[39;00m record\u001b[38;5;241m.\u001b[39mstop_recording():\n\u001b[0;32m    250\u001b[0m   \u001b[38;5;28;01mif\u001b[39;00m \u001b[38;5;28mself\u001b[39m\u001b[38;5;241m.\u001b[39m_bound_context\u001b[38;5;241m.\u001b[39mexecuting_eagerly():\n\u001b[1;32m--> 251\u001b[0m     outputs \u001b[38;5;241m=\u001b[39m \u001b[38;5;28;43mself\u001b[39;49m\u001b[38;5;241;43m.\u001b[39;49m\u001b[43m_bound_context\u001b[49m\u001b[38;5;241;43m.\u001b[39;49m\u001b[43mcall_function\u001b[49m\u001b[43m(\u001b[49m\n\u001b[0;32m    252\u001b[0m \u001b[43m        \u001b[49m\u001b[38;5;28;43mself\u001b[39;49m\u001b[38;5;241;43m.\u001b[39;49m\u001b[43mname\u001b[49m\u001b[43m,\u001b[49m\n\u001b[0;32m    253\u001b[0m \u001b[43m        \u001b[49m\u001b[38;5;28;43mlist\u001b[39;49m\u001b[43m(\u001b[49m\u001b[43margs\u001b[49m\u001b[43m)\u001b[49m\u001b[43m,\u001b[49m\n\u001b[0;32m    254\u001b[0m \u001b[43m        \u001b[49m\u001b[38;5;28;43mlen\u001b[39;49m\u001b[43m(\u001b[49m\u001b[38;5;28;43mself\u001b[39;49m\u001b[38;5;241;43m.\u001b[39;49m\u001b[43mfunction_type\u001b[49m\u001b[38;5;241;43m.\u001b[39;49m\u001b[43mflat_outputs\u001b[49m\u001b[43m)\u001b[49m\u001b[43m,\u001b[49m\n\u001b[0;32m    255\u001b[0m \u001b[43m    \u001b[49m\u001b[43m)\u001b[49m\n\u001b[0;32m    256\u001b[0m   \u001b[38;5;28;01melse\u001b[39;00m:\n\u001b[0;32m    257\u001b[0m     outputs \u001b[38;5;241m=\u001b[39m make_call_op_in_graph(\n\u001b[0;32m    258\u001b[0m         \u001b[38;5;28mself\u001b[39m,\n\u001b[0;32m    259\u001b[0m         \u001b[38;5;28mlist\u001b[39m(args),\n\u001b[0;32m    260\u001b[0m         \u001b[38;5;28mself\u001b[39m\u001b[38;5;241m.\u001b[39m_bound_context\u001b[38;5;241m.\u001b[39mfunction_call_options\u001b[38;5;241m.\u001b[39mas_attrs(),\n\u001b[0;32m    261\u001b[0m     )\n",
      "File \u001b[1;32mc:\\Users\\Lenovo\\AppData\\Local\\Programs\\Python\\Python312\\Lib\\site-packages\\tensorflow\\python\\eager\\context.py:1552\u001b[0m, in \u001b[0;36mContext.call_function\u001b[1;34m(self, name, tensor_inputs, num_outputs)\u001b[0m\n\u001b[0;32m   1550\u001b[0m cancellation_context \u001b[38;5;241m=\u001b[39m cancellation\u001b[38;5;241m.\u001b[39mcontext()\n\u001b[0;32m   1551\u001b[0m \u001b[38;5;28;01mif\u001b[39;00m cancellation_context \u001b[38;5;129;01mis\u001b[39;00m \u001b[38;5;28;01mNone\u001b[39;00m:\n\u001b[1;32m-> 1552\u001b[0m   outputs \u001b[38;5;241m=\u001b[39m \u001b[43mexecute\u001b[49m\u001b[38;5;241;43m.\u001b[39;49m\u001b[43mexecute\u001b[49m\u001b[43m(\u001b[49m\n\u001b[0;32m   1553\u001b[0m \u001b[43m      \u001b[49m\u001b[43mname\u001b[49m\u001b[38;5;241;43m.\u001b[39;49m\u001b[43mdecode\u001b[49m\u001b[43m(\u001b[49m\u001b[38;5;124;43m\"\u001b[39;49m\u001b[38;5;124;43mutf-8\u001b[39;49m\u001b[38;5;124;43m\"\u001b[39;49m\u001b[43m)\u001b[49m\u001b[43m,\u001b[49m\n\u001b[0;32m   1554\u001b[0m \u001b[43m      \u001b[49m\u001b[43mnum_outputs\u001b[49m\u001b[38;5;241;43m=\u001b[39;49m\u001b[43mnum_outputs\u001b[49m\u001b[43m,\u001b[49m\n\u001b[0;32m   1555\u001b[0m \u001b[43m      \u001b[49m\u001b[43minputs\u001b[49m\u001b[38;5;241;43m=\u001b[39;49m\u001b[43mtensor_inputs\u001b[49m\u001b[43m,\u001b[49m\n\u001b[0;32m   1556\u001b[0m \u001b[43m      \u001b[49m\u001b[43mattrs\u001b[49m\u001b[38;5;241;43m=\u001b[39;49m\u001b[43mattrs\u001b[49m\u001b[43m,\u001b[49m\n\u001b[0;32m   1557\u001b[0m \u001b[43m      \u001b[49m\u001b[43mctx\u001b[49m\u001b[38;5;241;43m=\u001b[39;49m\u001b[38;5;28;43mself\u001b[39;49m\u001b[43m,\u001b[49m\n\u001b[0;32m   1558\u001b[0m \u001b[43m  \u001b[49m\u001b[43m)\u001b[49m\n\u001b[0;32m   1559\u001b[0m \u001b[38;5;28;01melse\u001b[39;00m:\n\u001b[0;32m   1560\u001b[0m   outputs \u001b[38;5;241m=\u001b[39m execute\u001b[38;5;241m.\u001b[39mexecute_with_cancellation(\n\u001b[0;32m   1561\u001b[0m       name\u001b[38;5;241m.\u001b[39mdecode(\u001b[38;5;124m\"\u001b[39m\u001b[38;5;124mutf-8\u001b[39m\u001b[38;5;124m\"\u001b[39m),\n\u001b[0;32m   1562\u001b[0m       num_outputs\u001b[38;5;241m=\u001b[39mnum_outputs,\n\u001b[1;32m   (...)\u001b[0m\n\u001b[0;32m   1566\u001b[0m       cancellation_manager\u001b[38;5;241m=\u001b[39mcancellation_context,\n\u001b[0;32m   1567\u001b[0m   )\n",
      "File \u001b[1;32mc:\\Users\\Lenovo\\AppData\\Local\\Programs\\Python\\Python312\\Lib\\site-packages\\tensorflow\\python\\eager\\execute.py:53\u001b[0m, in \u001b[0;36mquick_execute\u001b[1;34m(op_name, num_outputs, inputs, attrs, ctx, name)\u001b[0m\n\u001b[0;32m     51\u001b[0m \u001b[38;5;28;01mtry\u001b[39;00m:\n\u001b[0;32m     52\u001b[0m   ctx\u001b[38;5;241m.\u001b[39mensure_initialized()\n\u001b[1;32m---> 53\u001b[0m   tensors \u001b[38;5;241m=\u001b[39m \u001b[43mpywrap_tfe\u001b[49m\u001b[38;5;241;43m.\u001b[39;49m\u001b[43mTFE_Py_Execute\u001b[49m\u001b[43m(\u001b[49m\u001b[43mctx\u001b[49m\u001b[38;5;241;43m.\u001b[39;49m\u001b[43m_handle\u001b[49m\u001b[43m,\u001b[49m\u001b[43m \u001b[49m\u001b[43mdevice_name\u001b[49m\u001b[43m,\u001b[49m\u001b[43m \u001b[49m\u001b[43mop_name\u001b[49m\u001b[43m,\u001b[49m\n\u001b[0;32m     54\u001b[0m \u001b[43m                                      \u001b[49m\u001b[43minputs\u001b[49m\u001b[43m,\u001b[49m\u001b[43m \u001b[49m\u001b[43mattrs\u001b[49m\u001b[43m,\u001b[49m\u001b[43m \u001b[49m\u001b[43mnum_outputs\u001b[49m\u001b[43m)\u001b[49m\n\u001b[0;32m     55\u001b[0m \u001b[38;5;28;01mexcept\u001b[39;00m core\u001b[38;5;241m.\u001b[39m_NotOkStatusException \u001b[38;5;28;01mas\u001b[39;00m e:\n\u001b[0;32m     56\u001b[0m   \u001b[38;5;28;01mif\u001b[39;00m name \u001b[38;5;129;01mis\u001b[39;00m \u001b[38;5;129;01mnot\u001b[39;00m \u001b[38;5;28;01mNone\u001b[39;00m:\n",
      "\u001b[1;31mKeyboardInterrupt\u001b[0m: "
     ]
    }
   ],
   "source": [
    "tf.random.set_seed(42)\n",
    "\n",
    "user_input = tf.keras.Input(shape=(X_U_train.shape[1],), name=\"user_input\")\n",
    "item_input = tf.keras.Input(shape=(X_A_train.shape[1],), name=\"item_input\")\n",
    "\n",
    "user_nn = tf.keras.Sequential([\n",
    "    tf.keras.layers.Dense(256, activation='relu'),\n",
    "    tf.keras.layers.BatchNormalization(),\n",
    "    tf.keras.layers.Dropout(0.3),\n",
    "    tf.keras.layers.Dense(128, activation='relu'),\n",
    "    tf.keras.layers.BatchNormalization(),\n",
    "    tf.keras.layers.Dropout(0.2),\n",
    "    tf.keras.layers.Dense(64, activation='relu'),\n",
    "    tf.keras.layers.BatchNormalization(),\n",
    "    tf.keras.layers.Dense(32, activation='linear')\n",
    "], name=\"user_nn\")\n",
    "\n",
    "\n",
    "item_nn = tf.keras.Sequential([\n",
    "    tf.keras.layers.Dense(256, activation='relu'),\n",
    "    tf.keras.layers.BatchNormalization(),\n",
    "    tf.keras.layers.Dropout(0.3),\n",
    "    tf.keras.layers.Dense(128, activation='relu'),\n",
    "    tf.keras.layers.BatchNormalization(),\n",
    "    tf.keras.layers.Dropout(0.2),\n",
    "    tf.keras.layers.Dense(64, activation='relu'),\n",
    "    tf.keras.layers.BatchNormalization(),\n",
    "    tf.keras.layers.Dense(32, activation='linear')\n",
    "], name=\"item_nn\")\n",
    "\n",
    "vu = user_nn(user_input)\n",
    "va = item_nn(item_input)\n",
    "\n",
    "output = tf.keras.layers.Dot(axes=1)([vu, va])\n",
    "\n",
    "model = tf.keras.Model([user_input, item_input], output)\n",
    "\n",
    "early_stopping = tf.keras.callbacks.EarlyStopping(\n",
    "    monitor='val_loss',\n",
    "    patience=5,\n",
    "    restore_best_weights=True\n",
    ")\n",
    "\n",
    "reduce_lr = tf.keras.callbacks.ReduceLROnPlateau(\n",
    "    monitor='val_loss',\n",
    "    factor=0.2,\n",
    "    patience=3,\n",
    "    min_lr=0.00001\n",
    ")\n",
    "\n",
    "model.compile(\n",
    "    optimizer=tf.keras.optimizers.Adam(learning_rate=0.001),\n",
    "    loss='mean_squared_error',\n",
    "    metrics=['mean_absolute_error']\n",
    ")\n",
    "\n",
    "model.summary()\n",
    "\n",
    "history = model.fit(\n",
    "    [X_U_train, X_A_train],\n",
    "    Y_train,\n",
    "    validation_data=([X_U_val, X_A_val], Y_val),\n",
    "    epochs=60,\n",
    "    batch_size=32,\n",
    "    callbacks=[early_stopping, reduce_lr],\n",
    "    verbose=1\n",
    ")"
   ]
  },
  {
   "cell_type": "code",
   "execution_count": 43,
   "id": "8a36b53f",
   "metadata": {},
   "outputs": [
    {
     "name": "stderr",
     "output_type": "stream",
     "text": [
      "WARNING:absl:Compiled the loaded model, but the compiled metrics have yet to be built. `model.compile_metrics` will be empty until you train or evaluate the model.\n"
     ]
    }
   ],
   "source": [
    "model=tf.keras.models.load_model('../saved_model/recommender_model_6.h5')"
   ]
  },
  {
   "cell_type": "code",
   "execution_count": 44,
   "id": "5459029f",
   "metadata": {},
   "outputs": [
    {
     "name": "stdout",
     "output_type": "stream",
     "text": [
      "\u001b[1m1250/1250\u001b[0m \u001b[32m━━━━━━━━━━━━━━━━━━━━\u001b[0m\u001b[37m\u001b[0m \u001b[1m1s\u001b[0m 1ms/step - loss: 1.8571 - mean_absolute_error: 1.0247\n",
      "Test loss (MSE): 1.8746775388717651\n",
      "Test MAE: 1.029756784439087\n"
     ]
    }
   ],
   "source": [
    "# Evaluate on test set\n",
    "test_results = model.evaluate([X_U_test, X_A_test], Y_test, verbose=1)\n",
    "print(f\"Test loss (MSE): {test_results[0]}\")\n",
    "print(f\"Test MAE: {test_results[1]}\")"
   ]
  },
  {
   "cell_type": "code",
   "execution_count": null,
   "id": "419ad13f",
   "metadata": {},
   "outputs": [
    {
     "name": "stdout",
     "output_type": "stream",
     "text": [
      "INFO:tensorflow:Assets written to: ../saved_model/recommender_model_6\\assets\n"
     ]
    },
    {
     "name": "stderr",
     "output_type": "stream",
     "text": [
      "INFO:tensorflow:Assets written to: ../saved_model/recommender_model_6\\assets\n"
     ]
    },
    {
     "name": "stdout",
     "output_type": "stream",
     "text": [
      "Saved artifact at '../saved_model/recommender_model_6'. The following endpoints are available:\n",
      "\n",
      "* Endpoint 'serve'\n",
      "  args_0 (POSITIONAL_ONLY): List[TensorSpec(shape=(None, 32), dtype=tf.float32, name='user_input'), TensorSpec(shape=(None, 1551), dtype=tf.float32, name='item_input')]\n",
      "Output Type:\n",
      "  TensorSpec(shape=(None, 1), dtype=tf.float32, name=None)\n",
      "Captures:\n",
      "  2637972993424: TensorSpec(shape=(), dtype=tf.resource, name=None)\n",
      "  2637972993616: TensorSpec(shape=(), dtype=tf.resource, name=None)\n",
      "  2637972991888: TensorSpec(shape=(), dtype=tf.resource, name=None)\n",
      "  2637972990544: TensorSpec(shape=(), dtype=tf.resource, name=None)\n",
      "  2637972992656: TensorSpec(shape=(), dtype=tf.resource, name=None)\n",
      "  2637972989968: TensorSpec(shape=(), dtype=tf.resource, name=None)\n",
      "  2637972991696: TensorSpec(shape=(), dtype=tf.resource, name=None)\n",
      "  2637972989584: TensorSpec(shape=(), dtype=tf.resource, name=None)\n",
      "  2637972988816: TensorSpec(shape=(), dtype=tf.resource, name=None)\n",
      "  2637972994192: TensorSpec(shape=(), dtype=tf.resource, name=None)\n",
      "  2637972988624: TensorSpec(shape=(), dtype=tf.resource, name=None)\n",
      "  2637972989008: TensorSpec(shape=(), dtype=tf.resource, name=None)\n",
      "  2637972990160: TensorSpec(shape=(), dtype=tf.resource, name=None)\n",
      "  2637972986128: TensorSpec(shape=(), dtype=tf.resource, name=None)\n",
      "  2637972985744: TensorSpec(shape=(), dtype=tf.resource, name=None)\n",
      "  2637972987472: TensorSpec(shape=(), dtype=tf.resource, name=None)\n",
      "  2637972985552: TensorSpec(shape=(), dtype=tf.resource, name=None)\n",
      "  2637972988240: TensorSpec(shape=(), dtype=tf.resource, name=None)\n",
      "  2637972983632: TensorSpec(shape=(), dtype=tf.resource, name=None)\n",
      "  2637972983056: TensorSpec(shape=(), dtype=tf.resource, name=None)\n",
      "  2637972984016: TensorSpec(shape=(), dtype=tf.resource, name=None)\n",
      "  2637972982480: TensorSpec(shape=(), dtype=tf.resource, name=None)\n",
      "  2637972982288: TensorSpec(shape=(), dtype=tf.resource, name=None)\n",
      "  2637972991120: TensorSpec(shape=(), dtype=tf.resource, name=None)\n",
      "  2637972984400: TensorSpec(shape=(), dtype=tf.resource, name=None)\n",
      "  2637972982864: TensorSpec(shape=(), dtype=tf.resource, name=None)\n",
      "  2637972979984: TensorSpec(shape=(), dtype=tf.resource, name=None)\n",
      "  2637972981136: TensorSpec(shape=(), dtype=tf.resource, name=None)\n",
      "  2637972981328: TensorSpec(shape=(), dtype=tf.resource, name=None)\n",
      "  2637972980560: TensorSpec(shape=(), dtype=tf.resource, name=None)\n",
      "  2637972983440: TensorSpec(shape=(), dtype=tf.resource, name=None)\n",
      "  2637972981904: TensorSpec(shape=(), dtype=tf.resource, name=None)\n",
      "  2635254331344: TensorSpec(shape=(), dtype=tf.resource, name=None)\n",
      "  2635254331536: TensorSpec(shape=(), dtype=tf.resource, name=None)\n",
      "  2635254331920: TensorSpec(shape=(), dtype=tf.resource, name=None)\n",
      "  2635254333264: TensorSpec(shape=(), dtype=tf.resource, name=None)\n",
      "  2635254332496: TensorSpec(shape=(), dtype=tf.resource, name=None)\n",
      "  2635254332112: TensorSpec(shape=(), dtype=tf.resource, name=None)\n",
      "  2635254330768: TensorSpec(shape=(), dtype=tf.resource, name=None)\n",
      "  2635254330384: TensorSpec(shape=(), dtype=tf.resource, name=None)\n"
     ]
    },
    {
     "name": "stderr",
     "output_type": "stream",
     "text": [
      "WARNING:absl:The `save_format` argument is deprecated in Keras 3. We recommend removing this argument as it can be inferred from the file path. Received: save_format=h5\n",
      "WARNING:absl:You are saving your model as an HDF5 file via `model.save()` or `keras.saving.save_model(model)`. This file format is considered legacy. We recommend using instead the native Keras format, e.g. `model.save('my_model.keras')` or `keras.saving.save_model(model, 'my_model.keras')`. \n"
     ]
    }
   ],
   "source": [
    "# # Save in TensorFlow SavedModel format\n",
    "# model.export('../saved_model/recommender_model_6')\n",
    "\n",
    "# # Save in HDF5 format\n",
    "# model.save('../saved_model/recommender_model_6.h5', save_format='h5')\n"
   ]
  },
  {
   "cell_type": "code",
   "execution_count": null,
   "id": "ec9301f3",
   "metadata": {},
   "outputs": [],
   "source": [
    "# # Save in TensorFlow SavedModel format\n",
    "# model.export('../saved_model/recommender_model_2')\n",
    "\n",
    "# # Save in HDF5 format\n",
    "# model.save('../recommender_model_2.h5', save_format='h5')\n"
   ]
  },
  {
   "cell_type": "code",
   "execution_count": 45,
   "id": "a0ca098b",
   "metadata": {},
   "outputs": [
    {
     "data": {
      "text/plain": [
       "array([[-0.25989455,  0.32317614,  0.24692126,  0.51687892, -0.1317057 ,\n",
       "        -0.28708446,  1.57206042, -0.27704778,  0.16021278,  0.157398  ,\n",
       "         0.07581517,  0.29228819,  0.25436898,  0.71397845,  0.11641071,\n",
       "         0.16433943,  0.25063178, -0.08446916,  0.29093007,  0.14058532,\n",
       "         0.09544477,  0.11204122,  0.44291244, -0.6441875 ,  0.65238654,\n",
       "        -0.07278681, -0.27320431,  0.        ,  0.        ,  0.        ,\n",
       "         0.        ,  0.        ],\n",
       "       [-1.11070908, -0.39802264, -0.82766483, -1.06390135,  1.00888589,\n",
       "        -0.63833223, -1.10495582, -0.98105748, -1.56264593, -0.81415629,\n",
       "        -3.2394846 , -1.25647216, -3.49930131,  0.5472529 ,  0.08170883,\n",
       "         0.0280102 , -1.25054341, -1.64605076, -0.42125418, -0.54687925,\n",
       "        -0.60209419, -0.98151224, -1.66798113,  1.55234306, -1.53283358,\n",
       "        -0.07278681, -0.00468354,  0.        ,  0.        ,  0.        ,\n",
       "         0.        ,  0.        ],\n",
       "       [ 0.60325062, -0.81813842,  0.22304156,  1.12842165,  0.84594423,\n",
       "         0.71648059,  0.16356495,  0.88860762,  0.42821302, -3.49460518,\n",
       "         0.07581517,  0.93473693,  0.11566523,  0.08630578,  0.08170883,\n",
       "        -1.00419677,  0.59341981,  1.04078816,  0.93306341,  1.33082249,\n",
       "         0.79298373, -0.05619777,  0.22187647, -0.6441875 ,  0.65238654,\n",
       "        -0.07278681, -0.32690847,  0.        ,  0.        ,  0.        ,\n",
       "         0.        ,  0.        ],\n",
       "       [-0.32154778, -0.75745503, -1.35301802, -0.51005133, -0.62053067,\n",
       "        -0.42507465,  0.16356495, -0.41554149, -0.59274029, -0.51054558,\n",
       "         0.07581517, -0.41899434, -0.46515673,  0.5472529 ,  0.08170883,\n",
       "         0.56358929,  0.28609261, -0.36004239,  0.38433128,  0.17136732,\n",
       "         0.12334633, -0.52486354,  0.35449805, -0.6441875 ,  0.65238654,\n",
       "        -0.07278681, -0.11209185,  0.        ,  0.        ,  0.        ,\n",
       "         0.        ,  0.        ],\n",
       "       [-0.14891875, -0.45870603, -0.09933426, -0.44082008,  0.60153175,\n",
       "         0.2021535 ,  0.16356495, -0.2539655 , -0.09502555, -0.24163323,\n",
       "        -2.59935467, -0.25838216, -1.76550441, -0.43348566,  0.08170883,\n",
       "         0.29093085, -0.05669543, -0.45190013, -0.11770024, -1.23434382,\n",
       "        -0.60209419, -0.14031727,  0.06715128, -0.6441875 ,  0.65238654,\n",
       "        -0.07278681, -0.27320431,  0.        ,  0.        ,  0.        ,\n",
       "         0.        ,  0.        ]])"
      ]
     },
     "execution_count": 45,
     "metadata": {},
     "output_type": "execute_result"
    }
   ],
   "source": [
    "import numpy as np\n",
    "X_U_test[:5]\n"
   ]
  },
  {
   "cell_type": "code",
   "execution_count": 46,
   "id": "b345239c",
   "metadata": {},
   "outputs": [
    {
     "data": {
      "text/plain": [
       "array([[ 1.69920481, -0.38654972, -0.72123611, ..., -0.00223607,\n",
       "        -0.01245086,  0.75442207],\n",
       "       [ 1.5770615 , -0.38654972, -0.71797694, ..., -0.00223607,\n",
       "        -0.01245086, -0.7860036 ],\n",
       "       [-0.47928185, -0.04080992, -0.29046938, ..., -0.00223607,\n",
       "        -0.01245086,  1.87473164],\n",
       "       [-0.72674102, -0.25985486,  0.2798146 , ..., -0.00223607,\n",
       "        -0.01245086,  0.05422858],\n",
       "       [-0.7373162 , -0.24332945,  0.3301047 , ..., -0.00223607,\n",
       "        -0.01245086,  0.61438337]])"
      ]
     },
     "execution_count": 46,
     "metadata": {},
     "output_type": "execute_result"
    }
   ],
   "source": [
    "X_A_test[:5]"
   ]
  },
  {
   "cell_type": "code",
   "execution_count": null,
   "id": "06e74fbb",
   "metadata": {},
   "outputs": [],
   "source": []
  },
  {
   "cell_type": "code",
   "execution_count": 47,
   "id": "a41b7802",
   "metadata": {},
   "outputs": [
    {
     "name": "stdout",
     "output_type": "stream",
     "text": [
      "\u001b[1m1/1\u001b[0m \u001b[32m━━━━━━━━━━━━━━━━━━━━\u001b[0m\u001b[37m\u001b[0m \u001b[1m0s\u001b[0m 98ms/step\n"
     ]
    },
    {
     "data": {
      "text/plain": [
       "array([[7.463675 ],\n",
       "       [6.215206 ],\n",
       "       [8.96331  ],\n",
       "       [6.965341 ],\n",
       "       [7.7632103],\n",
       "       [7.7176785],\n",
       "       [7.10887  ],\n",
       "       [8.700842 ],\n",
       "       [8.901836 ],\n",
       "       [8.921344 ],\n",
       "       [9.275683 ],\n",
       "       [8.296733 ],\n",
       "       [7.4497223],\n",
       "       [7.7219424],\n",
       "       [8.352077 ],\n",
       "       [8.433327 ],\n",
       "       [7.4812627],\n",
       "       [8.009763 ],\n",
       "       [7.835172 ],\n",
       "       [8.43903  ]], dtype=float32)"
      ]
     },
     "execution_count": 47,
     "metadata": {},
     "output_type": "execute_result"
    }
   ],
   "source": [
    "#Make predictions on X-U_test and X-A_test\n",
    "predictions = model.predict([X_U_test[:20], X_A_test[:20]])\n",
    "predictions[:20]"
   ]
  },
  {
   "cell_type": "code",
   "execution_count": null,
   "id": "128f511f",
   "metadata": {},
   "outputs": [
    {
     "data": {
      "text/plain": [
       "array([ 8,  5,  9,  4,  7,  8,  8,  9,  9, 10,  9,  7,  8,  8,  7,  9,  6,\n",
       "        7,  7,  7])"
      ]
     },
     "execution_count": 48,
     "metadata": {},
     "output_type": "execute_result"
    }
   ],
   "source": [
    "Y_test[:20]"
   ]
  },
  {
   "cell_type": "code",
   "execution_count": 57,
   "id": "2d14c7bc",
   "metadata": {},
   "outputs": [
    {
     "data": {
      "text/html": [
       "<div>\n",
       "<style scoped>\n",
       "    .dataframe tbody tr th:only-of-type {\n",
       "        vertical-align: middle;\n",
       "    }\n",
       "\n",
       "    .dataframe tbody tr th {\n",
       "        vertical-align: top;\n",
       "    }\n",
       "\n",
       "    .dataframe thead th {\n",
       "        text-align: right;\n",
       "    }\n",
       "</style>\n",
       "<table border=\"1\" class=\"dataframe\">\n",
       "  <thead>\n",
       "    <tr style=\"text-align: right;\">\n",
       "      <th></th>\n",
       "      <th>Mean Score</th>\n",
       "      <th>Completed</th>\n",
       "      <th>Birth_Year</th>\n",
       "      <th>user_id</th>\n",
       "      <th>anime_id</th>\n",
       "      <th>rating</th>\n",
       "      <th>Genre_Action</th>\n",
       "      <th>Genre_Adventure</th>\n",
       "      <th>Genre_Avant Garde</th>\n",
       "      <th>Genre_Award Winning</th>\n",
       "      <th>...</th>\n",
       "      <th>Genre_Gourmet</th>\n",
       "      <th>Genre_Hentai</th>\n",
       "      <th>Genre_Horror</th>\n",
       "      <th>Genre_Mystery</th>\n",
       "      <th>Genre_Romance</th>\n",
       "      <th>Genre_Sci-Fi</th>\n",
       "      <th>Genre_Slice of Life</th>\n",
       "      <th>Genre_Sports</th>\n",
       "      <th>Genre_Supernatural</th>\n",
       "      <th>Genre_Suspense</th>\n",
       "    </tr>\n",
       "  </thead>\n",
       "  <tbody>\n",
       "    <tr>\n",
       "      <th>5873391</th>\n",
       "      <td>7.55</td>\n",
       "      <td>457.0</td>\n",
       "      <td>1994</td>\n",
       "      <td>474797</td>\n",
       "      <td>2002</td>\n",
       "      <td>7</td>\n",
       "      <td>1</td>\n",
       "      <td>0</td>\n",
       "      <td>0</td>\n",
       "      <td>0</td>\n",
       "      <td>...</td>\n",
       "      <td>0</td>\n",
       "      <td>0</td>\n",
       "      <td>0</td>\n",
       "      <td>0</td>\n",
       "      <td>0</td>\n",
       "      <td>1</td>\n",
       "      <td>0</td>\n",
       "      <td>0</td>\n",
       "      <td>0</td>\n",
       "      <td>0</td>\n",
       "    </tr>\n",
       "    <tr>\n",
       "      <th>2820041</th>\n",
       "      <td>8.13</td>\n",
       "      <td>165.0</td>\n",
       "      <td>1990</td>\n",
       "      <td>110845</td>\n",
       "      <td>1568</td>\n",
       "      <td>9</td>\n",
       "      <td>1</td>\n",
       "      <td>0</td>\n",
       "      <td>0</td>\n",
       "      <td>0</td>\n",
       "      <td>...</td>\n",
       "      <td>0</td>\n",
       "      <td>0</td>\n",
       "      <td>0</td>\n",
       "      <td>0</td>\n",
       "      <td>1</td>\n",
       "      <td>0</td>\n",
       "      <td>0</td>\n",
       "      <td>0</td>\n",
       "      <td>0</td>\n",
       "      <td>0</td>\n",
       "    </tr>\n",
       "    <tr>\n",
       "      <th>3718225</th>\n",
       "      <td>7.52</td>\n",
       "      <td>292.0</td>\n",
       "      <td>1992</td>\n",
       "      <td>331414</td>\n",
       "      <td>15689</td>\n",
       "      <td>10</td>\n",
       "      <td>0</td>\n",
       "      <td>0</td>\n",
       "      <td>0</td>\n",
       "      <td>0</td>\n",
       "      <td>...</td>\n",
       "      <td>0</td>\n",
       "      <td>0</td>\n",
       "      <td>0</td>\n",
       "      <td>0</td>\n",
       "      <td>1</td>\n",
       "      <td>0</td>\n",
       "      <td>0</td>\n",
       "      <td>0</td>\n",
       "      <td>1</td>\n",
       "      <td>0</td>\n",
       "    </tr>\n",
       "    <tr>\n",
       "      <th>5888146</th>\n",
       "      <td>7.54</td>\n",
       "      <td>222.0</td>\n",
       "      <td>1992</td>\n",
       "      <td>475734</td>\n",
       "      <td>5341</td>\n",
       "      <td>9</td>\n",
       "      <td>0</td>\n",
       "      <td>1</td>\n",
       "      <td>0</td>\n",
       "      <td>0</td>\n",
       "      <td>...</td>\n",
       "      <td>0</td>\n",
       "      <td>0</td>\n",
       "      <td>0</td>\n",
       "      <td>0</td>\n",
       "      <td>1</td>\n",
       "      <td>0</td>\n",
       "      <td>0</td>\n",
       "      <td>0</td>\n",
       "      <td>0</td>\n",
       "      <td>0</td>\n",
       "    </tr>\n",
       "    <tr>\n",
       "      <th>5768853</th>\n",
       "      <td>9.41</td>\n",
       "      <td>428.0</td>\n",
       "      <td>1996</td>\n",
       "      <td>468743</td>\n",
       "      <td>51958</td>\n",
       "      <td>10</td>\n",
       "      <td>0</td>\n",
       "      <td>0</td>\n",
       "      <td>0</td>\n",
       "      <td>0</td>\n",
       "      <td>...</td>\n",
       "      <td>0</td>\n",
       "      <td>0</td>\n",
       "      <td>0</td>\n",
       "      <td>0</td>\n",
       "      <td>0</td>\n",
       "      <td>0</td>\n",
       "      <td>0</td>\n",
       "      <td>0</td>\n",
       "      <td>0</td>\n",
       "      <td>0</td>\n",
       "    </tr>\n",
       "    <tr>\n",
       "      <th>5937730</th>\n",
       "      <td>7.83</td>\n",
       "      <td>49.0</td>\n",
       "      <td>1995</td>\n",
       "      <td>478715</td>\n",
       "      <td>401</td>\n",
       "      <td>7</td>\n",
       "      <td>0</td>\n",
       "      <td>0</td>\n",
       "      <td>0</td>\n",
       "      <td>0</td>\n",
       "      <td>...</td>\n",
       "      <td>0</td>\n",
       "      <td>0</td>\n",
       "      <td>0</td>\n",
       "      <td>0</td>\n",
       "      <td>1</td>\n",
       "      <td>0</td>\n",
       "      <td>0</td>\n",
       "      <td>0</td>\n",
       "      <td>0</td>\n",
       "      <td>0</td>\n",
       "    </tr>\n",
       "    <tr>\n",
       "      <th>5896037</th>\n",
       "      <td>6.90</td>\n",
       "      <td>1253.0</td>\n",
       "      <td>1992</td>\n",
       "      <td>476226</td>\n",
       "      <td>37521</td>\n",
       "      <td>9</td>\n",
       "      <td>1</td>\n",
       "      <td>1</td>\n",
       "      <td>0</td>\n",
       "      <td>0</td>\n",
       "      <td>...</td>\n",
       "      <td>0</td>\n",
       "      <td>0</td>\n",
       "      <td>0</td>\n",
       "      <td>0</td>\n",
       "      <td>0</td>\n",
       "      <td>0</td>\n",
       "      <td>0</td>\n",
       "      <td>0</td>\n",
       "      <td>0</td>\n",
       "      <td>0</td>\n",
       "    </tr>\n",
       "    <tr>\n",
       "      <th>1138215</th>\n",
       "      <td>6.94</td>\n",
       "      <td>50.0</td>\n",
       "      <td>1990</td>\n",
       "      <td>36891</td>\n",
       "      <td>7627</td>\n",
       "      <td>2</td>\n",
       "      <td>0</td>\n",
       "      <td>0</td>\n",
       "      <td>0</td>\n",
       "      <td>0</td>\n",
       "      <td>...</td>\n",
       "      <td>0</td>\n",
       "      <td>0</td>\n",
       "      <td>0</td>\n",
       "      <td>0</td>\n",
       "      <td>0</td>\n",
       "      <td>0</td>\n",
       "      <td>1</td>\n",
       "      <td>0</td>\n",
       "      <td>0</td>\n",
       "      <td>0</td>\n",
       "    </tr>\n",
       "    <tr>\n",
       "      <th>3772293</th>\n",
       "      <td>8.06</td>\n",
       "      <td>245.0</td>\n",
       "      <td>1973</td>\n",
       "      <td>334426</td>\n",
       "      <td>255</td>\n",
       "      <td>8</td>\n",
       "      <td>0</td>\n",
       "      <td>0</td>\n",
       "      <td>0</td>\n",
       "      <td>1</td>\n",
       "      <td>...</td>\n",
       "      <td>0</td>\n",
       "      <td>0</td>\n",
       "      <td>0</td>\n",
       "      <td>0</td>\n",
       "      <td>0</td>\n",
       "      <td>0</td>\n",
       "      <td>1</td>\n",
       "      <td>0</td>\n",
       "      <td>0</td>\n",
       "      <td>0</td>\n",
       "    </tr>\n",
       "    <tr>\n",
       "      <th>5971835</th>\n",
       "      <td>7.72</td>\n",
       "      <td>278.0</td>\n",
       "      <td>1987</td>\n",
       "      <td>480595</td>\n",
       "      <td>857</td>\n",
       "      <td>8</td>\n",
       "      <td>1</td>\n",
       "      <td>0</td>\n",
       "      <td>0</td>\n",
       "      <td>0</td>\n",
       "      <td>...</td>\n",
       "      <td>0</td>\n",
       "      <td>0</td>\n",
       "      <td>0</td>\n",
       "      <td>0</td>\n",
       "      <td>0</td>\n",
       "      <td>0</td>\n",
       "      <td>0</td>\n",
       "      <td>0</td>\n",
       "      <td>0</td>\n",
       "      <td>0</td>\n",
       "    </tr>\n",
       "    <tr>\n",
       "      <th>2035215</th>\n",
       "      <td>7.67</td>\n",
       "      <td>581.0</td>\n",
       "      <td>1989</td>\n",
       "      <td>75454</td>\n",
       "      <td>38816</td>\n",
       "      <td>8</td>\n",
       "      <td>0</td>\n",
       "      <td>0</td>\n",
       "      <td>0</td>\n",
       "      <td>0</td>\n",
       "      <td>...</td>\n",
       "      <td>0</td>\n",
       "      <td>0</td>\n",
       "      <td>0</td>\n",
       "      <td>0</td>\n",
       "      <td>1</td>\n",
       "      <td>1</td>\n",
       "      <td>0</td>\n",
       "      <td>0</td>\n",
       "      <td>0</td>\n",
       "      <td>0</td>\n",
       "    </tr>\n",
       "    <tr>\n",
       "      <th>3116301</th>\n",
       "      <td>7.15</td>\n",
       "      <td>148.0</td>\n",
       "      <td>1991</td>\n",
       "      <td>295694</td>\n",
       "      <td>1632</td>\n",
       "      <td>6</td>\n",
       "      <td>0</td>\n",
       "      <td>0</td>\n",
       "      <td>0</td>\n",
       "      <td>0</td>\n",
       "      <td>...</td>\n",
       "      <td>0</td>\n",
       "      <td>1</td>\n",
       "      <td>0</td>\n",
       "      <td>0</td>\n",
       "      <td>0</td>\n",
       "      <td>0</td>\n",
       "      <td>0</td>\n",
       "      <td>0</td>\n",
       "      <td>0</td>\n",
       "      <td>0</td>\n",
       "    </tr>\n",
       "    <tr>\n",
       "      <th>7434787</th>\n",
       "      <td>7.67</td>\n",
       "      <td>859.0</td>\n",
       "      <td>1992</td>\n",
       "      <td>1071969</td>\n",
       "      <td>10012</td>\n",
       "      <td>10</td>\n",
       "      <td>0</td>\n",
       "      <td>0</td>\n",
       "      <td>0</td>\n",
       "      <td>0</td>\n",
       "      <td>...</td>\n",
       "      <td>0</td>\n",
       "      <td>0</td>\n",
       "      <td>0</td>\n",
       "      <td>0</td>\n",
       "      <td>0</td>\n",
       "      <td>0</td>\n",
       "      <td>0</td>\n",
       "      <td>0</td>\n",
       "      <td>1</td>\n",
       "      <td>0</td>\n",
       "    </tr>\n",
       "    <tr>\n",
       "      <th>1375591</th>\n",
       "      <td>7.29</td>\n",
       "      <td>481.0</td>\n",
       "      <td>1991</td>\n",
       "      <td>45696</td>\n",
       "      <td>1654</td>\n",
       "      <td>9</td>\n",
       "      <td>0</td>\n",
       "      <td>0</td>\n",
       "      <td>0</td>\n",
       "      <td>0</td>\n",
       "      <td>...</td>\n",
       "      <td>0</td>\n",
       "      <td>0</td>\n",
       "      <td>0</td>\n",
       "      <td>0</td>\n",
       "      <td>1</td>\n",
       "      <td>0</td>\n",
       "      <td>0</td>\n",
       "      <td>0</td>\n",
       "      <td>0</td>\n",
       "      <td>0</td>\n",
       "    </tr>\n",
       "    <tr>\n",
       "      <th>3384664</th>\n",
       "      <td>7.63</td>\n",
       "      <td>486.0</td>\n",
       "      <td>1989</td>\n",
       "      <td>313004</td>\n",
       "      <td>1224</td>\n",
       "      <td>7</td>\n",
       "      <td>1</td>\n",
       "      <td>1</td>\n",
       "      <td>0</td>\n",
       "      <td>0</td>\n",
       "      <td>...</td>\n",
       "      <td>0</td>\n",
       "      <td>0</td>\n",
       "      <td>0</td>\n",
       "      <td>0</td>\n",
       "      <td>1</td>\n",
       "      <td>1</td>\n",
       "      <td>0</td>\n",
       "      <td>0</td>\n",
       "      <td>1</td>\n",
       "      <td>0</td>\n",
       "    </tr>\n",
       "    <tr>\n",
       "      <th>1462020</th>\n",
       "      <td>8.07</td>\n",
       "      <td>215.0</td>\n",
       "      <td>1986</td>\n",
       "      <td>50444</td>\n",
       "      <td>534</td>\n",
       "      <td>9</td>\n",
       "      <td>0</td>\n",
       "      <td>1</td>\n",
       "      <td>0</td>\n",
       "      <td>0</td>\n",
       "      <td>...</td>\n",
       "      <td>0</td>\n",
       "      <td>0</td>\n",
       "      <td>0</td>\n",
       "      <td>0</td>\n",
       "      <td>0</td>\n",
       "      <td>0</td>\n",
       "      <td>0</td>\n",
       "      <td>0</td>\n",
       "      <td>0</td>\n",
       "      <td>0</td>\n",
       "    </tr>\n",
       "    <tr>\n",
       "      <th>5147532</th>\n",
       "      <td>8.31</td>\n",
       "      <td>116.0</td>\n",
       "      <td>1989</td>\n",
       "      <td>419712</td>\n",
       "      <td>8246</td>\n",
       "      <td>8</td>\n",
       "      <td>1</td>\n",
       "      <td>1</td>\n",
       "      <td>0</td>\n",
       "      <td>0</td>\n",
       "      <td>...</td>\n",
       "      <td>0</td>\n",
       "      <td>0</td>\n",
       "      <td>0</td>\n",
       "      <td>0</td>\n",
       "      <td>0</td>\n",
       "      <td>0</td>\n",
       "      <td>0</td>\n",
       "      <td>0</td>\n",
       "      <td>0</td>\n",
       "      <td>0</td>\n",
       "    </tr>\n",
       "    <tr>\n",
       "      <th>1089692</th>\n",
       "      <td>6.70</td>\n",
       "      <td>370.0</td>\n",
       "      <td>1988</td>\n",
       "      <td>35221</td>\n",
       "      <td>293</td>\n",
       "      <td>4</td>\n",
       "      <td>0</td>\n",
       "      <td>0</td>\n",
       "      <td>0</td>\n",
       "      <td>0</td>\n",
       "      <td>...</td>\n",
       "      <td>0</td>\n",
       "      <td>0</td>\n",
       "      <td>0</td>\n",
       "      <td>0</td>\n",
       "      <td>0</td>\n",
       "      <td>1</td>\n",
       "      <td>0</td>\n",
       "      <td>0</td>\n",
       "      <td>0</td>\n",
       "      <td>0</td>\n",
       "    </tr>\n",
       "    <tr>\n",
       "      <th>6361075</th>\n",
       "      <td>9.25</td>\n",
       "      <td>273.0</td>\n",
       "      <td>1995</td>\n",
       "      <td>504630</td>\n",
       "      <td>4483</td>\n",
       "      <td>10</td>\n",
       "      <td>0</td>\n",
       "      <td>0</td>\n",
       "      <td>0</td>\n",
       "      <td>0</td>\n",
       "      <td>...</td>\n",
       "      <td>0</td>\n",
       "      <td>0</td>\n",
       "      <td>0</td>\n",
       "      <td>0</td>\n",
       "      <td>1</td>\n",
       "      <td>0</td>\n",
       "      <td>1</td>\n",
       "      <td>0</td>\n",
       "      <td>0</td>\n",
       "      <td>0</td>\n",
       "    </tr>\n",
       "    <tr>\n",
       "      <th>1863646</th>\n",
       "      <td>7.33</td>\n",
       "      <td>82.0</td>\n",
       "      <td>1983</td>\n",
       "      <td>67568</td>\n",
       "      <td>192</td>\n",
       "      <td>9</td>\n",
       "      <td>0</td>\n",
       "      <td>1</td>\n",
       "      <td>0</td>\n",
       "      <td>0</td>\n",
       "      <td>...</td>\n",
       "      <td>0</td>\n",
       "      <td>0</td>\n",
       "      <td>0</td>\n",
       "      <td>0</td>\n",
       "      <td>1</td>\n",
       "      <td>0</td>\n",
       "      <td>0</td>\n",
       "      <td>0</td>\n",
       "      <td>0</td>\n",
       "      <td>0</td>\n",
       "    </tr>\n",
       "  </tbody>\n",
       "</table>\n",
       "<p>20 rows × 27 columns</p>\n",
       "</div>"
      ],
      "text/plain": [
       "         Mean Score  Completed  Birth_Year  user_id  anime_id  rating  \\\n",
       "5873391        7.55      457.0        1994   474797      2002       7   \n",
       "2820041        8.13      165.0        1990   110845      1568       9   \n",
       "3718225        7.52      292.0        1992   331414     15689      10   \n",
       "5888146        7.54      222.0        1992   475734      5341       9   \n",
       "5768853        9.41      428.0        1996   468743     51958      10   \n",
       "5937730        7.83       49.0        1995   478715       401       7   \n",
       "5896037        6.90     1253.0        1992   476226     37521       9   \n",
       "1138215        6.94       50.0        1990    36891      7627       2   \n",
       "3772293        8.06      245.0        1973   334426       255       8   \n",
       "5971835        7.72      278.0        1987   480595       857       8   \n",
       "2035215        7.67      581.0        1989    75454     38816       8   \n",
       "3116301        7.15      148.0        1991   295694      1632       6   \n",
       "7434787        7.67      859.0        1992  1071969     10012      10   \n",
       "1375591        7.29      481.0        1991    45696      1654       9   \n",
       "3384664        7.63      486.0        1989   313004      1224       7   \n",
       "1462020        8.07      215.0        1986    50444       534       9   \n",
       "5147532        8.31      116.0        1989   419712      8246       8   \n",
       "1089692        6.70      370.0        1988    35221       293       4   \n",
       "6361075        9.25      273.0        1995   504630      4483      10   \n",
       "1863646        7.33       82.0        1983    67568       192       9   \n",
       "\n",
       "         Genre_Action  Genre_Adventure  Genre_Avant Garde  \\\n",
       "5873391             1                0                  0   \n",
       "2820041             1                0                  0   \n",
       "3718225             0                0                  0   \n",
       "5888146             0                1                  0   \n",
       "5768853             0                0                  0   \n",
       "5937730             0                0                  0   \n",
       "5896037             1                1                  0   \n",
       "1138215             0                0                  0   \n",
       "3772293             0                0                  0   \n",
       "5971835             1                0                  0   \n",
       "2035215             0                0                  0   \n",
       "3116301             0                0                  0   \n",
       "7434787             0                0                  0   \n",
       "1375591             0                0                  0   \n",
       "3384664             1                1                  0   \n",
       "1462020             0                1                  0   \n",
       "5147532             1                1                  0   \n",
       "1089692             0                0                  0   \n",
       "6361075             0                0                  0   \n",
       "1863646             0                1                  0   \n",
       "\n",
       "         Genre_Award Winning  ...  Genre_Gourmet  Genre_Hentai  Genre_Horror  \\\n",
       "5873391                    0  ...              0             0             0   \n",
       "2820041                    0  ...              0             0             0   \n",
       "3718225                    0  ...              0             0             0   \n",
       "5888146                    0  ...              0             0             0   \n",
       "5768853                    0  ...              0             0             0   \n",
       "5937730                    0  ...              0             0             0   \n",
       "5896037                    0  ...              0             0             0   \n",
       "1138215                    0  ...              0             0             0   \n",
       "3772293                    1  ...              0             0             0   \n",
       "5971835                    0  ...              0             0             0   \n",
       "2035215                    0  ...              0             0             0   \n",
       "3116301                    0  ...              0             1             0   \n",
       "7434787                    0  ...              0             0             0   \n",
       "1375591                    0  ...              0             0             0   \n",
       "3384664                    0  ...              0             0             0   \n",
       "1462020                    0  ...              0             0             0   \n",
       "5147532                    0  ...              0             0             0   \n",
       "1089692                    0  ...              0             0             0   \n",
       "6361075                    0  ...              0             0             0   \n",
       "1863646                    0  ...              0             0             0   \n",
       "\n",
       "         Genre_Mystery  Genre_Romance  Genre_Sci-Fi  Genre_Slice of Life  \\\n",
       "5873391              0              0             1                    0   \n",
       "2820041              0              1             0                    0   \n",
       "3718225              0              1             0                    0   \n",
       "5888146              0              1             0                    0   \n",
       "5768853              0              0             0                    0   \n",
       "5937730              0              1             0                    0   \n",
       "5896037              0              0             0                    0   \n",
       "1138215              0              0             0                    1   \n",
       "3772293              0              0             0                    1   \n",
       "5971835              0              0             0                    0   \n",
       "2035215              0              1             1                    0   \n",
       "3116301              0              0             0                    0   \n",
       "7434787              0              0             0                    0   \n",
       "1375591              0              1             0                    0   \n",
       "3384664              0              1             1                    0   \n",
       "1462020              0              0             0                    0   \n",
       "5147532              0              0             0                    0   \n",
       "1089692              0              0             1                    0   \n",
       "6361075              0              1             0                    1   \n",
       "1863646              0              1             0                    0   \n",
       "\n",
       "         Genre_Sports  Genre_Supernatural  Genre_Suspense  \n",
       "5873391             0                   0               0  \n",
       "2820041             0                   0               0  \n",
       "3718225             0                   1               0  \n",
       "5888146             0                   0               0  \n",
       "5768853             0                   0               0  \n",
       "5937730             0                   0               0  \n",
       "5896037             0                   0               0  \n",
       "1138215             0                   0               0  \n",
       "3772293             0                   0               0  \n",
       "5971835             0                   0               0  \n",
       "2035215             0                   0               0  \n",
       "3116301             0                   0               0  \n",
       "7434787             0                   1               0  \n",
       "1375591             0                   0               0  \n",
       "3384664             0                   1               0  \n",
       "1462020             0                   0               0  \n",
       "5147532             0                   0               0  \n",
       "1089692             0                   0               0  \n",
       "6361075             0                   0               0  \n",
       "1863646             0                   0               0  \n",
       "\n",
       "[20 rows x 27 columns]"
      ]
     },
     "execution_count": 57,
     "metadata": {},
     "output_type": "execute_result"
    }
   ],
   "source": [
    "user_input_sample.head(20)"
   ]
  },
  {
   "cell_type": "code",
   "execution_count": null,
   "id": "7b28c3a7",
   "metadata": {},
   "outputs": [
    {
     "data": {
      "text/plain": [
       "\"\\nimport matplotlib.pyplot as plt\\n\\nplt.figure(figsize=(12, 4))\\nplt.subplot(1, 2, 1)\\nplt.plot(history.history['loss'], label='Training Loss')\\nplt.plot(history.history['val_loss'], label='Validation Loss')\\nplt.title('Loss Over Epochs')\\nplt.xlabel('Epoch')\\nplt.ylabel('Loss (MSE)')\\nplt.legend()\\n\\nplt.subplot(1, 2, 2)\\nplt.plot(history.history['mean_absolute_error'], label='Training MAE')\\nplt.plot(history.history['val_mean_absolute_error'], label='Validation MAE')\\nplt.title('Mean Absolute Error Over Epochs')\\nplt.xlabel('Epoch')\\nplt.ylabel('MAE')\\nplt.legend()\\nplt.tight_layout()\\nplt.show()\\n\""
      ]
     },
     "execution_count": 49,
     "metadata": {},
     "output_type": "execute_result"
    }
   ],
   "source": [
    "# Optional: Plot training history\n",
    "# Uncomment if you're running in an environment that supports plotting\n",
    "\"\"\"\n",
    "import matplotlib.pyplot as plt\n",
    "\n",
    "plt.figure(figsize=(12, 4))\n",
    "plt.subplot(1, 2, 1)\n",
    "plt.plot(history.history['loss'], label='Training Loss')\n",
    "plt.plot(history.history['val_loss'], label='Validation Loss')\n",
    "plt.title('Loss Over Epochs')\n",
    "plt.xlabel('Epoch')\n",
    "plt.ylabel('Loss (MSE)')\n",
    "plt.legend()\n",
    "\n",
    "plt.subplot(1, 2, 2)\n",
    "plt.plot(history.history['mean_absolute_error'], label='Training MAE')\n",
    "plt.plot(history.history['val_mean_absolute_error'], label='Validation MAE')\n",
    "plt.title('Mean Absolute Error Over Epochs')\n",
    "plt.xlabel('Epoch')\n",
    "plt.ylabel('MAE')\n",
    "plt.legend()\n",
    "plt.tight_layout()\n",
    "plt.show()\n",
    "\"\"\""
   ]
  },
  {
   "cell_type": "markdown",
   "id": "528d1c49",
   "metadata": {},
   "source": [
    "# Model Evaluation Metrics\n",
    "Evaluate the model using Accuracy, ROC-AUC, Precision@K, and Recall@K for top-N performance."
   ]
  },
  {
   "cell_type": "code",
   "execution_count": null,
   "id": "de4df49c",
   "metadata": {},
   "outputs": [
    {
     "name": "stdout",
     "output_type": "stream",
     "text": [
      "Accuracy: 0.9500\n",
      "ROC-AUC: 0.7895\n"
     ]
    }
   ],
   "source": [
    "from sklearn.metrics import accuracy_score, roc_auc_score\n",
    "\n",
    "\n",
    "Y_test = Y_test[:len(predictions)]\n",
    "\n",
    "y_pred_binary = (predictions >= 5).astype(int)\n",
    "y_test_binary = (Y_test >= 5).astype(int)\n",
    "accuracy = accuracy_score(y_test_binary, y_pred_binary)\n",
    "print(f\"Accuracy: {accuracy:.4f}\")\n",
    "\n",
    "\n",
    "roc_auc = roc_auc_score(y_test_binary, predictions)\n",
    "print(f\"ROC-AUC: {roc_auc:.4f}\")"
   ]
  },
  {
   "cell_type": "code",
   "execution_count": null,
   "id": "cf747317",
   "metadata": {},
   "outputs": [
    {
     "data": {
      "image/png": "[encoded data removed]",
      "text/plain": [
       "<Figure size 800x600 with 1 Axes>"
      ]
     },
     "metadata": {},
     "output_type": "display_data"
    }
   ],
   "source": [
    "from sklearn.metrics import roc_curve, auc\n",
    "\n",
    "import matplotlib.pyplot as plt\n",
    "\n",
    "# Compute the ROC curve and AUC\n",
    "fpr, tpr, thresholds = roc_curve(y_test_binary, predictions)\n",
    "roc_auc_value = auc(fpr, tpr)\n",
    "\n",
    "# Plot the ROC curve\n",
    "plt.figure(figsize=(8, 6))\n",
    "plt.plot(fpr, tpr, color='blue', lw=2, label=f'ROC curve (AUC = {roc_auc_value:.2f})')\n",
    "plt.plot([0, 1], [0, 1], color='gray', linestyle='--', lw=2, label='Random Guess')\n",
    "plt.xlabel('False Positive Rate')\n",
    "plt.ylabel('True Positive Rate')\n",
    "plt.title('ROC-AUC Curve')\n",
    "plt.legend(loc='lower right')\n",
    "plt.grid(alpha=0.3)\n",
    "plt.show()"
   ]
  },
  {
   "cell_type": "code",
   "execution_count": null,
   "id": "5c11f441",
   "metadata": {},
   "outputs": [
    {
     "data": {
      "image/png": "[encoded data removed]",
      "text/plain": [
       "<Figure size 640x480 with 2 Axes>"
      ]
     },
     "metadata": {},
     "output_type": "display_data"
    },
    {
     "name": "stdout",
     "output_type": "stream",
     "text": [
      "Precision: 0.9500\n",
      "Recall: 1.0000\n"
     ]
    }
   ],
   "source": [
    "from sklearn.metrics import confusion_matrix, ConfusionMatrixDisplay, precision_score, recall_score\n",
    "\n",
    "# Compute the confusion matrix\n",
    "cm = confusion_matrix(y_test_binary, y_pred_binary)\n",
    "\n",
    "# Plot the confusion matrix\n",
    "disp = ConfusionMatrixDisplay(confusion_matrix=cm, display_labels=[\"Not Recommended\", \"Recommended\"])\n",
    "disp.plot(cmap=\"Blues\")\n",
    "plt.title(\"Confusion Matrix\")\n",
    "plt.show()\n",
    "\n",
    "# Calculate precision and recall\n",
    "precision = precision_score(y_test_binary, y_pred_binary)\n",
    "recall = recall_score(y_test_binary, y_pred_binary)\n",
    "\n",
    "print(f\"Precision: {precision:.4f}\")\n",
    "print(f\"Recall: {recall:.4f}\")"
   ]
  },
  {
   "cell_type": "code",
   "execution_count": null,
   "id": "b4df6c4a",
   "metadata": {},
   "outputs": [
    {
     "data": {
      "image/png": "[encoded data removed]",
      "text/plain": [
       "<Figure size 640x480 with 2 Axes>"
      ]
     },
     "metadata": {},
     "output_type": "display_data"
    },
    {
     "name": "stdout",
     "output_type": "stream",
     "text": [
      "Precision for Top 20: 0.9500\n",
      "Recall for Top 20: 1.0000\n"
     ]
    }
   ],
   "source": [
    "from sklearn.metrics import confusion_matrix, ConfusionMatrixDisplay, precision_score, recall_score\n",
    "\n",
    "# Define K\n",
    "K = 20\n",
    "\n",
    "# Get the indices of the top K predictions\n",
    "top_k_indices = np.argsort(predictions.flatten())[-K:]\n",
    "\n",
    "# Filter the predictions and ground truth for the top K elements\n",
    "y_pred_top_k = y_pred_binary[top_k_indices].flatten()  # Ensure 1D array\n",
    "y_test_top_k = y_test_binary[top_k_indices].flatten()  # Ensure 1D array\n",
    "\n",
    "# Define all possible labels\n",
    "all_labels = [0, 1]\n",
    "\n",
    "# Compute the confusion matrix for the top K elements\n",
    "cm_top_k = confusion_matrix(y_test_top_k, y_pred_top_k, labels=all_labels)\n",
    "\n",
    "# Plot the confusion matrix\n",
    "disp_top_k = ConfusionMatrixDisplay(confusion_matrix=cm_top_k, display_labels=all_labels)\n",
    "disp_top_k.plot(cmap=\"Blues\")\n",
    "plt.title(f\"Confusion Matrix for Top {K} Predictions\")\n",
    "plt.show()\n",
    "\n",
    "# Calculate precision and recall for the top K elements\n",
    "precision_top_k = precision_score(y_test_top_k, y_pred_top_k, labels=all_labels, zero_division=0)\n",
    "recall_top_k = recall_score(y_test_top_k, y_pred_top_k, labels=all_labels, zero_division=0)\n",
    "\n",
    "print(f\"Precision for Top {K}: {precision_top_k:.4f}\")\n",
    "print(f\"Recall for Top {K}: {recall_top_k:.4f}\")"
   ]
  }
 ],
 "metadata": {
  "kernelspec": {
   "display_name": "Python 3",
   "language": "python",
   "name": "python3"
  },
  "language_info": {
   "codemirror_mode": {
    "name": "ipython",
    "version": 3
   },
   "file_extension": ".py",
   "mimetype": "text/x-python",
   "name": "python",
   "nbconvert_exporter": "python",
   "pygments_lexer": "ipython3",
   "version": "3.12.5"
  }
 },
 "nbformat": 4,
 "nbformat_minor": 5
}
