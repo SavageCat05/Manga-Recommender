{
 "cells": [
  {
   "cell_type": "markdown",
   "id": "0db3612a",
   "metadata": {},
   "source": [
    "# Obtained_data:"
   ]
  },
  {
   "cell_type": "code",
   "execution_count": 1,
   "id": "ce088793",
   "metadata": {},
   "outputs": [],
   "source": [
    "\n",
    "import numpy as np\n",
    "import pandas as pd\n",
    "import matplotlib.pyplot as plt\n",
    "\n",
    "from sklearn.base import BaseEstimator, TransformerMixin\n",
    "from sklearn.pipeline import Pipeline\n",
    "from sklearn.preprocessing import OneHotEncoder, StandardScaler, FunctionTransformer\n",
    "from sklearn.model_selection import train_test_split\n",
    "from sklearn.metrics import (\n",
    "    accuracy_score, roc_auc_score, roc_curve, auc,\n",
    "    confusion_matrix, ConfusionMatrixDisplay, precision_score, recall_score\n",
    ")\n",
    "\n",
    "import tensorflow as tf\n",
    "from tensorflow.keras import layers, models\n",
    "\n",
    "from scipy.sparse import csr_matrix, hstack"
   ]
  },
  {
   "cell_type": "code",
   "execution_count": 2,
   "id": "ad86276c",
   "metadata": {},
   "outputs": [
    {
     "name": "stderr",
     "output_type": "stream",
     "text": [
      "C:\\Users\\Anshuman Raj\\AppData\\Local\\Temp\\ipykernel_26048\\3708410406.py:2: DtypeWarning: Columns (20) have mixed types. Specify dtype option on import or set low_memory=False.\n",
      "  item_data=pd.read_csv(\"Final_Anime_Dataset.csv\")\n"
     ]
    }
   ],
   "source": [
    "\n",
    "user_data=pd.read_csv(\"Final_User_Dataset.csv\")\n",
    "item_data=pd.read_csv(\"Final_Anime_Dataset.csv\")\n",
    "user_input=pd.read_csv(\"User_input.csv\")\n",
    "\n"
   ]
  },
  {
   "cell_type": "code",
   "execution_count": 3,
   "id": "f25c55f3",
   "metadata": {},
   "outputs": [
    {
     "data": {
      "text/plain": [
       "dtype('float64')"
      ]
     },
     "execution_count": 3,
     "metadata": {},
     "output_type": "execute_result"
    }
   ],
   "source": [
    "user_data[user_data.columns[21]].dtype"
   ]
  },
  {
   "cell_type": "code",
   "execution_count": 4,
   "id": "20eed514",
   "metadata": {},
   "outputs": [
    {
     "data": {
      "text/plain": [
       "array([np.int64(347), 'troublesome4u', 'Male', np.float64(8.64),\n",
       "       np.float64(167.0), np.float64(8.84), np.float64(8.83),\n",
       "       np.float64(7.93), np.float64(9.56), np.float64(7.06),\n",
       "       np.float64(8.1), np.float64(8.67), np.float64(8.0),\n",
       "       np.float64(6.8), np.float64(8.47), np.float64(7.17),\n",
       "       np.float64(7.53), np.float64(6.47), np.float64(8.54),\n",
       "       np.float64(6.83), np.float64(8.57), np.float64(8.32),\n",
       "       np.float64(7.87), np.float64(9.0), np.float64(8.69),\n",
       "       np.float64(10.0), np.int64(47), 'Gen_X', np.int64(0), np.int64(1)],\n",
       "      dtype=object)"
      ]
     },
     "execution_count": 4,
     "metadata": {},
     "output_type": "execute_result"
    }
   ],
   "source": [
    "user_data.iloc[21, :].unique()"
   ]
  },
  {
   "cell_type": "code",
   "execution_count": 5,
   "id": "066899aa",
   "metadata": {},
   "outputs": [],
   "source": [
    "class GenreRatingTypeConverter(BaseEstimator, TransformerMixin):\n",
    "    def __init__(self, column_prefix='avg_', errors='coerce', downcast=None):\n",
    "        self.column_prefix = column_prefix\n",
    "        self.errors = errors\n",
    "        self.downcast = downcast\n",
    "        self.columns_converted_ = None\n",
    "    \n",
    "    def fit(self, X, y=None):\n",
    "        self.columns_converted_ = [col for col in X.columns if col.startswith(self.column_prefix)]\n",
    "        return self\n",
    "    \n",
    "    def transform(self, X):\n",
    "        X_result = X.copy()\n",
    "        for column in self.columns_converted_:\n",
    "            X_result[column] = pd.to_numeric(X_result[column], errors=self.errors, downcast=self.downcast)\n",
    "        return X_result\n",
    "    \n",
    "    def get_feature_names_out(self, input_features=None):\n",
    "        return self.columns_converted_\n"
   ]
  },
  {
   "cell_type": "code",
   "execution_count": 6,
   "id": "f90724c8",
   "metadata": {},
   "outputs": [
    {
     "name": "stdout",
     "output_type": "stream",
     "text": [
      "avg_Action: float64\n",
      "avg_Adventure: float64\n",
      "avg_Avant Garde: float64\n",
      "avg_Award Winning: float64\n",
      "avg_Boys Love: float64\n",
      "avg_Comedy: float64\n",
      "avg_Drama: float64\n",
      "avg_Ecchi: float64\n",
      "avg_Erotica: float64\n",
      "avg_Fantasy: float64\n",
      "avg_Girls Love: float64\n",
      "avg_Gourmet: float64\n",
      "avg_Hentai: float64\n",
      "avg_Horror: float64\n",
      "avg_Mystery: float64\n",
      "avg_Romance: float64\n",
      "avg_Sci-Fi: float64\n",
      "avg_Slice of Life: float64\n",
      "avg_Sports: float64\n",
      "avg_Supernatural: float64\n",
      "avg_Suspense: float64\n"
     ]
    }
   ],
   "source": [
    "genre_converter = GenreRatingTypeConverter(column_prefix='avg_', errors='coerce')\n",
    "user_data = genre_converter.fit_transform(user_data)\n",
    "for col in genre_converter.columns_converted_:\n",
    "    print(f\"{col}: {user_data[col].dtype}\")\n"
   ]
  },
  {
   "cell_type": "code",
   "execution_count": 7,
   "id": "278053da",
   "metadata": {},
   "outputs": [
    {
     "data": {
      "text/plain": [
       "dtype('float64')"
      ]
     },
     "execution_count": 7,
     "metadata": {},
     "output_type": "execute_result"
    }
   ],
   "source": [
    "user_data[\"avg_Romance\"].dtype"
   ]
  },
  {
   "cell_type": "code",
   "execution_count": 8,
   "id": "0e309d39",
   "metadata": {},
   "outputs": [
    {
     "name": "stdout",
     "output_type": "stream",
     "text": [
      "Range of avg_Mystery: 1.0 to 10.0\n"
     ]
    }
   ],
   "source": [
    "min_value = user_data['avg_Mystery'].min()\n",
    "max_value = user_data['avg_Mystery'].max()\n",
    "print(f\"Range of avg_Mystery: {min_value} to {max_value}\")"
   ]
  },
  {
   "cell_type": "code",
   "execution_count": 9,
   "id": "77ed4ef7",
   "metadata": {},
   "outputs": [
    {
     "data": {
      "text/plain": [
       "dtype('float64')"
      ]
     },
     "execution_count": 9,
     "metadata": {},
     "output_type": "execute_result"
    }
   ],
   "source": [
    "user_data[\"avg_Mystery\"].dtype"
   ]
  },
  {
   "cell_type": "code",
   "execution_count": 10,
   "id": "2a528533",
   "metadata": {},
   "outputs": [
    {
     "data": {
      "text/plain": [
       "(19848, 1571)"
      ]
     },
     "execution_count": 10,
     "metadata": {},
     "output_type": "execute_result"
    }
   ],
   "source": [
    "item_data.shape"
   ]
  },
  {
   "cell_type": "code",
   "execution_count": 11,
   "id": "7bbd5b8b",
   "metadata": {},
   "outputs": [
    {
     "data": {
      "text/plain": [
       "Index(['user_id', 'Username', 'Gender', 'Mean Score', 'Completed',\n",
       "       'avg_Action', 'avg_Adventure', 'avg_Avant Garde', 'avg_Award Winning',\n",
       "       'avg_Boys Love', 'avg_Comedy', 'avg_Drama', 'avg_Ecchi', 'avg_Erotica',\n",
       "       'avg_Fantasy', 'avg_Girls Love', 'avg_Gourmet', 'avg_Hentai',\n",
       "       'avg_Horror', 'avg_Mystery', 'avg_Romance', 'avg_Sci-Fi',\n",
       "       'avg_Slice of Life', 'avg_Sports', 'avg_Supernatural', 'avg_Suspense',\n",
       "       'Age', 'Viewer_Category', 'Age_Group__Gen_Alpha', 'Age_Group__Zoomers',\n",
       "       'Age_Group__Millennials', 'Age_Group__Gen_X', 'Age_Group__Boomers_Plus',\n",
       "       'Category_Classic_Era_Fans', 'Category_Gen_Alpha_Viewers',\n",
       "       'Category_Millennial_Favorites', 'Category_Retro_Anime_Lovers',\n",
       "       'Category_Zoomer_Picks'],\n",
       "      dtype='object')"
      ]
     },
     "execution_count": 11,
     "metadata": {},
     "output_type": "execute_result"
    }
   ],
   "source": [
    "user_data.columns"
   ]
  },
  {
   "cell_type": "code",
   "execution_count": 12,
   "id": "ede8c699",
   "metadata": {},
   "outputs": [
    {
     "data": {
      "text/html": [
       "<div>\n",
       "<style scoped>\n",
       "    .dataframe tbody tr th:only-of-type {\n",
       "        vertical-align: middle;\n",
       "    }\n",
       "\n",
       "    .dataframe tbody tr th {\n",
       "        vertical-align: top;\n",
       "    }\n",
       "\n",
       "    .dataframe thead th {\n",
       "        text-align: right;\n",
       "    }\n",
       "</style>\n",
       "<table border=\"1\" class=\"dataframe\">\n",
       "  <thead>\n",
       "    <tr style=\"text-align: right;\">\n",
       "      <th></th>\n",
       "      <th>anime_id</th>\n",
       "      <th>Name</th>\n",
       "      <th>English name</th>\n",
       "      <th>Other name</th>\n",
       "      <th>Score</th>\n",
       "      <th>Genres</th>\n",
       "      <th>Synopsis</th>\n",
       "      <th>Episodes</th>\n",
       "      <th>Aired</th>\n",
       "      <th>Premiered</th>\n",
       "      <th>...</th>\n",
       "      <th>Studio_pH Studio, D &amp; D Pictures</th>\n",
       "      <th>Studio_pH Studio, Noovo</th>\n",
       "      <th>Studio_production doA</th>\n",
       "      <th>Studio_studio MOTHER</th>\n",
       "      <th>Studio_studio YOG</th>\n",
       "      <th>Studio_trenova</th>\n",
       "      <th>Studio_ufotable</th>\n",
       "      <th>Studio_ufotable, Shaft, A-1 Pictures, SILVER LINK., Lerche, Lay-duce, CloverWorks, Drive</th>\n",
       "      <th>Studio_ufotable, feel., Studio Flag</th>\n",
       "      <th>Release_Year</th>\n",
       "    </tr>\n",
       "  </thead>\n",
       "  <tbody>\n",
       "    <tr>\n",
       "      <th>17695</th>\n",
       "      <td>50810</td>\n",
       "      <td>Mao Zhi Ming Episode 5.5</td>\n",
       "      <td>Cat's Tea Episode 5.5</td>\n",
       "      <td>UNKNOWN</td>\n",
       "      <td>NaN</td>\n",
       "      <td>Comedy, Fantasy</td>\n",
       "      <td>A special episode listed as 5.5 on bilibili.</td>\n",
       "      <td>1</td>\n",
       "      <td>Nov 22, 2021</td>\n",
       "      <td>UNKNOWN</td>\n",
       "      <td>...</td>\n",
       "      <td>0</td>\n",
       "      <td>0</td>\n",
       "      <td>0</td>\n",
       "      <td>0</td>\n",
       "      <td>0</td>\n",
       "      <td>0</td>\n",
       "      <td>0</td>\n",
       "      <td>0</td>\n",
       "      <td>0</td>\n",
       "      <td>2021.0</td>\n",
       "    </tr>\n",
       "  </tbody>\n",
       "</table>\n",
       "<p>1 rows × 1571 columns</p>\n",
       "</div>"
      ],
      "text/plain": [
       "       anime_id                      Name           English name Other name  \\\n",
       "17695     50810  Mao Zhi Ming Episode 5.5  Cat's Tea Episode 5.5    UNKNOWN   \n",
       "\n",
       "       Score           Genres                                      Synopsis  \\\n",
       "17695    NaN  Comedy, Fantasy  A special episode listed as 5.5 on bilibili.   \n",
       "\n",
       "       Episodes         Aired Premiered  ... Studio_pH Studio, D & D Pictures  \\\n",
       "17695         1  Nov 22, 2021   UNKNOWN  ...                                0   \n",
       "\n",
       "      Studio_pH Studio, Noovo Studio_production doA Studio_studio MOTHER  \\\n",
       "17695                       0                     0                    0   \n",
       "\n",
       "      Studio_studio YOG Studio_trenova Studio_ufotable  \\\n",
       "17695                 0              0               0   \n",
       "\n",
       "       Studio_ufotable, Shaft, A-1 Pictures, SILVER LINK., Lerche, Lay-duce, CloverWorks, Drive  \\\n",
       "17695                                                  0                                          \n",
       "\n",
       "       Studio_ufotable, feel., Studio Flag  Release_Year  \n",
       "17695                                    0        2021.0  \n",
       "\n",
       "[1 rows x 1571 columns]"
      ]
     },
     "execution_count": 12,
     "metadata": {},
     "output_type": "execute_result"
    }
   ],
   "source": [
    "item_data.columns\n",
    "item_data.sample()"
   ]
  },
  {
   "cell_type": "code",
   "execution_count": 13,
   "id": "a0e42210",
   "metadata": {},
   "outputs": [
    {
     "name": "stdout",
     "output_type": "stream",
     "text": [
      "   user_id  Username  Mean Score  Completed  avg_Action  avg_Adventure  \\\n",
      "0        1     Xinil        7.37      233.0        7.68           7.90   \n",
      "1       20    vondur        8.06       94.0        8.02           8.24   \n",
      "2       66    Hiromi        7.53      148.0        7.49           7.31   \n",
      "3       82    Achtor        7.17      153.0        7.36           7.71   \n",
      "4      112  luffykun        8.77      125.0        8.60           8.36   \n",
      "\n",
      "   avg_Avant Garde  avg_Award Winning  avg_Boys Love  avg_Comedy  ...  \\\n",
      "0             8.00               8.18           7.06        7.02  ...   \n",
      "1             9.00               8.43           7.06        7.77  ...   \n",
      "2             7.00               7.90           7.06        7.46  ...   \n",
      "3             8.80               8.25           7.06        7.05  ...   \n",
      "4             7.93               9.80           7.06        8.67  ...   \n",
      "\n",
      "   Age_Group__Gen_X  Age_Group__Boomers_Plus  Category_Classic_Era_Fans  \\\n",
      "0                 1                        0                          0   \n",
      "1                 1                        0                          0   \n",
      "2                 0                        0                          0   \n",
      "3                 1                        0                          0   \n",
      "4                 1                        0                          0   \n",
      "\n",
      "   Category_Gen_Alpha_Viewers  Category_Millennial_Favorites  \\\n",
      "0                           0                              0   \n",
      "1                           0                              0   \n",
      "2                           0                              0   \n",
      "3                           0                              0   \n",
      "4                           0                              0   \n",
      "\n",
      "   Category_Retro_Anime_Lovers  Category_Zoomer_Picks  Gender_Female  \\\n",
      "0                            0                      0              0   \n",
      "1                            0                      0              0   \n",
      "2                            0                      0              0   \n",
      "3                            0                      0              0   \n",
      "4                            0                      0              0   \n",
      "\n",
      "   Gender_Male  Gender_Non-Binary  \n",
      "0            1                  0  \n",
      "1            1                  0  \n",
      "2            1                  0  \n",
      "3            1                  0  \n",
      "4            1                  0  \n",
      "\n",
      "[5 rows x 40 columns]\n"
     ]
    }
   ],
   "source": [
    "encoder = OneHotEncoder(sparse_output=False, drop=None, dtype=int)\n",
    "gender_encoded = encoder.fit_transform(user_data[['Gender']])\n",
    "gender_columns = encoder.get_feature_names_out(['Gender'])\n",
    "gender_encoded_df = pd.DataFrame(gender_encoded, columns=gender_columns)\n",
    "user_data = pd.concat([user_data, gender_encoded_df], axis=1)\n",
    "user_data.drop(columns=['Gender'], inplace=True)\n",
    "print(user_data.head())\n"
   ]
  },
  {
   "cell_type": "code",
   "execution_count": 14,
   "id": "d28877d7",
   "metadata": {},
   "outputs": [
    {
     "data": {
      "text/plain": [
       "array(['R - 17+ (violence & profanity)', 'R - 17+ (violence & profanity)',\n",
       "       'PG-13 - Teens 13 or older', ..., 'PG-13 - Teens 13 or older',\n",
       "       'PG-13 - Teens 13 or older', 'PG-13 - Teens 13 or older'],\n",
       "      dtype=object)"
      ]
     },
     "execution_count": 14,
     "metadata": {},
     "output_type": "execute_result"
    }
   ],
   "source": [
    "item_data[\"Rating\"].values"
   ]
  },
  {
   "cell_type": "code",
   "execution_count": 15,
   "id": "c5d8dede",
   "metadata": {},
   "outputs": [
    {
     "data": {
      "text/plain": [
       "(71278, 40)"
      ]
     },
     "execution_count": 15,
     "metadata": {},
     "output_type": "execute_result"
    }
   ],
   "source": [
    "user_data.shape"
   ]
  },
  {
   "cell_type": "code",
   "execution_count": 16,
   "id": "9dcd0112",
   "metadata": {},
   "outputs": [
    {
     "data": {
      "text/plain": [
       "Index(['user_id', 'Username', 'Mean Score', 'Completed', 'avg_Action',\n",
       "       'avg_Adventure', 'avg_Avant Garde', 'avg_Award Winning',\n",
       "       'avg_Boys Love', 'avg_Comedy', 'avg_Drama', 'avg_Ecchi', 'avg_Erotica',\n",
       "       'avg_Fantasy', 'avg_Girls Love', 'avg_Gourmet', 'avg_Hentai',\n",
       "       'avg_Horror', 'avg_Mystery', 'avg_Romance', 'avg_Sci-Fi',\n",
       "       'avg_Slice of Life', 'avg_Sports', 'avg_Supernatural', 'avg_Suspense',\n",
       "       'Age', 'Viewer_Category', 'Age_Group__Gen_Alpha', 'Age_Group__Zoomers',\n",
       "       'Age_Group__Millennials', 'Age_Group__Gen_X', 'Age_Group__Boomers_Plus',\n",
       "       'Category_Classic_Era_Fans', 'Category_Gen_Alpha_Viewers',\n",
       "       'Category_Millennial_Favorites', 'Category_Retro_Anime_Lovers',\n",
       "       'Category_Zoomer_Picks', 'Gender_Female', 'Gender_Male',\n",
       "       'Gender_Non-Binary'],\n",
       "      dtype='object')"
      ]
     },
     "execution_count": 16,
     "metadata": {},
     "output_type": "execute_result"
    }
   ],
   "source": [
    "user_data.columns"
   ]
  },
  {
   "cell_type": "code",
   "execution_count": 17,
   "id": "48596c15",
   "metadata": {},
   "outputs": [
    {
     "data": {
      "text/plain": [
       "Index(['anime_id', 'Name', 'English name', 'Other name', 'Score', 'Genres',\n",
       "       'Synopsis', 'Episodes', 'Aired', 'Premiered',\n",
       "       ...\n",
       "       'Studio_pH Studio, D & D Pictures', 'Studio_pH Studio, Noovo',\n",
       "       'Studio_production doA', 'Studio_studio MOTHER', 'Studio_studio YOG',\n",
       "       'Studio_trenova', 'Studio_ufotable',\n",
       "       'Studio_ufotable, Shaft, A-1 Pictures, SILVER LINK., Lerche, Lay-duce, CloverWorks, Drive',\n",
       "       'Studio_ufotable, feel., Studio Flag', 'Release_Year'],\n",
       "      dtype='object', length=1571)"
      ]
     },
     "execution_count": 17,
     "metadata": {},
     "output_type": "execute_result"
    }
   ],
   "source": [
    "item_data.columns\n"
   ]
  },
  {
   "cell_type": "code",
   "execution_count": 18,
   "id": "e2b9f364",
   "metadata": {},
   "outputs": [
    {
     "data": {
      "text/plain": [
       "anime_id                                                                                       0\n",
       "Name                                                                                           0\n",
       "English name                                                                                   0\n",
       "Other name                                                                                     0\n",
       "Score                                                                                       5183\n",
       "                                                                                            ... \n",
       "Studio_trenova                                                                                 0\n",
       "Studio_ufotable                                                                                0\n",
       "Studio_ufotable, Shaft, A-1 Pictures, SILVER LINK., Lerche, Lay-duce, CloverWorks, Drive       0\n",
       "Studio_ufotable, feel., Studio Flag                                                            0\n",
       "Release_Year                                                                                   0\n",
       "Length: 1571, dtype: int64"
      ]
     },
     "execution_count": 18,
     "metadata": {},
     "output_type": "execute_result"
    }
   ],
   "source": [
    "\n",
    "item_data.isna().sum()"
   ]
  },
  {
   "cell_type": "code",
   "execution_count": 19,
   "id": "a067f280",
   "metadata": {},
   "outputs": [
    {
     "name": "stdout",
     "output_type": "stream",
     "text": [
      "   anime_id                             Name             English name  \\\n",
      "0         1                     Cowboy Bebop             Cowboy Bebop   \n",
      "1         5  Cowboy Bebop: Tengoku no Tobira  Cowboy Bebop: The Movie   \n",
      "2         6                           Trigun                   Trigun   \n",
      "3         7               Witch Hunter Robin       Witch Hunter Robin   \n",
      "4         8                   Bouken Ou Beet   Beet the Vandel Buster   \n",
      "\n",
      "                         Other name  Score  \\\n",
      "0                         カウボーイビバップ   8.75   \n",
      "1                    カウボーイビバップ 天国の扉   8.38   \n",
      "2                             トライガン   8.22   \n",
      "3  Witch Hunter ROBIN (ウイッチハンターロビン)   7.25   \n",
      "4                            冒険王ビィト   6.94   \n",
      "\n",
      "                                            Synopsis    Source  \\\n",
      "0  Crime is timeless. By the year 2071, humanity ...  Original   \n",
      "1  Another day, another bounty—such is the life o...  Original   \n",
      "2  Vash the Stampede is the man with a $$60,000,0...     Manga   \n",
      "3  Robin Sena is a powerful craft user drafted in...  Original   \n",
      "4  It is the dark century and the people are suff...     Manga   \n",
      "\n",
      "                           Rating  Rank  Popularity  ...  \\\n",
      "0  R - 17+ (violence & profanity)    41          43  ...   \n",
      "1  R - 17+ (violence & profanity)   189         602  ...   \n",
      "2       PG-13 - Teens 13 or older   328         246  ...   \n",
      "3       PG-13 - Teens 13 or older  2764        1795  ...   \n",
      "4                   PG - Children  4240        5126  ...   \n",
      "\n",
      "   Studio_pH Studio, D & D Pictures Studio_pH Studio, Noovo  \\\n",
      "0                                 0                       0   \n",
      "1                                 0                       0   \n",
      "2                                 0                       0   \n",
      "3                                 0                       0   \n",
      "4                                 0                       0   \n",
      "\n",
      "   Studio_production doA Studio_studio MOTHER  Studio_studio YOG  \\\n",
      "0                      0                    0                  0   \n",
      "1                      0                    0                  0   \n",
      "2                      0                    0                  0   \n",
      "3                      0                    0                  0   \n",
      "4                      0                    0                  0   \n",
      "\n",
      "   Studio_trenova  Studio_ufotable  \\\n",
      "0               0                0   \n",
      "1               0                0   \n",
      "2               0                0   \n",
      "3               0                0   \n",
      "4               0                0   \n",
      "\n",
      "   Studio_ufotable, Shaft, A-1 Pictures, SILVER LINK., Lerche, Lay-duce, CloverWorks, Drive  \\\n",
      "0                                                  0                                          \n",
      "1                                                  0                                          \n",
      "2                                                  0                                          \n",
      "3                                                  0                                          \n",
      "4                                                  0                                          \n",
      "\n",
      "   Studio_ufotable, feel., Studio Flag  Release_Year  \n",
      "0                                    0        1998.0  \n",
      "1                                    0        2001.0  \n",
      "2                                    0        1998.0  \n",
      "3                                    0        2002.0  \n",
      "4                                    0        2004.0  \n",
      "\n",
      "[5 rows x 1562 columns]\n"
     ]
    }
   ],
   "source": [
    "class ColumnDropper(BaseEstimator, TransformerMixin):\n",
    "    def __init__(self, columns_to_drop=None):\n",
    "        self.columns_to_drop = columns_to_drop if columns_to_drop else []\n",
    "\n",
    "    def fit(self, X, y=None):\n",
    "        return self\n",
    "\n",
    "    def transform(self, X):\n",
    "        X_transformed = X.drop(columns=self.columns_to_drop, errors='ignore')\n",
    "        return X_transformed\n",
    "\n",
    "default_columns_to_drop = [\n",
    "    \"Genres\", \"Episodes\", \"Rating_UNKNOWN\", \"Producers\", \"Aired\",\n",
    "    \"Premiered\", \"Status\", \"Studios\", \"Licensors\", \"Duration\"\n",
    "]\n",
    "\n",
    "pipeline = Pipeline([\n",
    "    ('column_dropper', ColumnDropper(columns_to_drop=default_columns_to_drop))\n",
    "])\n",
    "\n",
    "filtered_item_data_df = pipeline.fit_transform(item_data)\n",
    "\n",
    "print(filtered_item_data_df.head())\n"
   ]
  },
  {
   "cell_type": "code",
   "execution_count": 20,
   "id": "4e1ea698",
   "metadata": {},
   "outputs": [
    {
     "data": {
      "text/plain": [
       "Index(['anime_id', 'Name', 'English name', 'Other name', 'Score', 'Synopsis',\n",
       "       'Source', 'Rating', 'Rank', 'Popularity',\n",
       "       ...\n",
       "       'Studio_pH Studio, D & D Pictures', 'Studio_pH Studio, Noovo',\n",
       "       'Studio_production doA', 'Studio_studio MOTHER', 'Studio_studio YOG',\n",
       "       'Studio_trenova', 'Studio_ufotable',\n",
       "       'Studio_ufotable, Shaft, A-1 Pictures, SILVER LINK., Lerche, Lay-duce, CloverWorks, Drive',\n",
       "       'Studio_ufotable, feel., Studio Flag', 'Release_Year'],\n",
       "      dtype='object', length=1562)"
      ]
     },
     "execution_count": 20,
     "metadata": {},
     "output_type": "execute_result"
    }
   ],
   "source": [
    "filtered_item_data_df.columns"
   ]
  },
  {
   "cell_type": "code",
   "execution_count": 21,
   "id": "f5df5f3a",
   "metadata": {},
   "outputs": [
    {
     "data": {
      "text/html": [
       "<div>\n",
       "<style scoped>\n",
       "    .dataframe tbody tr th:only-of-type {\n",
       "        vertical-align: middle;\n",
       "    }\n",
       "\n",
       "    .dataframe tbody tr th {\n",
       "        vertical-align: top;\n",
       "    }\n",
       "\n",
       "    .dataframe thead th {\n",
       "        text-align: right;\n",
       "    }\n",
       "</style>\n",
       "<table border=\"1\" class=\"dataframe\">\n",
       "  <thead>\n",
       "    <tr style=\"text-align: right;\">\n",
       "      <th></th>\n",
       "      <th>anime_id</th>\n",
       "      <th>Name</th>\n",
       "      <th>English name</th>\n",
       "      <th>Other name</th>\n",
       "      <th>Score</th>\n",
       "      <th>Synopsis</th>\n",
       "      <th>Source</th>\n",
       "      <th>Rating</th>\n",
       "      <th>Rank</th>\n",
       "      <th>Popularity</th>\n",
       "      <th>...</th>\n",
       "      <th>Studio_pH Studio, D &amp; D Pictures</th>\n",
       "      <th>Studio_pH Studio, Noovo</th>\n",
       "      <th>Studio_production doA</th>\n",
       "      <th>Studio_studio MOTHER</th>\n",
       "      <th>Studio_studio YOG</th>\n",
       "      <th>Studio_trenova</th>\n",
       "      <th>Studio_ufotable</th>\n",
       "      <th>Studio_ufotable, Shaft, A-1 Pictures, SILVER LINK., Lerche, Lay-duce, CloverWorks, Drive</th>\n",
       "      <th>Studio_ufotable, feel., Studio Flag</th>\n",
       "      <th>Release_Year</th>\n",
       "    </tr>\n",
       "  </thead>\n",
       "  <tbody>\n",
       "    <tr>\n",
       "      <th>4823</th>\n",
       "      <td>7452</td>\n",
       "      <td>Mini Moni Yaru no da Pyon!</td>\n",
       "      <td>UNKNOWN</td>\n",
       "      <td>ミニモニ。やるのだぴょん</td>\n",
       "      <td>5.00</td>\n",
       "      <td>The very tiny adventures of the equally tiny b...</td>\n",
       "      <td>Other</td>\n",
       "      <td>G - All Ages</td>\n",
       "      <td>11957</td>\n",
       "      <td>14686</td>\n",
       "      <td>...</td>\n",
       "      <td>0</td>\n",
       "      <td>0</td>\n",
       "      <td>0</td>\n",
       "      <td>0</td>\n",
       "      <td>0</td>\n",
       "      <td>0</td>\n",
       "      <td>0</td>\n",
       "      <td>0</td>\n",
       "      <td>0</td>\n",
       "      <td>2001.0</td>\n",
       "    </tr>\n",
       "    <tr>\n",
       "      <th>7516</th>\n",
       "      <td>19177</td>\n",
       "      <td>Chiisana Love Letter: Mariko to Nemunoki no Ko...</td>\n",
       "      <td>UNKNOWN</td>\n",
       "      <td>小さなラブレター まり子とねむの木の子供たち</td>\n",
       "      <td>NaN</td>\n",
       "      <td>A follow-up to the same studio's Helen Keller ...</td>\n",
       "      <td>Unknown</td>\n",
       "      <td>PG-13 - Teens 13 or older</td>\n",
       "      <td>15236</td>\n",
       "      <td>16311</td>\n",
       "      <td>...</td>\n",
       "      <td>0</td>\n",
       "      <td>0</td>\n",
       "      <td>0</td>\n",
       "      <td>0</td>\n",
       "      <td>0</td>\n",
       "      <td>0</td>\n",
       "      <td>0</td>\n",
       "      <td>0</td>\n",
       "      <td>0</td>\n",
       "      <td>1981.0</td>\n",
       "    </tr>\n",
       "    <tr>\n",
       "      <th>15503</th>\n",
       "      <td>44016</td>\n",
       "      <td>Baobei Nuer Hao Mama: Kuaile De Jiating</td>\n",
       "      <td>UNKNOWN</td>\n",
       "      <td>宝贝女儿好妈妈之快乐的家庭</td>\n",
       "      <td>NaN</td>\n",
       "      <td>No description available for this anime.</td>\n",
       "      <td>Original</td>\n",
       "      <td>PG - Children</td>\n",
       "      <td>14828</td>\n",
       "      <td>22173</td>\n",
       "      <td>...</td>\n",
       "      <td>0</td>\n",
       "      <td>0</td>\n",
       "      <td>0</td>\n",
       "      <td>0</td>\n",
       "      <td>0</td>\n",
       "      <td>0</td>\n",
       "      <td>0</td>\n",
       "      <td>0</td>\n",
       "      <td>0</td>\n",
       "      <td>2012.0</td>\n",
       "    </tr>\n",
       "    <tr>\n",
       "      <th>5358</th>\n",
       "      <td>9040</td>\n",
       "      <td>Mokei Senshi Gunpla Builders Beginning G</td>\n",
       "      <td>UNKNOWN</td>\n",
       "      <td>模型戦士 ガンプラ ビルダーズ ビギニングG</td>\n",
       "      <td>6.58</td>\n",
       "      <td>Haru Irei, who witnessed the 1/1 scale RX-78-2...</td>\n",
       "      <td>Unknown</td>\n",
       "      <td>G - All Ages</td>\n",
       "      <td>5913</td>\n",
       "      <td>7731</td>\n",
       "      <td>...</td>\n",
       "      <td>0</td>\n",
       "      <td>0</td>\n",
       "      <td>0</td>\n",
       "      <td>0</td>\n",
       "      <td>0</td>\n",
       "      <td>0</td>\n",
       "      <td>0</td>\n",
       "      <td>0</td>\n",
       "      <td>0</td>\n",
       "      <td>2010.0</td>\n",
       "    </tr>\n",
       "    <tr>\n",
       "      <th>7191</th>\n",
       "      <td>17443</td>\n",
       "      <td>Kyojin no Hoshi: Ike Ike Hyuuma</td>\n",
       "      <td>UNKNOWN</td>\n",
       "      <td>巨人の星 行け行け飛雄馬</td>\n",
       "      <td>NaN</td>\n",
       "      <td>Second Kyojin no Hoshi movie.</td>\n",
       "      <td>Unknown</td>\n",
       "      <td>G - All Ages</td>\n",
       "      <td>17585</td>\n",
       "      <td>15125</td>\n",
       "      <td>...</td>\n",
       "      <td>0</td>\n",
       "      <td>0</td>\n",
       "      <td>0</td>\n",
       "      <td>0</td>\n",
       "      <td>0</td>\n",
       "      <td>0</td>\n",
       "      <td>0</td>\n",
       "      <td>0</td>\n",
       "      <td>0</td>\n",
       "      <td>1969.0</td>\n",
       "    </tr>\n",
       "  </tbody>\n",
       "</table>\n",
       "<p>5 rows × 1562 columns</p>\n",
       "</div>"
      ],
      "text/plain": [
       "       anime_id                                               Name  \\\n",
       "4823       7452                         Mini Moni Yaru no da Pyon!   \n",
       "7516      19177  Chiisana Love Letter: Mariko to Nemunoki no Ko...   \n",
       "15503     44016            Baobei Nuer Hao Mama: Kuaile De Jiating   \n",
       "5358       9040           Mokei Senshi Gunpla Builders Beginning G   \n",
       "7191      17443                    Kyojin no Hoshi: Ike Ike Hyuuma   \n",
       "\n",
       "      English name              Other name  Score  \\\n",
       "4823       UNKNOWN            ミニモニ。やるのだぴょん   5.00   \n",
       "7516       UNKNOWN  小さなラブレター まり子とねむの木の子供たち    NaN   \n",
       "15503      UNKNOWN           宝贝女儿好妈妈之快乐的家庭    NaN   \n",
       "5358       UNKNOWN  模型戦士 ガンプラ ビルダーズ ビギニングG   6.58   \n",
       "7191       UNKNOWN            巨人の星 行け行け飛雄馬    NaN   \n",
       "\n",
       "                                                Synopsis    Source  \\\n",
       "4823   The very tiny adventures of the equally tiny b...     Other   \n",
       "7516   A follow-up to the same studio's Helen Keller ...   Unknown   \n",
       "15503           No description available for this anime.  Original   \n",
       "5358   Haru Irei, who witnessed the 1/1 scale RX-78-2...   Unknown   \n",
       "7191                       Second Kyojin no Hoshi movie.   Unknown   \n",
       "\n",
       "                          Rating   Rank  Popularity  ...  \\\n",
       "4823                G - All Ages  11957       14686  ...   \n",
       "7516   PG-13 - Teens 13 or older  15236       16311  ...   \n",
       "15503              PG - Children  14828       22173  ...   \n",
       "5358                G - All Ages   5913        7731  ...   \n",
       "7191                G - All Ages  17585       15125  ...   \n",
       "\n",
       "       Studio_pH Studio, D & D Pictures Studio_pH Studio, Noovo  \\\n",
       "4823                                  0                       0   \n",
       "7516                                  0                       0   \n",
       "15503                                 0                       0   \n",
       "5358                                  0                       0   \n",
       "7191                                  0                       0   \n",
       "\n",
       "       Studio_production doA Studio_studio MOTHER  Studio_studio YOG  \\\n",
       "4823                       0                    0                  0   \n",
       "7516                       0                    0                  0   \n",
       "15503                      0                    0                  0   \n",
       "5358                       0                    0                  0   \n",
       "7191                       0                    0                  0   \n",
       "\n",
       "       Studio_trenova  Studio_ufotable  \\\n",
       "4823                0                0   \n",
       "7516                0                0   \n",
       "15503               0                0   \n",
       "5358                0                0   \n",
       "7191                0                0   \n",
       "\n",
       "       Studio_ufotable, Shaft, A-1 Pictures, SILVER LINK., Lerche, Lay-duce, CloverWorks, Drive  \\\n",
       "4823                                                   0                                          \n",
       "7516                                                   0                                          \n",
       "15503                                                  0                                          \n",
       "5358                                                   0                                          \n",
       "7191                                                   0                                          \n",
       "\n",
       "       Studio_ufotable, feel., Studio Flag  Release_Year  \n",
       "4823                                     0        2001.0  \n",
       "7516                                     0        1981.0  \n",
       "15503                                    0        2012.0  \n",
       "5358                                     0        2010.0  \n",
       "7191                                     0        1969.0  \n",
       "\n",
       "[5 rows x 1562 columns]"
      ]
     },
     "execution_count": 21,
     "metadata": {},
     "output_type": "execute_result"
    }
   ],
   "source": [
    "filtered_item_data_df.shape\n",
    "filtered_item_data_df.sample(5)"
   ]
  },
  {
   "cell_type": "code",
   "execution_count": 22,
   "id": "0e36921f",
   "metadata": {},
   "outputs": [
    {
     "data": {
      "text/plain": [
       "np.int64(5183)"
      ]
     },
     "execution_count": 22,
     "metadata": {},
     "output_type": "execute_result"
    }
   ],
   "source": [
    "filtered_item_data_df[\"Score\"].isna().sum()"
   ]
  },
  {
   "cell_type": "code",
   "execution_count": 23,
   "id": "961b92d9",
   "metadata": {},
   "outputs": [
    {
     "data": {
      "image/png": "[encoded data removed]",
      "text/plain": [
       "<Figure size 640x480 with 1 Axes>"
      ]
     },
     "metadata": {},
     "output_type": "display_data"
    }
   ],
   "source": [
    "plt.hist(filtered_item_data_df['Score'].dropna(), bins=20, color='blue', alpha=0.7)\n",
    "plt.title('Distribution of Scores')\n",
    "plt.xlabel('Score')\n",
    "plt.ylabel('Frequency')\n",
    "plt.show()\n"
   ]
  },
  {
   "cell_type": "code",
   "execution_count": 24,
   "id": "f209fe3a",
   "metadata": {},
   "outputs": [
    {
     "name": "stdout",
     "output_type": "stream",
     "text": [
      "0\n"
     ]
    }
   ],
   "source": [
    "def impute_score_column(filtered_item_data_df):\n",
    "    filtered_item_data_df['Score'] = filtered_item_data_df['Score'].replace('UNKNOWN', pd.NA)\n",
    "    filtered_item_data_df['Score'] = filtered_item_data_df['Score'].astype(float).fillna(filtered_item_data_df['Score'].astype(float).mean())\n",
    "    return filtered_item_data_df\n",
    "\n",
    "impute_score_transformer = FunctionTransformer(impute_score_column)\n",
    "filtered_item_data_df = impute_score_transformer.transform(filtered_item_data_df)\n",
    "print(filtered_item_data_df['Score'].isna().sum())\n"
   ]
  },
  {
   "cell_type": "code",
   "execution_count": 25,
   "id": "03cacdfb",
   "metadata": {},
   "outputs": [
    {
     "name": "stdout",
     "output_type": "stream",
     "text": [
      "   anime_id                             Name             English name  \\\n",
      "0         1                     Cowboy Bebop             Cowboy Bebop   \n",
      "1         5  Cowboy Bebop: Tengoku no Tobira  Cowboy Bebop: The Movie   \n",
      "2         6                           Trigun                   Trigun   \n",
      "3         7               Witch Hunter Robin       Witch Hunter Robin   \n",
      "4         8                   Bouken Ou Beet   Beet the Vandel Buster   \n",
      "\n",
      "                         Other name  Score  \\\n",
      "0                         カウボーイビバップ   8.75   \n",
      "1                    カウボーイビバップ 天国の扉   8.38   \n",
      "2                             トライガン   8.22   \n",
      "3  Witch Hunter ROBIN (ウイッチハンターロビン)   7.25   \n",
      "4                            冒険王ビィト   6.94   \n",
      "\n",
      "                                            Synopsis    Source  \\\n",
      "0  Crime is timeless. By the year 2071, humanity ...  Original   \n",
      "1  Another day, another bounty—such is the life o...  Original   \n",
      "2  Vash the Stampede is the man with a $$60,000,0...     Manga   \n",
      "3  Robin Sena is a powerful craft user drafted in...  Original   \n",
      "4  It is the dark century and the people are suff...     Manga   \n",
      "\n",
      "                           Rating  Rank  Popularity  ...  \\\n",
      "0  R - 17+ (violence & profanity)    41          43  ...   \n",
      "1  R - 17+ (violence & profanity)   189         602  ...   \n",
      "2       PG-13 - Teens 13 or older   328         246  ...   \n",
      "3       PG-13 - Teens 13 or older  2764        1795  ...   \n",
      "4                   PG - Children  4240        5126  ...   \n",
      "\n",
      "   Studio_pH Studio, D & D Pictures Studio_pH Studio, Noovo  \\\n",
      "0                                 0                       0   \n",
      "1                                 0                       0   \n",
      "2                                 0                       0   \n",
      "3                                 0                       0   \n",
      "4                                 0                       0   \n",
      "\n",
      "   Studio_production doA Studio_studio MOTHER  Studio_studio YOG  \\\n",
      "0                      0                    0                  0   \n",
      "1                      0                    0                  0   \n",
      "2                      0                    0                  0   \n",
      "3                      0                    0                  0   \n",
      "4                      0                    0                  0   \n",
      "\n",
      "   Studio_trenova  Studio_ufotable  \\\n",
      "0               0                0   \n",
      "1               0                0   \n",
      "2               0                0   \n",
      "3               0                0   \n",
      "4               0                0   \n",
      "\n",
      "   Studio_ufotable, Shaft, A-1 Pictures, SILVER LINK., Lerche, Lay-duce, CloverWorks, Drive  \\\n",
      "0                                                  0                                          \n",
      "1                                                  0                                          \n",
      "2                                                  0                                          \n",
      "3                                                  0                                          \n",
      "4                                                  0                                          \n",
      "\n",
      "   Studio_ufotable, feel., Studio Flag  Release_Year  \n",
      "0                                    0        1998.0  \n",
      "1                                    0        2001.0  \n",
      "2                                    0        1998.0  \n",
      "3                                    0        2002.0  \n",
      "4                                    0        2004.0  \n",
      "\n",
      "[5 rows x 1562 columns]\n"
     ]
    }
   ],
   "source": [
    "def filter_score_and_release_year(df):\n",
    "    \"\"\"\n",
    "    Filters rows where both 'Score' and 'Release_Year' are not null.\n",
    "\n",
    "    Parameters:\n",
    "    -----------\n",
    "    df : pandas.DataFrame\n",
    "        The input DataFrame to filter.\n",
    "\n",
    "    Returns:\n",
    "    --------\n",
    "    pandas.DataFrame\n",
    "        The filtered DataFrame.\n",
    "    \"\"\"\n",
    "    return df[df[\"Score\"].notna() & df[\"Release_Year\"].notna()]\n",
    "\n",
    "filter_transformer = FunctionTransformer(filter_score_and_release_year)\n",
    "\n",
    "filtered_item_data_df = filter_transformer.transform(filtered_item_data_df)\n",
    "\n",
    "print(filtered_item_data_df.head())\n"
   ]
  },
  {
   "cell_type": "code",
   "execution_count": 26,
   "id": "f8ed202c",
   "metadata": {},
   "outputs": [
    {
     "name": "stdout",
     "output_type": "stream",
     "text": [
      "anime_id                                                                                    0\n",
      "Name                                                                                        0\n",
      "English name                                                                                0\n",
      "Other name                                                                                  0\n",
      "Score                                                                                       0\n",
      "                                                                                           ..\n",
      "Studio_trenova                                                                              0\n",
      "Studio_ufotable                                                                             0\n",
      "Studio_ufotable, Shaft, A-1 Pictures, SILVER LINK., Lerche, Lay-duce, CloverWorks, Drive    0\n",
      "Studio_ufotable, feel., Studio Flag                                                         0\n",
      "Release_Year                                                                                0\n",
      "Length: 1562, dtype: int64\n"
     ]
    }
   ],
   "source": [
    "print(filtered_item_data_df.isna().sum())"
   ]
  },
  {
   "cell_type": "code",
   "execution_count": 27,
   "id": "92e25c3e",
   "metadata": {},
   "outputs": [
    {
     "data": {
      "text/plain": [
       "(19848, 1562)"
      ]
     },
     "execution_count": 27,
     "metadata": {},
     "output_type": "execute_result"
    }
   ],
   "source": [
    "filtered_item_data_df.shape"
   ]
  },
  {
   "cell_type": "code",
   "execution_count": 28,
   "id": "d7775449",
   "metadata": {},
   "outputs": [
    {
     "data": {
      "text/plain": [
       "Index(['user_id', 'Username', 'Mean Score', 'Completed', 'avg_Action',\n",
       "       'avg_Adventure', 'avg_Avant Garde', 'avg_Award Winning',\n",
       "       'avg_Boys Love', 'avg_Comedy', 'avg_Drama', 'avg_Ecchi', 'avg_Erotica',\n",
       "       'avg_Fantasy', 'avg_Girls Love', 'avg_Gourmet', 'avg_Hentai',\n",
       "       'avg_Horror', 'avg_Mystery', 'avg_Romance', 'avg_Sci-Fi',\n",
       "       'avg_Slice of Life', 'avg_Sports', 'avg_Supernatural', 'avg_Suspense',\n",
       "       'Age', 'Viewer_Category', 'Age_Group__Gen_Alpha', 'Age_Group__Zoomers',\n",
       "       'Age_Group__Millennials', 'Age_Group__Gen_X', 'Age_Group__Boomers_Plus',\n",
       "       'Category_Classic_Era_Fans', 'Category_Gen_Alpha_Viewers',\n",
       "       'Category_Millennial_Favorites', 'Category_Retro_Anime_Lovers',\n",
       "       'Category_Zoomer_Picks', 'Gender_Female', 'Gender_Male',\n",
       "       'Gender_Non-Binary'],\n",
       "      dtype='object')"
      ]
     },
     "execution_count": 28,
     "metadata": {},
     "output_type": "execute_result"
    }
   ],
   "source": [
    "user_data.columns"
   ]
  },
  {
   "cell_type": "code",
   "execution_count": 29,
   "id": "11a73dda",
   "metadata": {},
   "outputs": [
    {
     "data": {
      "text/plain": [
       "Index(['anime_id', 'Name', 'English name', 'Other name', 'Score', 'Synopsis',\n",
       "       'Source', 'Rating', 'Rank', 'Popularity',\n",
       "       ...\n",
       "       'Studio_pH Studio, D & D Pictures', 'Studio_pH Studio, Noovo',\n",
       "       'Studio_production doA', 'Studio_studio MOTHER', 'Studio_studio YOG',\n",
       "       'Studio_trenova', 'Studio_ufotable',\n",
       "       'Studio_ufotable, Shaft, A-1 Pictures, SILVER LINK., Lerche, Lay-duce, CloverWorks, Drive',\n",
       "       'Studio_ufotable, feel., Studio Flag', 'Release_Year'],\n",
       "      dtype='object', length=1562)"
      ]
     },
     "execution_count": 29,
     "metadata": {},
     "output_type": "execute_result"
    }
   ],
   "source": [
    "filtered_item_data_df.columns"
   ]
  },
  {
   "cell_type": "code",
   "execution_count": 30,
   "id": "4f5dfc3e",
   "metadata": {},
   "outputs": [
    {
     "data": {
      "text/plain": [
       "Index(['Username', 'Gender', 'Mean Score', 'Completed', 'Birth_Year',\n",
       "       'user_id', 'anime_id', 'Anime Title', 'rating', 'Genres',\n",
       "       'Genre_Action', 'Genre_Adventure', 'Genre_Avant Garde',\n",
       "       'Genre_Award Winning', 'Genre_Boys Love', 'Genre_Comedy', 'Genre_Drama',\n",
       "       'Genre_Ecchi', 'Genre_Erotica', 'Genre_Fantasy', 'Genre_Girls Love',\n",
       "       'Genre_Gourmet', 'Genre_Hentai', 'Genre_Horror', 'Genre_Mystery',\n",
       "       'Genre_Romance', 'Genre_Sci-Fi', 'Genre_Slice of Life', 'Genre_Sports',\n",
       "       'Genre_Supernatural', 'Genre_Suspense'],\n",
       "      dtype='object')"
      ]
     },
     "execution_count": 30,
     "metadata": {},
     "output_type": "execute_result"
    }
   ],
   "source": [
    "user_input.columns"
   ]
  },
  {
   "cell_type": "code",
   "execution_count": 31,
   "id": "2284909e",
   "metadata": {},
   "outputs": [
    {
     "name": "stdout",
     "output_type": "stream",
     "text": [
      "Columns containing 'UNKNOWN': ['English name', 'Other name', 'Scored By']\n"
     ]
    }
   ],
   "source": [
    "\n",
    "columns_with_unknown = filtered_item_data_df.columns[filtered_item_data_df.isin(['UNKNOWN']).any()]\n",
    "\n",
    "print(\"Columns containing 'UNKNOWN':\", list(columns_with_unknown))\n"
   ]
  },
  {
   "cell_type": "code",
   "execution_count": 32,
   "id": "1e65f654",
   "metadata": {},
   "outputs": [
    {
     "name": "stdout",
     "output_type": "stream",
     "text": [
      "Total instances with 'UNKNOWN' values: 15974\n"
     ]
    }
   ],
   "source": [
    "unknown_counts = filtered_item_data_df.isin(['UNKNOWN']).sum().sum()\n",
    "print(f\"Total instances with 'UNKNOWN' values: {unknown_counts}\")"
   ]
  },
  {
   "cell_type": "code",
   "execution_count": 33,
   "id": "3886534c",
   "metadata": {},
   "outputs": [],
   "source": [
    "def prepare_training_data(user_input_df, user_data_df, filtered_item_data_df):\n",
    "    \"\"\"\n",
    "    Prepares training data for a neural network using sparse matrices during processing,\n",
    "    then converts back to dense arrays in the output.\n",
    "    \n",
    "    Parameters:\n",
    "    -----------\n",
    "    user_input_df : DataFrame\n",
    "        Contains user ratings for anime with columns including user_id, anime_id, rating\n",
    "    user_data_df : DataFrame\n",
    "        Contains user demographic data and average genre ratings\n",
    "    filtered_item_data_df : DataFrame\n",
    "        Contains anime metadata including genres, types, and ratings\n",
    "        \n",
    "    Returns:\n",
    "    --------\n",
    "    dict\n",
    "        A dictionary containing:\n",
    "        - 'X_U': User features array (dense)\n",
    "        - 'X_A': Anime features array (dense)\n",
    "        - 'Y': Rating values array\n",
    "        - 'X_U_columns': List of column names for user features\n",
    "        - 'X_A_columns': List of column names for anime features\n",
    "        - 'Y_column': Name of the rating column\n",
    "        - 'X_U_indices': List of indices for user features\n",
    "        - 'X_A_indices': List of indices for anime features\n",
    "        - 'Y_index': Index of the rating column\n",
    "        - 'merged_df': The merged and cleaned dataframe\n",
    "    \"\"\"\n",
    "    merged_df = user_input_df.merge(user_data_df, on='user_id', suffixes=('', '_user'))\n",
    "    merged_df = merged_df.merge(filtered_item_data_df, on='anime_id', suffixes=('', '_anime'))\n",
    "    columns_to_drop = ['Username', 'user_id', 'anime_id', 'Anime Title', \n",
    "                     'Name', 'English name', 'Other name', 'Synopsis', \n",
    "                     'Source', \"Scored by\", 'Image URL']\n",
    "    columns_to_drop = [col for col in columns_to_drop if col in merged_df.columns]\n",
    "    cleaned_df = merged_df.drop(columns_to_drop, axis=1)\n",
    "    X_U_columns = [\n",
    "        'Mean Score', 'Completed',\n",
    "        'avg_Action', 'avg_Adventure', 'avg_Avant Garde', 'avg_Award Winning',\n",
    "        'avg_Boys Love', 'avg_Comedy', 'avg_Drama', 'avg_Ecchi', 'avg_Erotica',\n",
    "        'avg_Fantasy', 'avg_Girls Love', 'avg_Gourmet', 'avg_Hentai',\n",
    "        'avg_Horror', 'avg_Mystery', 'avg_Romance', 'avg_Sci-Fi',\n",
    "        'avg_Slice of Life', 'avg_Sports', 'avg_Supernatural', 'avg_Suspense',\n",
    "        'Gender_Female', 'Gender_Male', 'Gender_Non-Binary','Age',\n",
    "        'Category_Classic_Era_Fans', 'Category_Gen_Alpha_Viewers',\n",
    "        'Category_Millennial_Favorites', \n",
    "        'Category_Retro_Anime_Lovers', \n",
    "        'Category_Zoomer_Picks'\n",
    "    ]\n",
    "    excluded_columns = ['anime_id', 'Name', 'English name', 'Other name',\n",
    "                      'Score', \"Synopsis\", \"Source\", \"Rank\",\"Rating\"]\n",
    "    X_A_columns = [col for col in filtered_item_data_df.columns \n",
    "                  if col not in excluded_columns and col in cleaned_df.columns]\n",
    "    X_U_columns = [col for col in X_U_columns if col in cleaned_df.columns]\n",
    "    Y_column = \"rating\"\n",
    "    if Y_column not in cleaned_df.columns:\n",
    "        raise ValueError(f\"Rating column '{Y_column}' not found in merged dataframe\")\n",
    "    X_U_indices = [cleaned_df.columns.get_loc(col) for col in X_U_columns]\n",
    "    X_A_indices = [cleaned_df.columns.get_loc(col) for col in X_A_columns]\n",
    "    Y_index = cleaned_df.columns.get_loc(Y_column)\n",
    "    X_U_sparse = csr_matrix(cleaned_df.iloc[:, X_U_indices].values)\n",
    "    X_A_sparse = csr_matrix(cleaned_df.iloc[:, X_A_indices].values)\n",
    "    X_U = X_U_sparse.toarray()\n",
    "    X_A = X_A_sparse.toarray()\n",
    "    Y = cleaned_df.iloc[:, Y_index].values\n",
    "    return {\n",
    "        \"X_U\": X_U,\n",
    "        \"X_A\": X_A,\n",
    "        \"Y\": Y,\n",
    "        \"X_U_columns\": X_U_columns,\n",
    "        \"X_A_columns\": X_A_columns,\n",
    "        \"Y_column\": Y_column,\n",
    "        \"X_U_indices\": X_U_indices,\n",
    "        \"X_A_indices\": X_A_indices,\n",
    "        \"Y_index\": Y_index,\n",
    "        \"merged_df\": cleaned_df,\n",
    "    }\n"
   ]
  },
  {
   "cell_type": "code",
   "execution_count": 34,
   "id": "486c4d0c",
   "metadata": {},
   "outputs": [],
   "source": [
    "user_input_sample = user_input.sample(n=200000, random_state=42)\n",
    "user_input_sample = user_input_sample.select_dtypes(include=[np.number])\n",
    "user_data = user_data.select_dtypes(include=[np.number])\n",
    "filtered_item_data_df = filtered_item_data_df.select_dtypes(include=[np.number])\n",
    "result = prepare_training_data(user_input_sample, user_data, filtered_item_data_df)\n",
    "X_U = result['X_U']\n",
    "X_A = result['X_A']\n",
    "Y = result['Y']\n",
    "X_U_indices = result['X_U_indices']\n",
    "X_A_indices = result['X_A_indices']\n"
   ]
  },
  {
   "cell_type": "code",
   "execution_count": 35,
   "id": "4fbf410b",
   "metadata": {},
   "outputs": [
    {
     "data": {
      "text/plain": [
       "32"
      ]
     },
     "execution_count": 35,
     "metadata": {},
     "output_type": "execute_result"
    }
   ],
   "source": [
    "len(result['X_U_columns'])"
   ]
  },
  {
   "cell_type": "code",
   "execution_count": 36,
   "id": "ed29ca73",
   "metadata": {},
   "outputs": [
    {
     "data": {
      "text/plain": [
       "(200000, 32)"
      ]
     },
     "execution_count": 36,
     "metadata": {},
     "output_type": "execute_result"
    }
   ],
   "source": [
    "X_U.shape"
   ]
  },
  {
   "cell_type": "code",
   "execution_count": 37,
   "id": "2ead081d",
   "metadata": {},
   "outputs": [
    {
     "data": {
      "text/plain": [
       "(200000, 1551)"
      ]
     },
     "execution_count": 37,
     "metadata": {},
     "output_type": "execute_result"
    }
   ],
   "source": [
    "X_A.shape"
   ]
  },
  {
   "cell_type": "code",
   "execution_count": 38,
   "id": "dad9a37e",
   "metadata": {},
   "outputs": [
    {
     "data": {
      "text/plain": [
       "(200000,)"
      ]
     },
     "execution_count": 38,
     "metadata": {},
     "output_type": "execute_result"
    }
   ],
   "source": [
    "Y.shape"
   ]
  },
  {
   "cell_type": "code",
   "execution_count": 39,
   "id": "c8bb3363",
   "metadata": {},
   "outputs": [
    {
     "data": {
      "text/plain": [
       "array([ 7,  9, 10,  9, 10,  7,  9,  2,  8,  8])"
      ]
     },
     "execution_count": 39,
     "metadata": {},
     "output_type": "execute_result"
    }
   ],
   "source": [
    "Y[:10]"
   ]
  },
  {
   "cell_type": "markdown",
   "id": "6d561d94",
   "metadata": {},
   "source": [
    "# Neural Network for implementing Content Based Filtering:"
   ]
  },
  {
   "cell_type": "code",
   "execution_count": 40,
   "id": "23c72040",
   "metadata": {},
   "outputs": [
    {
     "name": "stdout",
     "output_type": "stream",
     "text": [
      "Training set: 120000 samples\n",
      "Validation set: 40000 samples\n",
      "Test set: 40000 samples\n",
      "(120000, 32)\n"
     ]
    }
   ],
   "source": [
    "user_scaler = StandardScaler()\n",
    "anime_scaler = StandardScaler()\n",
    "\n",
    "X_U_scaled = user_scaler.fit_transform(X_U)\n",
    "X_A_scaled = anime_scaler.fit_transform(X_A)\n",
    "\n",
    "X_U_temp, X_U_test, X_A_temp, X_A_test, Y_temp, Y_test = train_test_split(\n",
    "    X_U_scaled, X_A_scaled, Y, test_size=0.2, random_state=42\n",
    ")\n",
    "\n",
    "X_U_train, X_U_val, X_A_train, X_A_val, Y_train, Y_val = train_test_split(\n",
    "    X_U_temp, X_A_temp, Y_temp, test_size=0.25, random_state=42\n",
    ")\n",
    "\n",
    "print(f\"Training set: {X_U_train.shape[0]} samples\")\n",
    "print(f\"Validation set: {X_U_val.shape[0]} samples\")\n",
    "print(f\"Test set: {X_U_test.shape[0]} samples\")\n",
    "\n",
    "print(X_U_train.shape)\n"
   ]
  },
  {
   "cell_type": "code",
   "execution_count": 41,
   "id": "507e6f05",
   "metadata": {},
   "outputs": [],
   "source": [
    "### IMPORTNT FOR TRAINING MODEL\n",
    "\n",
    "# tf.random.set_seed(42)\n",
    "\n",
    "# user_input = tf.keras.Input(shape=(X_U_train.shape[1],), name=\"user_input\")\n",
    "# item_input = tf.keras.Input(shape=(X_A_train.shape[1],), name=\"item_input\")\n",
    "\n",
    "# user_nn = tf.keras.Sequential([\n",
    "#     tf.keras.layers.Dense(256, activation='relu'),\n",
    "#     tf.keras.layers.BatchNormalization(),\n",
    "#     tf.keras.layers.Dropout(0.3),\n",
    "#     tf.keras.layers.Dense(128, activation='relu'),\n",
    "#     tf.keras.layers.BatchNormalization(),\n",
    "#     tf.keras.layers.Dropout(0.2),\n",
    "#     tf.keras.layers.Dense(64, activation='relu'),\n",
    "#     tf.keras.layers.BatchNormalization(),\n",
    "#     tf.keras.layers.Dense(32, activation='linear')\n",
    "# ], name=\"user_nn\")\n",
    "\n",
    "\n",
    "# item_nn = tf.keras.Sequential([\n",
    "#     tf.keras.layers.Dense(256, activation='relu'),\n",
    "#     tf.keras.layers.BatchNormalization(),\n",
    "#     tf.keras.layers.Dropout(0.3),\n",
    "#     tf.keras.layers.Dense(128, activation='relu'),\n",
    "#     tf.keras.layers.BatchNormalization(),\n",
    "#     tf.keras.layers.Dropout(0.2),\n",
    "#     tf.keras.layers.Dense(64, activation='relu'),\n",
    "#     tf.keras.layers.BatchNormalization(),\n",
    "#     tf.keras.layers.Dense(32, activation='linear')\n",
    "# ], name=\"item_nn\")\n",
    "\n",
    "# vu = user_nn(user_input)\n",
    "# va = item_nn(item_input)\n",
    "\n",
    "# output = tf.keras.layers.Dot(axes=1)([vu, va])\n",
    "\n",
    "# model = tf.keras.Model([user_input, item_input], output)\n",
    "\n",
    "# early_stopping = tf.keras.callbacks.EarlyStopping(\n",
    "#     monitor='val_loss',\n",
    "#     patience=5,\n",
    "#     restore_best_weights=True\n",
    "# )\n",
    "\n",
    "# reduce_lr = tf.keras.callbacks.ReduceLROnPlateau(\n",
    "#     monitor='val_loss',\n",
    "#     factor=0.2,\n",
    "#     patience=3,\n",
    "#     min_lr=0.00001\n",
    "# )\n",
    "\n",
    "# model.compile(\n",
    "#     optimizer=tf.keras.optimizers.Adam(learning_rate=0.001),\n",
    "#     loss='mean_squared_error',\n",
    "#     metrics=['mean_absolute_error']\n",
    "# )\n",
    "\n",
    "# model.summary()\n",
    "\n",
    "# history = model.fit(\n",
    "#     [X_U_train, X_A_train],\n",
    "#     Y_train,\n",
    "#     validation_data=([X_U_val, X_A_val], Y_val),\n",
    "#     epochs=60,\n",
    "#     batch_size=32,\n",
    "#     callbacks=[early_stopping, reduce_lr],\n",
    "#     verbose=1\n",
    "# )"
   ]
  },
  {
   "cell_type": "code",
   "execution_count": 42,
   "id": "5459029f",
   "metadata": {},
   "outputs": [],
   "source": [
    "# # Evaluate on test set\n",
    "# test_results = model.evaluate([X_U_test, X_A_test], Y_test, verbose=1)\n",
    "# print(f\"Test loss (MSE): {test_results[0]}\")\n",
    "# print(f\"Test MAE: {test_results[1]}\")"
   ]
  },
  {
   "cell_type": "code",
   "execution_count": 43,
   "id": "419ad13f",
   "metadata": {},
   "outputs": [],
   "source": [
    "# # Save in TensorFlow SavedModel format\n",
    "# model.export('../saved_model/recommender_model_6')\n",
    "\n",
    "# # Save in HDF5 format\n",
    "# model.save('../saved_model/recommender_model_6.h5', save_format='h5')\n"
   ]
  },
  {
   "cell_type": "code",
   "execution_count": 44,
   "id": "ec9301f3",
   "metadata": {},
   "outputs": [],
   "source": [
    "# # Save in TensorFlow SavedModel format\n",
    "# model.export('../saved_model/recommender_model_2')\n",
    "\n",
    "# # Save in HDF5 format\n",
    "# model.save('../recommender_model_2.h5', save_format='h5')\n"
   ]
  },
  {
   "cell_type": "code",
   "execution_count": 45,
   "id": "b724a94d",
   "metadata": {},
   "outputs": [
    {
     "name": "stderr",
     "output_type": "stream",
     "text": [
      "WARNING:absl:Compiled the loaded model, but the compiled metrics have yet to be built. `model.compile_metrics` will be empty until you train or evaluate the model.\n"
     ]
    }
   ],
   "source": [
    "model=tf.keras.models.load_model('../saved_model/recommender_model_6.h5')\n"
   ]
  },
  {
   "cell_type": "code",
   "execution_count": 46,
   "id": "a0ca098b",
   "metadata": {},
   "outputs": [
    {
     "data": {
      "text/plain": [
       "array([[-0.25989455,  0.32317614,  0.24692126,  0.51687892, -0.1317057 ,\n",
       "        -0.28708446,  1.57206042, -0.27704778,  0.16021278,  0.157398  ,\n",
       "         0.07581517,  0.29228819,  0.25436898,  0.71397845,  0.11641071,\n",
       "         0.16433943,  0.25063178, -0.08446916,  0.29093007,  0.14058532,\n",
       "         0.09544477,  0.11204122,  0.44291244, -0.6441875 ,  0.65238654,\n",
       "        -0.07278681, -0.27320431,  0.        ,  0.        ,  0.        ,\n",
       "         0.        ,  0.        ],\n",
       "       [-1.11070908, -0.39802264, -0.82766483, -1.06390135,  1.00888589,\n",
       "        -0.63833223, -1.10495582, -0.98105748, -1.56264593, -0.81415629,\n",
       "        -3.2394846 , -1.25647216, -3.49930131,  0.5472529 ,  0.08170883,\n",
       "         0.0280102 , -1.25054341, -1.64605076, -0.42125418, -0.54687925,\n",
       "        -0.60209419, -0.98151224, -1.66798113,  1.55234306, -1.53283358,\n",
       "        -0.07278681, -0.00468354,  0.        ,  0.        ,  0.        ,\n",
       "         0.        ,  0.        ],\n",
       "       [ 0.60325062, -0.81813842,  0.22304156,  1.12842165,  0.84594423,\n",
       "         0.71648059,  0.16356495,  0.88860762,  0.42821302, -3.49460518,\n",
       "         0.07581517,  0.93473693,  0.11566523,  0.08630578,  0.08170883,\n",
       "        -1.00419677,  0.59341981,  1.04078816,  0.93306341,  1.33082249,\n",
       "         0.79298373, -0.05619777,  0.22187647, -0.6441875 ,  0.65238654,\n",
       "        -0.07278681, -0.32690847,  0.        ,  0.        ,  0.        ,\n",
       "         0.        ,  0.        ],\n",
       "       [-0.32154778, -0.75745503, -1.35301802, -0.51005133, -0.62053067,\n",
       "        -0.42507465,  0.16356495, -0.41554149, -0.59274029, -0.51054558,\n",
       "         0.07581517, -0.41899434, -0.46515673,  0.5472529 ,  0.08170883,\n",
       "         0.56358929,  0.28609261, -0.36004239,  0.38433128,  0.17136732,\n",
       "         0.12334633, -0.52486354,  0.35449805, -0.6441875 ,  0.65238654,\n",
       "        -0.07278681, -0.11209185,  0.        ,  0.        ,  0.        ,\n",
       "         0.        ,  0.        ],\n",
       "       [-0.14891875, -0.45870603, -0.09933426, -0.44082008,  0.60153175,\n",
       "         0.2021535 ,  0.16356495, -0.2539655 , -0.09502555, -0.24163323,\n",
       "        -2.59935467, -0.25838216, -1.76550441, -0.43348566,  0.08170883,\n",
       "         0.29093085, -0.05669543, -0.45190013, -0.11770024, -1.23434382,\n",
       "        -0.60209419, -0.14031727,  0.06715128, -0.6441875 ,  0.65238654,\n",
       "        -0.07278681, -0.27320431,  0.        ,  0.        ,  0.        ,\n",
       "         0.        ,  0.        ]])"
      ]
     },
     "execution_count": 46,
     "metadata": {},
     "output_type": "execute_result"
    }
   ],
   "source": [
    "\n",
    "X_U_test[:5]\n"
   ]
  },
  {
   "cell_type": "code",
   "execution_count": 47,
   "id": "b345239c",
   "metadata": {},
   "outputs": [
    {
     "data": {
      "text/plain": [
       "array([[ 1.69920481, -0.38654972, -0.72123611, ..., -0.00223607,\n",
       "        -0.01245086,  0.75442207],\n",
       "       [ 1.5770615 , -0.38654972, -0.71797694, ..., -0.00223607,\n",
       "        -0.01245086, -0.7860036 ],\n",
       "       [-0.47928185, -0.04080992, -0.29046938, ..., -0.00223607,\n",
       "        -0.01245086,  1.87473164],\n",
       "       [-0.72674102, -0.25985486,  0.2798146 , ..., -0.00223607,\n",
       "        -0.01245086,  0.05422858],\n",
       "       [-0.7373162 , -0.24332945,  0.3301047 , ..., -0.00223607,\n",
       "        -0.01245086,  0.61438337]])"
      ]
     },
     "execution_count": 47,
     "metadata": {},
     "output_type": "execute_result"
    }
   ],
   "source": [
    "X_A_test[:5]"
   ]
  },
  {
   "cell_type": "code",
   "execution_count": 48,
   "id": "a41b7802",
   "metadata": {},
   "outputs": [
    {
     "name": "stdout",
     "output_type": "stream",
     "text": [
      "\u001b[1m1/1\u001b[0m \u001b[32m━━━━━━━━━━━━━━━━━━━━\u001b[0m\u001b[37m\u001b[0m \u001b[1m1s\u001b[0m 955ms/step\n"
     ]
    },
    {
     "data": {
      "text/plain": [
       "array([[6.839889 ],\n",
       "       [6.181007 ],\n",
       "       [9.0439825],\n",
       "       [7.051241 ],\n",
       "       [7.636688 ],\n",
       "       [7.551433 ],\n",
       "       [7.0224805],\n",
       "       [8.757653 ],\n",
       "       [8.747307 ],\n",
       "       [8.574726 ],\n",
       "       [9.286611 ],\n",
       "       [8.170483 ],\n",
       "       [7.292415 ],\n",
       "       [7.6250687],\n",
       "       [8.081337 ],\n",
       "       [8.288361 ],\n",
       "       [6.3352094],\n",
       "       [7.862419 ],\n",
       "       [7.686511 ],\n",
       "       [8.304533 ]], dtype=float32)"
      ]
     },
     "execution_count": 48,
     "metadata": {},
     "output_type": "execute_result"
    }
   ],
   "source": [
    "#Make predictions on X-U_test and X-A_test\n",
    "predictions = model.predict([X_U_test[:20], X_A_test[:20]])\n",
    "predictions[:20]"
   ]
  },
  {
   "cell_type": "code",
   "execution_count": 49,
   "id": "128f511f",
   "metadata": {},
   "outputs": [
    {
     "data": {
      "text/plain": [
       "array([ 8,  5,  9,  4,  7,  8,  8,  9,  9, 10,  9,  7,  8,  8,  7,  9,  6,\n",
       "        7,  7,  7])"
      ]
     },
     "execution_count": 49,
     "metadata": {},
     "output_type": "execute_result"
    }
   ],
   "source": [
    "Y_test[:20]"
   ]
  },
  {
   "cell_type": "code",
   "execution_count": 50,
   "id": "7b28c3a7",
   "metadata": {},
   "outputs": [
    {
     "data": {
      "text/plain": [
       "\"\\nimport matplotlib.pyplot as plt\\n\\nplt.figure(figsize=(12, 4))\\nplt.subplot(1, 2, 1)\\nplt.plot(history.history['loss'], label='Training Loss')\\nplt.plot(history.history['val_loss'], label='Validation Loss')\\nplt.title('Loss Over Epochs')\\nplt.xlabel('Epoch')\\nplt.ylabel('Loss (MSE)')\\nplt.legend()\\n\\nplt.subplot(1, 2, 2)\\nplt.plot(history.history['mean_absolute_error'], label='Training MAE')\\nplt.plot(history.history['val_mean_absolute_error'], label='Validation MAE')\\nplt.title('Mean Absolute Error Over Epochs')\\nplt.xlabel('Epoch')\\nplt.ylabel('MAE')\\nplt.legend()\\nplt.tight_layout()\\nplt.show()\\n\""
      ]
     },
     "execution_count": 50,
     "metadata": {},
     "output_type": "execute_result"
    }
   ],
   "source": [
    "# Optional: Plot training history\n",
    "# Uncomment if you're running in an environment that supports plotting\n",
    "\"\"\"\n",
    "import matplotlib.pyplot as plt\n",
    "\n",
    "plt.figure(figsize=(12, 4))\n",
    "plt.subplot(1, 2, 1)\n",
    "plt.plot(history.history['loss'], label='Training Loss')\n",
    "plt.plot(history.history['val_loss'], label='Validation Loss')\n",
    "plt.title('Loss Over Epochs')\n",
    "plt.xlabel('Epoch')\n",
    "plt.ylabel('Loss (MSE)')\n",
    "plt.legend()\n",
    "\n",
    "plt.subplot(1, 2, 2)\n",
    "plt.plot(history.history['mean_absolute_error'], label='Training MAE')\n",
    "plt.plot(history.history['val_mean_absolute_error'], label='Validation MAE')\n",
    "plt.title('Mean Absolute Error Over Epochs')\n",
    "plt.xlabel('Epoch')\n",
    "plt.ylabel('MAE')\n",
    "plt.legend()\n",
    "plt.tight_layout()\n",
    "plt.show()\n",
    "\"\"\""
   ]
  },
  {
   "cell_type": "markdown",
   "id": "528d1c49",
   "metadata": {},
   "source": [
    "# Model Evaluation Metrics\n",
    "Evaluate the model using Accuracy, ROC-AUC, Precision@K, and Recall@K for top-N performance."
   ]
  },
  {
   "cell_type": "code",
   "execution_count": 51,
   "id": "de4df49c",
   "metadata": {},
   "outputs": [
    {
     "name": "stdout",
     "output_type": "stream",
     "text": [
      "Accuracy: 0.9500\n",
      "ROC-AUC: 0.7895\n"
     ]
    }
   ],
   "source": [
    "Y_test = Y_test[:len(predictions)]\n",
    "\n",
    "y_pred_binary = (predictions >= 5).astype(int)\n",
    "y_test_binary = (Y_test >= 5).astype(int)\n",
    "accuracy = accuracy_score(y_test_binary, y_pred_binary)\n",
    "print(f\"Accuracy: {accuracy:.4f}\")\n",
    "\n",
    "\n",
    "roc_auc = roc_auc_score(y_test_binary, predictions)\n",
    "print(f\"ROC-AUC: {roc_auc:.4f}\")"
   ]
  },
  {
   "cell_type": "code",
   "execution_count": 52,
   "id": "cf747317",
   "metadata": {},
   "outputs": [
    {
     "data": {
      "image/png": "[encoded data removed]",
      "text/plain": [
       "<Figure size 800x600 with 1 Axes>"
      ]
     },
     "metadata": {},
     "output_type": "display_data"
    }
   ],
   "source": [
    "fpr, tpr, thresholds = roc_curve(y_test_binary, predictions)\n",
    "roc_auc_value = auc(fpr, tpr)\n",
    "\n",
    "\n",
    "plt.figure(figsize=(8, 6))\n",
    "plt.plot(fpr, tpr, color='blue', lw=2, label=f'ROC curve (AUC = {roc_auc_value:.2f})')\n",
    "plt.plot([0, 1], [0, 1], color='gray', linestyle='--', lw=2, label='Random Guess')\n",
    "plt.xlabel('False Positive Rate')\n",
    "plt.ylabel('True Positive Rate')\n",
    "plt.title('ROC-AUC Curve')\n",
    "plt.legend(loc='lower right')\n",
    "plt.grid(alpha=0.3)\n",
    "plt.show()"
   ]
  },
  {
   "cell_type": "code",
   "execution_count": 53,
   "id": "5c11f441",
   "metadata": {},
   "outputs": [
    {
     "data": {
      "image/png": "[encoded data removed]",
      "text/plain": [
       "<Figure size 640x480 with 2 Axes>"
      ]
     },
     "metadata": {},
     "output_type": "display_data"
    },
    {
     "name": "stdout",
     "output_type": "stream",
     "text": [
      "Precision: 0.9500\n",
      "Recall: 1.0000\n"
     ]
    }
   ],
   "source": [
    "cm = confusion_matrix(y_test_binary, y_pred_binary)\n",
    "\n",
    "\n",
    "disp = ConfusionMatrixDisplay(confusion_matrix=cm, display_labels=[\"Not Recommended\", \"Recommended\"])\n",
    "disp.plot(cmap=\"Blues\")\n",
    "plt.title(\"Confusion Matrix\")\n",
    "plt.show()\n",
    "\n",
    "\n",
    "precision = precision_score(y_test_binary, y_pred_binary)\n",
    "recall = recall_score(y_test_binary, y_pred_binary)\n",
    "\n",
    "print(f\"Precision: {precision:.4f}\")\n",
    "print(f\"Recall: {recall:.4f}\")"
   ]
  },
  {
   "cell_type": "code",
   "execution_count": 54,
   "id": "b4df6c4a",
   "metadata": {},
   "outputs": [
    {
     "data": {
      "image/png": "[encoded data removed]",
      "text/plain": [
       "<Figure size 640x480 with 2 Axes>"
      ]
     },
     "metadata": {},
     "output_type": "display_data"
    },
    {
     "name": "stdout",
     "output_type": "stream",
     "text": [
      "Precision for Top 20: 0.9500\n",
      "Recall for Top 20: 1.0000\n"
     ]
    }
   ],
   "source": [
    "K = 20\n",
    "top_k_indices = np.argsort(predictions.flatten())[-K:]\n",
    "y_pred_top_k = y_pred_binary[top_k_indices].flatten()\n",
    "y_test_top_k = y_test_binary[top_k_indices].flatten()\n",
    "all_labels = [0, 1]\n",
    "cm_top_k = confusion_matrix(y_test_top_k, y_pred_top_k, labels=all_labels)\n",
    "disp_top_k = ConfusionMatrixDisplay(confusion_matrix=cm_top_k, display_labels=all_labels)\n",
    "disp_top_k.plot(cmap=\"Blues\")\n",
    "plt.title(f\"Confusion Matrix for Top {K} Predictions\")\n",
    "plt.show()\n",
    "precision_top_k = precision_score(y_test_top_k, y_pred_top_k, labels=all_labels, zero_division=0)\n",
    "recall_top_k = recall_score(y_test_top_k, y_pred_top_k, labels=all_labels, zero_division=0)\n",
    "print(f\"Precision for Top {K}: {precision_top_k:.4f}\")\n",
    "print(f\"Recall for Top {K}: {recall_top_k:.4f}\")\n"
   ]
  }
 ],
 "metadata": {
  "kernelspec": {
   "display_name": "venv",
   "language": "python",
   "name": "python3"
  },
  "language_info": {
   "codemirror_mode": {
    "name": "ipython",
    "version": 3
   },
   "file_extension": ".py",
   "mimetype": "text/x-python",
   "name": "python",
   "nbconvert_exporter": "python",
   "pygments_lexer": "ipython3",
   "version": "3.11.9"
  }
 },
 "nbformat": 4,
 "nbformat_minor": 5
}
