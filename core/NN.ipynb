{
 "cells": [
  {
   "cell_type": "markdown",
   "id": "0db3612a",
   "metadata": {},
   "source": [
    "# Obtained_data:"
   ]
  },
  {
   "cell_type": "code",
   "execution_count": 1,
   "id": "ad86276c",
   "metadata": {},
   "outputs": [],
   "source": [
    "import pandas as pd\n",
    "user_data=pd.read_csv(\"Final_User_Dataset.csv\",index_col=0)\n",
    "item_data=pd.read_csv(\"Final_Anime_Dataset.csv\",index_col=0)\n",
    "user_input=pd.read_csv(\"User_input.csv\",index_col=0)\n",
    "\n"
   ]
  },
  {
   "cell_type": "code",
   "execution_count": 2,
   "id": "ede8c699",
   "metadata": {},
   "outputs": [
    {
     "data": {
      "text/html": [
       "<div>\n",
       "<style scoped>\n",
       "    .dataframe tbody tr th:only-of-type {\n",
       "        vertical-align: middle;\n",
       "    }\n",
       "\n",
       "    .dataframe tbody tr th {\n",
       "        vertical-align: top;\n",
       "    }\n",
       "\n",
       "    .dataframe thead th {\n",
       "        text-align: right;\n",
       "    }\n",
       "</style>\n",
       "<table border=\"1\" class=\"dataframe\">\n",
       "  <thead>\n",
       "    <tr style=\"text-align: right;\">\n",
       "      <th></th>\n",
       "      <th>Username</th>\n",
       "      <th>Gender</th>\n",
       "      <th>Birth_Year</th>\n",
       "      <th>Mean Score</th>\n",
       "      <th>Completed</th>\n",
       "      <th>avg_Action</th>\n",
       "      <th>avg_Adventure</th>\n",
       "      <th>avg_Avant Garde</th>\n",
       "      <th>avg_Award Winning</th>\n",
       "      <th>avg_Boys Love</th>\n",
       "      <th>...</th>\n",
       "      <th>avg_Gourmet</th>\n",
       "      <th>avg_Hentai</th>\n",
       "      <th>avg_Horror</th>\n",
       "      <th>avg_Mystery</th>\n",
       "      <th>avg_Romance</th>\n",
       "      <th>avg_Sci-Fi</th>\n",
       "      <th>avg_Slice of Life</th>\n",
       "      <th>avg_Sports</th>\n",
       "      <th>avg_Supernatural</th>\n",
       "      <th>avg_Suspense</th>\n",
       "    </tr>\n",
       "    <tr>\n",
       "      <th>user_id</th>\n",
       "      <th></th>\n",
       "      <th></th>\n",
       "      <th></th>\n",
       "      <th></th>\n",
       "      <th></th>\n",
       "      <th></th>\n",
       "      <th></th>\n",
       "      <th></th>\n",
       "      <th></th>\n",
       "      <th></th>\n",
       "      <th></th>\n",
       "      <th></th>\n",
       "      <th></th>\n",
       "      <th></th>\n",
       "      <th></th>\n",
       "      <th></th>\n",
       "      <th></th>\n",
       "      <th></th>\n",
       "      <th></th>\n",
       "      <th></th>\n",
       "      <th></th>\n",
       "    </tr>\n",
       "  </thead>\n",
       "  <tbody>\n",
       "    <tr>\n",
       "      <th>1</th>\n",
       "      <td>Xinil</td>\n",
       "      <td>Male</td>\n",
       "      <td>1985</td>\n",
       "      <td>7.37</td>\n",
       "      <td>233.0</td>\n",
       "      <td>7.68</td>\n",
       "      <td>7.90</td>\n",
       "      <td>8.0</td>\n",
       "      <td>8.18</td>\n",
       "      <td>0.0</td>\n",
       "      <td>...</td>\n",
       "      <td>8.00</td>\n",
       "      <td>5.42</td>\n",
       "      <td>7.31</td>\n",
       "      <td>7.86</td>\n",
       "      <td>7.27</td>\n",
       "      <td>7.37</td>\n",
       "      <td>7.54</td>\n",
       "      <td>7.56</td>\n",
       "      <td>7.66</td>\n",
       "      <td>8.18</td>\n",
       "    </tr>\n",
       "    <tr>\n",
       "      <th>20</th>\n",
       "      <td>vondur</td>\n",
       "      <td>Male</td>\n",
       "      <td>1988</td>\n",
       "      <td>8.06</td>\n",
       "      <td>94.0</td>\n",
       "      <td>8.02</td>\n",
       "      <td>8.24</td>\n",
       "      <td>9.0</td>\n",
       "      <td>8.43</td>\n",
       "      <td>0.0</td>\n",
       "      <td>...</td>\n",
       "      <td>8.00</td>\n",
       "      <td>0.00</td>\n",
       "      <td>7.67</td>\n",
       "      <td>8.36</td>\n",
       "      <td>8.00</td>\n",
       "      <td>8.19</td>\n",
       "      <td>8.33</td>\n",
       "      <td>8.38</td>\n",
       "      <td>8.43</td>\n",
       "      <td>8.56</td>\n",
       "    </tr>\n",
       "    <tr>\n",
       "      <th>66</th>\n",
       "      <td>Hiromi</td>\n",
       "      <td>Male</td>\n",
       "      <td>1990</td>\n",
       "      <td>7.53</td>\n",
       "      <td>148.0</td>\n",
       "      <td>7.49</td>\n",
       "      <td>7.31</td>\n",
       "      <td>7.0</td>\n",
       "      <td>7.90</td>\n",
       "      <td>0.0</td>\n",
       "      <td>...</td>\n",
       "      <td>9.00</td>\n",
       "      <td>0.00</td>\n",
       "      <td>7.43</td>\n",
       "      <td>7.54</td>\n",
       "      <td>7.53</td>\n",
       "      <td>7.32</td>\n",
       "      <td>6.62</td>\n",
       "      <td>8.00</td>\n",
       "      <td>7.85</td>\n",
       "      <td>7.00</td>\n",
       "    </tr>\n",
       "    <tr>\n",
       "      <th>82</th>\n",
       "      <td>Achtor</td>\n",
       "      <td>Male</td>\n",
       "      <td>1989</td>\n",
       "      <td>7.17</td>\n",
       "      <td>153.0</td>\n",
       "      <td>7.36</td>\n",
       "      <td>7.71</td>\n",
       "      <td>8.8</td>\n",
       "      <td>8.25</td>\n",
       "      <td>0.0</td>\n",
       "      <td>...</td>\n",
       "      <td>6.33</td>\n",
       "      <td>0.00</td>\n",
       "      <td>7.71</td>\n",
       "      <td>7.76</td>\n",
       "      <td>7.20</td>\n",
       "      <td>7.39</td>\n",
       "      <td>7.05</td>\n",
       "      <td>6.75</td>\n",
       "      <td>7.40</td>\n",
       "      <td>8.18</td>\n",
       "    </tr>\n",
       "    <tr>\n",
       "      <th>112</th>\n",
       "      <td>luffykun</td>\n",
       "      <td>Male</td>\n",
       "      <td>1983</td>\n",
       "      <td>8.77</td>\n",
       "      <td>125.0</td>\n",
       "      <td>8.60</td>\n",
       "      <td>8.36</td>\n",
       "      <td>0.0</td>\n",
       "      <td>9.80</td>\n",
       "      <td>0.0</td>\n",
       "      <td>...</td>\n",
       "      <td>0.00</td>\n",
       "      <td>0.00</td>\n",
       "      <td>8.64</td>\n",
       "      <td>9.00</td>\n",
       "      <td>8.89</td>\n",
       "      <td>8.00</td>\n",
       "      <td>0.00</td>\n",
       "      <td>9.50</td>\n",
       "      <td>8.60</td>\n",
       "      <td>10.00</td>\n",
       "    </tr>\n",
       "  </tbody>\n",
       "</table>\n",
       "<p>5 rows × 26 columns</p>\n",
       "</div>"
      ],
      "text/plain": [
       "         Username Gender  Birth_Year  Mean Score  Completed  avg_Action  \\\n",
       "user_id                                                                   \n",
       "1           Xinil   Male        1985        7.37      233.0        7.68   \n",
       "20         vondur   Male        1988        8.06       94.0        8.02   \n",
       "66         Hiromi   Male        1990        7.53      148.0        7.49   \n",
       "82         Achtor   Male        1989        7.17      153.0        7.36   \n",
       "112      luffykun   Male        1983        8.77      125.0        8.60   \n",
       "\n",
       "         avg_Adventure  avg_Avant Garde  avg_Award Winning  avg_Boys Love  \\\n",
       "user_id                                                                     \n",
       "1                 7.90              8.0               8.18            0.0   \n",
       "20                8.24              9.0               8.43            0.0   \n",
       "66                7.31              7.0               7.90            0.0   \n",
       "82                7.71              8.8               8.25            0.0   \n",
       "112               8.36              0.0               9.80            0.0   \n",
       "\n",
       "         ...  avg_Gourmet  avg_Hentai  avg_Horror  avg_Mystery  avg_Romance  \\\n",
       "user_id  ...                                                                  \n",
       "1        ...         8.00        5.42        7.31         7.86         7.27   \n",
       "20       ...         8.00        0.00        7.67         8.36         8.00   \n",
       "66       ...         9.00        0.00        7.43         7.54         7.53   \n",
       "82       ...         6.33        0.00        7.71         7.76         7.20   \n",
       "112      ...         0.00        0.00        8.64         9.00         8.89   \n",
       "\n",
       "         avg_Sci-Fi  avg_Slice of Life  avg_Sports  avg_Supernatural  \\\n",
       "user_id                                                                \n",
       "1              7.37               7.54        7.56              7.66   \n",
       "20             8.19               8.33        8.38              8.43   \n",
       "66             7.32               6.62        8.00              7.85   \n",
       "82             7.39               7.05        6.75              7.40   \n",
       "112            8.00               0.00        9.50              8.60   \n",
       "\n",
       "         avg_Suspense  \n",
       "user_id                \n",
       "1                8.18  \n",
       "20               8.56  \n",
       "66               7.00  \n",
       "82               8.18  \n",
       "112             10.00  \n",
       "\n",
       "[5 rows x 26 columns]"
      ]
     },
     "execution_count": 2,
     "metadata": {},
     "output_type": "execute_result"
    }
   ],
   "source": [
    "user_data.columns\n",
    "user_data.head()"
   ]
  },
  {
   "cell_type": "code",
   "execution_count": 3,
   "id": "a0e42210",
   "metadata": {},
   "outputs": [
    {
     "name": "stdout",
     "output_type": "stream",
     "text": [
      "         Username  Birth_Year  Mean Score  Completed  avg_Action  \\\n",
      "user_id                                                            \n",
      "1           Xinil        1985        7.37      233.0        7.68   \n",
      "20         vondur        1988        8.06       94.0        8.02   \n",
      "66         Hiromi        1990        7.53      148.0        7.49   \n",
      "82         Achtor        1989        7.17      153.0        7.36   \n",
      "112      luffykun        1983        8.77      125.0        8.60   \n",
      "\n",
      "         avg_Adventure  avg_Avant Garde  avg_Award Winning  avg_Boys Love  \\\n",
      "user_id                                                                     \n",
      "1                 7.90              8.0               8.18            0.0   \n",
      "20                8.24              9.0               8.43            0.0   \n",
      "66                7.31              7.0               7.90            0.0   \n",
      "82                7.71              8.8               8.25            0.0   \n",
      "112               8.36              0.0               9.80            0.0   \n",
      "\n",
      "         avg_Comedy  ...  avg_Mystery  avg_Romance  avg_Sci-Fi  \\\n",
      "user_id              ...                                         \n",
      "1              7.02  ...         7.86         7.27        7.37   \n",
      "20             7.77  ...         8.36         8.00        8.19   \n",
      "66             7.46  ...         7.54         7.53        7.32   \n",
      "82             7.05  ...         7.76         7.20        7.39   \n",
      "112            8.67  ...         9.00         8.89        8.00   \n",
      "\n",
      "         avg_Slice of Life  avg_Sports  avg_Supernatural  avg_Suspense  \\\n",
      "user_id                                                                  \n",
      "1                     7.54        7.56              7.66          8.18   \n",
      "20                    8.33        8.38              8.43          8.56   \n",
      "66                    6.62        8.00              7.85          7.00   \n",
      "82                    7.05        6.75              7.40          8.18   \n",
      "112                   0.00        9.50              8.60         10.00   \n",
      "\n",
      "         Gender_Female  Gender_Male  Gender_Non-Binary  \n",
      "user_id                                                 \n",
      "1                    0            1                  0  \n",
      "20                   0            1                  0  \n",
      "66                   0            1                  0  \n",
      "82                   0            1                  0  \n",
      "112                  0            1                  0  \n",
      "\n",
      "[5 rows x 28 columns]\n"
     ]
    }
   ],
   "source": [
    "# One-hot encode the 'Gender' column\n",
    "gender_encoded = pd.get_dummies(user_data['Gender'], prefix='Gender')\n",
    "\n",
    "# Concatenate the one-hot encoded columns with the original DataFrame\n",
    "user_data = pd.concat([user_data, gender_encoded], axis=1)\n",
    "\n",
    "# Drop the original 'Gender' column if no longer needed\n",
    "user_data.drop(columns=['Gender'], inplace=True)\n",
    "# Convert boolean types to 1 and 0\n",
    "user_data[['Gender_Female', 'Gender_Male', 'Gender_Non-Binary']] = user_data[['Gender_Female', 'Gender_Male', 'Gender_Non-Binary']].astype(int)\n",
    "# Display the updated DataFrame\n",
    "print(user_data.head())"
   ]
  },
  {
   "cell_type": "code",
   "execution_count": 4,
   "id": "674da0b0",
   "metadata": {},
   "outputs": [
    {
     "name": "stdout",
     "output_type": "stream",
     "text": [
      "         Username  Birth_Year  Mean Score  Completed  avg_Action  \\\n",
      "user_id                                                            \n",
      "1           Xinil        1985        7.37      233.0        7.68   \n",
      "20         vondur        1988        8.06       94.0        8.02   \n",
      "66         Hiromi        1990        7.53      148.0        7.49   \n",
      "82         Achtor        1989        7.17      153.0        7.36   \n",
      "112      luffykun        1983        8.77      125.0        8.60   \n",
      "\n",
      "         avg_Adventure  avg_Avant Garde  avg_Award Winning  avg_Boys Love  \\\n",
      "user_id                                                                     \n",
      "1                 7.90              8.0               8.18            0.0   \n",
      "20                8.24              9.0               8.43            0.0   \n",
      "66                7.31              7.0               7.90            0.0   \n",
      "82                7.71              8.8               8.25            0.0   \n",
      "112               8.36              0.0               9.80            0.0   \n",
      "\n",
      "         avg_Comedy  ...  avg_Mystery  avg_Romance  avg_Sci-Fi  \\\n",
      "user_id              ...                                         \n",
      "1              7.02  ...         7.86         7.27        7.37   \n",
      "20             7.77  ...         8.36         8.00        8.19   \n",
      "66             7.46  ...         7.54         7.53        7.32   \n",
      "82             7.05  ...         7.76         7.20        7.39   \n",
      "112            8.67  ...         9.00         8.89        8.00   \n",
      "\n",
      "         avg_Slice of Life  avg_Sports  avg_Supernatural  avg_Suspense  \\\n",
      "user_id                                                                  \n",
      "1                     7.54        7.56              7.66          8.18   \n",
      "20                    8.33        8.38              8.43          8.56   \n",
      "66                    6.62        8.00              7.85          7.00   \n",
      "82                    7.05        6.75              7.40          8.18   \n",
      "112                   0.00        9.50              8.60         10.00   \n",
      "\n",
      "         Gender_Female  Gender_Male  Gender_Non-Binary  \n",
      "user_id                                                 \n",
      "1                    0            1                  0  \n",
      "20                   0            1                  0  \n",
      "66                   0            1                  0  \n",
      "82                   0            1                  0  \n",
      "112                  0            1                  0  \n",
      "\n",
      "[5 rows x 28 columns]\n"
     ]
    }
   ],
   "source": [
    "# Convert boolean types to 1 and 0\n",
    "user_data[['Gender_Female', 'Gender_Male', 'Gender_Non-Binary']] = user_data[['Gender_Female', 'Gender_Male', 'Gender_Non-Binary']].astype(int)\n",
    "# Display the updated DataFrame\n",
    "print(user_data.head())"
   ]
  },
  {
   "cell_type": "code",
   "execution_count": 5,
   "id": "c5d8dede",
   "metadata": {},
   "outputs": [
    {
     "data": {
      "text/plain": [
       "(71285, 28)"
      ]
     },
     "execution_count": 5,
     "metadata": {},
     "output_type": "execute_result"
    }
   ],
   "source": [
    "user_data.shape"
   ]
  },
  {
   "cell_type": "code",
   "execution_count": 1,
   "id": "745fbffc",
   "metadata": {},
   "outputs": [
    {
     "ename": "NameError",
     "evalue": "name 'user_data' is not defined",
     "output_type": "error",
     "traceback": [
      "\u001b[1;31m---------------------------------------------------------------------------\u001b[0m",
      "\u001b[1;31mNameError\u001b[0m                                 Traceback (most recent call last)",
      "Cell \u001b[1;32mIn[1], line 10\u001b[0m\n\u001b[0;32m      6\u001b[0m encoder \u001b[38;5;241m=\u001b[39m OneHotEncoder(sparse_output\u001b[38;5;241m=\u001b[39m\u001b[38;5;28;01mFalse\u001b[39;00m, dtype\u001b[38;5;241m=\u001b[39m\u001b[38;5;28mint\u001b[39m)\n\u001b[0;32m      8\u001b[0m \u001b[38;5;66;03m# Reshape the Birth_Year column for encoding\u001b[39;00m\n\u001b[0;32m      9\u001b[0m \u001b[38;5;66;03m# The encoder expects a 2D array, so we need to reshape it\u001b[39;00m\n\u001b[1;32m---> 10\u001b[0m birth_year_values \u001b[38;5;241m=\u001b[39m \u001b[43muser_data\u001b[49m[[\u001b[38;5;124m'\u001b[39m\u001b[38;5;124mBirth Year\u001b[39m\u001b[38;5;124m'\u001b[39m]]\u001b[38;5;241m.\u001b[39mvalues  \u001b[38;5;66;03m# Note: 'Birth Year' with space based on your data\u001b[39;00m\n\u001b[0;32m     12\u001b[0m \u001b[38;5;66;03m# Fit and transform the Birth_Year column\u001b[39;00m\n\u001b[0;32m     13\u001b[0m encoded_birth_year \u001b[38;5;241m=\u001b[39m encoder\u001b[38;5;241m.\u001b[39mfit_transform(birth_year_values)\n",
      "\u001b[1;31mNameError\u001b[0m: name 'user_data' is not defined"
     ]
    }
   ],
   "source": [
    "from sklearn.preprocessing import OneHotEncoder\n",
    "import pandas as pd\n",
    "\n",
    "# Create OneHotEncoder with proper parameters\n",
    "# Note: Use sparse_output=False instead of sparse=False (which is outdated)\n",
    "encoder = OneHotEncoder(sparse_output=False, dtype=int)\n",
    "\n",
    "# Reshape the Birth_Year column for encoding\n",
    "# The encoder expects a 2D array, so we need to reshape it\n",
    "birth_year_values = user_data[['Birth Year']].values  # Note: 'Birth Year' with space based on your data\n",
    "\n",
    "# Fit and transform the Birth_Year column\n",
    "encoded_birth_year = encoder.fit_transform(birth_year_values)\n",
    "\n",
    "# Create column names for the encoded features\n",
    "birth_year_categories = [f\"Birth_Year_{int(category)}\" for category in encoder.categories_[0]]\n",
    "\n",
    "# Create a DataFrame with the encoded columns\n",
    "encoded_birth_year_df = pd.DataFrame(\n",
    "    encoded_birth_year,\n",
    "    columns=birth_year_categories,\n",
    "    index=user_data.index  # Keep the same index as the original DataFrame\n",
    ")\n",
    "\n",
    "# Concatenate the encoded columns with the original DataFrame\n",
    "user_data = pd.concat([user_data, encoded_birth_year_df], axis=1)\n",
    "\n",
    "# Drop the original 'Birth Year' column if needed\n",
    "user_data = user_data.drop(columns=['Birth Year'])\n",
    "\n",
    "# Display the updated DataFrame\n",
    "print(user_data.head())\n"
   ]
  },
  {
   "cell_type": "code",
   "execution_count": null,
   "id": "48596c15",
   "metadata": {},
   "outputs": [
    {
     "data": {
      "text/plain": [
       "Index(['Name', 'English name', 'Other name', 'Score', 'Genres', 'Synopsis',\n",
       "       'Type', 'Episodes', 'Aired', 'Premiered', 'Status', 'Producers',\n",
       "       'Licensors', 'Studios', 'Source', 'Duration', 'Rating', 'Rank',\n",
       "       'Popularity', 'Favorites', 'Scored By', 'Members', 'Image URL',\n",
       "       'Genre_Action', 'Genre_Adventure', 'Genre_Avant Garde',\n",
       "       'Genre_Award Winning', 'Genre_Boys Love', 'Genre_Comedy', 'Genre_Drama',\n",
       "       'Genre_Ecchi', 'Genre_Erotica', 'Genre_Fantasy', 'Genre_Girls Love',\n",
       "       'Genre_Gourmet', 'Genre_Hentai', 'Genre_Horror', 'Genre_Mystery',\n",
       "       'Genre_Romance', 'Genre_Sci-Fi', 'Genre_Slice of Life', 'Genre_Sports',\n",
       "       'Genre_Supernatural', 'Genre_Suspense', 'Genre_UNKNOWN', 'Type_Movie',\n",
       "       'Type_Music', 'Type_ONA', 'Type_OVA', 'Type_Special', 'Type_TV',\n",
       "       'Type_UNKNOWN', 'Rating_G - All Ages', 'Rating_PG - Children',\n",
       "       'Rating_PG-13 - Teens 13 or older',\n",
       "       'Rating_R - 17+ (violence & profanity)', 'Rating_R+ - Mild Nudity',\n",
       "       'Rating_Rx - Hentai', 'Rating_UNKNOWN', 'Release_Year'],\n",
       "      dtype='object')"
      ]
     },
     "execution_count": 3,
     "metadata": {},
     "output_type": "execute_result"
    }
   ],
   "source": [
    "item_data.columns\n"
   ]
  },
  {
   "cell_type": "code",
   "execution_count": 6,
   "id": "a067f280",
   "metadata": {},
   "outputs": [],
   "source": [
    "filtered_item_data_df = item_data.drop(columns=[\"Genres\",\"Episodes\",\"Rating_UNKNOWN\",'Producers','Aired',\"Premiered\",\"Status\",\"Studios\",\"Licensors\",\"Duration\"])"
   ]
  },
  {
   "cell_type": "code",
   "execution_count": 8,
   "id": "8535d40c",
   "metadata": {},
   "outputs": [
    {
     "data": {
      "text/plain": [
       "array(['TV', 'Movie', 'TV', ..., 'ONA', 'Music', 'Music'], dtype=object)"
      ]
     },
     "execution_count": 8,
     "metadata": {},
     "output_type": "execute_result"
    }
   ],
   "source": [
    "filtered_item_data_df[\"Type\"].values\n",
    "# this is to be one hod encoded because everything is not an anime "
   ]
  },
  {
   "cell_type": "code",
   "execution_count": 9,
   "id": "4e1ea698",
   "metadata": {},
   "outputs": [
    {
     "data": {
      "text/plain": [
       "Index(['Name', 'English name', 'Other name', 'Score', 'Synopsis', 'Type',\n",
       "       'Source', 'Rating', 'Rank', 'Popularity', 'Favorites', 'Scored By',\n",
       "       'Members', 'Image URL', 'Genre_Action', 'Genre_Adventure',\n",
       "       'Genre_Avant Garde', 'Genre_Award Winning', 'Genre_Boys Love',\n",
       "       'Genre_Comedy', 'Genre_Drama', 'Genre_Ecchi', 'Genre_Erotica',\n",
       "       'Genre_Fantasy', 'Genre_Girls Love', 'Genre_Gourmet', 'Genre_Hentai',\n",
       "       'Genre_Horror', 'Genre_Mystery', 'Genre_Romance', 'Genre_Sci-Fi',\n",
       "       'Genre_Slice of Life', 'Genre_Sports', 'Genre_Supernatural',\n",
       "       'Genre_Suspense', 'Genre_UNKNOWN', 'Type_Movie', 'Type_Music',\n",
       "       'Type_ONA', 'Type_OVA', 'Type_Special', 'Type_TV', 'Type_UNKNOWN',\n",
       "       'Rating_G - All Ages', 'Rating_PG - Children',\n",
       "       'Rating_PG-13 - Teens 13 or older',\n",
       "       'Rating_R - 17+ (violence & profanity)', 'Rating_R+ - Mild Nudity',\n",
       "       'Rating_Rx - Hentai', 'Release_Year'],\n",
       "      dtype='object')"
      ]
     },
     "execution_count": 9,
     "metadata": {},
     "output_type": "execute_result"
    }
   ],
   "source": [
    "filtered_item_data_df.columns"
   ]
  },
  {
   "cell_type": "code",
   "execution_count": 10,
   "id": "f5df5f3a",
   "metadata": {},
   "outputs": [
    {
     "data": {
      "text/plain": [
       "(24905, 50)"
      ]
     },
     "execution_count": 10,
     "metadata": {},
     "output_type": "execute_result"
    }
   ],
   "source": [
    "filtered_item_data_df.shape"
   ]
  },
  {
   "cell_type": "code",
   "execution_count": 11,
   "id": "379c1bab",
   "metadata": {},
   "outputs": [
    {
     "data": {
      "text/plain": [
       "Name                                        0\n",
       "English name                                0\n",
       "Other name                                  0\n",
       "Score                                    9213\n",
       "Synopsis                                    0\n",
       "Type                                        0\n",
       "Source                                      0\n",
       "Rating                                      0\n",
       "Rank                                        0\n",
       "Popularity                                  0\n",
       "Favorites                                   0\n",
       "Scored By                                   0\n",
       "Members                                     0\n",
       "Image URL                                   0\n",
       "Genre_Action                                0\n",
       "Genre_Adventure                             0\n",
       "Genre_Avant Garde                           0\n",
       "Genre_Award Winning                         0\n",
       "Genre_Boys Love                             0\n",
       "Genre_Comedy                                0\n",
       "Genre_Drama                                 0\n",
       "Genre_Ecchi                                 0\n",
       "Genre_Erotica                               0\n",
       "Genre_Fantasy                               0\n",
       "Genre_Girls Love                            0\n",
       "Genre_Gourmet                               0\n",
       "Genre_Hentai                                0\n",
       "Genre_Horror                                0\n",
       "Genre_Mystery                               0\n",
       "Genre_Romance                               0\n",
       "Genre_Sci-Fi                                0\n",
       "Genre_Slice of Life                         0\n",
       "Genre_Sports                                0\n",
       "Genre_Supernatural                          0\n",
       "Genre_Suspense                              0\n",
       "Genre_UNKNOWN                               0\n",
       "Type_Movie                                  0\n",
       "Type_Music                                  0\n",
       "Type_ONA                                    0\n",
       "Type_OVA                                    0\n",
       "Type_Special                                0\n",
       "Type_TV                                     0\n",
       "Type_UNKNOWN                                0\n",
       "Rating_G - All Ages                         0\n",
       "Rating_PG - Children                        0\n",
       "Rating_PG-13 - Teens 13 or older            0\n",
       "Rating_R - 17+ (violence & profanity)       0\n",
       "Rating_R+ - Mild Nudity                     0\n",
       "Rating_Rx - Hentai                          0\n",
       "Release_Year                             4659\n",
       "dtype: int64"
      ]
     },
     "execution_count": 11,
     "metadata": {},
     "output_type": "execute_result"
    }
   ],
   "source": [
    "filtered_item_data_df.isna().sum()"
   ]
  },
  {
   "cell_type": "code",
   "execution_count": null,
   "id": "03cacdfb",
   "metadata": {},
   "outputs": [],
   "source": [
    "# Keep rows where both 'Score' and 'Release_Year' are not null\n",
    "filtered_item_data_df = filtered_item_data_df[filtered_item_data_df[\"Score\"].notna() & filtered_item_data_df[\"Release_Year\"].notna()]"
   ]
  },
  {
   "cell_type": "code",
   "execution_count": null,
   "id": "f8ed202c",
   "metadata": {},
   "outputs": [
    {
     "name": "stdout",
     "output_type": "stream",
     "text": [
      "Name                                     0\n",
      "English name                             0\n",
      "Other name                               0\n",
      "Score                                    0\n",
      "Synopsis                                 0\n",
      "Type                                     0\n",
      "Source                                   0\n",
      "Rating                                   0\n",
      "Rank                                     0\n",
      "Popularity                               0\n",
      "Favorites                                0\n",
      "Scored By                                0\n",
      "Members                                  0\n",
      "Image URL                                0\n",
      "Genre_Action                             0\n",
      "Genre_Adventure                          0\n",
      "Genre_Avant Garde                        0\n",
      "Genre_Award Winning                      0\n",
      "Genre_Boys Love                          0\n",
      "Genre_Comedy                             0\n",
      "Genre_Drama                              0\n",
      "Genre_Ecchi                              0\n",
      "Genre_Erotica                            0\n",
      "Genre_Fantasy                            0\n",
      "Genre_Girls Love                         0\n",
      "Genre_Gourmet                            0\n",
      "Genre_Hentai                             0\n",
      "Genre_Horror                             0\n",
      "Genre_Mystery                            0\n",
      "Genre_Romance                            0\n",
      "Genre_Sci-Fi                             0\n",
      "Genre_Slice of Life                      0\n",
      "Genre_Sports                             0\n",
      "Genre_Supernatural                       0\n",
      "Genre_Suspense                           0\n",
      "Genre_UNKNOWN                            0\n",
      "Type_Movie                               0\n",
      "Type_Music                               0\n",
      "Type_ONA                                 0\n",
      "Type_OVA                                 0\n",
      "Type_Special                             0\n",
      "Type_TV                                  0\n",
      "Type_UNKNOWN                             0\n",
      "Rating_G - All Ages                      0\n",
      "Rating_PG - Children                     0\n",
      "Rating_PG-13 - Teens 13 or older         0\n",
      "Rating_R - 17+ (violence & profanity)    0\n",
      "Rating_R+ - Mild Nudity                  0\n",
      "Rating_Rx - Hentai                       0\n",
      "Release_Year                             0\n",
      "dtype: int64\n"
     ]
    }
   ],
   "source": [
    "print(filtered_item_data_df.isna().sum())"
   ]
  },
  {
   "cell_type": "code",
   "execution_count": 4,
   "id": "55595319",
   "metadata": {},
   "outputs": [
    {
     "data": {
      "text/plain": [
       "Index(['Gender', 'Mean Score', 'Completed', 'Birth_Year', 'user_id',\n",
       "       'anime_id', 'Anime Title', 'rating', 'Genres', 'Genre_Action',\n",
       "       'Genre_Adventure', 'Genre_Avant Garde', 'Genre_Award Winning',\n",
       "       'Genre_Boys Love', 'Genre_Comedy', 'Genre_Drama', 'Genre_Ecchi',\n",
       "       'Genre_Erotica', 'Genre_Fantasy', 'Genre_Girls Love', 'Genre_Gourmet',\n",
       "       'Genre_Hentai', 'Genre_Horror', 'Genre_Mystery', 'Genre_Romance',\n",
       "       'Genre_Sci-Fi', 'Genre_Slice of Life', 'Genre_Sports',\n",
       "       'Genre_Supernatural', 'Genre_Suspense'],\n",
       "      dtype='object')"
      ]
     },
     "execution_count": 4,
     "metadata": {},
     "output_type": "execute_result"
    }
   ],
   "source": [
    "user_input.columns"
   ]
  },
  {
   "cell_type": "code",
   "execution_count": 11,
   "id": "3347e840",
   "metadata": {},
   "outputs": [
    {
     "data": {
      "text/plain": [
       "(8466877, 30)"
      ]
     },
     "execution_count": 11,
     "metadata": {},
     "output_type": "execute_result"
    }
   ],
   "source": [
    "user_input.shape"
   ]
  },
  {
   "cell_type": "code",
   "execution_count": 16,
   "id": "a3c57ca3",
   "metadata": {},
   "outputs": [],
   "source": [
    "# Merge user_input with user_data using user_id\n",
    "merged_user_df = user_input.merge(\n",
    "    user_data,\n",
    "    on='user_id',\n",
    "    how='left'  # Use 'left' join to keep all rows from user_input\n",
    ")\n"
   ]
  },
  {
   "cell_type": "code",
   "execution_count": 17,
   "id": "014c7c70",
   "metadata": {},
   "outputs": [],
   "source": [
    "# Merge merged_user_df with item_data using anime_id\n",
    "final_training_set = merged_user_df.merge(\n",
    "    filtered_item_data_df,\n",
    "    on='anime_id',\n",
    "    how='left'  # Use 'left' join to keep all rows from merged_user_df\n",
    ")\n"
   ]
  },
  {
   "cell_type": "code",
   "execution_count": 18,
   "id": "1a1ef7ab",
   "metadata": {},
   "outputs": [
    {
     "data": {
      "text/plain": [
       "Index(['Gender', 'Mean Score_x', 'Completed_x', 'Birth_Year_x', 'user_id',\n",
       "       'anime_id', 'Anime Title', 'rating', 'Genres', 'Genre_Action_x',\n",
       "       ...\n",
       "       'Type_Special', 'Type_TV', 'Type_UNKNOWN', 'Rating_G - All Ages',\n",
       "       'Rating_PG - Children', 'Rating_PG-13 - Teens 13 or older',\n",
       "       'Rating_R - 17+ (violence & profanity)', 'Rating_R+ - Mild Nudity',\n",
       "       'Rating_Rx - Hentai', 'Release_Year'],\n",
       "      dtype='object', length=108)"
      ]
     },
     "execution_count": 18,
     "metadata": {},
     "output_type": "execute_result"
    }
   ],
   "source": [
    "final_training_set.columns"
   ]
  },
  {
   "cell_type": "code",
   "execution_count": 19,
   "id": "b2f63285",
   "metadata": {},
   "outputs": [
    {
     "data": {
      "text/plain": [
       "(8466877, 108)"
      ]
     },
     "execution_count": 19,
     "metadata": {},
     "output_type": "execute_result"
    }
   ],
   "source": [
    "final_training_set.shape"
   ]
  },
  {
   "cell_type": "code",
   "execution_count": 21,
   "id": "c75fe926",
   "metadata": {},
   "outputs": [
    {
     "name": "stdout",
     "output_type": "stream",
     "text": [
      "<class 'pandas.core.frame.DataFrame'>\n",
      "Index: 71285 entries, 1 to 1291057\n",
      "Data columns (total 28 columns):\n",
      " #   Column             Non-Null Count  Dtype  \n",
      "---  ------             --------------  -----  \n",
      " 0   Username           71285 non-null  object \n",
      " 1   Birth_Year         71285 non-null  int64  \n",
      " 2   Mean Score         71285 non-null  float64\n",
      " 3   Completed          71285 non-null  float64\n",
      " 4   avg_Action         71285 non-null  float64\n",
      " 5   avg_Adventure      71285 non-null  float64\n",
      " 6   avg_Avant Garde    71285 non-null  float64\n",
      " 7   avg_Award Winning  71285 non-null  float64\n",
      " 8   avg_Boys Love      71285 non-null  float64\n",
      " 9   avg_Comedy         71285 non-null  float64\n",
      " 10  avg_Drama          71285 non-null  float64\n",
      " 11  avg_Ecchi          71285 non-null  float64\n",
      " 12  avg_Erotica        71285 non-null  float64\n",
      " 13  avg_Fantasy        71285 non-null  float64\n",
      " 14  avg_Girls Love     71285 non-null  float64\n",
      " 15  avg_Gourmet        71285 non-null  float64\n",
      " 16  avg_Hentai         71285 non-null  float64\n",
      " 17  avg_Horror         71285 non-null  float64\n",
      " 18  avg_Mystery        71285 non-null  float64\n",
      " 19  avg_Romance        71285 non-null  float64\n",
      " 20  avg_Sci-Fi         71285 non-null  float64\n",
      " 21  avg_Slice of Life  71285 non-null  float64\n",
      " 22  avg_Sports         71285 non-null  float64\n",
      " 23  avg_Supernatural   71285 non-null  float64\n",
      " 24  avg_Suspense       71285 non-null  float64\n",
      " 25  Gender_Female      71285 non-null  int32  \n",
      " 26  Gender_Male        71285 non-null  int32  \n",
      " 27  Gender_Non-Binary  71285 non-null  int32  \n",
      "dtypes: float64(23), int32(3), int64(1), object(1)\n",
      "memory usage: 15.0+ MB\n"
     ]
    }
   ],
   "source": [
    "user_data.info()"
   ]
  },
  {
   "cell_type": "code",
   "execution_count": null,
   "id": "f8f1d4e6",
   "metadata": {},
   "outputs": [],
   "source": []
  },
  {
   "cell_type": "code",
   "execution_count": 20,
   "id": "cbc5b0ca",
   "metadata": {},
   "outputs": [
    {
     "data": {
      "text/plain": [
       "Index(['Username', 'Birth_Year', 'Mean Score', 'Completed', 'avg_Action',\n",
       "       'avg_Adventure', 'avg_Avant Garde', 'avg_Award Winning',\n",
       "       'avg_Boys Love', 'avg_Comedy', 'avg_Drama', 'avg_Ecchi', 'avg_Erotica',\n",
       "       'avg_Fantasy', 'avg_Girls Love', 'avg_Gourmet', 'avg_Hentai',\n",
       "       'avg_Horror', 'avg_Mystery', 'avg_Romance', 'avg_Sci-Fi',\n",
       "       'avg_Slice of Life', 'avg_Sports', 'avg_Supernatural', 'avg_Suspense',\n",
       "       'Gender_Female', 'Gender_Male', 'Gender_Non-Binary'],\n",
       "      dtype='object')"
      ]
     },
     "execution_count": 20,
     "metadata": {},
     "output_type": "execute_result"
    }
   ],
   "source": [
    "user_data.columns"
   ]
  },
  {
   "cell_type": "code",
   "execution_count": null,
   "id": "d931b67e",
   "metadata": {},
   "outputs": [],
   "source": []
  },
  {
   "cell_type": "code",
   "execution_count": null,
   "id": "da24e205",
   "metadata": {},
   "outputs": [],
   "source": [
    "Y=final_training_set[\"Rating\"].values\n",
    "X_U=final_training_set['avg_Action',\n",
    "       'avg_Adventure', 'avg_Avant Garde', 'avg_Award Winning',\n",
    "       'avg_Boys Love', 'avg_Comedy', 'avg_Drama', 'avg_Ecchi', 'avg_Erotica',\n",
    "       'avg_Fantasy', 'avg_Girls Love', 'avg_Gourmet', 'avg_Hentai',\n",
    "       'avg_Horror', 'avg_Mystery', 'avg_Romance', 'avg_Sci-Fi',\n",
    "       'avg_Slice of Life', 'avg_Sports', 'avg_Supernatural', 'avg_Suspense',\n",
    "       'Gender_Female', 'Gender_Male', 'Gender_Non-Binary']"
   ]
  },
  {
   "cell_type": "markdown",
   "id": "6d561d94",
   "metadata": {},
   "source": [
    "# Neural Network for implementing COntent Based Filtering:"
   ]
  },
  {
   "cell_type": "code",
   "execution_count": 1,
   "id": "30fd1563",
   "metadata": {},
   "outputs": [],
   "source": [
    "import numpy as np\n",
    "import tensorflow as tf\n",
    "from tensorflow.keras import layers, models\n"
   ]
  },
  {
   "cell_type": "code",
   "execution_count": 4,
   "id": "49eb2fca",
   "metadata": {},
   "outputs": [
    {
     "ename": "TypeError",
     "evalue": "missing a required argument: 'inputs'",
     "output_type": "error",
     "traceback": [
      "\u001b[1;31m---------------------------------------------------------------------------\u001b[0m",
      "\u001b[1;31mTypeError\u001b[0m                                 Traceback (most recent call last)",
      "Cell \u001b[1;32mIn[4], line 21\u001b[0m\n\u001b[0;32m     19\u001b[0m \u001b[38;5;66;03m# Create the user input and point input layers\u001b[39;00m\n\u001b[0;32m     20\u001b[0m user_input \u001b[38;5;241m=\u001b[39m tf\u001b[38;5;241m.\u001b[39mkeras\u001b[38;5;241m.\u001b[39mInput(shape\u001b[38;5;241m=\u001b[39m(num_outputs,), name\u001b[38;5;241m=\u001b[39m\u001b[38;5;124m'\u001b[39m\u001b[38;5;124muser_input\u001b[39m\u001b[38;5;124m'\u001b[39m)\n\u001b[1;32m---> 21\u001b[0m vu\u001b[38;5;241m=\u001b[39m\u001b[43mUser_NN\u001b[49m\u001b[43m(\u001b[49m\u001b[38;5;28;43minput\u001b[39;49m\u001b[38;5;241;43m=\u001b[39;49m\u001b[43muser_input\u001b[49m\u001b[43m)\u001b[49m\n\u001b[0;32m     22\u001b[0m vu\u001b[38;5;241m=\u001b[39mtf\u001b[38;5;241m.\u001b[39mlinalg\u001b[38;5;241m.\u001b[39mnorm(vu,axis\u001b[38;5;241m=\u001b[39m\u001b[38;5;241m1\u001b[39m)\n\u001b[0;32m     24\u001b[0m \u001b[38;5;66;03m# Create the item input and point input layers\u001b[39;00m\n",
      "File \u001b[1;32mc:\\Users\\Lenovo\\AppData\\Local\\Programs\\Python\\Python312\\Lib\\site-packages\\keras\\src\\utils\\traceback_utils.py:122\u001b[0m, in \u001b[0;36mfilter_traceback.<locals>.error_handler\u001b[1;34m(*args, **kwargs)\u001b[0m\n\u001b[0;32m    119\u001b[0m     filtered_tb \u001b[38;5;241m=\u001b[39m _process_traceback_frames(e\u001b[38;5;241m.\u001b[39m__traceback__)\n\u001b[0;32m    120\u001b[0m     \u001b[38;5;66;03m# To get the full stack trace, call:\u001b[39;00m\n\u001b[0;32m    121\u001b[0m     \u001b[38;5;66;03m# `keras.config.disable_traceback_filtering()`\u001b[39;00m\n\u001b[1;32m--> 122\u001b[0m     \u001b[38;5;28;01mraise\u001b[39;00m e\u001b[38;5;241m.\u001b[39mwith_traceback(filtered_tb) \u001b[38;5;28;01mfrom\u001b[39;00m \u001b[38;5;28;01mNone\u001b[39;00m\n\u001b[0;32m    123\u001b[0m \u001b[38;5;28;01mfinally\u001b[39;00m:\n\u001b[0;32m    124\u001b[0m     \u001b[38;5;28;01mdel\u001b[39;00m filtered_tb\n",
      "File \u001b[1;32mc:\\Users\\Lenovo\\AppData\\Local\\Programs\\Python\\Python312\\Lib\\inspect.py:3273\u001b[0m, in \u001b[0;36mSignature.bind\u001b[1;34m(self, *args, **kwargs)\u001b[0m\n\u001b[0;32m   3268\u001b[0m \u001b[38;5;28;01mdef\u001b[39;00m \u001b[38;5;21mbind\u001b[39m(\u001b[38;5;28mself\u001b[39m, \u001b[38;5;241m/\u001b[39m, \u001b[38;5;241m*\u001b[39margs, \u001b[38;5;241m*\u001b[39m\u001b[38;5;241m*\u001b[39mkwargs):\n\u001b[0;32m   3269\u001b[0m \u001b[38;5;250m    \u001b[39m\u001b[38;5;124;03m\"\"\"Get a BoundArguments object, that maps the passed `args`\u001b[39;00m\n\u001b[0;32m   3270\u001b[0m \u001b[38;5;124;03m    and `kwargs` to the function's signature.  Raises `TypeError`\u001b[39;00m\n\u001b[0;32m   3271\u001b[0m \u001b[38;5;124;03m    if the passed arguments can not be bound.\u001b[39;00m\n\u001b[0;32m   3272\u001b[0m \u001b[38;5;124;03m    \"\"\"\u001b[39;00m\n\u001b[1;32m-> 3273\u001b[0m     \u001b[38;5;28;01mreturn\u001b[39;00m \u001b[38;5;28;43mself\u001b[39;49m\u001b[38;5;241;43m.\u001b[39;49m\u001b[43m_bind\u001b[49m\u001b[43m(\u001b[49m\u001b[43margs\u001b[49m\u001b[43m,\u001b[49m\u001b[43m \u001b[49m\u001b[43mkwargs\u001b[49m\u001b[43m)\u001b[49m\n",
      "File \u001b[1;32mc:\\Users\\Lenovo\\AppData\\Local\\Programs\\Python\\Python312\\Lib\\inspect.py:3186\u001b[0m, in \u001b[0;36mSignature._bind\u001b[1;34m(self, args, kwargs, partial)\u001b[0m\n\u001b[0;32m   3184\u001b[0m                 msg \u001b[38;5;241m=\u001b[39m \u001b[38;5;124m'\u001b[39m\u001b[38;5;124mmissing a required\u001b[39m\u001b[38;5;132;01m{argtype}\u001b[39;00m\u001b[38;5;124m argument: \u001b[39m\u001b[38;5;132;01m{arg!r}\u001b[39;00m\u001b[38;5;124m'\u001b[39m\n\u001b[0;32m   3185\u001b[0m                 msg \u001b[38;5;241m=\u001b[39m msg\u001b[38;5;241m.\u001b[39mformat(arg\u001b[38;5;241m=\u001b[39mparam\u001b[38;5;241m.\u001b[39mname, argtype\u001b[38;5;241m=\u001b[39margtype)\n\u001b[1;32m-> 3186\u001b[0m                 \u001b[38;5;28;01mraise\u001b[39;00m \u001b[38;5;167;01mTypeError\u001b[39;00m(msg) \u001b[38;5;28;01mfrom\u001b[39;00m \u001b[38;5;28;01mNone\u001b[39;00m\n\u001b[0;32m   3187\u001b[0m \u001b[38;5;28;01melse\u001b[39;00m:\n\u001b[0;32m   3188\u001b[0m     \u001b[38;5;66;03m# We have a positional argument to process\u001b[39;00m\n\u001b[0;32m   3189\u001b[0m     \u001b[38;5;28;01mtry\u001b[39;00m:\n",
      "\u001b[1;31mTypeError\u001b[0m: missing a required argument: 'inputs'"
     ]
    }
   ],
   "source": [
    "tf.random.set_seed(42)\n",
    "num_outputs=32\n",
    "# Define the model for the user\n",
    "# The model is a simple feedforward neural network with 4 hidden layers\n",
    "User_NN=tf.keras.models.Sequential([\n",
    "    tf.keras.layers.Dense(256,activation='relu'),\n",
    "    tf.keras.layers.Dense(128,activation='relu'),\n",
    "    tf.keras.layers.Dense(64,activation='relu'),\n",
    "    tf.keras.layers.Dense(units=num_outputs,activation=\"linear\")    \n",
    "])\n",
    "\n",
    "item_NN=tf.keras.models.Sequential([\n",
    "    tf.keras.layers.Dense(256,activation='relu'),\n",
    "    tf.keras.layers.Dense(128,activation='relu'),\n",
    "    tf.keras.layers.Dense(64,activation='relu'),\n",
    "    tf.keras.layers.Dense(units=num_outputs,activation=\"linear\") \n",
    "])\n",
    "\n",
    "# Create the user input and point input layers\n",
    "user_input = tf.keras.Input(shape=(num_outputs,), name='user_input')\n",
    "vu=User_NN(input=user_input)\n",
    "vu=tf.linalg.norm(vu,axis=1)\n",
    "\n",
    "# Create the item input and point input layers\n",
    "item_input = tf.keras.Input(shape=(num_outputs,), name='item_input')\n",
    "va=item_NN(input=item_input)\n",
    "va=tf.linalg.norm(va,axis=1)\n",
    "\n",
    "#Compute the dot product of the user and item vectors\n",
    "dot_product = tf.keras.layers.Dot(axes=1)([vu, va])\n",
    "\n",
    "model=tf.keras.Model(inputs=[user_input, item_input], outputs=dot_product)\n",
    "\n",
    "model.summary()\n"
   ]
  },
  {
   "cell_type": "code",
   "execution_count": null,
   "id": "507e6f05",
   "metadata": {},
   "outputs": [],
   "source": [
    "# Compiling the model\n",
    "      \n",
    "model.compile(optimizer=tf.keras.optimizers.Adam(learning_rate=0.001), loss='mean_squared_error')"
   ]
  }
 ],
 "metadata": {
  "kernelspec": {
   "display_name": "Python 3",
   "language": "python",
   "name": "python3"
  },
  "language_info": {
   "codemirror_mode": {
    "name": "ipython",
    "version": 3
   },
   "file_extension": ".py",
   "mimetype": "text/x-python",
   "name": "python",
   "nbconvert_exporter": "python",
   "pygments_lexer": "ipython3",
   "version": "3.12.5"
  }
 },
 "nbformat": 4,
 "nbformat_minor": 5
}
