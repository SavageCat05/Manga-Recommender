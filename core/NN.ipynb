{
 "cells": [
  {
   "cell_type": "markdown",
   "id": "0db3612a",
   "metadata": {},
   "source": [
    "# Obtained_data:"
   ]
  },
  {
   "cell_type": "code",
   "execution_count": 16,
   "id": "ce088793",
   "metadata": {},
   "outputs": [],
   "source": [
    "import numpy as np "
   ]
  },
  {
   "cell_type": "code",
   "execution_count": null,
   "id": "ad86276c",
   "metadata": {},
   "outputs": [],
   "source": [
    "import pandas as pd\n",
    "user_data=pd.read_csv(\"Final_User_Dataset.csv\")\n",
    "item_data=pd.read_csv(\"Final_Anime_Dataset.csv\")\n",
    "user_input=pd.read_csv(\"User_input.csv\")\n",
    "\n"
   ]
  },
  {
   "cell_type": "code",
   "execution_count": null,
   "id": "7bbd5b8b",
   "metadata": {},
   "outputs": [
    {
     "data": {
      "text/plain": [
       "Index(['user_id', 'Username', 'Gender', 'Birth_Year', 'Mean Score',\n",
       "       'Completed', 'avg_Action', 'avg_Adventure', 'avg_Avant Garde',\n",
       "       'avg_Award Winning', 'avg_Boys Love', 'avg_Comedy', 'avg_Drama',\n",
       "       'avg_Ecchi', 'avg_Erotica', 'avg_Fantasy', 'avg_Girls Love',\n",
       "       'avg_Gourmet', 'avg_Hentai', 'avg_Horror', 'avg_Mystery', 'avg_Romance',\n",
       "       'avg_Sci-Fi', 'avg_Slice of Life', 'avg_Sports', 'avg_Supernatural',\n",
       "       'avg_Suspense'],\n",
       "      dtype='object')"
      ]
     },
     "execution_count": 3,
     "metadata": {},
     "output_type": "execute_result"
    }
   ],
   "source": [
    "user_data.columns"
   ]
  },
  {
   "cell_type": "code",
   "execution_count": null,
   "id": "ede8c699",
   "metadata": {},
   "outputs": [
    {
     "data": {
      "text/plain": [
       "Index(['anime_id', 'Name', 'English name', 'Other name', 'Score', 'Genres',\n",
       "       'Synopsis', 'Type', 'Episodes', 'Aired', 'Premiered', 'Status',\n",
       "       'Producers', 'Licensors', 'Studios', 'Source', 'Duration', 'Rating',\n",
       "       'Rank', 'Popularity', 'Favorites', 'Scored By', 'Members', 'Image URL',\n",
       "       'Genre_Action', 'Genre_Adventure', 'Genre_Avant Garde',\n",
       "       'Genre_Award Winning', 'Genre_Boys Love', 'Genre_Comedy', 'Genre_Drama',\n",
       "       'Genre_Ecchi', 'Genre_Erotica', 'Genre_Fantasy', 'Genre_Girls Love',\n",
       "       'Genre_Gourmet', 'Genre_Hentai', 'Genre_Horror', 'Genre_Mystery',\n",
       "       'Genre_Romance', 'Genre_Sci-Fi', 'Genre_Slice of Life', 'Genre_Sports',\n",
       "       'Genre_Supernatural', 'Genre_Suspense', 'Genre_UNKNOWN', 'Type_Movie',\n",
       "       'Type_Music', 'Type_ONA', 'Type_OVA', 'Type_Special', 'Type_TV',\n",
       "       'Type_UNKNOWN', 'Rating_G - All Ages', 'Rating_PG - Children',\n",
       "       'Rating_PG-13 - Teens 13 or older',\n",
       "       'Rating_R - 17+ (violence & profanity)', 'Rating_R+ - Mild Nudity',\n",
       "       'Rating_Rx - Hentai', 'Rating_UNKNOWN', 'Release_Year'],\n",
       "      dtype='object')"
      ]
     },
     "execution_count": 4,
     "metadata": {},
     "output_type": "execute_result"
    }
   ],
   "source": [
    "item_data.columns"
   ]
  },
  {
   "cell_type": "code",
   "execution_count": null,
   "id": "1fc7c9d1",
   "metadata": {},
   "outputs": [],
   "source": [
    "item_data.drop(columns=\"Type\", inplace=True)"
   ]
  },
  {
   "cell_type": "code",
   "execution_count": null,
   "id": "a0e42210",
   "metadata": {},
   "outputs": [
    {
     "name": "stdout",
     "output_type": "stream",
     "text": [
      "   user_id  Username  Birth_Year  Mean Score  Completed  avg_Action  \\\n",
      "0        1     Xinil        1985        7.37      233.0        7.68   \n",
      "1       20    vondur        1988        8.06       94.0        8.02   \n",
      "2       66    Hiromi        1990        7.53      148.0        7.49   \n",
      "3       82    Achtor        1989        7.17      153.0        7.36   \n",
      "4      112  luffykun        1983        8.77      125.0        8.60   \n",
      "\n",
      "   avg_Adventure  avg_Avant Garde  avg_Award Winning  avg_Boys Love  ...  \\\n",
      "0           7.90             8.00               8.18           7.06  ...   \n",
      "1           8.24             9.00               8.43           7.06  ...   \n",
      "2           7.31             7.00               7.90           7.06  ...   \n",
      "3           7.71             8.80               8.25           7.06  ...   \n",
      "4           8.36             7.91               9.80           7.06  ...   \n",
      "\n",
      "   avg_Mystery  avg_Romance  avg_Sci-Fi  avg_Slice of Life  avg_Sports  \\\n",
      "0         7.86         7.27        7.37               7.54        7.56   \n",
      "1         8.36         8.00        8.19               8.33        8.38   \n",
      "2         7.54         7.53        7.32               6.62        8.00   \n",
      "3         7.76         7.20        7.39               7.05        6.75   \n",
      "4         9.00         8.89        8.00               7.87        9.50   \n",
      "\n",
      "   avg_Supernatural  avg_Suspense  Gender_Female  Gender_Male  \\\n",
      "0              7.66          8.18              0            1   \n",
      "1              8.43          8.56              0            1   \n",
      "2              7.85          7.00              0            1   \n",
      "3              7.40          8.18              0            1   \n",
      "4              8.60         10.00              0            1   \n",
      "\n",
      "   Gender_Non-Binary  \n",
      "0                  0  \n",
      "1                  0  \n",
      "2                  0  \n",
      "3                  0  \n",
      "4                  0  \n",
      "\n",
      "[5 rows x 29 columns]\n"
     ]
    }
   ],
   "source": [
    "from sklearn.preprocessing import OneHotEncoder\n",
    "\n",
    "# Initialize the OneHotEncoder\n",
    "encoder = OneHotEncoder(sparse_output=False, drop=None, dtype=int)\n",
    "\n",
    "# Fit and transform the 'Gender' column\n",
    "gender_encoded = encoder.fit_transform(user_data[['Gender']])\n",
    "\n",
    "# Get the column names for the encoded features\n",
    "gender_columns = encoder.get_feature_names_out(['Gender'])\n",
    "\n",
    "# Create a DataFrame for the encoded features\n",
    "gender_encoded_df = pd.DataFrame(gender_encoded, columns=gender_columns)\n",
    "\n",
    "# Concatenate the one-hot encoded columns with the original DataFrame\n",
    "user_data = pd.concat([user_data, gender_encoded_df], axis=1)\n",
    "\n",
    "# Drop the original 'Gender' column if no longer needed\n",
    "user_data.drop(columns=['Gender'], inplace=True)\n",
    "\n",
    "# Display the updated DataFrame\n",
    "print(user_data.head())"
   ]
  },
  {
   "cell_type": "code",
   "execution_count": null,
   "id": "c5d8dede",
   "metadata": {},
   "outputs": [
    {
     "data": {
      "text/plain": [
       "(71285, 29)"
      ]
     },
     "execution_count": 7,
     "metadata": {},
     "output_type": "execute_result"
    }
   ],
   "source": [
    "user_data.shape"
   ]
  },
  {
   "cell_type": "code",
   "execution_count": null,
   "id": "9dcd0112",
   "metadata": {},
   "outputs": [
    {
     "data": {
      "text/plain": [
       "Index(['user_id', 'Username', 'Birth_Year', 'Mean Score', 'Completed',\n",
       "       'avg_Action', 'avg_Adventure', 'avg_Avant Garde', 'avg_Award Winning',\n",
       "       'avg_Boys Love', 'avg_Comedy', 'avg_Drama', 'avg_Ecchi', 'avg_Erotica',\n",
       "       'avg_Fantasy', 'avg_Girls Love', 'avg_Gourmet', 'avg_Hentai',\n",
       "       'avg_Horror', 'avg_Mystery', 'avg_Romance', 'avg_Sci-Fi',\n",
       "       'avg_Slice of Life', 'avg_Sports', 'avg_Supernatural', 'avg_Suspense',\n",
       "       'Gender_Female', 'Gender_Male', 'Gender_Non-Binary'],\n",
       "      dtype='object')"
      ]
     },
     "execution_count": 8,
     "metadata": {},
     "output_type": "execute_result"
    }
   ],
   "source": [
    "user_data.columns"
   ]
  },
  {
   "cell_type": "code",
   "execution_count": null,
   "id": "48596c15",
   "metadata": {},
   "outputs": [
    {
     "data": {
      "text/plain": [
       "Index(['anime_id', 'Name', 'English name', 'Other name', 'Score', 'Genres',\n",
       "       'Synopsis', 'Episodes', 'Aired', 'Premiered', 'Status', 'Producers',\n",
       "       'Licensors', 'Studios', 'Source', 'Duration', 'Rating', 'Rank',\n",
       "       'Popularity', 'Favorites', 'Scored By', 'Members', 'Image URL',\n",
       "       'Genre_Action', 'Genre_Adventure', 'Genre_Avant Garde',\n",
       "       'Genre_Award Winning', 'Genre_Boys Love', 'Genre_Comedy', 'Genre_Drama',\n",
       "       'Genre_Ecchi', 'Genre_Erotica', 'Genre_Fantasy', 'Genre_Girls Love',\n",
       "       'Genre_Gourmet', 'Genre_Hentai', 'Genre_Horror', 'Genre_Mystery',\n",
       "       'Genre_Romance', 'Genre_Sci-Fi', 'Genre_Slice of Life', 'Genre_Sports',\n",
       "       'Genre_Supernatural', 'Genre_Suspense', 'Genre_UNKNOWN', 'Type_Movie',\n",
       "       'Type_Music', 'Type_ONA', 'Type_OVA', 'Type_Special', 'Type_TV',\n",
       "       'Type_UNKNOWN', 'Rating_G - All Ages', 'Rating_PG - Children',\n",
       "       'Rating_PG-13 - Teens 13 or older',\n",
       "       'Rating_R - 17+ (violence & profanity)', 'Rating_R+ - Mild Nudity',\n",
       "       'Rating_Rx - Hentai', 'Rating_UNKNOWN', 'Release_Year'],\n",
       "      dtype='object')"
      ]
     },
     "execution_count": 9,
     "metadata": {},
     "output_type": "execute_result"
    }
   ],
   "source": [
    "item_data.columns\n"
   ]
  },
  {
   "cell_type": "code",
   "execution_count": null,
   "id": "e2b9f364",
   "metadata": {},
   "outputs": [
    {
     "data": {
      "text/plain": [
       "anime_id                                    0\n",
       "Name                                        0\n",
       "English name                                0\n",
       "Other name                                  0\n",
       "Score                                    9213\n",
       "Genres                                      0\n",
       "Synopsis                                    0\n",
       "Episodes                                    0\n",
       "Aired                                       0\n",
       "Premiered                                   0\n",
       "Status                                      0\n",
       "Producers                                   0\n",
       "Licensors                                   0\n",
       "Studios                                     0\n",
       "Source                                      0\n",
       "Duration                                    0\n",
       "Rating                                      0\n",
       "Rank                                        0\n",
       "Popularity                                  0\n",
       "Favorites                                   0\n",
       "Scored By                                   0\n",
       "Members                                     0\n",
       "Image URL                                   0\n",
       "Genre_Action                                0\n",
       "Genre_Adventure                             0\n",
       "Genre_Avant Garde                           0\n",
       "Genre_Award Winning                         0\n",
       "Genre_Boys Love                             0\n",
       "Genre_Comedy                                0\n",
       "Genre_Drama                                 0\n",
       "Genre_Ecchi                                 0\n",
       "Genre_Erotica                               0\n",
       "Genre_Fantasy                               0\n",
       "Genre_Girls Love                            0\n",
       "Genre_Gourmet                               0\n",
       "Genre_Hentai                                0\n",
       "Genre_Horror                                0\n",
       "Genre_Mystery                               0\n",
       "Genre_Romance                               0\n",
       "Genre_Sci-Fi                                0\n",
       "Genre_Slice of Life                         0\n",
       "Genre_Sports                                0\n",
       "Genre_Supernatural                          0\n",
       "Genre_Suspense                              0\n",
       "Genre_UNKNOWN                               0\n",
       "Type_Movie                                  0\n",
       "Type_Music                                  0\n",
       "Type_ONA                                    0\n",
       "Type_OVA                                    0\n",
       "Type_Special                                0\n",
       "Type_TV                                     0\n",
       "Type_UNKNOWN                                0\n",
       "Rating_G - All Ages                         0\n",
       "Rating_PG - Children                        0\n",
       "Rating_PG-13 - Teens 13 or older            0\n",
       "Rating_R - 17+ (violence & profanity)       0\n",
       "Rating_R+ - Mild Nudity                     0\n",
       "Rating_Rx - Hentai                          0\n",
       "Rating_UNKNOWN                              0\n",
       "Release_Year                             4659\n",
       "dtype: int64"
      ]
     },
     "execution_count": 10,
     "metadata": {},
     "output_type": "execute_result"
    }
   ],
   "source": [
    "\n",
    "item_data.isna().sum()"
   ]
  },
  {
   "cell_type": "code",
   "execution_count": null,
   "id": "a067f280",
   "metadata": {},
   "outputs": [],
   "source": [
    "filtered_item_data_df = item_data.drop(columns=[\"Genres\",\"Episodes\",\"Rating_UNKNOWN\",'Producers','Aired',\"Premiered\",\"Status\",\"Studios\",\"Licensors\",\"Duration\"])"
   ]
  },
  {
   "cell_type": "code",
   "execution_count": null,
   "id": "4e1ea698",
   "metadata": {},
   "outputs": [
    {
     "data": {
      "text/plain": [
       "Index(['anime_id', 'Name', 'English name', 'Other name', 'Score', 'Synopsis',\n",
       "       'Source', 'Rating', 'Rank', 'Popularity', 'Favorites', 'Scored By',\n",
       "       'Members', 'Image URL', 'Genre_Action', 'Genre_Adventure',\n",
       "       'Genre_Avant Garde', 'Genre_Award Winning', 'Genre_Boys Love',\n",
       "       'Genre_Comedy', 'Genre_Drama', 'Genre_Ecchi', 'Genre_Erotica',\n",
       "       'Genre_Fantasy', 'Genre_Girls Love', 'Genre_Gourmet', 'Genre_Hentai',\n",
       "       'Genre_Horror', 'Genre_Mystery', 'Genre_Romance', 'Genre_Sci-Fi',\n",
       "       'Genre_Slice of Life', 'Genre_Sports', 'Genre_Supernatural',\n",
       "       'Genre_Suspense', 'Genre_UNKNOWN', 'Type_Movie', 'Type_Music',\n",
       "       'Type_ONA', 'Type_OVA', 'Type_Special', 'Type_TV', 'Type_UNKNOWN',\n",
       "       'Rating_G - All Ages', 'Rating_PG - Children',\n",
       "       'Rating_PG-13 - Teens 13 or older',\n",
       "       'Rating_R - 17+ (violence & profanity)', 'Rating_R+ - Mild Nudity',\n",
       "       'Rating_Rx - Hentai', 'Release_Year'],\n",
       "      dtype='object')"
      ]
     },
     "execution_count": 12,
     "metadata": {},
     "output_type": "execute_result"
    }
   ],
   "source": [
    "filtered_item_data_df.columns"
   ]
  },
  {
   "cell_type": "code",
   "execution_count": null,
   "id": "f5df5f3a",
   "metadata": {},
   "outputs": [
    {
     "data": {
      "text/plain": [
       "(24905, 50)"
      ]
     },
     "execution_count": 13,
     "metadata": {},
     "output_type": "execute_result"
    }
   ],
   "source": [
    "filtered_item_data_df.shape"
   ]
  },
  {
   "cell_type": "code",
   "execution_count": null,
   "id": "03cacdfb",
   "metadata": {},
   "outputs": [],
   "source": [
    "# Keep rows where both 'Score' and 'Release_Year' are not null\n",
    "filtered_item_data_df = filtered_item_data_df[filtered_item_data_df[\"Score\"].notna() & filtered_item_data_df[\"Release_Year\"].notna()]"
   ]
  },
  {
   "cell_type": "code",
   "execution_count": null,
   "id": "f8ed202c",
   "metadata": {},
   "outputs": [
    {
     "name": "stdout",
     "output_type": "stream",
     "text": [
      "anime_id                                 0\n",
      "Name                                     0\n",
      "English name                             0\n",
      "Other name                               0\n",
      "Score                                    0\n",
      "Synopsis                                 0\n",
      "Source                                   0\n",
      "Rating                                   0\n",
      "Rank                                     0\n",
      "Popularity                               0\n",
      "Favorites                                0\n",
      "Scored By                                0\n",
      "Members                                  0\n",
      "Image URL                                0\n",
      "Genre_Action                             0\n",
      "Genre_Adventure                          0\n",
      "Genre_Avant Garde                        0\n",
      "Genre_Award Winning                      0\n",
      "Genre_Boys Love                          0\n",
      "Genre_Comedy                             0\n",
      "Genre_Drama                              0\n",
      "Genre_Ecchi                              0\n",
      "Genre_Erotica                            0\n",
      "Genre_Fantasy                            0\n",
      "Genre_Girls Love                         0\n",
      "Genre_Gourmet                            0\n",
      "Genre_Hentai                             0\n",
      "Genre_Horror                             0\n",
      "Genre_Mystery                            0\n",
      "Genre_Romance                            0\n",
      "Genre_Sci-Fi                             0\n",
      "Genre_Slice of Life                      0\n",
      "Genre_Sports                             0\n",
      "Genre_Supernatural                       0\n",
      "Genre_Suspense                           0\n",
      "Genre_UNKNOWN                            0\n",
      "Type_Movie                               0\n",
      "Type_Music                               0\n",
      "Type_ONA                                 0\n",
      "Type_OVA                                 0\n",
      "Type_Special                             0\n",
      "Type_TV                                  0\n",
      "Type_UNKNOWN                             0\n",
      "Rating_G - All Ages                      0\n",
      "Rating_PG - Children                     0\n",
      "Rating_PG-13 - Teens 13 or older         0\n",
      "Rating_R - 17+ (violence & profanity)    0\n",
      "Rating_R+ - Mild Nudity                  0\n",
      "Rating_Rx - Hentai                       0\n",
      "Release_Year                             0\n",
      "dtype: int64\n"
     ]
    }
   ],
   "source": [
    "print(filtered_item_data_df.isna().sum())"
   ]
  },
  {
   "cell_type": "code",
   "execution_count": null,
   "id": "92e25c3e",
   "metadata": {},
   "outputs": [
    {
     "data": {
      "text/plain": [
       "(14754, 50)"
      ]
     },
     "execution_count": 17,
     "metadata": {},
     "output_type": "execute_result"
    }
   ],
   "source": [
    "filtered_item_data_df.shape"
   ]
  },
  {
   "cell_type": "code",
   "execution_count": null,
   "id": "d7775449",
   "metadata": {},
   "outputs": [
    {
     "data": {
      "text/plain": [
       "Index(['user_id', 'Username', 'Birth_Year', 'Mean Score', 'Completed',\n",
       "       'avg_Action', 'avg_Adventure', 'avg_Avant Garde', 'avg_Award Winning',\n",
       "       'avg_Boys Love', 'avg_Comedy', 'avg_Drama', 'avg_Ecchi', 'avg_Erotica',\n",
       "       'avg_Fantasy', 'avg_Girls Love', 'avg_Gourmet', 'avg_Hentai',\n",
       "       'avg_Horror', 'avg_Mystery', 'avg_Romance', 'avg_Sci-Fi',\n",
       "       'avg_Slice of Life', 'avg_Sports', 'avg_Supernatural', 'avg_Suspense',\n",
       "       'Gender_Female', 'Gender_Male', 'Gender_Non-Binary'],\n",
       "      dtype='object')"
      ]
     },
     "execution_count": 20,
     "metadata": {},
     "output_type": "execute_result"
    }
   ],
   "source": [
    "user_data.columns"
   ]
  },
  {
   "cell_type": "code",
   "execution_count": null,
   "id": "11a73dda",
   "metadata": {},
   "outputs": [
    {
     "data": {
      "text/plain": [
       "Index(['anime_id', 'Name', 'English name', 'Other name', 'Score', 'Synopsis',\n",
       "       'Source', 'Rating', 'Rank', 'Popularity', 'Favorites', 'Scored By',\n",
       "       'Members', 'Image URL', 'Genre_Action', 'Genre_Adventure',\n",
       "       'Genre_Avant Garde', 'Genre_Award Winning', 'Genre_Boys Love',\n",
       "       'Genre_Comedy', 'Genre_Drama', 'Genre_Ecchi', 'Genre_Erotica',\n",
       "       'Genre_Fantasy', 'Genre_Girls Love', 'Genre_Gourmet', 'Genre_Hentai',\n",
       "       'Genre_Horror', 'Genre_Mystery', 'Genre_Romance', 'Genre_Sci-Fi',\n",
       "       'Genre_Slice of Life', 'Genre_Sports', 'Genre_Supernatural',\n",
       "       'Genre_Suspense', 'Genre_UNKNOWN', 'Type_Movie', 'Type_Music',\n",
       "       'Type_ONA', 'Type_OVA', 'Type_Special', 'Type_TV', 'Type_UNKNOWN',\n",
       "       'Rating_G - All Ages', 'Rating_PG - Children',\n",
       "       'Rating_PG-13 - Teens 13 or older',\n",
       "       'Rating_R - 17+ (violence & profanity)', 'Rating_R+ - Mild Nudity',\n",
       "       'Rating_Rx - Hentai', 'Release_Year'],\n",
       "      dtype='object')"
      ]
     },
     "execution_count": 18,
     "metadata": {},
     "output_type": "execute_result"
    }
   ],
   "source": [
    "filtered_item_data_df.columns"
   ]
  },
  {
   "cell_type": "code",
   "execution_count": 19,
   "id": "4f5dfc3e",
   "metadata": {},
   "outputs": [
    {
     "data": {
      "text/plain": [
       "Index(['Username', 'Gender', 'Mean Score', 'Completed', 'Birth_Year',\n",
       "       'user_id', 'anime_id', 'Anime Title', 'rating', 'Genres',\n",
       "       'Genre_Action', 'Genre_Adventure', 'Genre_Avant Garde',\n",
       "       'Genre_Award Winning', 'Genre_Boys Love', 'Genre_Comedy', 'Genre_Drama',\n",
       "       'Genre_Ecchi', 'Genre_Erotica', 'Genre_Fantasy', 'Genre_Girls Love',\n",
       "       'Genre_Gourmet', 'Genre_Hentai', 'Genre_Horror', 'Genre_Mystery',\n",
       "       'Genre_Romance', 'Genre_Sci-Fi', 'Genre_Slice of Life', 'Genre_Sports',\n",
       "       'Genre_Supernatural', 'Genre_Suspense'],\n",
       "      dtype='object')"
      ]
     },
     "execution_count": 19,
     "metadata": {},
     "output_type": "execute_result"
    }
   ],
   "source": [
    "user_input.columns"
   ]
  },
  {
   "cell_type": "code",
   "execution_count": 20,
   "id": "3886534c",
   "metadata": {},
   "outputs": [],
   "source": [
    "def prepare_training_data(user_input_df, user_data_df, filtered_item_data_df):\n",
    "    \"\"\"\n",
    "    Prepares training data for a neural network by merging dataframes and extracting\n",
    "    user features (X_U), anime features (X_A), and ratings (Y).\n",
    "    \n",
    "    Parameters:\n",
    "    -----------\n",
    "    user_input_df : DataFrame\n",
    "        Contains user ratings for anime with columns including user_id, anime_id, rating\n",
    "    user_data_df : DataFrame\n",
    "        Contains user demographic data and average genre ratings\n",
    "    filtered_item_data_df : DataFrame\n",
    "        Contains anime metadata including genres, types, and ratings\n",
    "        \n",
    "    Returns:\n",
    "    --------\n",
    "    dict\n",
    "        A dictionary containing:\n",
    "        - 'X_U': User features array\n",
    "        - 'X_A': Anime features array\n",
    "        - 'Y': Rating values array\n",
    "        - 'X_U_columns': List of column names for user features\n",
    "        - 'X_A_columns': List of column names for anime features\n",
    "        - 'Y_column': Name of the rating column\n",
    "        - 'X_U_indices': List of indices for user features\n",
    "        - 'X_A_indices': List of indices for anime features\n",
    "        - 'Y_index': Index of the rating column\n",
    "        - 'merged_df': The merged and cleaned dataframe\n",
    "    \"\"\"\n",
    "    import numpy as np\n",
    "    \n",
    "    # Step 1: Merge dataframes\n",
    "    merged_df = user_input_df.merge(user_data_df, on='user_id')\n",
    "    merged_df = merged_df.merge(filtered_item_data_df, on='anime_id')\n",
    "    \n",
    "    # Step 2: Identify columns to drop (non-numerical or identifiers)\n",
    "    columns_to_drop = ['Username', 'user_id', 'anime_id', 'Anime Title', \n",
    "                      'Name', 'English name', 'Other name', 'Synopsis', \n",
    "                      'Source', 'Image URL']\n",
    "    \n",
    "    # Only drop columns that actually exist in the merged dataframe\n",
    "    columns_to_drop = [col for col in columns_to_drop if col in merged_df.columns]\n",
    "    \n",
    "    # Drop identified columns\n",
    "    cleaned_df = merged_df.drop(columns_to_drop, axis=1)\n",
    "    \n",
    "    # Step 3: Define columns for each component\n",
    "    X_U_columns = ['Birth_Year', 'Mean Score', 'Completed',\n",
    "                  'avg_Action', 'avg_Adventure', 'avg_Avant Garde', 'avg_Award Winning',\n",
    "                  'avg_Boys Love', 'avg_Comedy', 'avg_Drama', 'avg_Ecchi', 'avg_Erotica',\n",
    "                  'avg_Fantasy', 'avg_Girls Love', 'avg_Gourmet', 'avg_Hentai',\n",
    "                  'avg_Horror', 'avg_Mystery', 'avg_Romance', 'avg_Sci-Fi',\n",
    "                  'avg_Slice of Life', 'avg_Sports', 'avg_Supernatural', 'avg_Suspense',\n",
    "                  'Gender_Female', 'Gender_Male', 'Gender_Non-Binary']\n",
    "    \n",
    "    X_A_columns = ['Score', 'Rating', 'Rank', 'Popularity', 'Favorites', 'Scored By',\n",
    "                  'Members', 'Release_Year',\n",
    "                  'Genre_Action', 'Genre_Adventure', 'Genre_Avant Garde', 'Genre_Award Winning',\n",
    "                  'Genre_Boys Love', 'Genre_Comedy', 'Genre_Drama', 'Genre_Ecchi', 'Genre_Erotica',\n",
    "                  'Genre_Fantasy', 'Genre_Girls Love', 'Genre_Gourmet', 'Genre_Hentai',\n",
    "                  'Genre_Horror', 'Genre_Mystery', 'Genre_Romance', 'Genre_Sci-Fi',\n",
    "                  'Genre_Slice of Life', 'Genre_Sports', 'Genre_Supernatural',\n",
    "                  'Genre_Suspense', 'Genre_UNKNOWN',\n",
    "                  'Type_Movie', 'Type_Music', 'Type_ONA', 'Type_OVA', 'Type_Special', 'Type_TV', 'Type_UNKNOWN',\n",
    "                  'Rating_G - All Ages', 'Rating_PG - Children', 'Rating_PG-13 - Teens 13 or older',\n",
    "                  'Rating_R - 17+ (violence & profanity)', 'Rating_R+ - Mild Nudity', 'Rating_Rx - Hentai']\n",
    "    \n",
    "    Y_column = 'rating'\n",
    "    \n",
    "    # Filter to include only columns that exist in the cleaned dataframe\n",
    "    X_U_columns = [col for col in X_U_columns if col in cleaned_df.columns]\n",
    "    X_A_columns = [col for col in X_A_columns if col in cleaned_df.columns]\n",
    "    \n",
    "    # Verify rating column exists\n",
    "    if Y_column not in cleaned_df.columns:\n",
    "        raise ValueError(f\"Rating column '{Y_column}' not found in merged dataframe\")\n",
    "    \n",
    "    # Step 4: Get indices for each component\n",
    "    X_U_indices = [cleaned_df.columns.get_loc(col) for col in X_U_columns]\n",
    "    X_A_indices = [cleaned_df.columns.get_loc(col) for col in X_A_columns]\n",
    "    Y_index = cleaned_df.columns.get_loc(Y_column)\n",
    "    \n",
    "    # Step 5: Extract features using indices\n",
    "    X_U = cleaned_df.iloc[:, X_U_indices].values\n",
    "    X_A = cleaned_df.iloc[:, X_A_indices].values\n",
    "    Y = cleaned_df.iloc[:, Y_index].values\n",
    "    \n",
    "    # Return all relevant data and metadata\n",
    "    return {\n",
    "        'X_U': X_U,\n",
    "        'X_A': X_A,\n",
    "        'Y': Y,\n",
    "        'X_U_columns': X_U_columns,\n",
    "        'X_A_columns': X_A_columns,\n",
    "        'Y_column': Y_column,\n",
    "        'X_U_indices': X_U_indices,\n",
    "        'X_A_indices': X_A_indices,\n",
    "        'Y_index': Y_index,\n",
    "        'merged_df': cleaned_df\n",
    "    }"
   ]
  },
  {
   "cell_type": "code",
   "execution_count": 22,
   "id": "486c4d0c",
   "metadata": {},
   "outputs": [],
   "source": [
    "result = prepare_training_data(user_input, user_data, filtered_item_data_df)\n",
    "\n",
    "# Access the prepared data\n",
    "X_U = result['X_U']  # User features\n",
    "X_A = result['X_A']  # Anime features\n",
    "Y = result['Y']      # Ratings\n",
    "\n",
    "# You can also access indices if needed\n",
    "X_U_indices = result['X_U_indices']\n",
    "X_A_indices = result['X_A_indices']"
   ]
  },
  {
   "cell_type": "code",
   "execution_count": 23,
   "id": "ed29ca73",
   "metadata": {},
   "outputs": [
    {
     "data": {
      "text/plain": [
       "(8443619, 24)"
      ]
     },
     "execution_count": 23,
     "metadata": {},
     "output_type": "execute_result"
    }
   ],
   "source": [
    "X_U.shape"
   ]
  },
  {
   "cell_type": "code",
   "execution_count": 24,
   "id": "2ead081d",
   "metadata": {},
   "outputs": [
    {
     "data": {
      "text/plain": [
       "(8443619, 22)"
      ]
     },
     "execution_count": 24,
     "metadata": {},
     "output_type": "execute_result"
    }
   ],
   "source": [
    "X_A.shape"
   ]
  },
  {
   "cell_type": "code",
   "execution_count": 25,
   "id": "dad9a37e",
   "metadata": {},
   "outputs": [
    {
     "data": {
      "text/plain": [
       "(8443619,)"
      ]
     },
     "execution_count": 25,
     "metadata": {},
     "output_type": "execute_result"
    }
   ],
   "source": [
    "Y.shape"
   ]
  },
  {
   "cell_type": "code",
   "execution_count": 26,
   "id": "c8bb3363",
   "metadata": {},
   "outputs": [
    {
     "data": {
      "text/plain": [
       "array([9, 7, 5, 8, 8, 8, 7, 5, 6, 7], dtype=int64)"
      ]
     },
     "execution_count": 26,
     "metadata": {},
     "output_type": "execute_result"
    }
   ],
   "source": [
    "Y[:10]"
   ]
  },
  {
   "cell_type": "markdown",
   "id": "6d561d94",
   "metadata": {},
   "source": [
    "# Neural Network for implementing Content Based Filtering:"
   ]
  },
  {
   "cell_type": "code",
   "execution_count": 30,
   "id": "30fd1563",
   "metadata": {},
   "outputs": [],
   "source": [
    "import numpy as np\n",
    "import tensorflow as tf\n",
    "from tensorflow.keras import layers, models\n",
    "from sklearn.model_selection import train_test_split\n"
   ]
  },
  {
   "cell_type": "code",
   "execution_count": 31,
   "id": "23c72040",
   "metadata": {},
   "outputs": [
    {
     "name": "stdout",
     "output_type": "stream",
     "text": [
      "Training set: 5066171 samples\n",
      "Validation set: 1688724 samples\n",
      "Test set: 1688724 samples\n"
     ]
    }
   ],
   "source": [
    "from sklearn.model_selection import train_test_split\n",
    "from sklearn.preprocessing import StandardScaler\n",
    "import tensorflow as tf\n",
    "import numpy as np\n",
    "\n",
    "# --- Scaling the data ---\n",
    "# Create scalers\n",
    "user_scaler = StandardScaler()\n",
    "anime_scaler = StandardScaler()\n",
    "\n",
    "# Scale the features\n",
    "X_U_scaled = user_scaler.fit_transform(X_U)\n",
    "X_A_scaled = anime_scaler.fit_transform(X_A)\n",
    "\n",
    "# --- Splitting the scaled data ---\n",
    "# First split: 80% train+val, 20% test\n",
    "X_U_temp, X_U_test, X_A_temp, X_A_test, Y_temp, Y_test = train_test_split(\n",
    "    X_U_scaled, X_A_scaled, Y, test_size=0.2, random_state=42\n",
    ")\n",
    "\n",
    "# Second split: 75% train, 25% validation (results in 60% train, 20% val, 20% test overall)\n",
    "X_U_train, X_U_val, X_A_train, X_A_val, Y_train, Y_val = train_test_split(\n",
    "    X_U_temp, X_A_temp, Y_temp, test_size=0.25, random_state=42\n",
    ")\n",
    "\n",
    "print(f\"Training set: {X_U_train.shape[0]} samples\")\n",
    "print(f\"Validation set: {X_U_val.shape[0]} samples\")\n",
    "print(f\"Test set: {X_U_test.shape[0]} samples\")\n",
    "\n",
    "\n"
   ]
  },
  {
   "cell_type": "code",
   "execution_count": 33,
   "id": "507e6f05",
   "metadata": {},
   "outputs": [
    {
     "data": {
      "text/html": [
       "<pre style=\"white-space:pre;overflow-x:auto;line-height:normal;font-family:Menlo,'DejaVu Sans Mono',consolas,'Courier New',monospace\"><span style=\"font-weight: bold\">Model: \"functional_11\"</span>\n",
       "</pre>\n"
      ],
      "text/plain": [
       "\u001b[1mModel: \"functional_11\"\u001b[0m\n"
      ]
     },
     "metadata": {},
     "output_type": "display_data"
    },
    {
     "data": {
      "text/html": [
       "<pre style=\"white-space:pre;overflow-x:auto;line-height:normal;font-family:Menlo,'DejaVu Sans Mono',consolas,'Courier New',monospace\">┏━━━━━━━━━━━━━━━━━━━━━┳━━━━━━━━━━━━━━━━━━━┳━━━━━━━━━━━━┳━━━━━━━━━━━━━━━━━━━┓\n",
       "┃<span style=\"font-weight: bold\"> Layer (type)        </span>┃<span style=\"font-weight: bold\"> Output Shape      </span>┃<span style=\"font-weight: bold\">    Param # </span>┃<span style=\"font-weight: bold\"> Connected to      </span>┃\n",
       "┡━━━━━━━━━━━━━━━━━━━━━╇━━━━━━━━━━━━━━━━━━━╇━━━━━━━━━━━━╇━━━━━━━━━━━━━━━━━━━┩\n",
       "│ user_input          │ (<span style=\"color: #00d7ff; text-decoration-color: #00d7ff\">None</span>, <span style=\"color: #00af00; text-decoration-color: #00af00\">24</span>)        │          <span style=\"color: #00af00; text-decoration-color: #00af00\">0</span> │ -                 │\n",
       "│ (<span style=\"color: #0087ff; text-decoration-color: #0087ff\">InputLayer</span>)        │                   │            │                   │\n",
       "├─────────────────────┼───────────────────┼────────────┼───────────────────┤\n",
       "│ item_input          │ (<span style=\"color: #00d7ff; text-decoration-color: #00d7ff\">None</span>, <span style=\"color: #00af00; text-decoration-color: #00af00\">22</span>)        │          <span style=\"color: #00af00; text-decoration-color: #00af00\">0</span> │ -                 │\n",
       "│ (<span style=\"color: #0087ff; text-decoration-color: #0087ff\">InputLayer</span>)        │                   │            │                   │\n",
       "├─────────────────────┼───────────────────┼────────────┼───────────────────┤\n",
       "│ user_nn             │ (<span style=\"color: #00d7ff; text-decoration-color: #00d7ff\">None</span>, <span style=\"color: #00af00; text-decoration-color: #00af00\">32</span>)        │     <span style=\"color: #00af00; text-decoration-color: #00af00\">51,424</span> │ user_input[<span style=\"color: #00af00; text-decoration-color: #00af00\">0</span>][<span style=\"color: #00af00; text-decoration-color: #00af00\">0</span>]  │\n",
       "│ (<span style=\"color: #0087ff; text-decoration-color: #0087ff\">Sequential</span>)        │                   │            │                   │\n",
       "├─────────────────────┼───────────────────┼────────────┼───────────────────┤\n",
       "│ item_nn             │ (<span style=\"color: #00d7ff; text-decoration-color: #00d7ff\">None</span>, <span style=\"color: #00af00; text-decoration-color: #00af00\">32</span>)        │     <span style=\"color: #00af00; text-decoration-color: #00af00\">50,912</span> │ item_input[<span style=\"color: #00af00; text-decoration-color: #00af00\">0</span>][<span style=\"color: #00af00; text-decoration-color: #00af00\">0</span>]  │\n",
       "│ (<span style=\"color: #0087ff; text-decoration-color: #0087ff\">Sequential</span>)        │                   │            │                   │\n",
       "├─────────────────────┼───────────────────┼────────────┼───────────────────┤\n",
       "│ dot_3 (<span style=\"color: #0087ff; text-decoration-color: #0087ff\">Dot</span>)         │ (<span style=\"color: #00d7ff; text-decoration-color: #00d7ff\">None</span>, <span style=\"color: #00af00; text-decoration-color: #00af00\">1</span>)         │          <span style=\"color: #00af00; text-decoration-color: #00af00\">0</span> │ user_nn[<span style=\"color: #00af00; text-decoration-color: #00af00\">0</span>][<span style=\"color: #00af00; text-decoration-color: #00af00\">0</span>],    │\n",
       "│                     │                   │            │ item_nn[<span style=\"color: #00af00; text-decoration-color: #00af00\">0</span>][<span style=\"color: #00af00; text-decoration-color: #00af00\">0</span>]     │\n",
       "└─────────────────────┴───────────────────┴────────────┴───────────────────┘\n",
       "</pre>\n"
      ],
      "text/plain": [
       "┏━━━━━━━━━━━━━━━━━━━━━┳━━━━━━━━━━━━━━━━━━━┳━━━━━━━━━━━━┳━━━━━━━━━━━━━━━━━━━┓\n",
       "┃\u001b[1m \u001b[0m\u001b[1mLayer (type)       \u001b[0m\u001b[1m \u001b[0m┃\u001b[1m \u001b[0m\u001b[1mOutput Shape     \u001b[0m\u001b[1m \u001b[0m┃\u001b[1m \u001b[0m\u001b[1m   Param #\u001b[0m\u001b[1m \u001b[0m┃\u001b[1m \u001b[0m\u001b[1mConnected to     \u001b[0m\u001b[1m \u001b[0m┃\n",
       "┡━━━━━━━━━━━━━━━━━━━━━╇━━━━━━━━━━━━━━━━━━━╇━━━━━━━━━━━━╇━━━━━━━━━━━━━━━━━━━┩\n",
       "│ user_input          │ (\u001b[38;5;45mNone\u001b[0m, \u001b[38;5;34m24\u001b[0m)        │          \u001b[38;5;34m0\u001b[0m │ -                 │\n",
       "│ (\u001b[38;5;33mInputLayer\u001b[0m)        │                   │            │                   │\n",
       "├─────────────────────┼───────────────────┼────────────┼───────────────────┤\n",
       "│ item_input          │ (\u001b[38;5;45mNone\u001b[0m, \u001b[38;5;34m22\u001b[0m)        │          \u001b[38;5;34m0\u001b[0m │ -                 │\n",
       "│ (\u001b[38;5;33mInputLayer\u001b[0m)        │                   │            │                   │\n",
       "├─────────────────────┼───────────────────┼────────────┼───────────────────┤\n",
       "│ user_nn             │ (\u001b[38;5;45mNone\u001b[0m, \u001b[38;5;34m32\u001b[0m)        │     \u001b[38;5;34m51,424\u001b[0m │ user_input[\u001b[38;5;34m0\u001b[0m][\u001b[38;5;34m0\u001b[0m]  │\n",
       "│ (\u001b[38;5;33mSequential\u001b[0m)        │                   │            │                   │\n",
       "├─────────────────────┼───────────────────┼────────────┼───────────────────┤\n",
       "│ item_nn             │ (\u001b[38;5;45mNone\u001b[0m, \u001b[38;5;34m32\u001b[0m)        │     \u001b[38;5;34m50,912\u001b[0m │ item_input[\u001b[38;5;34m0\u001b[0m][\u001b[38;5;34m0\u001b[0m]  │\n",
       "│ (\u001b[38;5;33mSequential\u001b[0m)        │                   │            │                   │\n",
       "├─────────────────────┼───────────────────┼────────────┼───────────────────┤\n",
       "│ dot_3 (\u001b[38;5;33mDot\u001b[0m)         │ (\u001b[38;5;45mNone\u001b[0m, \u001b[38;5;34m1\u001b[0m)         │          \u001b[38;5;34m0\u001b[0m │ user_nn[\u001b[38;5;34m0\u001b[0m][\u001b[38;5;34m0\u001b[0m],    │\n",
       "│                     │                   │            │ item_nn[\u001b[38;5;34m0\u001b[0m][\u001b[38;5;34m0\u001b[0m]     │\n",
       "└─────────────────────┴───────────────────┴────────────┴───────────────────┘\n"
      ]
     },
     "metadata": {},
     "output_type": "display_data"
    },
    {
     "data": {
      "text/html": [
       "<pre style=\"white-space:pre;overflow-x:auto;line-height:normal;font-family:Menlo,'DejaVu Sans Mono',consolas,'Courier New',monospace\"><span style=\"font-weight: bold\"> Total params: </span><span style=\"color: #00af00; text-decoration-color: #00af00\">102,336</span> (399.75 KB)\n",
       "</pre>\n"
      ],
      "text/plain": [
       "\u001b[1m Total params: \u001b[0m\u001b[38;5;34m102,336\u001b[0m (399.75 KB)\n"
      ]
     },
     "metadata": {},
     "output_type": "display_data"
    },
    {
     "data": {
      "text/html": [
       "<pre style=\"white-space:pre;overflow-x:auto;line-height:normal;font-family:Menlo,'DejaVu Sans Mono',consolas,'Courier New',monospace\"><span style=\"font-weight: bold\"> Trainable params: </span><span style=\"color: #00af00; text-decoration-color: #00af00\">100,544</span> (392.75 KB)\n",
       "</pre>\n"
      ],
      "text/plain": [
       "\u001b[1m Trainable params: \u001b[0m\u001b[38;5;34m100,544\u001b[0m (392.75 KB)\n"
      ]
     },
     "metadata": {},
     "output_type": "display_data"
    },
    {
     "data": {
      "text/html": [
       "<pre style=\"white-space:pre;overflow-x:auto;line-height:normal;font-family:Menlo,'DejaVu Sans Mono',consolas,'Courier New',monospace\"><span style=\"font-weight: bold\"> Non-trainable params: </span><span style=\"color: #00af00; text-decoration-color: #00af00\">1,792</span> (7.00 KB)\n",
       "</pre>\n"
      ],
      "text/plain": [
       "\u001b[1m Non-trainable params: \u001b[0m\u001b[38;5;34m1,792\u001b[0m (7.00 KB)\n"
      ]
     },
     "metadata": {},
     "output_type": "display_data"
    },
    {
     "name": "stdout",
     "output_type": "stream",
     "text": [
      "Epoch 1/30\n",
      "\u001b[1m158318/158318\u001b[0m \u001b[32m━━━━━━━━━━━━━━━━━━━━\u001b[0m\u001b[37m\u001b[0m \u001b[1m463s\u001b[0m 3ms/step - loss: 2.9287 - mean_absolute_error: 1.1395 - val_loss: 1.6021 - val_mean_absolute_error: 0.9565 - learning_rate: 0.0010\n",
      "Epoch 2/30\n",
      "\u001b[1m158318/158318\u001b[0m \u001b[32m━━━━━━━━━━━━━━━━━━━━\u001b[0m\u001b[37m\u001b[0m \u001b[1m364s\u001b[0m 2ms/step - loss: 1.6655 - mean_absolute_error: 0.9821 - val_loss: 1.5739 - val_mean_absolute_error: 0.9492 - learning_rate: 0.0010\n",
      "Epoch 3/30\n",
      "\u001b[1m158318/158318\u001b[0m \u001b[32m━━━━━━━━━━━━━━━━━━━━\u001b[0m\u001b[37m\u001b[0m \u001b[1m358s\u001b[0m 2ms/step - loss: 1.6452 - mean_absolute_error: 0.9756 - val_loss: 1.5653 - val_mean_absolute_error: 0.9478 - learning_rate: 0.0010\n",
      "Epoch 4/30\n",
      "\u001b[1m158318/158318\u001b[0m \u001b[32m━━━━━━━━━━━━━━━━━━━━\u001b[0m\u001b[37m\u001b[0m \u001b[1m364s\u001b[0m 2ms/step - loss: 1.6356 - mean_absolute_error: 0.9725 - val_loss: 1.5565 - val_mean_absolute_error: 0.9456 - learning_rate: 0.0010\n",
      "Epoch 5/30\n",
      "\u001b[1m158318/158318\u001b[0m \u001b[32m━━━━━━━━━━━━━━━━━━━━\u001b[0m\u001b[37m\u001b[0m \u001b[1m325s\u001b[0m 2ms/step - loss: 1.6287 - mean_absolute_error: 0.9703 - val_loss: 1.5528 - val_mean_absolute_error: 0.9443 - learning_rate: 0.0010\n",
      "Epoch 6/30\n",
      "\u001b[1m158318/158318\u001b[0m \u001b[32m━━━━━━━━━━━━━━━━━━━━\u001b[0m\u001b[37m\u001b[0m \u001b[1m292s\u001b[0m 2ms/step - loss: 1.6244 - mean_absolute_error: 0.9691 - val_loss: 1.5505 - val_mean_absolute_error: 0.9440 - learning_rate: 0.0010\n",
      "Epoch 7/30\n",
      "\u001b[1m158318/158318\u001b[0m \u001b[32m━━━━━━━━━━━━━━━━━━━━\u001b[0m\u001b[37m\u001b[0m \u001b[1m272s\u001b[0m 2ms/step - loss: 1.6203 - mean_absolute_error: 0.9676 - val_loss: 1.5434 - val_mean_absolute_error: 0.9403 - learning_rate: 0.0010\n",
      "Epoch 8/30\n",
      "\u001b[1m158318/158318\u001b[0m \u001b[32m━━━━━━━━━━━━━━━━━━━━\u001b[0m\u001b[37m\u001b[0m \u001b[1m542s\u001b[0m 3ms/step - loss: 1.6185 - mean_absolute_error: 0.9670 - val_loss: 1.5419 - val_mean_absolute_error: 0.9399 - learning_rate: 0.0010\n",
      "Epoch 9/30\n",
      "\u001b[1m158318/158318\u001b[0m \u001b[32m━━━━━━━━━━━━━━━━━━━━\u001b[0m\u001b[37m\u001b[0m \u001b[1m1140s\u001b[0m 7ms/step - loss: 1.6166 - mean_absolute_error: 0.9665 - val_loss: 1.5398 - val_mean_absolute_error: 0.9394 - learning_rate: 0.0010\n",
      "Epoch 10/30\n",
      "\u001b[1m158318/158318\u001b[0m \u001b[32m━━━━━━━━━━━━━━━━━━━━\u001b[0m\u001b[37m\u001b[0m \u001b[1m790s\u001b[0m 5ms/step - loss: 1.6144 - mean_absolute_error: 0.9657 - val_loss: 1.5413 - val_mean_absolute_error: 0.9391 - learning_rate: 0.0010\n",
      "Epoch 11/30\n",
      "\u001b[1m158318/158318\u001b[0m \u001b[32m━━━━━━━━━━━━━━━━━━━━\u001b[0m\u001b[37m\u001b[0m \u001b[1m305s\u001b[0m 2ms/step - loss: 1.6128 - mean_absolute_error: 0.9652 - val_loss: 1.5381 - val_mean_absolute_error: 0.9386 - learning_rate: 0.0010\n",
      "Epoch 12/30\n",
      "\u001b[1m158318/158318\u001b[0m \u001b[32m━━━━━━━━━━━━━━━━━━━━\u001b[0m\u001b[37m\u001b[0m \u001b[1m273s\u001b[0m 2ms/step - loss: 1.6110 - mean_absolute_error: 0.9646 - val_loss: 1.5372 - val_mean_absolute_error: 0.9380 - learning_rate: 0.0010\n",
      "Epoch 13/30\n",
      "\u001b[1m158318/158318\u001b[0m \u001b[32m━━━━━━━━━━━━━━━━━━━━\u001b[0m\u001b[37m\u001b[0m \u001b[1m262s\u001b[0m 2ms/step - loss: 1.6090 - mean_absolute_error: 0.9640 - val_loss: 1.5327 - val_mean_absolute_error: 0.9373 - learning_rate: 0.0010\n",
      "Epoch 14/30\n",
      "\u001b[1m158318/158318\u001b[0m \u001b[32m━━━━━━━━━━━━━━━━━━━━\u001b[0m\u001b[37m\u001b[0m \u001b[1m268s\u001b[0m 2ms/step - loss: 1.6071 - mean_absolute_error: 0.9634 - val_loss: 1.5360 - val_mean_absolute_error: 0.9372 - learning_rate: 0.0010\n",
      "Epoch 15/30\n",
      "\u001b[1m158318/158318\u001b[0m \u001b[32m━━━━━━━━━━━━━━━━━━━━\u001b[0m\u001b[37m\u001b[0m \u001b[1m263s\u001b[0m 2ms/step - loss: 1.6061 - mean_absolute_error: 0.9631 - val_loss: 1.5309 - val_mean_absolute_error: 0.9365 - learning_rate: 0.0010\n",
      "Epoch 16/30\n",
      "\u001b[1m158318/158318\u001b[0m \u001b[32m━━━━━━━━━━━━━━━━━━━━\u001b[0m\u001b[37m\u001b[0m \u001b[1m280s\u001b[0m 2ms/step - loss: 1.6045 - mean_absolute_error: 0.9626 - val_loss: 1.5319 - val_mean_absolute_error: 0.9361 - learning_rate: 0.0010\n",
      "Epoch 17/30\n",
      "\u001b[1m158318/158318\u001b[0m \u001b[32m━━━━━━━━━━━━━━━━━━━━\u001b[0m\u001b[37m\u001b[0m \u001b[1m262s\u001b[0m 2ms/step - loss: 1.6039 - mean_absolute_error: 0.9625 - val_loss: 1.5291 - val_mean_absolute_error: 0.9350 - learning_rate: 0.0010\n",
      "Epoch 18/30\n",
      "\u001b[1m158318/158318\u001b[0m \u001b[32m━━━━━━━━━━━━━━━━━━━━\u001b[0m\u001b[37m\u001b[0m \u001b[1m271s\u001b[0m 2ms/step - loss: 1.6028 - mean_absolute_error: 0.9621 - val_loss: 1.5314 - val_mean_absolute_error: 0.9352 - learning_rate: 0.0010\n",
      "Epoch 19/30\n",
      "\u001b[1m158318/158318\u001b[0m \u001b[32m━━━━━━━━━━━━━━━━━━━━\u001b[0m\u001b[37m\u001b[0m \u001b[1m711s\u001b[0m 4ms/step - loss: 1.6014 - mean_absolute_error: 0.9618 - val_loss: 1.5264 - val_mean_absolute_error: 0.9348 - learning_rate: 0.0010\n",
      "Epoch 20/30\n",
      "\u001b[1m158318/158318\u001b[0m \u001b[32m━━━━━━━━━━━━━━━━━━━━\u001b[0m\u001b[37m\u001b[0m \u001b[1m822s\u001b[0m 5ms/step - loss: 1.6008 - mean_absolute_error: 0.9614 - val_loss: 1.5279 - val_mean_absolute_error: 0.9362 - learning_rate: 0.0010\n",
      "Epoch 21/30\n",
      "\u001b[1m158318/158318\u001b[0m \u001b[32m━━━━━━━━━━━━━━━━━━━━\u001b[0m\u001b[37m\u001b[0m \u001b[1m733s\u001b[0m 5ms/step - loss: 1.6002 - mean_absolute_error: 0.9613 - val_loss: 1.5258 - val_mean_absolute_error: 0.9345 - learning_rate: 0.0010\n",
      "Epoch 22/30\n",
      "\u001b[1m158318/158318\u001b[0m \u001b[32m━━━━━━━━━━━━━━━━━━━━\u001b[0m\u001b[37m\u001b[0m \u001b[1m757s\u001b[0m 5ms/step - loss: 1.5991 - mean_absolute_error: 0.9609 - val_loss: 1.5245 - val_mean_absolute_error: 0.9331 - learning_rate: 0.0010\n",
      "Epoch 23/30\n",
      "\u001b[1m158318/158318\u001b[0m \u001b[32m━━━━━━━━━━━━━━━━━━━━\u001b[0m\u001b[37m\u001b[0m \u001b[1m618s\u001b[0m 4ms/step - loss: 1.5983 - mean_absolute_error: 0.9606 - val_loss: 1.5312 - val_mean_absolute_error: 0.9346 - learning_rate: 0.0010\n",
      "Epoch 24/30\n",
      "\u001b[1m158318/158318\u001b[0m \u001b[32m━━━━━━━━━━━━━━━━━━━━\u001b[0m\u001b[37m\u001b[0m \u001b[1m384s\u001b[0m 2ms/step - loss: 1.5970 - mean_absolute_error: 0.9604 - val_loss: 1.5247 - val_mean_absolute_error: 0.9334 - learning_rate: 0.0010\n",
      "Epoch 25/30\n",
      "\u001b[1m158318/158318\u001b[0m \u001b[32m━━━━━━━━━━━━━━━━━━━━\u001b[0m\u001b[37m\u001b[0m \u001b[1m385s\u001b[0m 2ms/step - loss: 1.5966 - mean_absolute_error: 0.9603 - val_loss: 1.5331 - val_mean_absolute_error: 0.9322 - learning_rate: 0.0010\n",
      "Epoch 26/30\n",
      "\u001b[1m158318/158318\u001b[0m \u001b[32m━━━━━━━━━━━━━━━━━━━━\u001b[0m\u001b[37m\u001b[0m \u001b[1m261s\u001b[0m 2ms/step - loss: 1.5817 - mean_absolute_error: 0.9551 - val_loss: 1.5113 - val_mean_absolute_error: 0.9272 - learning_rate: 2.0000e-04\n",
      "Epoch 27/30\n",
      "\u001b[1m158318/158318\u001b[0m \u001b[32m━━━━━━━━━━━━━━━━━━━━\u001b[0m\u001b[37m\u001b[0m \u001b[1m268s\u001b[0m 2ms/step - loss: 1.5787 - mean_absolute_error: 0.9539 - val_loss: 1.5097 - val_mean_absolute_error: 0.9270 - learning_rate: 2.0000e-04\n",
      "Epoch 28/30\n",
      "\u001b[1m158318/158318\u001b[0m \u001b[32m━━━━━━━━━━━━━━━━━━━━\u001b[0m\u001b[37m\u001b[0m \u001b[1m533s\u001b[0m 3ms/step - loss: 1.5767 - mean_absolute_error: 0.9533 - val_loss: 1.5073 - val_mean_absolute_error: 0.9264 - learning_rate: 2.0000e-04\n",
      "Epoch 29/30\n",
      "\u001b[1m158318/158318\u001b[0m \u001b[32m━━━━━━━━━━━━━━━━━━━━\u001b[0m\u001b[37m\u001b[0m \u001b[1m275s\u001b[0m 2ms/step - loss: 1.5761 - mean_absolute_error: 0.9531 - val_loss: 1.5119 - val_mean_absolute_error: 0.9259 - learning_rate: 2.0000e-04\n",
      "Epoch 30/30\n",
      "\u001b[1m158318/158318\u001b[0m \u001b[32m━━━━━━━━━━━━━━━━━━━━\u001b[0m\u001b[37m\u001b[0m \u001b[1m268s\u001b[0m 2ms/step - loss: 1.5758 - mean_absolute_error: 0.9530 - val_loss: 1.5072 - val_mean_absolute_error: 0.9261 - learning_rate: 2.0000e-04\n"
     ]
    }
   ],
   "source": [
    "# --- TensorFlow model ---\n",
    "# Set random seed for reproducibility\n",
    "tf.random.set_seed(42)\n",
    "\n",
    "# Define inputs for user and item features\n",
    "user_input = tf.keras.Input(shape=(X_U_train.shape[1],), name=\"user_input\")\n",
    "item_input = tf.keras.Input(shape=(X_A_train.shape[1],), name=\"item_input\")\n",
    "\n",
    "# Define user network with dropout for regularization\n",
    "user_nn = tf.keras.Sequential([\n",
    "    tf.keras.layers.Dense(256, activation='relu'),\n",
    "    tf.keras.layers.BatchNormalization(),\n",
    "    tf.keras.layers.Dropout(0.3),\n",
    "    tf.keras.layers.Dense(128, activation='relu'),\n",
    "    tf.keras.layers.BatchNormalization(),\n",
    "    tf.keras.layers.Dropout(0.2),\n",
    "    tf.keras.layers.Dense(64, activation='relu'),\n",
    "    tf.keras.layers.BatchNormalization(),\n",
    "    tf.keras.layers.Dense(32, activation='linear')\n",
    "], name=\"user_nn\")\n",
    "\n",
    "# Define item network with dropout for regularization\n",
    "item_nn = tf.keras.Sequential([\n",
    "    tf.keras.layers.Dense(256, activation='relu'),\n",
    "    tf.keras.layers.BatchNormalization(),\n",
    "    tf.keras.layers.Dropout(0.3),\n",
    "    tf.keras.layers.Dense(128, activation='relu'),\n",
    "    tf.keras.layers.BatchNormalization(),\n",
    "    tf.keras.layers.Dropout(0.2),\n",
    "    tf.keras.layers.Dense(64, activation='relu'),\n",
    "    tf.keras.layers.BatchNormalization(),\n",
    "    tf.keras.layers.Dense(32, activation='linear')\n",
    "], name=\"item_nn\")\n",
    "\n",
    "# Pass inputs through respective networks\n",
    "vu = user_nn(user_input)\n",
    "va = item_nn(item_input)\n",
    "\n",
    "# Compute dot product\n",
    "output = tf.keras.layers.Dot(axes=1)([vu, va])\n",
    "\n",
    "# Create model\n",
    "model = tf.keras.Model([user_input, item_input], output)\n",
    "\n",
    "# Define callbacks\n",
    "early_stopping = tf.keras.callbacks.EarlyStopping(\n",
    "    monitor='val_loss',\n",
    "    patience=5,\n",
    "    restore_best_weights=True\n",
    ")\n",
    "\n",
    "reduce_lr = tf.keras.callbacks.ReduceLROnPlateau(\n",
    "    monitor='val_loss',\n",
    "    factor=0.2,\n",
    "    patience=3,\n",
    "    min_lr=0.00001\n",
    ")\n",
    "\n",
    "# Compile model\n",
    "model.compile(\n",
    "    optimizer=tf.keras.optimizers.Adam(learning_rate=0.001),\n",
    "    loss='mean_squared_error',\n",
    "    metrics=['mean_absolute_error']\n",
    ")\n",
    "\n",
    "# Model summary\n",
    "model.summary()\n",
    "\n",
    "# Train the model\n",
    "history = model.fit(\n",
    "    [X_U_train, X_A_train],\n",
    "    Y_train,\n",
    "    validation_data=([X_U_val, X_A_val], Y_val),\n",
    "    epochs=30,\n",
    "    batch_size=32,\n",
    "    callbacks=[early_stopping, reduce_lr],\n",
    "    verbose=1\n",
    ")\n",
    "\n"
   ]
  },
  {
   "cell_type": "code",
   "execution_count": 34,
   "id": "5459029f",
   "metadata": {},
   "outputs": [
    {
     "name": "stdout",
     "output_type": "stream",
     "text": [
      "\u001b[1m52773/52773\u001b[0m \u001b[32m━━━━━━━━━━━━━━━━━━━━\u001b[0m\u001b[37m\u001b[0m \u001b[1m37s\u001b[0m 692us/step - loss: 1.5063 - mean_absolute_error: 0.9251\n",
      "Test loss (MSE): 1.5075960159301758\n",
      "Test MAE: 0.9256364107131958\n"
     ]
    }
   ],
   "source": [
    "# Evaluate on test set\n",
    "test_results = model.evaluate([X_U_test, X_A_test], Y_test, verbose=1)\n",
    "print(f\"Test loss (MSE): {test_results[0]}\")\n",
    "print(f\"Test MAE: {test_results[1]}\")"
   ]
  },
  {
   "cell_type": "code",
   "execution_count": null,
   "id": "419ad13f",
   "metadata": {},
   "outputs": [
    {
     "name": "stdout",
     "output_type": "stream",
     "text": [
      "INFO:tensorflow:Assets written to: saved_model/recommender_model\\assets\n"
     ]
    },
    {
     "name": "stderr",
     "output_type": "stream",
     "text": [
      "INFO:tensorflow:Assets written to: saved_model/recommender_model\\assets\n"
     ]
    },
    {
     "name": "stdout",
     "output_type": "stream",
     "text": [
      "Saved artifact at 'saved_model/recommender_model'. The following endpoints are available:\n",
      "\n",
      "* Endpoint 'serve'\n",
      "  args_0 (POSITIONAL_ONLY): List[TensorSpec(shape=(None, 24), dtype=tf.float32, name='user_input'), TensorSpec(shape=(None, 22), dtype=tf.float32, name='item_input')]\n",
      "Output Type:\n",
      "  TensorSpec(shape=(None, 1), dtype=tf.float32, name=None)\n",
      "Captures:\n",
      "  1977048007504: TensorSpec(shape=(), dtype=tf.resource, name=None)\n",
      "  1977048009808: TensorSpec(shape=(), dtype=tf.resource, name=None)\n",
      "  1977048009616: TensorSpec(shape=(), dtype=tf.resource, name=None)\n",
      "  1977048007120: TensorSpec(shape=(), dtype=tf.resource, name=None)\n",
      "  1977048006928: TensorSpec(shape=(), dtype=tf.resource, name=None)\n",
      "  1977048010384: TensorSpec(shape=(), dtype=tf.resource, name=None)\n",
      "  1977048013264: TensorSpec(shape=(), dtype=tf.resource, name=None)\n",
      "  1977048013840: TensorSpec(shape=(), dtype=tf.resource, name=None)\n",
      "  1977048020368: TensorSpec(shape=(), dtype=tf.resource, name=None)\n",
      "  1977048010192: TensorSpec(shape=(), dtype=tf.resource, name=None)\n",
      "  1977048014992: TensorSpec(shape=(), dtype=tf.resource, name=None)\n",
      "  1977048018448: TensorSpec(shape=(), dtype=tf.resource, name=None)\n",
      "  1977048022672: TensorSpec(shape=(), dtype=tf.resource, name=None)\n",
      "  1977048019984: TensorSpec(shape=(), dtype=tf.resource, name=None)\n",
      "  1977048017680: TensorSpec(shape=(), dtype=tf.resource, name=None)\n",
      "  1977048021712: TensorSpec(shape=(), dtype=tf.resource, name=None)\n",
      "  1977048018064: TensorSpec(shape=(), dtype=tf.resource, name=None)\n",
      "  1977048018832: TensorSpec(shape=(), dtype=tf.resource, name=None)\n",
      "  1977048021136: TensorSpec(shape=(), dtype=tf.resource, name=None)\n",
      "  1977048014608: TensorSpec(shape=(), dtype=tf.resource, name=None)\n",
      "  1977048011920: TensorSpec(shape=(), dtype=tf.resource, name=None)\n",
      "  1973799173200: TensorSpec(shape=(), dtype=tf.resource, name=None)\n",
      "  1973799173584: TensorSpec(shape=(), dtype=tf.resource, name=None)\n",
      "  1973799172624: TensorSpec(shape=(), dtype=tf.resource, name=None)\n",
      "  1973799172432: TensorSpec(shape=(), dtype=tf.resource, name=None)\n",
      "  1973799172240: TensorSpec(shape=(), dtype=tf.resource, name=None)\n",
      "  1973799168016: TensorSpec(shape=(), dtype=tf.resource, name=None)\n",
      "  1973799159760: TensorSpec(shape=(), dtype=tf.resource, name=None)\n",
      "  1973799166288: TensorSpec(shape=(), dtype=tf.resource, name=None)\n",
      "  1973799167248: TensorSpec(shape=(), dtype=tf.resource, name=None)\n",
      "  1973799168784: TensorSpec(shape=(), dtype=tf.resource, name=None)\n",
      "  1973799165904: TensorSpec(shape=(), dtype=tf.resource, name=None)\n",
      "  1973799171472: TensorSpec(shape=(), dtype=tf.resource, name=None)\n",
      "  1973799167440: TensorSpec(shape=(), dtype=tf.resource, name=None)\n",
      "  1976344104592: TensorSpec(shape=(), dtype=tf.resource, name=None)\n",
      "  1976344107280: TensorSpec(shape=(), dtype=tf.resource, name=None)\n",
      "  1973799172048: TensorSpec(shape=(), dtype=tf.resource, name=None)\n",
      "  1976344106896: TensorSpec(shape=(), dtype=tf.resource, name=None)\n",
      "  1976344105936: TensorSpec(shape=(), dtype=tf.resource, name=None)\n",
      "  1976344103440: TensorSpec(shape=(), dtype=tf.resource, name=None)\n"
     ]
    },
    {
     "name": "stderr",
     "output_type": "stream",
     "text": [
      "WARNING:absl:The `save_format` argument is deprecated in Keras 3. We recommend removing this argument as it can be inferred from the file path. Received: save_format=h5\n",
      "WARNING:absl:You are saving your model as an HDF5 file via `model.save()` or `keras.saving.save_model(model)`. This file format is considered legacy. We recommend using instead the native Keras format, e.g. `model.save('my_model.keras')` or `keras.saving.save_model(model, 'my_model.keras')`. \n"
     ]
    }
   ],
   "source": [
    "# Save in TensorFlow SavedModel format\n",
    "model.export('../saved_model/recommender_model_2')\n",
    "\n",
    "# Save in HDF5 format\n",
    "model.save('../saved_model/recommender_model_2.h5', save_format='h5')\n"
   ]
  },
  {
   "cell_type": "code",
   "execution_count": null,
   "id": "ec9301f3",
   "metadata": {},
   "outputs": [],
   "source": [
    "# # Save in TensorFlow SavedModel format\n",
    "# model.export('../saved_model/recommender_model_2')\n",
    "\n",
    "# # Save in HDF5 format\n",
    "# model.save('../recommender_model_2.h5', save_format='h5')\n"
   ]
  },
  {
   "cell_type": "code",
   "execution_count": 39,
   "id": "a0ca098b",
   "metadata": {},
   "outputs": [
    {
     "data": {
      "text/plain": [
       "array([[ 0.37218953,  0.72409865, -1.67833874,  0.16964599, -0.73744173,\n",
       "         0.6103869 ,  0.57294876, -3.97085828, -0.70894023,  0.70281356,\n",
       "        -1.32555361, -1.23325395, -0.75940176, -0.18207741,  0.20072711,\n",
       "        -0.24098259,  0.46532834, -2.91084319,  1.09199945, -0.02020533,\n",
       "         0.64870383, -0.64295029,  0.65120607, -0.07305202],\n",
       "       [-0.67650631, -0.58033756,  0.03825793, -0.35996953, -0.73744173,\n",
       "        -0.75526328, -0.53536649, -0.06118127,  0.79742786, -0.87902626,\n",
       "         0.53664905,  0.578641  ,  0.77572961, -0.02944799, -0.35984283,\n",
       "        -0.49670993, -0.48472983,  0.05180261,  0.19189485, -0.46449361,\n",
       "        -0.02903109, -0.64295029,  0.65120607, -0.07305202],\n",
       "       [ 0.37218953,  0.66247174,  0.03825793,  0.22416524, -0.73744173,\n",
       "         0.29607059,  0.3046198 ,  0.57677501, -0.70894023,  0.67096443,\n",
       "         1.25288085,  1.18260598, -0.75940176,  0.60549039, -0.37609124,\n",
       "         0.44436667, -0.02870191,  0.83407425,  0.63370443,  0.09615589,\n",
       "        -0.57244017, -0.64295029,  0.65120607, -0.07305202],\n",
       "       [-0.00397311,  0.04620267,  0.83933638,  0.11512675, -0.73744173,\n",
       "        -0.20250011, -0.26703754, -0.96251399, -0.70894023, -0.09341454,\n",
       "        -1.32555361, -1.23325395, -0.75940176,  0.18423319,  0.16823031,\n",
       "        -0.55808449,  0.18031089,  0.10589586, -2.09628315, -0.42218044,\n",
       "         0.20909199, -0.64295029,  0.65120607, -0.07305202],\n",
       "       [ 0.46338048,  0.08728727, -1.67833874,  0.61358842, -0.73744173,\n",
       "         0.23103963,  0.09462323,  1.19717286, -0.70894023,  0.29939132,\n",
       "        -1.32555361, -1.23325395, -0.75940176,  0.64822663, -0.04299895,\n",
       "         0.98650863,  0.36082195, -2.91084319, -0.11803128,  0.39234807,\n",
       "         0.16024623, -0.64295029,  0.65120607, -0.07305202]])"
      ]
     },
     "execution_count": 39,
     "metadata": {},
     "output_type": "execute_result"
    }
   ],
   "source": [
    "import numpy as np\n",
    "X_U_test[:5]\n"
   ]
  },
  {
   "cell_type": "code",
   "execution_count": 40,
   "id": "b345239c",
   "metadata": {},
   "outputs": [
    {
     "data": {
      "text/plain": [
       "array([[ 0.35843944, -2.64845038, -0.56698625, -0.41941848, -0.33400788,\n",
       "        -1.00405564, -0.34791715, -0.78469684, -0.07579064,  2.47625981,\n",
       "        -0.06042399, -0.13036145, -0.33451883, -0.26415764, -1.43646173,\n",
       "         0.        ,  5.19930748, -0.17801714, -1.17714462, -0.54548681,\n",
       "        -0.35219891, -0.11491362],\n",
       "       [ 1.61334862,  0.67964669, -0.99560241, -0.87829539,  5.86022623,\n",
       "        -0.29748246,  5.02397816, -0.22569133, -0.07579064, -0.40383485,\n",
       "        -0.06042399, -0.13036145, -0.33451883, -0.26415764,  0.69615499,\n",
       "         0.        , -0.19233331, -0.17801714, -1.17714462,  1.83322489,\n",
       "        -0.35219891, -0.11491362],\n",
       "       [ 0.88828998, -0.429719  , -0.8326434 , -0.37533655, -0.21915971,\n",
       "        -1.56849498, -0.38282099,  0.75256831, -0.07579064, -0.40383485,\n",
       "        -0.06042399, -0.13036145, -0.33451883, -0.26415764,  0.69615499,\n",
       "         0.        , -0.19233331, -0.17801714,  0.84951329, -0.54548681,\n",
       "        -0.35219891, -0.11491362],\n",
       "       [-0.01803331, -0.429719  , -0.23300515, -0.52510888, -0.3402703 ,\n",
       "        -0.91271314, -0.23915539,  0.75256831, -0.07579064, -0.40383485,\n",
       "        -0.06042399, -0.13036145, -0.33451883, -0.26415764,  0.69615499,\n",
       "         0.        , -0.19233331, -0.17801714,  0.84951329, -0.54548681,\n",
       "        -0.35219891, -0.11491362],\n",
       "       [-1.44026371, -2.64845038,  1.83241548,  1.46973104, -0.38656742,\n",
       "         1.6293119 , -0.71609357, -2.18221061, -0.07579064, -0.40383485,\n",
       "        -0.06042399, -0.13036145,  2.98936833, -0.26415764, -1.43646173,\n",
       "         0.        ,  5.19930748, -0.17801714, -1.17714462, -0.54548681,\n",
       "        -0.35219891, -0.11491362]])"
      ]
     },
     "execution_count": 40,
     "metadata": {},
     "output_type": "execute_result"
    }
   ],
   "source": [
    "X_A_test[:5]"
   ]
  },
  {
   "cell_type": "code",
   "execution_count": 44,
   "id": "a41b7802",
   "metadata": {},
   "outputs": [
    {
     "name": "stdout",
     "output_type": "stream",
     "text": [
      "\u001b[1m1/1\u001b[0m \u001b[32m━━━━━━━━━━━━━━━━━━━━\u001b[0m\u001b[37m\u001b[0m \u001b[1m0s\u001b[0m 15ms/step\n"
     ]
    },
    {
     "data": {
      "text/plain": [
       "array([[7.9491396],\n",
       "       [8.63498  ],\n",
       "       [8.366193 ],\n",
       "       [6.9946084],\n",
       "       [7.0282083],\n",
       "       [7.289396 ],\n",
       "       [8.224308 ],\n",
       "       [8.491236 ],\n",
       "       [6.572905 ],\n",
       "       [8.209204 ]], dtype=float32)"
      ]
     },
     "execution_count": 44,
     "metadata": {},
     "output_type": "execute_result"
    }
   ],
   "source": [
    "#Make predictions on X-U_test and X-A_test\n",
    "predictions = model.predict([X_U_test[:10], X_A_test[:10]])\n",
    "predictions[:10]"
   ]
  },
  {
   "cell_type": "code",
   "execution_count": 45,
   "id": "128f511f",
   "metadata": {},
   "outputs": [
    {
     "data": {
      "text/plain": [
       "array([ 8, 10, 10,  7,  7,  8,  4, 10,  7,  9], dtype=int64)"
      ]
     },
     "execution_count": 45,
     "metadata": {},
     "output_type": "execute_result"
    }
   ],
   "source": [
    "Y_test[:10]"
   ]
  },
  {
   "cell_type": "code",
   "execution_count": null,
   "id": "7b28c3a7",
   "metadata": {},
   "outputs": [],
   "source": [
    "# Optional: Plot training history\n",
    "# Uncomment if you're running in an environment that supports plotting\n",
    "\"\"\"\n",
    "import matplotlib.pyplot as plt\n",
    "\n",
    "plt.figure(figsize=(12, 4))\n",
    "plt.subplot(1, 2, 1)\n",
    "plt.plot(history.history['loss'], label='Training Loss')\n",
    "plt.plot(history.history['val_loss'], label='Validation Loss')\n",
    "plt.title('Loss Over Epochs')\n",
    "plt.xlabel('Epoch')\n",
    "plt.ylabel('Loss (MSE)')\n",
    "plt.legend()\n",
    "\n",
    "plt.subplot(1, 2, 2)\n",
    "plt.plot(history.history['mean_absolute_error'], label='Training MAE')\n",
    "plt.plot(history.history['val_mean_absolute_error'], label='Validation MAE')\n",
    "plt.title('Mean Absolute Error Over Epochs')\n",
    "plt.xlabel('Epoch')\n",
    "plt.ylabel('MAE')\n",
    "plt.legend()\n",
    "plt.tight_layout()\n",
    "plt.show()\n",
    "\"\"\""
   ]
  }
 ],
 "metadata": {
  "kernelspec": {
   "display_name": "Python 3",
   "language": "python",
   "name": "python3"
  },
  "language_info": {
   "codemirror_mode": {
    "name": "ipython",
    "version": 3
   },
   "file_extension": ".py",
   "mimetype": "text/x-python",
   "name": "python",
   "nbconvert_exporter": "python",
   "pygments_lexer": "ipython3",
   "version": "3.12.5"
  }
 },
 "nbformat": 4,
 "nbformat_minor": 5
}
