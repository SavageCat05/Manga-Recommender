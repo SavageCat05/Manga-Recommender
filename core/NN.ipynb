{
 "cells": [
  {
   "cell_type": "markdown",
   "id": "0db3612a",
   "metadata": {},
   "source": [
    "# Obtained_data:"
   ]
  },
  {
   "cell_type": "code",
   "execution_count": 1,
   "id": "ce088793",
   "metadata": {},
   "outputs": [],
   "source": [
    "import numpy as np "
   ]
  },
  {
   "cell_type": "code",
   "execution_count": 2,
   "id": "ad86276c",
   "metadata": {},
   "outputs": [],
   "source": [
    "import pandas as pd\n",
    "user_data=pd.read_csv(\"Final_User_Dataset.csv\",index_col=0)\n",
    "item_data=pd.read_csv(\"Final_Anime_Dataset.csv\",index_col=0)\n",
    "user_input=pd.read_csv(\"User_input.csv\",index_col=0)\n",
    "\n"
   ]
  },
  {
   "cell_type": "code",
   "execution_count": 3,
   "id": "ede8c699",
   "metadata": {},
   "outputs": [
    {
     "data": {
      "text/html": [
       "<div>\n",
       "<style scoped>\n",
       "    .dataframe tbody tr th:only-of-type {\n",
       "        vertical-align: middle;\n",
       "    }\n",
       "\n",
       "    .dataframe tbody tr th {\n",
       "        vertical-align: top;\n",
       "    }\n",
       "\n",
       "    .dataframe thead th {\n",
       "        text-align: right;\n",
       "    }\n",
       "</style>\n",
       "<table border=\"1\" class=\"dataframe\">\n",
       "  <thead>\n",
       "    <tr style=\"text-align: right;\">\n",
       "      <th></th>\n",
       "      <th>Username</th>\n",
       "      <th>Gender</th>\n",
       "      <th>Birth_Year</th>\n",
       "      <th>Mean Score</th>\n",
       "      <th>Completed</th>\n",
       "      <th>avg_Action</th>\n",
       "      <th>avg_Adventure</th>\n",
       "      <th>avg_Avant Garde</th>\n",
       "      <th>avg_Award Winning</th>\n",
       "      <th>avg_Boys Love</th>\n",
       "      <th>...</th>\n",
       "      <th>avg_Gourmet</th>\n",
       "      <th>avg_Hentai</th>\n",
       "      <th>avg_Horror</th>\n",
       "      <th>avg_Mystery</th>\n",
       "      <th>avg_Romance</th>\n",
       "      <th>avg_Sci-Fi</th>\n",
       "      <th>avg_Slice of Life</th>\n",
       "      <th>avg_Sports</th>\n",
       "      <th>avg_Supernatural</th>\n",
       "      <th>avg_Suspense</th>\n",
       "    </tr>\n",
       "    <tr>\n",
       "      <th>user_id</th>\n",
       "      <th></th>\n",
       "      <th></th>\n",
       "      <th></th>\n",
       "      <th></th>\n",
       "      <th></th>\n",
       "      <th></th>\n",
       "      <th></th>\n",
       "      <th></th>\n",
       "      <th></th>\n",
       "      <th></th>\n",
       "      <th></th>\n",
       "      <th></th>\n",
       "      <th></th>\n",
       "      <th></th>\n",
       "      <th></th>\n",
       "      <th></th>\n",
       "      <th></th>\n",
       "      <th></th>\n",
       "      <th></th>\n",
       "      <th></th>\n",
       "      <th></th>\n",
       "    </tr>\n",
       "  </thead>\n",
       "  <tbody>\n",
       "    <tr>\n",
       "      <th>1</th>\n",
       "      <td>Xinil</td>\n",
       "      <td>Male</td>\n",
       "      <td>1985</td>\n",
       "      <td>7.37</td>\n",
       "      <td>233.0</td>\n",
       "      <td>7.68</td>\n",
       "      <td>7.90</td>\n",
       "      <td>8.0</td>\n",
       "      <td>8.18</td>\n",
       "      <td>0.0</td>\n",
       "      <td>...</td>\n",
       "      <td>8.00</td>\n",
       "      <td>5.42</td>\n",
       "      <td>7.31</td>\n",
       "      <td>7.86</td>\n",
       "      <td>7.27</td>\n",
       "      <td>7.37</td>\n",
       "      <td>7.54</td>\n",
       "      <td>7.56</td>\n",
       "      <td>7.66</td>\n",
       "      <td>8.18</td>\n",
       "    </tr>\n",
       "    <tr>\n",
       "      <th>20</th>\n",
       "      <td>vondur</td>\n",
       "      <td>Male</td>\n",
       "      <td>1988</td>\n",
       "      <td>8.06</td>\n",
       "      <td>94.0</td>\n",
       "      <td>8.02</td>\n",
       "      <td>8.24</td>\n",
       "      <td>9.0</td>\n",
       "      <td>8.43</td>\n",
       "      <td>0.0</td>\n",
       "      <td>...</td>\n",
       "      <td>8.00</td>\n",
       "      <td>0.00</td>\n",
       "      <td>7.67</td>\n",
       "      <td>8.36</td>\n",
       "      <td>8.00</td>\n",
       "      <td>8.19</td>\n",
       "      <td>8.33</td>\n",
       "      <td>8.38</td>\n",
       "      <td>8.43</td>\n",
       "      <td>8.56</td>\n",
       "    </tr>\n",
       "    <tr>\n",
       "      <th>66</th>\n",
       "      <td>Hiromi</td>\n",
       "      <td>Male</td>\n",
       "      <td>1990</td>\n",
       "      <td>7.53</td>\n",
       "      <td>148.0</td>\n",
       "      <td>7.49</td>\n",
       "      <td>7.31</td>\n",
       "      <td>7.0</td>\n",
       "      <td>7.90</td>\n",
       "      <td>0.0</td>\n",
       "      <td>...</td>\n",
       "      <td>9.00</td>\n",
       "      <td>0.00</td>\n",
       "      <td>7.43</td>\n",
       "      <td>7.54</td>\n",
       "      <td>7.53</td>\n",
       "      <td>7.32</td>\n",
       "      <td>6.62</td>\n",
       "      <td>8.00</td>\n",
       "      <td>7.85</td>\n",
       "      <td>7.00</td>\n",
       "    </tr>\n",
       "    <tr>\n",
       "      <th>82</th>\n",
       "      <td>Achtor</td>\n",
       "      <td>Male</td>\n",
       "      <td>1989</td>\n",
       "      <td>7.17</td>\n",
       "      <td>153.0</td>\n",
       "      <td>7.36</td>\n",
       "      <td>7.71</td>\n",
       "      <td>8.8</td>\n",
       "      <td>8.25</td>\n",
       "      <td>0.0</td>\n",
       "      <td>...</td>\n",
       "      <td>6.33</td>\n",
       "      <td>0.00</td>\n",
       "      <td>7.71</td>\n",
       "      <td>7.76</td>\n",
       "      <td>7.20</td>\n",
       "      <td>7.39</td>\n",
       "      <td>7.05</td>\n",
       "      <td>6.75</td>\n",
       "      <td>7.40</td>\n",
       "      <td>8.18</td>\n",
       "    </tr>\n",
       "    <tr>\n",
       "      <th>112</th>\n",
       "      <td>luffykun</td>\n",
       "      <td>Male</td>\n",
       "      <td>1983</td>\n",
       "      <td>8.77</td>\n",
       "      <td>125.0</td>\n",
       "      <td>8.60</td>\n",
       "      <td>8.36</td>\n",
       "      <td>0.0</td>\n",
       "      <td>9.80</td>\n",
       "      <td>0.0</td>\n",
       "      <td>...</td>\n",
       "      <td>0.00</td>\n",
       "      <td>0.00</td>\n",
       "      <td>8.64</td>\n",
       "      <td>9.00</td>\n",
       "      <td>8.89</td>\n",
       "      <td>8.00</td>\n",
       "      <td>0.00</td>\n",
       "      <td>9.50</td>\n",
       "      <td>8.60</td>\n",
       "      <td>10.00</td>\n",
       "    </tr>\n",
       "  </tbody>\n",
       "</table>\n",
       "<p>5 rows × 26 columns</p>\n",
       "</div>"
      ],
      "text/plain": [
       "         Username Gender  Birth_Year  Mean Score  Completed  avg_Action  \\\n",
       "user_id                                                                   \n",
       "1           Xinil   Male        1985        7.37      233.0        7.68   \n",
       "20         vondur   Male        1988        8.06       94.0        8.02   \n",
       "66         Hiromi   Male        1990        7.53      148.0        7.49   \n",
       "82         Achtor   Male        1989        7.17      153.0        7.36   \n",
       "112      luffykun   Male        1983        8.77      125.0        8.60   \n",
       "\n",
       "         avg_Adventure  avg_Avant Garde  avg_Award Winning  avg_Boys Love  \\\n",
       "user_id                                                                     \n",
       "1                 7.90              8.0               8.18            0.0   \n",
       "20                8.24              9.0               8.43            0.0   \n",
       "66                7.31              7.0               7.90            0.0   \n",
       "82                7.71              8.8               8.25            0.0   \n",
       "112               8.36              0.0               9.80            0.0   \n",
       "\n",
       "         ...  avg_Gourmet  avg_Hentai  avg_Horror  avg_Mystery  avg_Romance  \\\n",
       "user_id  ...                                                                  \n",
       "1        ...         8.00        5.42        7.31         7.86         7.27   \n",
       "20       ...         8.00        0.00        7.67         8.36         8.00   \n",
       "66       ...         9.00        0.00        7.43         7.54         7.53   \n",
       "82       ...         6.33        0.00        7.71         7.76         7.20   \n",
       "112      ...         0.00        0.00        8.64         9.00         8.89   \n",
       "\n",
       "         avg_Sci-Fi  avg_Slice of Life  avg_Sports  avg_Supernatural  \\\n",
       "user_id                                                                \n",
       "1              7.37               7.54        7.56              7.66   \n",
       "20             8.19               8.33        8.38              8.43   \n",
       "66             7.32               6.62        8.00              7.85   \n",
       "82             7.39               7.05        6.75              7.40   \n",
       "112            8.00               0.00        9.50              8.60   \n",
       "\n",
       "         avg_Suspense  \n",
       "user_id                \n",
       "1                8.18  \n",
       "20               8.56  \n",
       "66               7.00  \n",
       "82               8.18  \n",
       "112             10.00  \n",
       "\n",
       "[5 rows x 26 columns]"
      ]
     },
     "execution_count": 3,
     "metadata": {},
     "output_type": "execute_result"
    }
   ],
   "source": [
    "user_data.columns\n",
    "user_data.head()"
   ]
  },
  {
   "cell_type": "code",
   "execution_count": 4,
   "id": "a0e42210",
   "metadata": {},
   "outputs": [
    {
     "name": "stdout",
     "output_type": "stream",
     "text": [
      "         Username  Birth_Year  Mean Score  Completed  avg_Action  \\\n",
      "user_id                                                            \n",
      "1           Xinil        1985        7.37      233.0        7.68   \n",
      "20         vondur        1988        8.06       94.0        8.02   \n",
      "66         Hiromi        1990        7.53      148.0        7.49   \n",
      "82         Achtor        1989        7.17      153.0        7.36   \n",
      "112      luffykun        1983        8.77      125.0        8.60   \n",
      "\n",
      "         avg_Adventure  avg_Avant Garde  avg_Award Winning  avg_Boys Love  \\\n",
      "user_id                                                                     \n",
      "1                 7.90              8.0               8.18            0.0   \n",
      "20                8.24              9.0               8.43            0.0   \n",
      "66                7.31              7.0               7.90            0.0   \n",
      "82                7.71              8.8               8.25            0.0   \n",
      "112               8.36              0.0               9.80            0.0   \n",
      "\n",
      "         avg_Comedy  ...  avg_Mystery  avg_Romance  avg_Sci-Fi  \\\n",
      "user_id              ...                                         \n",
      "1              7.02  ...         7.86         7.27        7.37   \n",
      "20             7.77  ...         8.36         8.00        8.19   \n",
      "66             7.46  ...         7.54         7.53        7.32   \n",
      "82             7.05  ...         7.76         7.20        7.39   \n",
      "112            8.67  ...         9.00         8.89        8.00   \n",
      "\n",
      "         avg_Slice of Life  avg_Sports  avg_Supernatural  avg_Suspense  \\\n",
      "user_id                                                                  \n",
      "1                     7.54        7.56              7.66          8.18   \n",
      "20                    8.33        8.38              8.43          8.56   \n",
      "66                    6.62        8.00              7.85          7.00   \n",
      "82                    7.05        6.75              7.40          8.18   \n",
      "112                   0.00        9.50              8.60         10.00   \n",
      "\n",
      "         Gender_Female  Gender_Male  Gender_Non-Binary  \n",
      "user_id                                                 \n",
      "1                    0            1                  0  \n",
      "20                   0            1                  0  \n",
      "66                   0            1                  0  \n",
      "82                   0            1                  0  \n",
      "112                  0            1                  0  \n",
      "\n",
      "[5 rows x 28 columns]\n"
     ]
    }
   ],
   "source": [
    "# One-hot encode the 'Gender' column\n",
    "gender_encoded = pd.get_dummies(user_data['Gender'], prefix='Gender')\n",
    "\n",
    "# Concatenate the one-hot encoded columns with the original DataFrame\n",
    "user_data = pd.concat([user_data, gender_encoded], axis=1)\n",
    "\n",
    "# Drop the original 'Gender' column if no longer needed\n",
    "user_data.drop(columns=['Gender'], inplace=True)\n",
    "# Convert boolean types to 1 and 0\n",
    "user_data[['Gender_Female', 'Gender_Male', 'Gender_Non-Binary']] = user_data[['Gender_Female', 'Gender_Male', 'Gender_Non-Binary']].astype(int)\n",
    "# Display the updated DataFrame\n",
    "print(user_data.head())"
   ]
  },
  {
   "cell_type": "code",
   "execution_count": 5,
   "id": "674da0b0",
   "metadata": {},
   "outputs": [
    {
     "name": "stdout",
     "output_type": "stream",
     "text": [
      "         Username  Birth_Year  Mean Score  Completed  avg_Action  \\\n",
      "user_id                                                            \n",
      "1           Xinil        1985        7.37      233.0        7.68   \n",
      "20         vondur        1988        8.06       94.0        8.02   \n",
      "66         Hiromi        1990        7.53      148.0        7.49   \n",
      "82         Achtor        1989        7.17      153.0        7.36   \n",
      "112      luffykun        1983        8.77      125.0        8.60   \n",
      "\n",
      "         avg_Adventure  avg_Avant Garde  avg_Award Winning  avg_Boys Love  \\\n",
      "user_id                                                                     \n",
      "1                 7.90              8.0               8.18            0.0   \n",
      "20                8.24              9.0               8.43            0.0   \n",
      "66                7.31              7.0               7.90            0.0   \n",
      "82                7.71              8.8               8.25            0.0   \n",
      "112               8.36              0.0               9.80            0.0   \n",
      "\n",
      "         avg_Comedy  ...  avg_Mystery  avg_Romance  avg_Sci-Fi  \\\n",
      "user_id              ...                                         \n",
      "1              7.02  ...         7.86         7.27        7.37   \n",
      "20             7.77  ...         8.36         8.00        8.19   \n",
      "66             7.46  ...         7.54         7.53        7.32   \n",
      "82             7.05  ...         7.76         7.20        7.39   \n",
      "112            8.67  ...         9.00         8.89        8.00   \n",
      "\n",
      "         avg_Slice of Life  avg_Sports  avg_Supernatural  avg_Suspense  \\\n",
      "user_id                                                                  \n",
      "1                     7.54        7.56              7.66          8.18   \n",
      "20                    8.33        8.38              8.43          8.56   \n",
      "66                    6.62        8.00              7.85          7.00   \n",
      "82                    7.05        6.75              7.40          8.18   \n",
      "112                   0.00        9.50              8.60         10.00   \n",
      "\n",
      "         Gender_Female  Gender_Male  Gender_Non-Binary  \n",
      "user_id                                                 \n",
      "1                    0            1                  0  \n",
      "20                   0            1                  0  \n",
      "66                   0            1                  0  \n",
      "82                   0            1                  0  \n",
      "112                  0            1                  0  \n",
      "\n",
      "[5 rows x 28 columns]\n"
     ]
    }
   ],
   "source": [
    "# Convert boolean types to 1 and 0\n",
    "user_data[['Gender_Female', 'Gender_Male', 'Gender_Non-Binary']] = user_data[['Gender_Female', 'Gender_Male', 'Gender_Non-Binary']].astype(int)\n",
    "# Display the updated DataFrame\n",
    "print(user_data.head())"
   ]
  },
  {
   "cell_type": "code",
   "execution_count": 6,
   "id": "c5d8dede",
   "metadata": {},
   "outputs": [
    {
     "data": {
      "text/plain": [
       "(71285, 28)"
      ]
     },
     "execution_count": 6,
     "metadata": {},
     "output_type": "execute_result"
    }
   ],
   "source": [
    "user_data.shape"
   ]
  },
  {
   "cell_type": "code",
   "execution_count": 7,
   "id": "9dcd0112",
   "metadata": {},
   "outputs": [
    {
     "data": {
      "text/plain": [
       "Index(['Username', 'Birth_Year', 'Mean Score', 'Completed', 'avg_Action',\n",
       "       'avg_Adventure', 'avg_Avant Garde', 'avg_Award Winning',\n",
       "       'avg_Boys Love', 'avg_Comedy', 'avg_Drama', 'avg_Ecchi', 'avg_Erotica',\n",
       "       'avg_Fantasy', 'avg_Girls Love', 'avg_Gourmet', 'avg_Hentai',\n",
       "       'avg_Horror', 'avg_Mystery', 'avg_Romance', 'avg_Sci-Fi',\n",
       "       'avg_Slice of Life', 'avg_Sports', 'avg_Supernatural', 'avg_Suspense',\n",
       "       'Gender_Female', 'Gender_Male', 'Gender_Non-Binary'],\n",
       "      dtype='object')"
      ]
     },
     "execution_count": 7,
     "metadata": {},
     "output_type": "execute_result"
    }
   ],
   "source": [
    "user_data.columns"
   ]
  },
  {
   "cell_type": "code",
   "execution_count": 8,
   "id": "745fbffc",
   "metadata": {},
   "outputs": [
    {
     "name": "stdout",
     "output_type": "stream",
     "text": [
      "         Username  Mean Score  Completed  avg_Action  avg_Adventure  \\\n",
      "user_id                                                               \n",
      "1           Xinil        7.37      233.0        7.68           7.90   \n",
      "20         vondur        8.06       94.0        8.02           8.24   \n",
      "66         Hiromi        7.53      148.0        7.49           7.31   \n",
      "82         Achtor        7.17      153.0        7.36           7.71   \n",
      "112      luffykun        8.77      125.0        8.60           8.36   \n",
      "\n",
      "         avg_Avant Garde  avg_Award Winning  avg_Boys Love  avg_Comedy  \\\n",
      "user_id                                                                  \n",
      "1                    8.0               8.18            0.0        7.02   \n",
      "20                   9.0               8.43            0.0        7.77   \n",
      "66                   7.0               7.90            0.0        7.46   \n",
      "82                   8.8               8.25            0.0        7.05   \n",
      "112                  0.0               9.80            0.0        8.67   \n",
      "\n",
      "         avg_Drama  ...  Birth_Year_2015  Birth_Year_2016  Birth_Year_2017  \\\n",
      "user_id             ...                                                      \n",
      "1             7.67  ...                0                0                0   \n",
      "20            8.04  ...                0                0                0   \n",
      "66            7.60  ...                0                0                0   \n",
      "82            7.44  ...                0                0                0   \n",
      "112           9.04  ...                0                0                0   \n",
      "\n",
      "         Birth_Year_2018  Birth_Year_2019  Birth_Year_2020  Birth_Year_2021  \\\n",
      "user_id                                                                       \n",
      "1                      0                0                0                0   \n",
      "20                     0                0                0                0   \n",
      "66                     0                0                0                0   \n",
      "82                     0                0                0                0   \n",
      "112                    0                0                0                0   \n",
      "\n",
      "         Birth_Year_2023  Birth_Year_2024  Birth_Year_2100  \n",
      "user_id                                                     \n",
      "1                      0                0                0  \n",
      "20                     0                0                0  \n",
      "66                     0                0                0  \n",
      "82                     0                0                0  \n",
      "112                    0                0                0  \n",
      "\n",
      "[5 rows x 128 columns]\n"
     ]
    }
   ],
   "source": [
    "from sklearn.preprocessing import OneHotEncoder\n",
    "import pandas as pd\n",
    "\n",
    "# Create OneHotEncoder with proper parameters\n",
    "# Note: Use sparse_output=False instead of sparse=False (which is outdated)\n",
    "encoder = OneHotEncoder(sparse_output=False, dtype=int)\n",
    "\n",
    "# Reshape the Birth_Year column for encoding\n",
    "# The encoder expects a 2D array, so we need to reshape it\n",
    "birth_year_values = user_data[['Birth_Year']].values  # Note: 'Birth Year' with space based on your data\n",
    "\n",
    "# Fit and transform the Birth_Year column\n",
    "encoded_birth_year = encoder.fit_transform(birth_year_values)\n",
    "\n",
    "# Create column names for the encoded features\n",
    "birth_year_categories = [f\"Birth_Year_{int(category)}\" for category in encoder.categories_[0]]\n",
    "\n",
    "# Create a DataFrame with the encoded columns\n",
    "encoded_birth_year_df = pd.DataFrame(\n",
    "    encoded_birth_year,\n",
    "    columns=birth_year_categories,\n",
    "    index=user_data.index  # Keep the same index as the original DataFrame\n",
    ")\n",
    "\n",
    "# Concatenate the encoded columns with the original DataFrame\n",
    "user_data = pd.concat([user_data, encoded_birth_year_df], axis=1)\n",
    "\n",
    "# Drop the original 'Birth Year' column if needed\n",
    "user_data = user_data.drop(columns=['Birth_Year'])\n",
    "\n",
    "# Display the updated DataFrame\n",
    "print(user_data.head())\n"
   ]
  },
  {
   "cell_type": "code",
   "execution_count": 9,
   "id": "48596c15",
   "metadata": {},
   "outputs": [
    {
     "data": {
      "text/plain": [
       "Index(['Name', 'English name', 'Other name', 'Score', 'Genres', 'Synopsis',\n",
       "       'Type', 'Episodes', 'Aired', 'Premiered', 'Status', 'Producers',\n",
       "       'Licensors', 'Studios', 'Source', 'Duration', 'Rating', 'Rank',\n",
       "       'Popularity', 'Favorites', 'Scored By', 'Members', 'Image URL',\n",
       "       'Genre_Action', 'Genre_Adventure', 'Genre_Avant Garde',\n",
       "       'Genre_Award Winning', 'Genre_Boys Love', 'Genre_Comedy', 'Genre_Drama',\n",
       "       'Genre_Ecchi', 'Genre_Erotica', 'Genre_Fantasy', 'Genre_Girls Love',\n",
       "       'Genre_Gourmet', 'Genre_Hentai', 'Genre_Horror', 'Genre_Mystery',\n",
       "       'Genre_Romance', 'Genre_Sci-Fi', 'Genre_Slice of Life', 'Genre_Sports',\n",
       "       'Genre_Supernatural', 'Genre_Suspense', 'Genre_UNKNOWN', 'Type_Movie',\n",
       "       'Type_Music', 'Type_ONA', 'Type_OVA', 'Type_Special', 'Type_TV',\n",
       "       'Type_UNKNOWN', 'Rating_G - All Ages', 'Rating_PG - Children',\n",
       "       'Rating_PG-13 - Teens 13 or older',\n",
       "       'Rating_R - 17+ (violence & profanity)', 'Rating_R+ - Mild Nudity',\n",
       "       'Rating_Rx - Hentai', 'Rating_UNKNOWN', 'Release_Year'],\n",
       "      dtype='object')"
      ]
     },
     "execution_count": 9,
     "metadata": {},
     "output_type": "execute_result"
    }
   ],
   "source": [
    "item_data.columns\n"
   ]
  },
  {
   "cell_type": "code",
   "execution_count": 10,
   "id": "a067f280",
   "metadata": {},
   "outputs": [],
   "source": [
    "filtered_item_data_df = item_data.drop(columns=[\"Genres\",\"Episodes\",\"Rating_UNKNOWN\",'Producers','Aired',\"Premiered\",\"Status\",\"Studios\",\"Licensors\",\"Duration\"])"
   ]
  },
  {
   "cell_type": "code",
   "execution_count": 11,
   "id": "8535d40c",
   "metadata": {},
   "outputs": [
    {
     "data": {
      "text/plain": [
       "array(['TV', 'Movie', 'TV', ..., 'ONA', 'Music', 'Music'], dtype=object)"
      ]
     },
     "execution_count": 11,
     "metadata": {},
     "output_type": "execute_result"
    }
   ],
   "source": [
    "filtered_item_data_df[\"Type\"].values\n",
    "# this is to be one hod encoded because everything is not an anime "
   ]
  },
  {
   "cell_type": "code",
   "execution_count": 12,
   "id": "4e1ea698",
   "metadata": {},
   "outputs": [
    {
     "data": {
      "text/plain": [
       "Index(['Name', 'English name', 'Other name', 'Score', 'Synopsis', 'Type',\n",
       "       'Source', 'Rating', 'Rank', 'Popularity', 'Favorites', 'Scored By',\n",
       "       'Members', 'Image URL', 'Genre_Action', 'Genre_Adventure',\n",
       "       'Genre_Avant Garde', 'Genre_Award Winning', 'Genre_Boys Love',\n",
       "       'Genre_Comedy', 'Genre_Drama', 'Genre_Ecchi', 'Genre_Erotica',\n",
       "       'Genre_Fantasy', 'Genre_Girls Love', 'Genre_Gourmet', 'Genre_Hentai',\n",
       "       'Genre_Horror', 'Genre_Mystery', 'Genre_Romance', 'Genre_Sci-Fi',\n",
       "       'Genre_Slice of Life', 'Genre_Sports', 'Genre_Supernatural',\n",
       "       'Genre_Suspense', 'Genre_UNKNOWN', 'Type_Movie', 'Type_Music',\n",
       "       'Type_ONA', 'Type_OVA', 'Type_Special', 'Type_TV', 'Type_UNKNOWN',\n",
       "       'Rating_G - All Ages', 'Rating_PG - Children',\n",
       "       'Rating_PG-13 - Teens 13 or older',\n",
       "       'Rating_R - 17+ (violence & profanity)', 'Rating_R+ - Mild Nudity',\n",
       "       'Rating_Rx - Hentai', 'Release_Year'],\n",
       "      dtype='object')"
      ]
     },
     "execution_count": 12,
     "metadata": {},
     "output_type": "execute_result"
    }
   ],
   "source": [
    "filtered_item_data_df.columns"
   ]
  },
  {
   "cell_type": "code",
   "execution_count": 13,
   "id": "f5df5f3a",
   "metadata": {},
   "outputs": [
    {
     "data": {
      "text/plain": [
       "(24905, 50)"
      ]
     },
     "execution_count": 13,
     "metadata": {},
     "output_type": "execute_result"
    }
   ],
   "source": [
    "filtered_item_data_df.shape"
   ]
  },
  {
   "cell_type": "code",
   "execution_count": 14,
   "id": "379c1bab",
   "metadata": {},
   "outputs": [
    {
     "data": {
      "text/plain": [
       "Name                                        0\n",
       "English name                                0\n",
       "Other name                                  0\n",
       "Score                                    9213\n",
       "Synopsis                                    0\n",
       "Type                                        0\n",
       "Source                                      0\n",
       "Rating                                      0\n",
       "Rank                                        0\n",
       "Popularity                                  0\n",
       "Favorites                                   0\n",
       "Scored By                                   0\n",
       "Members                                     0\n",
       "Image URL                                   0\n",
       "Genre_Action                                0\n",
       "Genre_Adventure                             0\n",
       "Genre_Avant Garde                           0\n",
       "Genre_Award Winning                         0\n",
       "Genre_Boys Love                             0\n",
       "Genre_Comedy                                0\n",
       "Genre_Drama                                 0\n",
       "Genre_Ecchi                                 0\n",
       "Genre_Erotica                               0\n",
       "Genre_Fantasy                               0\n",
       "Genre_Girls Love                            0\n",
       "Genre_Gourmet                               0\n",
       "Genre_Hentai                                0\n",
       "Genre_Horror                                0\n",
       "Genre_Mystery                               0\n",
       "Genre_Romance                               0\n",
       "Genre_Sci-Fi                                0\n",
       "Genre_Slice of Life                         0\n",
       "Genre_Sports                                0\n",
       "Genre_Supernatural                          0\n",
       "Genre_Suspense                              0\n",
       "Genre_UNKNOWN                               0\n",
       "Type_Movie                                  0\n",
       "Type_Music                                  0\n",
       "Type_ONA                                    0\n",
       "Type_OVA                                    0\n",
       "Type_Special                                0\n",
       "Type_TV                                     0\n",
       "Type_UNKNOWN                                0\n",
       "Rating_G - All Ages                         0\n",
       "Rating_PG - Children                        0\n",
       "Rating_PG-13 - Teens 13 or older            0\n",
       "Rating_R - 17+ (violence & profanity)       0\n",
       "Rating_R+ - Mild Nudity                     0\n",
       "Rating_Rx - Hentai                          0\n",
       "Release_Year                             4659\n",
       "dtype: int64"
      ]
     },
     "execution_count": 14,
     "metadata": {},
     "output_type": "execute_result"
    }
   ],
   "source": [
    "filtered_item_data_df.isna().sum()"
   ]
  },
  {
   "cell_type": "code",
   "execution_count": 15,
   "id": "03cacdfb",
   "metadata": {},
   "outputs": [],
   "source": [
    "# Keep rows where both 'Score' and 'Release_Year' are not null\n",
    "filtered_item_data_df = filtered_item_data_df[filtered_item_data_df[\"Score\"].notna() & filtered_item_data_df[\"Release_Year\"].notna()]"
   ]
  },
  {
   "cell_type": "code",
   "execution_count": 16,
   "id": "f8ed202c",
   "metadata": {},
   "outputs": [
    {
     "name": "stdout",
     "output_type": "stream",
     "text": [
      "Name                                     0\n",
      "English name                             0\n",
      "Other name                               0\n",
      "Score                                    0\n",
      "Synopsis                                 0\n",
      "Type                                     0\n",
      "Source                                   0\n",
      "Rating                                   0\n",
      "Rank                                     0\n",
      "Popularity                               0\n",
      "Favorites                                0\n",
      "Scored By                                0\n",
      "Members                                  0\n",
      "Image URL                                0\n",
      "Genre_Action                             0\n",
      "Genre_Adventure                          0\n",
      "Genre_Avant Garde                        0\n",
      "Genre_Award Winning                      0\n",
      "Genre_Boys Love                          0\n",
      "Genre_Comedy                             0\n",
      "Genre_Drama                              0\n",
      "Genre_Ecchi                              0\n",
      "Genre_Erotica                            0\n",
      "Genre_Fantasy                            0\n",
      "Genre_Girls Love                         0\n",
      "Genre_Gourmet                            0\n",
      "Genre_Hentai                             0\n",
      "Genre_Horror                             0\n",
      "Genre_Mystery                            0\n",
      "Genre_Romance                            0\n",
      "Genre_Sci-Fi                             0\n",
      "Genre_Slice of Life                      0\n",
      "Genre_Sports                             0\n",
      "Genre_Supernatural                       0\n",
      "Genre_Suspense                           0\n",
      "Genre_UNKNOWN                            0\n",
      "Type_Movie                               0\n",
      "Type_Music                               0\n",
      "Type_ONA                                 0\n",
      "Type_OVA                                 0\n",
      "Type_Special                             0\n",
      "Type_TV                                  0\n",
      "Type_UNKNOWN                             0\n",
      "Rating_G - All Ages                      0\n",
      "Rating_PG - Children                     0\n",
      "Rating_PG-13 - Teens 13 or older         0\n",
      "Rating_R - 17+ (violence & profanity)    0\n",
      "Rating_R+ - Mild Nudity                  0\n",
      "Rating_Rx - Hentai                       0\n",
      "Release_Year                             0\n",
      "dtype: int64\n"
     ]
    }
   ],
   "source": [
    "print(filtered_item_data_df.isna().sum())"
   ]
  },
  {
   "cell_type": "code",
   "execution_count": 17,
   "id": "55595319",
   "metadata": {},
   "outputs": [
    {
     "data": {
      "text/plain": [
       "Index(['Gender', 'Mean Score', 'Completed', 'Birth_Year', 'user_id',\n",
       "       'anime_id', 'Anime Title', 'rating', 'Genres', 'Genre_Action',\n",
       "       'Genre_Adventure', 'Genre_Avant Garde', 'Genre_Award Winning',\n",
       "       'Genre_Boys Love', 'Genre_Comedy', 'Genre_Drama', 'Genre_Ecchi',\n",
       "       'Genre_Erotica', 'Genre_Fantasy', 'Genre_Girls Love', 'Genre_Gourmet',\n",
       "       'Genre_Hentai', 'Genre_Horror', 'Genre_Mystery', 'Genre_Romance',\n",
       "       'Genre_Sci-Fi', 'Genre_Slice of Life', 'Genre_Sports',\n",
       "       'Genre_Supernatural', 'Genre_Suspense'],\n",
       "      dtype='object')"
      ]
     },
     "execution_count": 17,
     "metadata": {},
     "output_type": "execute_result"
    }
   ],
   "source": [
    "user_input.columns"
   ]
  },
  {
   "cell_type": "code",
   "execution_count": 18,
   "id": "3347e840",
   "metadata": {},
   "outputs": [
    {
     "data": {
      "text/plain": [
       "(8466877, 30)"
      ]
     },
     "execution_count": 18,
     "metadata": {},
     "output_type": "execute_result"
    }
   ],
   "source": [
    "user_input.shape"
   ]
  },
  {
   "cell_type": "code",
   "execution_count": 19,
   "id": "a3c57ca3",
   "metadata": {},
   "outputs": [],
   "source": [
    "# Merge user_input with user_data using user_id\n",
    "merged_user_df = user_input.merge(\n",
    "    user_data,\n",
    "    on='user_id',\n",
    "    how='left'  # Use 'left' join to keep all rows from user_input\n",
    ")\n"
   ]
  },
  {
   "cell_type": "code",
   "execution_count": 20,
   "id": "014c7c70",
   "metadata": {},
   "outputs": [],
   "source": [
    "# Merge merged_user_df with item_data using anime_id\n",
    "final_training_set = merged_user_df.merge(\n",
    "    filtered_item_data_df,\n",
    "    on='anime_id',\n",
    "    how='left'  # Use 'left' join to keep all rows from merged_user_df\n",
    ")\n"
   ]
  },
  {
   "cell_type": "code",
   "execution_count": 21,
   "id": "1a1ef7ab",
   "metadata": {},
   "outputs": [
    {
     "data": {
      "text/plain": [
       "Index(['Gender', 'Mean Score_x', 'Completed_x', 'Birth_Year', 'user_id',\n",
       "       'anime_id', 'Anime Title', 'rating', 'Genres', 'Genre_Action_x',\n",
       "       ...\n",
       "       'Type_Special', 'Type_TV', 'Type_UNKNOWN', 'Rating_G - All Ages',\n",
       "       'Rating_PG - Children', 'Rating_PG-13 - Teens 13 or older',\n",
       "       'Rating_R - 17+ (violence & profanity)', 'Rating_R+ - Mild Nudity',\n",
       "       'Rating_Rx - Hentai', 'Release_Year'],\n",
       "      dtype='object', length=208)"
      ]
     },
     "execution_count": 21,
     "metadata": {},
     "output_type": "execute_result"
    }
   ],
   "source": [
    "final_training_set.columns"
   ]
  },
  {
   "cell_type": "code",
   "execution_count": 22,
   "id": "b2f63285",
   "metadata": {},
   "outputs": [
    {
     "data": {
      "text/plain": [
       "(8466877, 208)"
      ]
     },
     "execution_count": 22,
     "metadata": {},
     "output_type": "execute_result"
    }
   ],
   "source": [
    "final_training_set.shape"
   ]
  },
  {
   "cell_type": "code",
   "execution_count": 23,
   "id": "c75fe926",
   "metadata": {},
   "outputs": [
    {
     "name": "stdout",
     "output_type": "stream",
     "text": [
      "<class 'pandas.core.frame.DataFrame'>\n",
      "Index: 71285 entries, 1 to 1291057\n",
      "Columns: 128 entries, Username to Birth_Year_2100\n",
      "dtypes: float64(23), int32(104), object(1)\n",
      "memory usage: 41.9+ MB\n"
     ]
    }
   ],
   "source": [
    "user_data.info()"
   ]
  },
  {
   "cell_type": "code",
   "execution_count": 24,
   "id": "cbc5b0ca",
   "metadata": {},
   "outputs": [
    {
     "data": {
      "text/plain": [
       "Index(['Username', 'Mean Score', 'Completed', 'avg_Action', 'avg_Adventure',\n",
       "       'avg_Avant Garde', 'avg_Award Winning', 'avg_Boys Love', 'avg_Comedy',\n",
       "       'avg_Drama',\n",
       "       ...\n",
       "       'Birth_Year_2015', 'Birth_Year_2016', 'Birth_Year_2017',\n",
       "       'Birth_Year_2018', 'Birth_Year_2019', 'Birth_Year_2020',\n",
       "       'Birth_Year_2021', 'Birth_Year_2023', 'Birth_Year_2024',\n",
       "       'Birth_Year_2100'],\n",
       "      dtype='object', length=128)"
      ]
     },
     "execution_count": 24,
     "metadata": {},
     "output_type": "execute_result"
    }
   ],
   "source": [
    "user_data.columns"
   ]
  },
  {
   "cell_type": "code",
   "execution_count": 33,
   "id": "0b1433fc",
   "metadata": {},
   "outputs": [
    {
     "data": {
      "text/plain": [
       "False"
      ]
     },
     "execution_count": 33,
     "metadata": {},
     "output_type": "execute_result"
    }
   ],
   "source": [
    "# Extract numerical columns from the DataFrame\n",
    "numerical_user_df =user_data.select_dtypes(include=['number'])\n",
    "\n",
    "# # Display the resulting DataFrame\n",
    "# print(numerical_user_df.head())\n",
    "'user_id' in numerical_user_df.columns"
   ]
  },
  {
   "cell_type": "code",
   "execution_count": 26,
   "id": "2237e7bd",
   "metadata": {},
   "outputs": [
    {
     "data": {
      "text/plain": [
       "Index(['Mean Score', 'Completed', 'avg_Action', 'avg_Adventure',\n",
       "       'avg_Avant Garde', 'avg_Award Winning', 'avg_Boys Love', 'avg_Comedy',\n",
       "       'avg_Drama', 'avg_Ecchi',\n",
       "       ...\n",
       "       'Birth_Year_2015', 'Birth_Year_2016', 'Birth_Year_2017',\n",
       "       'Birth_Year_2018', 'Birth_Year_2019', 'Birth_Year_2020',\n",
       "       'Birth_Year_2021', 'Birth_Year_2023', 'Birth_Year_2024',\n",
       "       'Birth_Year_2100'],\n",
       "      dtype='object', length=127)"
      ]
     },
     "execution_count": 26,
     "metadata": {},
     "output_type": "execute_result"
    }
   ],
   "source": [
    "numerical_user_df.columns"
   ]
  },
  {
   "cell_type": "code",
   "execution_count": null,
   "id": "5fe4574e",
   "metadata": {},
   "outputs": [
    {
     "ename": "KeyError",
     "evalue": "\"['user_id'] not found in axis\"",
     "output_type": "error",
     "traceback": [
      "\u001b[1;31m---------------------------------------------------------------------------\u001b[0m",
      "\u001b[1;31mKeyError\u001b[0m                                  Traceback (most recent call last)",
      "Cell \u001b[1;32mIn[27], line 1\u001b[0m\n\u001b[1;32m----> 1\u001b[0m \u001b[43mnumerical_user_df\u001b[49m\u001b[38;5;241;43m.\u001b[39;49m\u001b[43mdrop\u001b[49m\u001b[43m(\u001b[49m\u001b[43mcolumns\u001b[49m\u001b[38;5;241;43m=\u001b[39;49m\u001b[38;5;124;43m\"\u001b[39;49m\u001b[38;5;124;43muser_id\u001b[39;49m\u001b[38;5;124;43m\"\u001b[39;49m\u001b[43m)\u001b[49m\n",
      "File \u001b[1;32mc:\\Users\\Lenovo\\AppData\\Local\\Programs\\Python\\Python312\\Lib\\site-packages\\pandas\\core\\frame.py:5581\u001b[0m, in \u001b[0;36mDataFrame.drop\u001b[1;34m(self, labels, axis, index, columns, level, inplace, errors)\u001b[0m\n\u001b[0;32m   5433\u001b[0m \u001b[38;5;28;01mdef\u001b[39;00m \u001b[38;5;21mdrop\u001b[39m(\n\u001b[0;32m   5434\u001b[0m     \u001b[38;5;28mself\u001b[39m,\n\u001b[0;32m   5435\u001b[0m     labels: IndexLabel \u001b[38;5;241m|\u001b[39m \u001b[38;5;28;01mNone\u001b[39;00m \u001b[38;5;241m=\u001b[39m \u001b[38;5;28;01mNone\u001b[39;00m,\n\u001b[1;32m   (...)\u001b[0m\n\u001b[0;32m   5442\u001b[0m     errors: IgnoreRaise \u001b[38;5;241m=\u001b[39m \u001b[38;5;124m\"\u001b[39m\u001b[38;5;124mraise\u001b[39m\u001b[38;5;124m\"\u001b[39m,\n\u001b[0;32m   5443\u001b[0m ) \u001b[38;5;241m-\u001b[39m\u001b[38;5;241m>\u001b[39m DataFrame \u001b[38;5;241m|\u001b[39m \u001b[38;5;28;01mNone\u001b[39;00m:\n\u001b[0;32m   5444\u001b[0m \u001b[38;5;250m    \u001b[39m\u001b[38;5;124;03m\"\"\"\u001b[39;00m\n\u001b[0;32m   5445\u001b[0m \u001b[38;5;124;03m    Drop specified labels from rows or columns.\u001b[39;00m\n\u001b[0;32m   5446\u001b[0m \n\u001b[1;32m   (...)\u001b[0m\n\u001b[0;32m   5579\u001b[0m \u001b[38;5;124;03m            weight  1.0     0.8\u001b[39;00m\n\u001b[0;32m   5580\u001b[0m \u001b[38;5;124;03m    \"\"\"\u001b[39;00m\n\u001b[1;32m-> 5581\u001b[0m     \u001b[38;5;28;01mreturn\u001b[39;00m \u001b[38;5;28;43msuper\u001b[39;49m\u001b[43m(\u001b[49m\u001b[43m)\u001b[49m\u001b[38;5;241;43m.\u001b[39;49m\u001b[43mdrop\u001b[49m\u001b[43m(\u001b[49m\n\u001b[0;32m   5582\u001b[0m \u001b[43m        \u001b[49m\u001b[43mlabels\u001b[49m\u001b[38;5;241;43m=\u001b[39;49m\u001b[43mlabels\u001b[49m\u001b[43m,\u001b[49m\n\u001b[0;32m   5583\u001b[0m \u001b[43m        \u001b[49m\u001b[43maxis\u001b[49m\u001b[38;5;241;43m=\u001b[39;49m\u001b[43maxis\u001b[49m\u001b[43m,\u001b[49m\n\u001b[0;32m   5584\u001b[0m \u001b[43m        \u001b[49m\u001b[43mindex\u001b[49m\u001b[38;5;241;43m=\u001b[39;49m\u001b[43mindex\u001b[49m\u001b[43m,\u001b[49m\n\u001b[0;32m   5585\u001b[0m \u001b[43m        \u001b[49m\u001b[43mcolumns\u001b[49m\u001b[38;5;241;43m=\u001b[39;49m\u001b[43mcolumns\u001b[49m\u001b[43m,\u001b[49m\n\u001b[0;32m   5586\u001b[0m \u001b[43m        \u001b[49m\u001b[43mlevel\u001b[49m\u001b[38;5;241;43m=\u001b[39;49m\u001b[43mlevel\u001b[49m\u001b[43m,\u001b[49m\n\u001b[0;32m   5587\u001b[0m \u001b[43m        \u001b[49m\u001b[43minplace\u001b[49m\u001b[38;5;241;43m=\u001b[39;49m\u001b[43minplace\u001b[49m\u001b[43m,\u001b[49m\n\u001b[0;32m   5588\u001b[0m \u001b[43m        \u001b[49m\u001b[43merrors\u001b[49m\u001b[38;5;241;43m=\u001b[39;49m\u001b[43merrors\u001b[49m\u001b[43m,\u001b[49m\n\u001b[0;32m   5589\u001b[0m \u001b[43m    \u001b[49m\u001b[43m)\u001b[49m\n",
      "File \u001b[1;32mc:\\Users\\Lenovo\\AppData\\Local\\Programs\\Python\\Python312\\Lib\\site-packages\\pandas\\core\\generic.py:4788\u001b[0m, in \u001b[0;36mNDFrame.drop\u001b[1;34m(self, labels, axis, index, columns, level, inplace, errors)\u001b[0m\n\u001b[0;32m   4786\u001b[0m \u001b[38;5;28;01mfor\u001b[39;00m axis, labels \u001b[38;5;129;01min\u001b[39;00m axes\u001b[38;5;241m.\u001b[39mitems():\n\u001b[0;32m   4787\u001b[0m     \u001b[38;5;28;01mif\u001b[39;00m labels \u001b[38;5;129;01mis\u001b[39;00m \u001b[38;5;129;01mnot\u001b[39;00m \u001b[38;5;28;01mNone\u001b[39;00m:\n\u001b[1;32m-> 4788\u001b[0m         obj \u001b[38;5;241m=\u001b[39m \u001b[43mobj\u001b[49m\u001b[38;5;241;43m.\u001b[39;49m\u001b[43m_drop_axis\u001b[49m\u001b[43m(\u001b[49m\u001b[43mlabels\u001b[49m\u001b[43m,\u001b[49m\u001b[43m \u001b[49m\u001b[43maxis\u001b[49m\u001b[43m,\u001b[49m\u001b[43m \u001b[49m\u001b[43mlevel\u001b[49m\u001b[38;5;241;43m=\u001b[39;49m\u001b[43mlevel\u001b[49m\u001b[43m,\u001b[49m\u001b[43m \u001b[49m\u001b[43merrors\u001b[49m\u001b[38;5;241;43m=\u001b[39;49m\u001b[43merrors\u001b[49m\u001b[43m)\u001b[49m\n\u001b[0;32m   4790\u001b[0m \u001b[38;5;28;01mif\u001b[39;00m inplace:\n\u001b[0;32m   4791\u001b[0m     \u001b[38;5;28mself\u001b[39m\u001b[38;5;241m.\u001b[39m_update_inplace(obj)\n",
      "File \u001b[1;32mc:\\Users\\Lenovo\\AppData\\Local\\Programs\\Python\\Python312\\Lib\\site-packages\\pandas\\core\\generic.py:4830\u001b[0m, in \u001b[0;36mNDFrame._drop_axis\u001b[1;34m(self, labels, axis, level, errors, only_slice)\u001b[0m\n\u001b[0;32m   4828\u001b[0m         new_axis \u001b[38;5;241m=\u001b[39m axis\u001b[38;5;241m.\u001b[39mdrop(labels, level\u001b[38;5;241m=\u001b[39mlevel, errors\u001b[38;5;241m=\u001b[39merrors)\n\u001b[0;32m   4829\u001b[0m     \u001b[38;5;28;01melse\u001b[39;00m:\n\u001b[1;32m-> 4830\u001b[0m         new_axis \u001b[38;5;241m=\u001b[39m \u001b[43maxis\u001b[49m\u001b[38;5;241;43m.\u001b[39;49m\u001b[43mdrop\u001b[49m\u001b[43m(\u001b[49m\u001b[43mlabels\u001b[49m\u001b[43m,\u001b[49m\u001b[43m \u001b[49m\u001b[43merrors\u001b[49m\u001b[38;5;241;43m=\u001b[39;49m\u001b[43merrors\u001b[49m\u001b[43m)\u001b[49m\n\u001b[0;32m   4831\u001b[0m     indexer \u001b[38;5;241m=\u001b[39m axis\u001b[38;5;241m.\u001b[39mget_indexer(new_axis)\n\u001b[0;32m   4833\u001b[0m \u001b[38;5;66;03m# Case for non-unique axis\u001b[39;00m\n\u001b[0;32m   4834\u001b[0m \u001b[38;5;28;01melse\u001b[39;00m:\n",
      "File \u001b[1;32mc:\\Users\\Lenovo\\AppData\\Local\\Programs\\Python\\Python312\\Lib\\site-packages\\pandas\\core\\indexes\\base.py:7070\u001b[0m, in \u001b[0;36mIndex.drop\u001b[1;34m(self, labels, errors)\u001b[0m\n\u001b[0;32m   7068\u001b[0m \u001b[38;5;28;01mif\u001b[39;00m mask\u001b[38;5;241m.\u001b[39many():\n\u001b[0;32m   7069\u001b[0m     \u001b[38;5;28;01mif\u001b[39;00m errors \u001b[38;5;241m!=\u001b[39m \u001b[38;5;124m\"\u001b[39m\u001b[38;5;124mignore\u001b[39m\u001b[38;5;124m\"\u001b[39m:\n\u001b[1;32m-> 7070\u001b[0m         \u001b[38;5;28;01mraise\u001b[39;00m \u001b[38;5;167;01mKeyError\u001b[39;00m(\u001b[38;5;124mf\u001b[39m\u001b[38;5;124m\"\u001b[39m\u001b[38;5;132;01m{\u001b[39;00mlabels[mask]\u001b[38;5;241m.\u001b[39mtolist()\u001b[38;5;132;01m}\u001b[39;00m\u001b[38;5;124m not found in axis\u001b[39m\u001b[38;5;124m\"\u001b[39m)\n\u001b[0;32m   7071\u001b[0m     indexer \u001b[38;5;241m=\u001b[39m indexer[\u001b[38;5;241m~\u001b[39mmask]\n\u001b[0;32m   7072\u001b[0m \u001b[38;5;28;01mreturn\u001b[39;00m \u001b[38;5;28mself\u001b[39m\u001b[38;5;241m.\u001b[39mdelete(indexer)\n",
      "\u001b[1;31mKeyError\u001b[0m: \"['user_id'] not found in axis\""
     ]
    }
   ],
   "source": [
    "#numerical_user_df.drop(columns=\"user_id\")\n"
   ]
  },
  {
   "cell_type": "code",
   "execution_count": 35,
   "id": "8a925c69",
   "metadata": {},
   "outputs": [
    {
     "name": "stdout",
     "output_type": "stream",
     "text": [
      "          Score  Episodes  Rank  Popularity  Favorites  Members  Genre_Action  \\\n",
      "anime_id                                                                        \n",
      "1          8.75        26    41          43      78525  1771505             1   \n",
      "5          8.38         1   189         602       1448   360978             1   \n",
      "6          8.22        26   328         246      15035   727252             1   \n",
      "7          7.25        26  2764        1795        613   111931             1   \n",
      "8          6.94        52  4240        5126         14    15001             0   \n",
      "\n",
      "          Genre_Adventure  Genre_Avant Garde  Genre_Award Winning  ...  \\\n",
      "anime_id                                                           ...   \n",
      "1                       0                  0                    1  ...   \n",
      "5                       0                  0                    0  ...   \n",
      "6                       1                  0                    0  ...   \n",
      "7                       0                  0                    0  ...   \n",
      "8                       1                  0                    0  ...   \n",
      "\n",
      "          Type_TV  Type_UNKNOWN  Rating_G - All Ages  Rating_PG - Children  \\\n",
      "anime_id                                                                     \n",
      "1               1             0                    0                     0   \n",
      "5               0             0                    0                     0   \n",
      "6               1             0                    0                     0   \n",
      "7               1             0                    0                     0   \n",
      "8               1             0                    0                     1   \n",
      "\n",
      "          Rating_PG-13 - Teens 13 or older  \\\n",
      "anime_id                                     \n",
      "1                                        0   \n",
      "5                                        0   \n",
      "6                                        1   \n",
      "7                                        1   \n",
      "8                                        0   \n",
      "\n",
      "          Rating_R - 17+ (violence & profanity)  Rating_R+ - Mild Nudity  \\\n",
      "anime_id                                                                   \n",
      "1                                             1                        0   \n",
      "5                                             1                        0   \n",
      "6                                             0                        0   \n",
      "7                                             0                        0   \n",
      "8                                             0                        0   \n",
      "\n",
      "          Rating_Rx - Hentai  Rating_UNKNOWN  Release_Year  \n",
      "anime_id                                                    \n",
      "1                          0               0        1998.0  \n",
      "5                          0               0        2001.0  \n",
      "6                          0               0        1998.0  \n",
      "7                          0               0        2002.0  \n",
      "8                          0               0        2004.0  \n",
      "\n",
      "[5 rows x 43 columns]\n"
     ]
    },
    {
     "data": {
      "text/plain": [
       "False"
      ]
     },
     "execution_count": 35,
     "metadata": {},
     "output_type": "execute_result"
    }
   ],
   "source": [
    "# Extract numerical columns from the DataFrame\n",
    "numerical_item_df =item_data.select_dtypes(include=['number'])\n",
    "\n",
    "# Display the resulting DataFrame\n",
    "print(numerical_item_df.head())\n",
    "'anime_id' in numerical_item_df.columns"
   ]
  },
  {
   "cell_type": "code",
   "execution_count": 37,
   "id": "5b5ab349",
   "metadata": {},
   "outputs": [
    {
     "data": {
      "text/plain": [
       "Index(['Score', 'Episodes', 'Rank', 'Popularity', 'Favorites', 'Members',\n",
       "       'Genre_Action', 'Genre_Adventure', 'Genre_Avant Garde',\n",
       "       'Genre_Award Winning', 'Genre_Boys Love', 'Genre_Comedy', 'Genre_Drama',\n",
       "       'Genre_Ecchi', 'Genre_Erotica', 'Genre_Fantasy', 'Genre_Girls Love',\n",
       "       'Genre_Gourmet', 'Genre_Hentai', 'Genre_Horror', 'Genre_Mystery',\n",
       "       'Genre_Romance', 'Genre_Sci-Fi', 'Genre_Slice of Life', 'Genre_Sports',\n",
       "       'Genre_Supernatural', 'Genre_Suspense', 'Genre_UNKNOWN', 'Type_Movie',\n",
       "       'Type_Music', 'Type_ONA', 'Type_OVA', 'Type_Special', 'Type_TV',\n",
       "       'Type_UNKNOWN', 'Rating_G - All Ages', 'Rating_PG - Children',\n",
       "       'Rating_PG-13 - Teens 13 or older',\n",
       "       'Rating_R - 17+ (violence & profanity)', 'Rating_R+ - Mild Nudity',\n",
       "       'Rating_Rx - Hentai', 'Rating_UNKNOWN', 'Release_Year'],\n",
       "      dtype='object')"
      ]
     },
     "execution_count": 37,
     "metadata": {},
     "output_type": "execute_result"
    }
   ],
   "source": [
    "numerical_item_df.columns"
   ]
  },
  {
   "cell_type": "code",
   "execution_count": 36,
   "id": "92e25c3e",
   "metadata": {},
   "outputs": [],
   "source": [
    "numerical_user_df=numerical_user_df.drop(columns=['Mean Score', 'Completed'])"
   ]
  },
  {
   "cell_type": "code",
   "execution_count": 37,
   "id": "da24e205",
   "metadata": {},
   "outputs": [
    {
     "ename": "KeyError",
     "evalue": "\"['Episodes', 'Genre_Action', 'Genre_Adventure', 'Genre_Avant Garde', 'Genre_Award Winning', 'Genre_Boys Love', 'Genre_Comedy', 'Genre_Drama', 'Genre_Ecchi', 'Genre_Erotica', 'Genre_Fantasy', 'Genre_Girls Love', 'Genre_Gourmet', 'Genre_Hentai', 'Genre_Horror', 'Genre_Mystery', 'Genre_Romance', 'Genre_Sci-Fi', 'Genre_Slice of Life', 'Genre_Sports', 'Genre_Supernatural', 'Genre_Suspense', 'Rating_UNKNOWN'] not in index\"",
     "output_type": "error",
     "traceback": [
      "\u001b[1;31m---------------------------------------------------------------------------\u001b[0m",
      "\u001b[1;31mKeyError\u001b[0m                                  Traceback (most recent call last)",
      "Cell \u001b[1;32mIn[37], line 19\u001b[0m\n\u001b[0;32m     17\u001b[0m end \u001b[38;5;241m=\u001b[39m start \u001b[38;5;241m+\u001b[39m chunk_size\n\u001b[0;32m     18\u001b[0m user_chunk \u001b[38;5;241m=\u001b[39m final_training_set\u001b[38;5;241m.\u001b[39miloc[start:end][numerical_user_df\u001b[38;5;241m.\u001b[39mcolumns]\u001b[38;5;241m.\u001b[39mastype(\u001b[38;5;124m'\u001b[39m\u001b[38;5;124mfloat32\u001b[39m\u001b[38;5;124m'\u001b[39m)\u001b[38;5;241m.\u001b[39mvalues\n\u001b[1;32m---> 19\u001b[0m item_chunk \u001b[38;5;241m=\u001b[39m \u001b[43mfinal_training_set\u001b[49m\u001b[38;5;241;43m.\u001b[39;49m\u001b[43miloc\u001b[49m\u001b[43m[\u001b[49m\u001b[43mstart\u001b[49m\u001b[43m:\u001b[49m\u001b[43mend\u001b[49m\u001b[43m]\u001b[49m\u001b[43m[\u001b[49m\u001b[43mnumerical_item_df\u001b[49m\u001b[38;5;241;43m.\u001b[39;49m\u001b[43mcolumns\u001b[49m\u001b[43m]\u001b[49m\u001b[38;5;241m.\u001b[39mastype(\u001b[38;5;124m'\u001b[39m\u001b[38;5;124mfloat32\u001b[39m\u001b[38;5;124m'\u001b[39m)\u001b[38;5;241m.\u001b[39mvalues\n\u001b[0;32m     20\u001b[0m X_U\u001b[38;5;241m.\u001b[39mappend(user_chunk)\n\u001b[0;32m     21\u001b[0m X_A\u001b[38;5;241m.\u001b[39mappend(item_chunk)\n",
      "File \u001b[1;32mc:\\Users\\Lenovo\\AppData\\Local\\Programs\\Python\\Python312\\Lib\\site-packages\\pandas\\core\\frame.py:4108\u001b[0m, in \u001b[0;36mDataFrame.__getitem__\u001b[1;34m(self, key)\u001b[0m\n\u001b[0;32m   4106\u001b[0m     \u001b[38;5;28;01mif\u001b[39;00m is_iterator(key):\n\u001b[0;32m   4107\u001b[0m         key \u001b[38;5;241m=\u001b[39m \u001b[38;5;28mlist\u001b[39m(key)\n\u001b[1;32m-> 4108\u001b[0m     indexer \u001b[38;5;241m=\u001b[39m \u001b[38;5;28;43mself\u001b[39;49m\u001b[38;5;241;43m.\u001b[39;49m\u001b[43mcolumns\u001b[49m\u001b[38;5;241;43m.\u001b[39;49m\u001b[43m_get_indexer_strict\u001b[49m\u001b[43m(\u001b[49m\u001b[43mkey\u001b[49m\u001b[43m,\u001b[49m\u001b[43m \u001b[49m\u001b[38;5;124;43m\"\u001b[39;49m\u001b[38;5;124;43mcolumns\u001b[39;49m\u001b[38;5;124;43m\"\u001b[39;49m\u001b[43m)\u001b[49m[\u001b[38;5;241m1\u001b[39m]\n\u001b[0;32m   4110\u001b[0m \u001b[38;5;66;03m# take() does not accept boolean indexers\u001b[39;00m\n\u001b[0;32m   4111\u001b[0m \u001b[38;5;28;01mif\u001b[39;00m \u001b[38;5;28mgetattr\u001b[39m(indexer, \u001b[38;5;124m\"\u001b[39m\u001b[38;5;124mdtype\u001b[39m\u001b[38;5;124m\"\u001b[39m, \u001b[38;5;28;01mNone\u001b[39;00m) \u001b[38;5;241m==\u001b[39m \u001b[38;5;28mbool\u001b[39m:\n",
      "File \u001b[1;32mc:\\Users\\Lenovo\\AppData\\Local\\Programs\\Python\\Python312\\Lib\\site-packages\\pandas\\core\\indexes\\base.py:6200\u001b[0m, in \u001b[0;36mIndex._get_indexer_strict\u001b[1;34m(self, key, axis_name)\u001b[0m\n\u001b[0;32m   6197\u001b[0m \u001b[38;5;28;01melse\u001b[39;00m:\n\u001b[0;32m   6198\u001b[0m     keyarr, indexer, new_indexer \u001b[38;5;241m=\u001b[39m \u001b[38;5;28mself\u001b[39m\u001b[38;5;241m.\u001b[39m_reindex_non_unique(keyarr)\n\u001b[1;32m-> 6200\u001b[0m \u001b[38;5;28;43mself\u001b[39;49m\u001b[38;5;241;43m.\u001b[39;49m\u001b[43m_raise_if_missing\u001b[49m\u001b[43m(\u001b[49m\u001b[43mkeyarr\u001b[49m\u001b[43m,\u001b[49m\u001b[43m \u001b[49m\u001b[43mindexer\u001b[49m\u001b[43m,\u001b[49m\u001b[43m \u001b[49m\u001b[43maxis_name\u001b[49m\u001b[43m)\u001b[49m\n\u001b[0;32m   6202\u001b[0m keyarr \u001b[38;5;241m=\u001b[39m \u001b[38;5;28mself\u001b[39m\u001b[38;5;241m.\u001b[39mtake(indexer)\n\u001b[0;32m   6203\u001b[0m \u001b[38;5;28;01mif\u001b[39;00m \u001b[38;5;28misinstance\u001b[39m(key, Index):\n\u001b[0;32m   6204\u001b[0m     \u001b[38;5;66;03m# GH 42790 - Preserve name from an Index\u001b[39;00m\n",
      "File \u001b[1;32mc:\\Users\\Lenovo\\AppData\\Local\\Programs\\Python\\Python312\\Lib\\site-packages\\pandas\\core\\indexes\\base.py:6252\u001b[0m, in \u001b[0;36mIndex._raise_if_missing\u001b[1;34m(self, key, indexer, axis_name)\u001b[0m\n\u001b[0;32m   6249\u001b[0m     \u001b[38;5;28;01mraise\u001b[39;00m \u001b[38;5;167;01mKeyError\u001b[39;00m(\u001b[38;5;124mf\u001b[39m\u001b[38;5;124m\"\u001b[39m\u001b[38;5;124mNone of [\u001b[39m\u001b[38;5;132;01m{\u001b[39;00mkey\u001b[38;5;132;01m}\u001b[39;00m\u001b[38;5;124m] are in the [\u001b[39m\u001b[38;5;132;01m{\u001b[39;00maxis_name\u001b[38;5;132;01m}\u001b[39;00m\u001b[38;5;124m]\u001b[39m\u001b[38;5;124m\"\u001b[39m)\n\u001b[0;32m   6251\u001b[0m not_found \u001b[38;5;241m=\u001b[39m \u001b[38;5;28mlist\u001b[39m(ensure_index(key)[missing_mask\u001b[38;5;241m.\u001b[39mnonzero()[\u001b[38;5;241m0\u001b[39m]]\u001b[38;5;241m.\u001b[39munique())\n\u001b[1;32m-> 6252\u001b[0m \u001b[38;5;28;01mraise\u001b[39;00m \u001b[38;5;167;01mKeyError\u001b[39;00m(\u001b[38;5;124mf\u001b[39m\u001b[38;5;124m\"\u001b[39m\u001b[38;5;132;01m{\u001b[39;00mnot_found\u001b[38;5;132;01m}\u001b[39;00m\u001b[38;5;124m not in index\u001b[39m\u001b[38;5;124m\"\u001b[39m)\n",
      "\u001b[1;31mKeyError\u001b[0m: \"['Episodes', 'Genre_Action', 'Genre_Adventure', 'Genre_Avant Garde', 'Genre_Award Winning', 'Genre_Boys Love', 'Genre_Comedy', 'Genre_Drama', 'Genre_Ecchi', 'Genre_Erotica', 'Genre_Fantasy', 'Genre_Girls Love', 'Genre_Gourmet', 'Genre_Hentai', 'Genre_Horror', 'Genre_Mystery', 'Genre_Romance', 'Genre_Sci-Fi', 'Genre_Slice of Life', 'Genre_Sports', 'Genre_Supernatural', 'Genre_Suspense', 'Rating_UNKNOWN'] not in index\""
     ]
    }
   ],
   "source": [
    "\n",
    "# Y=final_training_set[\"Rating\"].values\n",
    "# # Optimize numerical_user_df columns to reduce memory usage\n",
    "# numerical_user_df = numerical_user_df.astype({col: 'float32' for col in numerical_user_df.select_dtypes(include=['float64']).columns})\n",
    "# numerical_user_df = numerical_user_df.astype({col: 'int32' for col in numerical_user_df.select_dtypes(include=['int64']).columns})\n",
    "\n",
    "# # Optimize numerical_item_df columns to reduce memory usage\n",
    "# numerical_item_df = numerical_item_df.astype({col: 'float32' for col in numerical_item_df.select_dtypes(include=['float64']).columns})\n",
    "# numerical_item_df = numerical_item_df.astype({col: 'int32' for col in numerical_item_df.select_dtypes(include=['int64']).columns})\n",
    "\n",
    "# Extract user features\n",
    "# Process the data in smaller chunks to avoid MemoryError\n",
    "chunk_size = 100000  # Define a reasonable chunk size\n",
    "X_U = []\n",
    "X_A = []\n",
    "\n",
    "for start in range(0, len(final_training_set), chunk_size):\n",
    "\tend = start + chunk_size\n",
    "\tuser_chunk = final_training_set.iloc[start:end][numerical_user_df.columns].astype('float32').values\n",
    "\titem_chunk = final_training_set.iloc[start:end][numerical_item_df.columns].astype('float32').values\n",
    "\tX_U.append(user_chunk)\n",
    "\tX_A.append(item_chunk)\n",
    "\n",
    "# Concatenate the chunks into final arrays\n",
    "X_U = np.vstack(X_U)\n",
    "X_A = np.vstack(X_A)"
   ]
  },
  {
   "cell_type": "markdown",
   "id": "6d561d94",
   "metadata": {},
   "source": [
    "# Neural Network for implementing COntent Based Filtering:"
   ]
  },
  {
   "cell_type": "code",
   "execution_count": 1,
   "id": "30fd1563",
   "metadata": {},
   "outputs": [],
   "source": [
    "import numpy as np\n",
    "import tensorflow as tf\n",
    "from tensorflow.keras import layers, models\n"
   ]
  },
  {
   "cell_type": "code",
   "execution_count": 4,
   "id": "49eb2fca",
   "metadata": {},
   "outputs": [
    {
     "ename": "TypeError",
     "evalue": "missing a required argument: 'inputs'",
     "output_type": "error",
     "traceback": [
      "\u001b[1;31m---------------------------------------------------------------------------\u001b[0m",
      "\u001b[1;31mTypeError\u001b[0m                                 Traceback (most recent call last)",
      "Cell \u001b[1;32mIn[4], line 21\u001b[0m\n\u001b[0;32m     19\u001b[0m \u001b[38;5;66;03m# Create the user input and point input layers\u001b[39;00m\n\u001b[0;32m     20\u001b[0m user_input \u001b[38;5;241m=\u001b[39m tf\u001b[38;5;241m.\u001b[39mkeras\u001b[38;5;241m.\u001b[39mInput(shape\u001b[38;5;241m=\u001b[39m(num_outputs,), name\u001b[38;5;241m=\u001b[39m\u001b[38;5;124m'\u001b[39m\u001b[38;5;124muser_input\u001b[39m\u001b[38;5;124m'\u001b[39m)\n\u001b[1;32m---> 21\u001b[0m vu\u001b[38;5;241m=\u001b[39m\u001b[43mUser_NN\u001b[49m\u001b[43m(\u001b[49m\u001b[38;5;28;43minput\u001b[39;49m\u001b[38;5;241;43m=\u001b[39;49m\u001b[43muser_input\u001b[49m\u001b[43m)\u001b[49m\n\u001b[0;32m     22\u001b[0m vu\u001b[38;5;241m=\u001b[39mtf\u001b[38;5;241m.\u001b[39mlinalg\u001b[38;5;241m.\u001b[39mnorm(vu,axis\u001b[38;5;241m=\u001b[39m\u001b[38;5;241m1\u001b[39m)\n\u001b[0;32m     24\u001b[0m \u001b[38;5;66;03m# Create the item input and point input layers\u001b[39;00m\n",
      "File \u001b[1;32mc:\\Users\\Lenovo\\AppData\\Local\\Programs\\Python\\Python312\\Lib\\site-packages\\keras\\src\\utils\\traceback_utils.py:122\u001b[0m, in \u001b[0;36mfilter_traceback.<locals>.error_handler\u001b[1;34m(*args, **kwargs)\u001b[0m\n\u001b[0;32m    119\u001b[0m     filtered_tb \u001b[38;5;241m=\u001b[39m _process_traceback_frames(e\u001b[38;5;241m.\u001b[39m__traceback__)\n\u001b[0;32m    120\u001b[0m     \u001b[38;5;66;03m# To get the full stack trace, call:\u001b[39;00m\n\u001b[0;32m    121\u001b[0m     \u001b[38;5;66;03m# `keras.config.disable_traceback_filtering()`\u001b[39;00m\n\u001b[1;32m--> 122\u001b[0m     \u001b[38;5;28;01mraise\u001b[39;00m e\u001b[38;5;241m.\u001b[39mwith_traceback(filtered_tb) \u001b[38;5;28;01mfrom\u001b[39;00m \u001b[38;5;28;01mNone\u001b[39;00m\n\u001b[0;32m    123\u001b[0m \u001b[38;5;28;01mfinally\u001b[39;00m:\n\u001b[0;32m    124\u001b[0m     \u001b[38;5;28;01mdel\u001b[39;00m filtered_tb\n",
      "File \u001b[1;32mc:\\Users\\Lenovo\\AppData\\Local\\Programs\\Python\\Python312\\Lib\\inspect.py:3273\u001b[0m, in \u001b[0;36mSignature.bind\u001b[1;34m(self, *args, **kwargs)\u001b[0m\n\u001b[0;32m   3268\u001b[0m \u001b[38;5;28;01mdef\u001b[39;00m \u001b[38;5;21mbind\u001b[39m(\u001b[38;5;28mself\u001b[39m, \u001b[38;5;241m/\u001b[39m, \u001b[38;5;241m*\u001b[39margs, \u001b[38;5;241m*\u001b[39m\u001b[38;5;241m*\u001b[39mkwargs):\n\u001b[0;32m   3269\u001b[0m \u001b[38;5;250m    \u001b[39m\u001b[38;5;124;03m\"\"\"Get a BoundArguments object, that maps the passed `args`\u001b[39;00m\n\u001b[0;32m   3270\u001b[0m \u001b[38;5;124;03m    and `kwargs` to the function's signature.  Raises `TypeError`\u001b[39;00m\n\u001b[0;32m   3271\u001b[0m \u001b[38;5;124;03m    if the passed arguments can not be bound.\u001b[39;00m\n\u001b[0;32m   3272\u001b[0m \u001b[38;5;124;03m    \"\"\"\u001b[39;00m\n\u001b[1;32m-> 3273\u001b[0m     \u001b[38;5;28;01mreturn\u001b[39;00m \u001b[38;5;28;43mself\u001b[39;49m\u001b[38;5;241;43m.\u001b[39;49m\u001b[43m_bind\u001b[49m\u001b[43m(\u001b[49m\u001b[43margs\u001b[49m\u001b[43m,\u001b[49m\u001b[43m \u001b[49m\u001b[43mkwargs\u001b[49m\u001b[43m)\u001b[49m\n",
      "File \u001b[1;32mc:\\Users\\Lenovo\\AppData\\Local\\Programs\\Python\\Python312\\Lib\\inspect.py:3186\u001b[0m, in \u001b[0;36mSignature._bind\u001b[1;34m(self, args, kwargs, partial)\u001b[0m\n\u001b[0;32m   3184\u001b[0m                 msg \u001b[38;5;241m=\u001b[39m \u001b[38;5;124m'\u001b[39m\u001b[38;5;124mmissing a required\u001b[39m\u001b[38;5;132;01m{argtype}\u001b[39;00m\u001b[38;5;124m argument: \u001b[39m\u001b[38;5;132;01m{arg!r}\u001b[39;00m\u001b[38;5;124m'\u001b[39m\n\u001b[0;32m   3185\u001b[0m                 msg \u001b[38;5;241m=\u001b[39m msg\u001b[38;5;241m.\u001b[39mformat(arg\u001b[38;5;241m=\u001b[39mparam\u001b[38;5;241m.\u001b[39mname, argtype\u001b[38;5;241m=\u001b[39margtype)\n\u001b[1;32m-> 3186\u001b[0m                 \u001b[38;5;28;01mraise\u001b[39;00m \u001b[38;5;167;01mTypeError\u001b[39;00m(msg) \u001b[38;5;28;01mfrom\u001b[39;00m \u001b[38;5;28;01mNone\u001b[39;00m\n\u001b[0;32m   3187\u001b[0m \u001b[38;5;28;01melse\u001b[39;00m:\n\u001b[0;32m   3188\u001b[0m     \u001b[38;5;66;03m# We have a positional argument to process\u001b[39;00m\n\u001b[0;32m   3189\u001b[0m     \u001b[38;5;28;01mtry\u001b[39;00m:\n",
      "\u001b[1;31mTypeError\u001b[0m: missing a required argument: 'inputs'"
     ]
    }
   ],
   "source": [
    "tf.random.set_seed(42)\n",
    "num_outputs=32\n",
    "# Define the model for the user\n",
    "# The model is a simple feedforward neural network with 4 hidden layers\n",
    "User_NN=tf.keras.models.Sequential([\n",
    "    tf.keras.layers.Dense(256,activation='relu'),\n",
    "    tf.keras.layers.Dense(128,activation='relu'),\n",
    "    tf.keras.layers.Dense(64,activation='relu'),\n",
    "    tf.keras.layers.Dense(units=num_outputs,activation=\"linear\")    \n",
    "])\n",
    "\n",
    "item_NN=tf.keras.models.Sequential([\n",
    "    tf.keras.layers.Dense(256,activation='relu'),\n",
    "    tf.keras.layers.Dense(128,activation='relu'),\n",
    "    tf.keras.layers.Dense(64,activation='relu'),\n",
    "    tf.keras.layers.Dense(units=num_outputs,activation=\"linear\") \n",
    "])\n",
    "\n",
    "# Create the user input and point input layers\n",
    "user_input = tf.keras.Input(shape=(num_outputs,), name='user_input')\n",
    "vu=User_NN(input=user_input)\n",
    "vu=tf.linalg.norm(vu,axis=1)\n",
    "\n",
    "# Create the item input and point input layers\n",
    "item_input = tf.keras.Input(shape=(num_outputs,), name='item_input')\n",
    "va=item_NN(input=item_input)\n",
    "va=tf.linalg.norm(va,axis=1)\n",
    "\n",
    "#Compute the dot product of the user and item vectors\n",
    "dot_product = tf.keras.layers.Dot(axes=1)([vu, va])\n",
    "\n",
    "model=tf.keras.Model(inputs=[user_input, item_input], outputs=dot_product)\n",
    "\n",
    "model.summary()\n"
   ]
  },
  {
   "cell_type": "code",
   "execution_count": null,
   "id": "507e6f05",
   "metadata": {},
   "outputs": [],
   "source": [
    "# Compiling the model\n",
    "      \n",
    "model.compile(optimizer=tf.keras.optimizers.Adam(learning_rate=0.001), loss='mean_squared_error')"
   ]
  }
 ],
 "metadata": {
  "kernelspec": {
   "display_name": "Python 3",
   "language": "python",
   "name": "python3"
  },
  "language_info": {
   "codemirror_mode": {
    "name": "ipython",
    "version": 3
   },
   "file_extension": ".py",
   "mimetype": "text/x-python",
   "name": "python",
   "nbconvert_exporter": "python",
   "pygments_lexer": "ipython3",
   "version": "3.12.5"
  }
 },
 "nbformat": 4,
 "nbformat_minor": 5
}
