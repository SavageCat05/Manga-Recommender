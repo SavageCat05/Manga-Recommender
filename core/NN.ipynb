{
 "cells": [
  {
   "cell_type": "markdown",
   "id": "0db3612a",
   "metadata": {},
   "source": [
    "# Obtained_data:"
   ]
  },
  {
   "cell_type": "code",
   "execution_count": 1,
   "id": "ce088793",
   "metadata": {},
   "outputs": [],
   "source": [
    "import numpy as np "
   ]
  },
  {
   "cell_type": "code",
   "execution_count": 2,
   "id": "ad86276c",
   "metadata": {},
   "outputs": [
    {
     "name": "stderr",
     "output_type": "stream",
     "text": [
      "C:\\Users\\Lenovo\\AppData\\Local\\Temp\\ipykernel_17696\\192256860.py:3: DtypeWarning: Columns (20) have mixed types. Specify dtype option on import or set low_memory=False.\n",
      "  item_data=pd.read_csv(\"Final_Anime_Dataset.csv\")\n"
     ]
    }
   ],
   "source": [
    "import pandas as pd\n",
    "user_data=pd.read_csv(\"Final_User_Dataset.csv\")\n",
    "item_data=pd.read_csv(\"Final_Anime_Dataset.csv\")\n",
    "user_input=pd.read_csv(\"User_input.csv\")\n",
    "\n"
   ]
  },
  {
   "cell_type": "code",
   "execution_count": 3,
   "id": "f25c55f3",
   "metadata": {},
   "outputs": [
    {
     "data": {
      "text/plain": [
       "dtype('float64')"
      ]
     },
     "execution_count": 3,
     "metadata": {},
     "output_type": "execute_result"
    }
   ],
   "source": [
    "user_data[user_data.columns[21]].dtype"
   ]
  },
  {
   "cell_type": "code",
   "execution_count": 4,
   "id": "20eed514",
   "metadata": {},
   "outputs": [
    {
     "data": {
      "text/plain": [
       "array([347, 'troublesome4u', 'Male', 8.64, 167.0, 8.84, 8.83, 7.93, 9.56,\n",
       "       7.06, 8.1, 8.67, 8.0, 6.8, 8.47, 7.17, 7.53, 6.47, 8.54, 6.83,\n",
       "       8.57, 8.32, 7.87, 9.0, 8.69, 10.0, 47, 'Gen_X', 0, 1], dtype=object)"
      ]
     },
     "execution_count": 4,
     "metadata": {},
     "output_type": "execute_result"
    }
   ],
   "source": [
    "user_data.iloc[21, :].unique()"
   ]
  },
  {
   "cell_type": "code",
   "execution_count": 5,
   "id": "4627a156",
   "metadata": {},
   "outputs": [],
   "source": [
    "# user_data[\"avg_Romance\"] = pd.to_numeric(user_data[\"avg_Romance\"], errors=\"coerce\")\n"
   ]
  },
  {
   "cell_type": "code",
   "execution_count": 6,
   "id": "066899aa",
   "metadata": {},
   "outputs": [],
   "source": [
    "from sklearn.base import BaseEstimator, TransformerMixin\n",
    "import pandas as pd\n",
    "\n",
    "class GenreRatingTypeConverter(BaseEstimator, TransformerMixin):\n",
    "    \"\"\"\n",
    "    A transformer that converts all columns with a specific prefix to numeric data types,\n",
    "    handling non-numeric values by converting them to NaN.\n",
    "    \n",
    "    Parameters:\n",
    "    -----------\n",
    "    column_prefix : str, default='avg_'\n",
    "        Prefix used to identify columns for conversion\n",
    "    errors : str, default='coerce'\n",
    "        How to handle errors in conversion:\n",
    "        - 'ignore': leave invalid values as is\n",
    "        - 'raise': raise an exception\n",
    "        - 'coerce': convert invalid values to NaN\n",
    "    downcast : str or None, default=None\n",
    "        Type to downcast to if possible ('integer', 'signed', 'unsigned', 'float')\n",
    "    \"\"\"\n",
    "    \n",
    "    def __init__(self, column_prefix='avg_', errors='coerce', downcast=None):\n",
    "        self.column_prefix = column_prefix\n",
    "        self.errors = errors\n",
    "        self.downcast = downcast\n",
    "        self.columns_converted_ = None\n",
    "    \n",
    "    def fit(self, X, y=None):\n",
    "        \"\"\"\n",
    "        Identify columns to convert based on prefix.\n",
    "        \n",
    "        Parameters:\n",
    "        -----------\n",
    "        X : pandas.DataFrame\n",
    "            Input DataFrame\n",
    "        y : array-like, default=None\n",
    "            Not used, present for API consistency\n",
    "            \n",
    "        Returns:\n",
    "        --------\n",
    "        self\n",
    "        \"\"\"\n",
    "        # Identify columns starting with the specified prefix\n",
    "        self.columns_converted_ = [col for col in X.columns if col.startswith(self.column_prefix)]\n",
    "        return self\n",
    "    \n",
    "    def transform(self, X):\n",
    "        \"\"\"\n",
    "        Convert identified columns to numeric types.\n",
    "        \n",
    "        Parameters:\n",
    "        -----------\n",
    "        X : pandas.DataFrame\n",
    "            Input DataFrame to transform\n",
    "            \n",
    "        Returns:\n",
    "        --------\n",
    "        pandas.DataFrame\n",
    "            Transformed DataFrame with numeric columns\n",
    "        \"\"\"\n",
    "        X_result = X.copy()\n",
    "        \n",
    "        for column in self.columns_converted_:\n",
    "            X_result[column] = pd.to_numeric(X_result[column], \n",
    "                                             errors=self.errors, \n",
    "                                             downcast=self.downcast)\n",
    "        \n",
    "        return X_result\n",
    "    \n",
    "    def get_feature_names_out(self, input_features=None):\n",
    "        \"\"\"\n",
    "        Get output feature names.\n",
    "        \n",
    "        Parameters:\n",
    "        -----------\n",
    "        input_features : array-like of str or None, default=None\n",
    "            Input features\n",
    "            \n",
    "        Returns:\n",
    "        --------\n",
    "        list\n",
    "            List of converted column names\n",
    "        \"\"\"\n",
    "        return self.columns_converted_"
   ]
  },
  {
   "cell_type": "code",
   "execution_count": 7,
   "id": "f90724c8",
   "metadata": {},
   "outputs": [
    {
     "name": "stdout",
     "output_type": "stream",
     "text": [
      "avg_Action: float64\n",
      "avg_Adventure: float64\n",
      "avg_Avant Garde: float64\n",
      "avg_Award Winning: float64\n",
      "avg_Boys Love: float64\n",
      "avg_Comedy: float64\n",
      "avg_Drama: float64\n",
      "avg_Ecchi: float64\n",
      "avg_Erotica: float64\n",
      "avg_Fantasy: float64\n",
      "avg_Girls Love: float64\n",
      "avg_Gourmet: float64\n",
      "avg_Hentai: float64\n",
      "avg_Horror: float64\n",
      "avg_Mystery: float64\n",
      "avg_Romance: float64\n",
      "avg_Sci-Fi: float64\n",
      "avg_Slice of Life: float64\n",
      "avg_Sports: float64\n",
      "avg_Supernatural: float64\n",
      "avg_Suspense: float64\n"
     ]
    }
   ],
   "source": [
    "# Initialize the transformer\n",
    "genre_converter = GenreRatingTypeConverter(column_prefix='avg_', errors='coerce')\n",
    "\n",
    "# Apply the transformation\n",
    "user_data = genre_converter.fit_transform(user_data)\n",
    "\n",
    "# Check the data types of converted columns\n",
    "for col in genre_converter.columns_converted_:\n",
    "    print(f\"{col}: {user_data[col].dtype}\")"
   ]
  },
  {
   "cell_type": "code",
   "execution_count": 8,
   "id": "278053da",
   "metadata": {},
   "outputs": [
    {
     "data": {
      "text/plain": [
       "dtype('float64')"
      ]
     },
     "execution_count": 8,
     "metadata": {},
     "output_type": "execute_result"
    }
   ],
   "source": [
    "user_data[\"avg_Romance\"].dtype"
   ]
  },
  {
   "cell_type": "code",
   "execution_count": 9,
   "id": "0e309d39",
   "metadata": {},
   "outputs": [
    {
     "name": "stdout",
     "output_type": "stream",
     "text": [
      "Range of avg_Mystery: 1.0 to 10.0\n"
     ]
    }
   ],
   "source": [
    "min_value = user_data['avg_Mystery'].min()\n",
    "max_value = user_data['avg_Mystery'].max()\n",
    "print(f\"Range of avg_Mystery: {min_value} to {max_value}\")"
   ]
  },
  {
   "cell_type": "code",
   "execution_count": 10,
   "id": "77ed4ef7",
   "metadata": {},
   "outputs": [
    {
     "data": {
      "text/plain": [
       "dtype('float64')"
      ]
     },
     "execution_count": 10,
     "metadata": {},
     "output_type": "execute_result"
    }
   ],
   "source": [
    "user_data[\"avg_Mystery\"].dtype"
   ]
  },
  {
   "cell_type": "code",
   "execution_count": 11,
   "id": "2a528533",
   "metadata": {},
   "outputs": [
    {
     "data": {
      "text/plain": [
       "(19848, 1571)"
      ]
     },
     "execution_count": 11,
     "metadata": {},
     "output_type": "execute_result"
    }
   ],
   "source": [
    "item_data.shape"
   ]
  },
  {
   "cell_type": "code",
   "execution_count": 12,
   "id": "7bbd5b8b",
   "metadata": {},
   "outputs": [
    {
     "data": {
      "text/plain": [
       "Index(['user_id', 'Username', 'Gender', 'Mean Score', 'Completed',\n",
       "       'avg_Action', 'avg_Adventure', 'avg_Avant Garde', 'avg_Award Winning',\n",
       "       'avg_Boys Love', 'avg_Comedy', 'avg_Drama', 'avg_Ecchi', 'avg_Erotica',\n",
       "       'avg_Fantasy', 'avg_Girls Love', 'avg_Gourmet', 'avg_Hentai',\n",
       "       'avg_Horror', 'avg_Mystery', 'avg_Romance', 'avg_Sci-Fi',\n",
       "       'avg_Slice of Life', 'avg_Sports', 'avg_Supernatural', 'avg_Suspense',\n",
       "       'Age', 'Viewer_Category', 'Age_Group__Gen_Alpha', 'Age_Group__Zoomers',\n",
       "       'Age_Group__Millennials', 'Age_Group__Gen_X', 'Age_Group__Boomers_Plus',\n",
       "       'Category_Classic_Era_Fans', 'Category_Gen_Alpha_Viewers',\n",
       "       'Category_Millennial_Favorites', 'Category_Retro_Anime_Lovers',\n",
       "       'Category_Zoomer_Picks'],\n",
       "      dtype='object')"
      ]
     },
     "execution_count": 12,
     "metadata": {},
     "output_type": "execute_result"
    }
   ],
   "source": [
    "user_data.columns"
   ]
  },
  {
   "cell_type": "code",
   "execution_count": 13,
   "id": "ede8c699",
   "metadata": {},
   "outputs": [
    {
     "data": {
      "text/html": [
       "<div>\n",
       "<style scoped>\n",
       "    .dataframe tbody tr th:only-of-type {\n",
       "        vertical-align: middle;\n",
       "    }\n",
       "\n",
       "    .dataframe tbody tr th {\n",
       "        vertical-align: top;\n",
       "    }\n",
       "\n",
       "    .dataframe thead th {\n",
       "        text-align: right;\n",
       "    }\n",
       "</style>\n",
       "<table border=\"1\" class=\"dataframe\">\n",
       "  <thead>\n",
       "    <tr style=\"text-align: right;\">\n",
       "      <th></th>\n",
       "      <th>anime_id</th>\n",
       "      <th>Name</th>\n",
       "      <th>English name</th>\n",
       "      <th>Other name</th>\n",
       "      <th>Score</th>\n",
       "      <th>Genres</th>\n",
       "      <th>Synopsis</th>\n",
       "      <th>Episodes</th>\n",
       "      <th>Aired</th>\n",
       "      <th>Premiered</th>\n",
       "      <th>...</th>\n",
       "      <th>Studio_pH Studio, D &amp; D Pictures</th>\n",
       "      <th>Studio_pH Studio, Noovo</th>\n",
       "      <th>Studio_production doA</th>\n",
       "      <th>Studio_studio MOTHER</th>\n",
       "      <th>Studio_studio YOG</th>\n",
       "      <th>Studio_trenova</th>\n",
       "      <th>Studio_ufotable</th>\n",
       "      <th>Studio_ufotable, Shaft, A-1 Pictures, SILVER LINK., Lerche, Lay-duce, CloverWorks, Drive</th>\n",
       "      <th>Studio_ufotable, feel., Studio Flag</th>\n",
       "      <th>Release_Year</th>\n",
       "    </tr>\n",
       "  </thead>\n",
       "  <tbody>\n",
       "    <tr>\n",
       "      <th>11804</th>\n",
       "      <td>36040</td>\n",
       "      <td>Knights of the Zodiac: Saint Seiya</td>\n",
       "      <td>UNKNOWN</td>\n",
       "      <td>聖闘士星矢: Knights of the Zodiac</td>\n",
       "      <td>5.13</td>\n",
       "      <td>Action, Adventure, Fantasy, Sci-Fi</td>\n",
       "      <td>Zeus had a daughter named Athena, the goddess ...</td>\n",
       "      <td>12</td>\n",
       "      <td>Jul 19, 2019 to Jan 23, 2020</td>\n",
       "      <td>UNKNOWN</td>\n",
       "      <td>...</td>\n",
       "      <td>0</td>\n",
       "      <td>0</td>\n",
       "      <td>0</td>\n",
       "      <td>0</td>\n",
       "      <td>0</td>\n",
       "      <td>0</td>\n",
       "      <td>0</td>\n",
       "      <td>0</td>\n",
       "      <td>0</td>\n",
       "      <td>2019.0</td>\n",
       "    </tr>\n",
       "  </tbody>\n",
       "</table>\n",
       "<p>1 rows × 1571 columns</p>\n",
       "</div>"
      ],
      "text/plain": [
       "       anime_id                                Name English name  \\\n",
       "11804     36040  Knights of the Zodiac: Saint Seiya      UNKNOWN   \n",
       "\n",
       "                         Other name  Score  \\\n",
       "11804  聖闘士星矢: Knights of the Zodiac   5.13   \n",
       "\n",
       "                                   Genres  \\\n",
       "11804  Action, Adventure, Fantasy, Sci-Fi   \n",
       "\n",
       "                                                Synopsis  Episodes  \\\n",
       "11804  Zeus had a daughter named Athena, the goddess ...        12   \n",
       "\n",
       "                              Aired Premiered  ...  \\\n",
       "11804  Jul 19, 2019 to Jan 23, 2020   UNKNOWN  ...   \n",
       "\n",
       "      Studio_pH Studio, D & D Pictures Studio_pH Studio, Noovo  \\\n",
       "11804                                0                       0   \n",
       "\n",
       "      Studio_production doA Studio_studio MOTHER Studio_studio YOG  \\\n",
       "11804                     0                    0                 0   \n",
       "\n",
       "      Studio_trenova Studio_ufotable  \\\n",
       "11804              0               0   \n",
       "\n",
       "       Studio_ufotable, Shaft, A-1 Pictures, SILVER LINK., Lerche, Lay-duce, CloverWorks, Drive  \\\n",
       "11804                                                  0                                          \n",
       "\n",
       "       Studio_ufotable, feel., Studio Flag  Release_Year  \n",
       "11804                                    0        2019.0  \n",
       "\n",
       "[1 rows x 1571 columns]"
      ]
     },
     "execution_count": 13,
     "metadata": {},
     "output_type": "execute_result"
    }
   ],
   "source": [
    "item_data.columns\n",
    "item_data.sample()"
   ]
  },
  {
   "cell_type": "code",
   "execution_count": 14,
   "id": "a0e42210",
   "metadata": {},
   "outputs": [
    {
     "name": "stdout",
     "output_type": "stream",
     "text": [
      "   user_id  Username  Mean Score  Completed  avg_Action  avg_Adventure  \\\n",
      "0        1     Xinil        7.37      233.0        7.68           7.90   \n",
      "1       20    vondur        8.06       94.0        8.02           8.24   \n",
      "2       66    Hiromi        7.53      148.0        7.49           7.31   \n",
      "3       82    Achtor        7.17      153.0        7.36           7.71   \n",
      "4      112  luffykun        8.77      125.0        8.60           8.36   \n",
      "\n",
      "   avg_Avant Garde  avg_Award Winning  avg_Boys Love  avg_Comedy  ...  \\\n",
      "0             8.00               8.18           7.06        7.02  ...   \n",
      "1             9.00               8.43           7.06        7.77  ...   \n",
      "2             7.00               7.90           7.06        7.46  ...   \n",
      "3             8.80               8.25           7.06        7.05  ...   \n",
      "4             7.93               9.80           7.06        8.67  ...   \n",
      "\n",
      "   Age_Group__Gen_X  Age_Group__Boomers_Plus  Category_Classic_Era_Fans  \\\n",
      "0                 1                        0                          0   \n",
      "1                 1                        0                          0   \n",
      "2                 0                        0                          0   \n",
      "3                 1                        0                          0   \n",
      "4                 1                        0                          0   \n",
      "\n",
      "   Category_Gen_Alpha_Viewers  Category_Millennial_Favorites  \\\n",
      "0                           0                              0   \n",
      "1                           0                              0   \n",
      "2                           0                              0   \n",
      "3                           0                              0   \n",
      "4                           0                              0   \n",
      "\n",
      "   Category_Retro_Anime_Lovers  Category_Zoomer_Picks  Gender_Female  \\\n",
      "0                            0                      0              0   \n",
      "1                            0                      0              0   \n",
      "2                            0                      0              0   \n",
      "3                            0                      0              0   \n",
      "4                            0                      0              0   \n",
      "\n",
      "   Gender_Male  Gender_Non-Binary  \n",
      "0            1                  0  \n",
      "1            1                  0  \n",
      "2            1                  0  \n",
      "3            1                  0  \n",
      "4            1                  0  \n",
      "\n",
      "[5 rows x 40 columns]\n"
     ]
    }
   ],
   "source": [
    "from sklearn.preprocessing import OneHotEncoder\n",
    "\n",
    "# Initialize the OneHotEncoder\n",
    "encoder = OneHotEncoder(sparse_output=False, drop=None, dtype=int)\n",
    "\n",
    "# Fit and transform the 'Gender' column\n",
    "gender_encoded = encoder.fit_transform(user_data[['Gender']])\n",
    "\n",
    "# Get the column names for the encoded features\n",
    "gender_columns = encoder.get_feature_names_out(['Gender'])\n",
    "\n",
    "# Create a DataFrame for the encoded features\n",
    "gender_encoded_df = pd.DataFrame(gender_encoded, columns=gender_columns)\n",
    "\n",
    "# Concatenate the one-hot encoded columns with the original DataFrame\n",
    "user_data = pd.concat([user_data, gender_encoded_df], axis=1)\n",
    "\n",
    "# Drop the original 'Gender' column if no longer needed\n",
    "user_data.drop(columns=['Gender'], inplace=True)\n",
    "\n",
    "# Display the updated DataFrame\n",
    "print(user_data.head())"
   ]
  },
  {
   "cell_type": "code",
   "execution_count": 15,
   "id": "d28877d7",
   "metadata": {},
   "outputs": [
    {
     "data": {
      "text/plain": [
       "array(['R - 17+ (violence & profanity)', 'R - 17+ (violence & profanity)',\n",
       "       'PG-13 - Teens 13 or older', ..., 'PG-13 - Teens 13 or older',\n",
       "       'PG-13 - Teens 13 or older', 'PG-13 - Teens 13 or older'],\n",
       "      dtype=object)"
      ]
     },
     "execution_count": 15,
     "metadata": {},
     "output_type": "execute_result"
    }
   ],
   "source": [
    "item_data[\"Rating\"].values"
   ]
  },
  {
   "cell_type": "code",
   "execution_count": 16,
   "id": "c5d8dede",
   "metadata": {},
   "outputs": [
    {
     "data": {
      "text/plain": [
       "(71278, 40)"
      ]
     },
     "execution_count": 16,
     "metadata": {},
     "output_type": "execute_result"
    }
   ],
   "source": [
    "user_data.shape"
   ]
  },
  {
   "cell_type": "code",
   "execution_count": 17,
   "id": "9dcd0112",
   "metadata": {},
   "outputs": [
    {
     "data": {
      "text/plain": [
       "Index(['user_id', 'Username', 'Mean Score', 'Completed', 'avg_Action',\n",
       "       'avg_Adventure', 'avg_Avant Garde', 'avg_Award Winning',\n",
       "       'avg_Boys Love', 'avg_Comedy', 'avg_Drama', 'avg_Ecchi', 'avg_Erotica',\n",
       "       'avg_Fantasy', 'avg_Girls Love', 'avg_Gourmet', 'avg_Hentai',\n",
       "       'avg_Horror', 'avg_Mystery', 'avg_Romance', 'avg_Sci-Fi',\n",
       "       'avg_Slice of Life', 'avg_Sports', 'avg_Supernatural', 'avg_Suspense',\n",
       "       'Age', 'Viewer_Category', 'Age_Group__Gen_Alpha', 'Age_Group__Zoomers',\n",
       "       'Age_Group__Millennials', 'Age_Group__Gen_X', 'Age_Group__Boomers_Plus',\n",
       "       'Category_Classic_Era_Fans', 'Category_Gen_Alpha_Viewers',\n",
       "       'Category_Millennial_Favorites', 'Category_Retro_Anime_Lovers',\n",
       "       'Category_Zoomer_Picks', 'Gender_Female', 'Gender_Male',\n",
       "       'Gender_Non-Binary'],\n",
       "      dtype='object')"
      ]
     },
     "execution_count": 17,
     "metadata": {},
     "output_type": "execute_result"
    }
   ],
   "source": [
    "user_data.columns"
   ]
  },
  {
   "cell_type": "code",
   "execution_count": 18,
   "id": "48596c15",
   "metadata": {},
   "outputs": [
    {
     "data": {
      "text/plain": [
       "Index(['anime_id', 'Name', 'English name', 'Other name', 'Score', 'Genres',\n",
       "       'Synopsis', 'Episodes', 'Aired', 'Premiered',\n",
       "       ...\n",
       "       'Studio_pH Studio, D & D Pictures', 'Studio_pH Studio, Noovo',\n",
       "       'Studio_production doA', 'Studio_studio MOTHER', 'Studio_studio YOG',\n",
       "       'Studio_trenova', 'Studio_ufotable',\n",
       "       'Studio_ufotable, Shaft, A-1 Pictures, SILVER LINK., Lerche, Lay-duce, CloverWorks, Drive',\n",
       "       'Studio_ufotable, feel., Studio Flag', 'Release_Year'],\n",
       "      dtype='object', length=1571)"
      ]
     },
     "execution_count": 18,
     "metadata": {},
     "output_type": "execute_result"
    }
   ],
   "source": [
    "item_data.columns\n"
   ]
  },
  {
   "cell_type": "code",
   "execution_count": 19,
   "id": "e2b9f364",
   "metadata": {},
   "outputs": [
    {
     "data": {
      "text/plain": [
       "anime_id                                                                                       0\n",
       "Name                                                                                           0\n",
       "English name                                                                                   0\n",
       "Other name                                                                                     0\n",
       "Score                                                                                       5183\n",
       "                                                                                            ... \n",
       "Studio_trenova                                                                                 0\n",
       "Studio_ufotable                                                                                0\n",
       "Studio_ufotable, Shaft, A-1 Pictures, SILVER LINK., Lerche, Lay-duce, CloverWorks, Drive       0\n",
       "Studio_ufotable, feel., Studio Flag                                                            0\n",
       "Release_Year                                                                                   0\n",
       "Length: 1571, dtype: int64"
      ]
     },
     "execution_count": 19,
     "metadata": {},
     "output_type": "execute_result"
    }
   ],
   "source": [
    "\n",
    "item_data.isna().sum()"
   ]
  },
  {
   "cell_type": "code",
   "execution_count": 20,
   "id": "a067f280",
   "metadata": {},
   "outputs": [
    {
     "name": "stdout",
     "output_type": "stream",
     "text": [
      "   anime_id                             Name             English name  \\\n",
      "0         1                     Cowboy Bebop             Cowboy Bebop   \n",
      "1         5  Cowboy Bebop: Tengoku no Tobira  Cowboy Bebop: The Movie   \n",
      "2         6                           Trigun                   Trigun   \n",
      "3         7               Witch Hunter Robin       Witch Hunter Robin   \n",
      "4         8                   Bouken Ou Beet   Beet the Vandel Buster   \n",
      "\n",
      "                         Other name  Score  \\\n",
      "0                         カウボーイビバップ   8.75   \n",
      "1                    カウボーイビバップ 天国の扉   8.38   \n",
      "2                             トライガン   8.22   \n",
      "3  Witch Hunter ROBIN (ウイッチハンターロビン)   7.25   \n",
      "4                            冒険王ビィト   6.94   \n",
      "\n",
      "                                            Synopsis    Source  \\\n",
      "0  Crime is timeless. By the year 2071, humanity ...  Original   \n",
      "1  Another day, another bounty—such is the life o...  Original   \n",
      "2  Vash the Stampede is the man with a $$60,000,0...     Manga   \n",
      "3  Robin Sena is a powerful craft user drafted in...  Original   \n",
      "4  It is the dark century and the people are suff...     Manga   \n",
      "\n",
      "                           Rating  Rank  Popularity  ...  \\\n",
      "0  R - 17+ (violence & profanity)    41          43  ...   \n",
      "1  R - 17+ (violence & profanity)   189         602  ...   \n",
      "2       PG-13 - Teens 13 or older   328         246  ...   \n",
      "3       PG-13 - Teens 13 or older  2764        1795  ...   \n",
      "4                   PG - Children  4240        5126  ...   \n",
      "\n",
      "   Studio_pH Studio, D & D Pictures Studio_pH Studio, Noovo  \\\n",
      "0                                 0                       0   \n",
      "1                                 0                       0   \n",
      "2                                 0                       0   \n",
      "3                                 0                       0   \n",
      "4                                 0                       0   \n",
      "\n",
      "   Studio_production doA Studio_studio MOTHER  Studio_studio YOG  \\\n",
      "0                      0                    0                  0   \n",
      "1                      0                    0                  0   \n",
      "2                      0                    0                  0   \n",
      "3                      0                    0                  0   \n",
      "4                      0                    0                  0   \n",
      "\n",
      "   Studio_trenova  Studio_ufotable  \\\n",
      "0               0                0   \n",
      "1               0                0   \n",
      "2               0                0   \n",
      "3               0                0   \n",
      "4               0                0   \n",
      "\n",
      "   Studio_ufotable, Shaft, A-1 Pictures, SILVER LINK., Lerche, Lay-duce, CloverWorks, Drive  \\\n",
      "0                                                  0                                          \n",
      "1                                                  0                                          \n",
      "2                                                  0                                          \n",
      "3                                                  0                                          \n",
      "4                                                  0                                          \n",
      "\n",
      "   Studio_ufotable, feel., Studio Flag  Release_Year  \n",
      "0                                    0        1998.0  \n",
      "1                                    0        2001.0  \n",
      "2                                    0        1998.0  \n",
      "3                                    0        2002.0  \n",
      "4                                    0        2004.0  \n",
      "\n",
      "[5 rows x 1562 columns]\n"
     ]
    }
   ],
   "source": [
    "from sklearn.base import BaseEstimator, TransformerMixin\n",
    "from sklearn.pipeline import Pipeline\n",
    "\n",
    "class ColumnDropper(BaseEstimator, TransformerMixin):\n",
    "    \"\"\"\n",
    "    A transformer that drops specified columns from a DataFrame.\n",
    "    \n",
    "    Parameters:\n",
    "    -----------\n",
    "    columns_to_drop : list of str\n",
    "        List of column names to drop by default.\n",
    "    \"\"\"\n",
    "    def __init__(self, columns_to_drop=None):\n",
    "        self.columns_to_drop = columns_to_drop if columns_to_drop else []\n",
    "\n",
    "    def fit(self, X, y=None):\n",
    "        # No fitting required for this transformer\n",
    "        return self\n",
    "\n",
    "    def transform(self, X):\n",
    "        \"\"\"\n",
    "        Drops the specified columns from the DataFrame.\n",
    "        \n",
    "        Parameters:\n",
    "        -----------\n",
    "        X : pandas.DataFrame\n",
    "            Input DataFrame\n",
    "            \n",
    "        Returns:\n",
    "        --------\n",
    "        pandas.DataFrame\n",
    "            Transformed DataFrame with specified columns dropped\n",
    "        \"\"\"\n",
    "        X_transformed = X.drop(columns=self.columns_to_drop, errors='ignore')\n",
    "        return X_transformed\n",
    "\n",
    "# Define the default columns to drop\n",
    "default_columns_to_drop = [\n",
    "    \"Genres\", \"Episodes\", \"Rating_UNKNOWN\", \"Producers\", \"Aired\",\n",
    "    \"Premiered\", \"Status\", \"Studios\", \"Licensors\", \"Duration\"\n",
    "]\n",
    "\n",
    "# Create the pipeline\n",
    "pipeline = Pipeline([\n",
    "    ('column_dropper', ColumnDropper(columns_to_drop=default_columns_to_drop))\n",
    "])\n",
    "\n",
    "# Apply the pipeline to the item_data DataFrame\n",
    "filtered_item_data_df = pipeline.fit_transform(item_data)\n",
    "\n",
    "# Display the resulting DataFrame\n",
    "print(filtered_item_data_df.head())"
   ]
  },
  {
   "cell_type": "code",
   "execution_count": 21,
   "id": "4e1ea698",
   "metadata": {},
   "outputs": [
    {
     "data": {
      "text/plain": [
       "Index(['anime_id', 'Name', 'English name', 'Other name', 'Score', 'Synopsis',\n",
       "       'Source', 'Rating', 'Rank', 'Popularity',\n",
       "       ...\n",
       "       'Studio_pH Studio, D & D Pictures', 'Studio_pH Studio, Noovo',\n",
       "       'Studio_production doA', 'Studio_studio MOTHER', 'Studio_studio YOG',\n",
       "       'Studio_trenova', 'Studio_ufotable',\n",
       "       'Studio_ufotable, Shaft, A-1 Pictures, SILVER LINK., Lerche, Lay-duce, CloverWorks, Drive',\n",
       "       'Studio_ufotable, feel., Studio Flag', 'Release_Year'],\n",
       "      dtype='object', length=1562)"
      ]
     },
     "execution_count": 21,
     "metadata": {},
     "output_type": "execute_result"
    }
   ],
   "source": [
    "filtered_item_data_df.columns"
   ]
  },
  {
   "cell_type": "code",
   "execution_count": 22,
   "id": "f5df5f3a",
   "metadata": {},
   "outputs": [
    {
     "data": {
      "text/html": [
       "<div>\n",
       "<style scoped>\n",
       "    .dataframe tbody tr th:only-of-type {\n",
       "        vertical-align: middle;\n",
       "    }\n",
       "\n",
       "    .dataframe tbody tr th {\n",
       "        vertical-align: top;\n",
       "    }\n",
       "\n",
       "    .dataframe thead th {\n",
       "        text-align: right;\n",
       "    }\n",
       "</style>\n",
       "<table border=\"1\" class=\"dataframe\">\n",
       "  <thead>\n",
       "    <tr style=\"text-align: right;\">\n",
       "      <th></th>\n",
       "      <th>anime_id</th>\n",
       "      <th>Name</th>\n",
       "      <th>English name</th>\n",
       "      <th>Other name</th>\n",
       "      <th>Score</th>\n",
       "      <th>Synopsis</th>\n",
       "      <th>Source</th>\n",
       "      <th>Rating</th>\n",
       "      <th>Rank</th>\n",
       "      <th>Popularity</th>\n",
       "      <th>...</th>\n",
       "      <th>Studio_pH Studio, D &amp; D Pictures</th>\n",
       "      <th>Studio_pH Studio, Noovo</th>\n",
       "      <th>Studio_production doA</th>\n",
       "      <th>Studio_studio MOTHER</th>\n",
       "      <th>Studio_studio YOG</th>\n",
       "      <th>Studio_trenova</th>\n",
       "      <th>Studio_ufotable</th>\n",
       "      <th>Studio_ufotable, Shaft, A-1 Pictures, SILVER LINK., Lerche, Lay-duce, CloverWorks, Drive</th>\n",
       "      <th>Studio_ufotable, feel., Studio Flag</th>\n",
       "      <th>Release_Year</th>\n",
       "    </tr>\n",
       "  </thead>\n",
       "  <tbody>\n",
       "    <tr>\n",
       "      <th>4847</th>\n",
       "      <td>7512</td>\n",
       "      <td>Dambo</td>\n",
       "      <td>UNKNOWN</td>\n",
       "      <td>dambo</td>\n",
       "      <td>4.99</td>\n",
       "      <td>The haunting, hallucinatory, and oddly cute jo...</td>\n",
       "      <td>Original</td>\n",
       "      <td>PG-13 - Teens 13 or older</td>\n",
       "      <td>0</td>\n",
       "      <td>14151</td>\n",
       "      <td>...</td>\n",
       "      <td>0</td>\n",
       "      <td>0</td>\n",
       "      <td>0</td>\n",
       "      <td>0</td>\n",
       "      <td>0</td>\n",
       "      <td>0</td>\n",
       "      <td>0</td>\n",
       "      <td>0</td>\n",
       "      <td>0</td>\n",
       "      <td>2004.0</td>\n",
       "    </tr>\n",
       "    <tr>\n",
       "      <th>19360</th>\n",
       "      <td>54739</td>\n",
       "      <td>Make Love</td>\n",
       "      <td>UNKNOWN</td>\n",
       "      <td>メイクラブ</td>\n",
       "      <td>NaN</td>\n",
       "      <td>A short film by Genshou Yasuda.</td>\n",
       "      <td>Original</td>\n",
       "      <td>G - All Ages</td>\n",
       "      <td>17849</td>\n",
       "      <td>20711</td>\n",
       "      <td>...</td>\n",
       "      <td>0</td>\n",
       "      <td>0</td>\n",
       "      <td>0</td>\n",
       "      <td>0</td>\n",
       "      <td>0</td>\n",
       "      <td>0</td>\n",
       "      <td>0</td>\n",
       "      <td>0</td>\n",
       "      <td>0</td>\n",
       "      <td>2020.0</td>\n",
       "    </tr>\n",
       "    <tr>\n",
       "      <th>7567</th>\n",
       "      <td>19519</td>\n",
       "      <td>Dream Creator feat. GUMI</td>\n",
       "      <td>UNKNOWN</td>\n",
       "      <td>Dream Creator feat. GUMI</td>\n",
       "      <td>5.74</td>\n",
       "      <td>Music video for Dream Creator feat. GUMI by Ha...</td>\n",
       "      <td>Music</td>\n",
       "      <td>G - All Ages</td>\n",
       "      <td>0</td>\n",
       "      <td>11865</td>\n",
       "      <td>...</td>\n",
       "      <td>0</td>\n",
       "      <td>0</td>\n",
       "      <td>0</td>\n",
       "      <td>0</td>\n",
       "      <td>0</td>\n",
       "      <td>0</td>\n",
       "      <td>0</td>\n",
       "      <td>0</td>\n",
       "      <td>0</td>\n",
       "      <td>2013.0</td>\n",
       "    </tr>\n",
       "    <tr>\n",
       "      <th>6262</th>\n",
       "      <td>11787</td>\n",
       "      <td>Toriko: Barbarian Ivy wo Hokaku Seyo!</td>\n",
       "      <td>UNKNOWN</td>\n",
       "      <td>トリコ バーバリアンアイビーを捕獲せよ!</td>\n",
       "      <td>6.58</td>\n",
       "      <td>Special shown at the Jump Super Anime Tour in ...</td>\n",
       "      <td>Unknown</td>\n",
       "      <td>PG-13 - Teens 13 or older</td>\n",
       "      <td>5931</td>\n",
       "      <td>9196</td>\n",
       "      <td>...</td>\n",
       "      <td>0</td>\n",
       "      <td>0</td>\n",
       "      <td>0</td>\n",
       "      <td>0</td>\n",
       "      <td>0</td>\n",
       "      <td>0</td>\n",
       "      <td>0</td>\n",
       "      <td>0</td>\n",
       "      <td>0</td>\n",
       "      <td>2010.0</td>\n",
       "    </tr>\n",
       "    <tr>\n",
       "      <th>4966</th>\n",
       "      <td>7904</td>\n",
       "      <td>Kemono no Souja Erin Recaps</td>\n",
       "      <td>UNKNOWN</td>\n",
       "      <td>獣の奏者 エリン 総集編</td>\n",
       "      <td>6.78</td>\n",
       "      <td>Summarized version of the 50-episode TV series...</td>\n",
       "      <td>Novel</td>\n",
       "      <td>G - All Ages</td>\n",
       "      <td>4935</td>\n",
       "      <td>9874</td>\n",
       "      <td>...</td>\n",
       "      <td>0</td>\n",
       "      <td>0</td>\n",
       "      <td>0</td>\n",
       "      <td>0</td>\n",
       "      <td>0</td>\n",
       "      <td>0</td>\n",
       "      <td>0</td>\n",
       "      <td>0</td>\n",
       "      <td>0</td>\n",
       "      <td>2010.0</td>\n",
       "    </tr>\n",
       "  </tbody>\n",
       "</table>\n",
       "<p>5 rows × 1562 columns</p>\n",
       "</div>"
      ],
      "text/plain": [
       "       anime_id                                   Name English name  \\\n",
       "4847       7512                                  Dambo      UNKNOWN   \n",
       "19360     54739                              Make Love      UNKNOWN   \n",
       "7567      19519               Dream Creator feat. GUMI      UNKNOWN   \n",
       "6262      11787  Toriko: Barbarian Ivy wo Hokaku Seyo!      UNKNOWN   \n",
       "4966       7904            Kemono no Souja Erin Recaps      UNKNOWN   \n",
       "\n",
       "                     Other name  Score  \\\n",
       "4847                      dambo   4.99   \n",
       "19360                     メイクラブ    NaN   \n",
       "7567   Dream Creator feat. GUMI   5.74   \n",
       "6262       トリコ バーバリアンアイビーを捕獲せよ!   6.58   \n",
       "4966               獣の奏者 エリン 総集編   6.78   \n",
       "\n",
       "                                                Synopsis    Source  \\\n",
       "4847   The haunting, hallucinatory, and oddly cute jo...  Original   \n",
       "19360                    A short film by Genshou Yasuda.  Original   \n",
       "7567   Music video for Dream Creator feat. GUMI by Ha...     Music   \n",
       "6262   Special shown at the Jump Super Anime Tour in ...   Unknown   \n",
       "4966   Summarized version of the 50-episode TV series...     Novel   \n",
       "\n",
       "                          Rating   Rank  Popularity  ...  \\\n",
       "4847   PG-13 - Teens 13 or older      0       14151  ...   \n",
       "19360               G - All Ages  17849       20711  ...   \n",
       "7567                G - All Ages      0       11865  ...   \n",
       "6262   PG-13 - Teens 13 or older   5931        9196  ...   \n",
       "4966                G - All Ages   4935        9874  ...   \n",
       "\n",
       "       Studio_pH Studio, D & D Pictures Studio_pH Studio, Noovo  \\\n",
       "4847                                  0                       0   \n",
       "19360                                 0                       0   \n",
       "7567                                  0                       0   \n",
       "6262                                  0                       0   \n",
       "4966                                  0                       0   \n",
       "\n",
       "       Studio_production doA Studio_studio MOTHER  Studio_studio YOG  \\\n",
       "4847                       0                    0                  0   \n",
       "19360                      0                    0                  0   \n",
       "7567                       0                    0                  0   \n",
       "6262                       0                    0                  0   \n",
       "4966                       0                    0                  0   \n",
       "\n",
       "       Studio_trenova  Studio_ufotable  \\\n",
       "4847                0                0   \n",
       "19360               0                0   \n",
       "7567                0                0   \n",
       "6262                0                0   \n",
       "4966                0                0   \n",
       "\n",
       "       Studio_ufotable, Shaft, A-1 Pictures, SILVER LINK., Lerche, Lay-duce, CloverWorks, Drive  \\\n",
       "4847                                                   0                                          \n",
       "19360                                                  0                                          \n",
       "7567                                                   0                                          \n",
       "6262                                                   0                                          \n",
       "4966                                                   0                                          \n",
       "\n",
       "       Studio_ufotable, feel., Studio Flag  Release_Year  \n",
       "4847                                     0        2004.0  \n",
       "19360                                    0        2020.0  \n",
       "7567                                     0        2013.0  \n",
       "6262                                     0        2010.0  \n",
       "4966                                     0        2010.0  \n",
       "\n",
       "[5 rows x 1562 columns]"
      ]
     },
     "execution_count": 22,
     "metadata": {},
     "output_type": "execute_result"
    }
   ],
   "source": [
    "filtered_item_data_df.shape\n",
    "filtered_item_data_df.sample(5)"
   ]
  },
  {
   "cell_type": "code",
   "execution_count": 23,
   "id": "0e36921f",
   "metadata": {},
   "outputs": [
    {
     "data": {
      "text/plain": [
       "5183"
      ]
     },
     "execution_count": 23,
     "metadata": {},
     "output_type": "execute_result"
    }
   ],
   "source": [
    "filtered_item_data_df[\"Score\"].isna().sum()"
   ]
  },
  {
   "cell_type": "code",
   "execution_count": 24,
   "id": "961b92d9",
   "metadata": {},
   "outputs": [
    {
     "data": {
      "image/png": "[encoded data removed]",
      "text/plain": [
       "<Figure size 640x480 with 1 Axes>"
      ]
     },
     "metadata": {},
     "output_type": "display_data"
    }
   ],
   "source": [
    "import matplotlib.pyplot as plt\n",
    "\n",
    "plt.hist(filtered_item_data_df['Score'].dropna(), bins=20, color='blue', alpha=0.7)\n",
    "plt.title('Distribution of Scores')\n",
    "plt.xlabel('Score')\n",
    "plt.ylabel('Frequency')\n",
    "plt.show()\n"
   ]
  },
  {
   "cell_type": "code",
   "execution_count": 25,
   "id": "f209fe3a",
   "metadata": {},
   "outputs": [
    {
     "name": "stdout",
     "output_type": "stream",
     "text": [
      "0\n"
     ]
    }
   ],
   "source": [
    "from sklearn.preprocessing import FunctionTransformer\n",
    "import pandas as pd\n",
    "\n",
    "# Define the function for the transformation\n",
    "def impute_score_column(filtered_item_data_df):\n",
    "    \"\"\"\n",
    "    Replaces 'UNKNOWN' with NaN in the 'Score' column and imputes missing values using the mean.\n",
    "    \n",
    "    Parameters:\n",
    "    -----------\n",
    "    filtered_item_data_df : pandas.DataFrame\n",
    "        The DataFrame containing the 'Score' column to be processed.\n",
    "        \n",
    "    Returns:\n",
    "    --------\n",
    "    pandas.DataFrame\n",
    "        The DataFrame with the 'Score' column imputed.\n",
    "    \"\"\"\n",
    "    # Replace 'UNKNOWN' with NaN\n",
    "    filtered_item_data_df['Score'] = filtered_item_data_df['Score'].replace('UNKNOWN', pd.NA)\n",
    "    \n",
    "    # Impute missing values with the mean\n",
    "    filtered_item_data_df['Score'] = filtered_item_data_df['Score'].astype(float).fillna(filtered_item_data_df['Score'].astype(float).mean())\n",
    "    \n",
    "    return filtered_item_data_df\n",
    "\n",
    "# Create the FunctionTransformer\n",
    "impute_score_transformer = FunctionTransformer(impute_score_column)\n",
    "\n",
    "# Apply the transformer\n",
    "filtered_item_data_df = impute_score_transformer.transform(filtered_item_data_df)\n",
    "\n",
    "# Verify that there are no missing values left in 'Score'\n",
    "print(filtered_item_data_df['Score'].isna().sum())  # Should print 0\n"
   ]
  },
  {
   "cell_type": "code",
   "execution_count": 26,
   "id": "03cacdfb",
   "metadata": {},
   "outputs": [
    {
     "name": "stdout",
     "output_type": "stream",
     "text": [
      "   anime_id                             Name             English name  \\\n",
      "0         1                     Cowboy Bebop             Cowboy Bebop   \n",
      "1         5  Cowboy Bebop: Tengoku no Tobira  Cowboy Bebop: The Movie   \n",
      "2         6                           Trigun                   Trigun   \n",
      "3         7               Witch Hunter Robin       Witch Hunter Robin   \n",
      "4         8                   Bouken Ou Beet   Beet the Vandel Buster   \n",
      "\n",
      "                         Other name  Score  \\\n",
      "0                         カウボーイビバップ   8.75   \n",
      "1                    カウボーイビバップ 天国の扉   8.38   \n",
      "2                             トライガン   8.22   \n",
      "3  Witch Hunter ROBIN (ウイッチハンターロビン)   7.25   \n",
      "4                            冒険王ビィト   6.94   \n",
      "\n",
      "                                            Synopsis    Source  \\\n",
      "0  Crime is timeless. By the year 2071, humanity ...  Original   \n",
      "1  Another day, another bounty—such is the life o...  Original   \n",
      "2  Vash the Stampede is the man with a $$60,000,0...     Manga   \n",
      "3  Robin Sena is a powerful craft user drafted in...  Original   \n",
      "4  It is the dark century and the people are suff...     Manga   \n",
      "\n",
      "                           Rating  Rank  Popularity  ...  \\\n",
      "0  R - 17+ (violence & profanity)    41          43  ...   \n",
      "1  R - 17+ (violence & profanity)   189         602  ...   \n",
      "2       PG-13 - Teens 13 or older   328         246  ...   \n",
      "3       PG-13 - Teens 13 or older  2764        1795  ...   \n",
      "4                   PG - Children  4240        5126  ...   \n",
      "\n",
      "   Studio_pH Studio, D & D Pictures Studio_pH Studio, Noovo  \\\n",
      "0                                 0                       0   \n",
      "1                                 0                       0   \n",
      "2                                 0                       0   \n",
      "3                                 0                       0   \n",
      "4                                 0                       0   \n",
      "\n",
      "   Studio_production doA Studio_studio MOTHER  Studio_studio YOG  \\\n",
      "0                      0                    0                  0   \n",
      "1                      0                    0                  0   \n",
      "2                      0                    0                  0   \n",
      "3                      0                    0                  0   \n",
      "4                      0                    0                  0   \n",
      "\n",
      "   Studio_trenova  Studio_ufotable  \\\n",
      "0               0                0   \n",
      "1               0                0   \n",
      "2               0                0   \n",
      "3               0                0   \n",
      "4               0                0   \n",
      "\n",
      "   Studio_ufotable, Shaft, A-1 Pictures, SILVER LINK., Lerche, Lay-duce, CloverWorks, Drive  \\\n",
      "0                                                  0                                          \n",
      "1                                                  0                                          \n",
      "2                                                  0                                          \n",
      "3                                                  0                                          \n",
      "4                                                  0                                          \n",
      "\n",
      "   Studio_ufotable, feel., Studio Flag  Release_Year  \n",
      "0                                    0        1998.0  \n",
      "1                                    0        2001.0  \n",
      "2                                    0        1998.0  \n",
      "3                                    0        2002.0  \n",
      "4                                    0        2004.0  \n",
      "\n",
      "[5 rows x 1562 columns]\n"
     ]
    }
   ],
   "source": [
    "from sklearn.preprocessing import FunctionTransformer\n",
    "import pandas as pd\n",
    "\n",
    "def filter_score_and_release_year(df):\n",
    "    \"\"\"\n",
    "    Filters rows where both 'Score' and 'Release_Year' are not null.\n",
    "\n",
    "    Parameters:\n",
    "    -----------\n",
    "    df : pandas.DataFrame\n",
    "        The input DataFrame to filter.\n",
    "\n",
    "    Returns:\n",
    "    --------\n",
    "    pandas.DataFrame\n",
    "        The filtered DataFrame.\n",
    "    \"\"\"\n",
    "    return df[df[\"Score\"].notna() & df[\"Release_Year\"].notna()]\n",
    "\n",
    "# Create the FunctionTransformer\n",
    "filter_transformer = FunctionTransformer(filter_score_and_release_year)\n",
    "\n",
    "# Apply the transformer to the filtered_item_data_df\n",
    "filtered_item_data_df = filter_transformer.transform(filtered_item_data_df)\n",
    "\n",
    "# Verify the result\n",
    "print(filtered_item_data_df.head())"
   ]
  },
  {
   "cell_type": "code",
   "execution_count": 27,
   "id": "f8ed202c",
   "metadata": {},
   "outputs": [
    {
     "name": "stdout",
     "output_type": "stream",
     "text": [
      "anime_id                                                                                    0\n",
      "Name                                                                                        0\n",
      "English name                                                                                0\n",
      "Other name                                                                                  0\n",
      "Score                                                                                       0\n",
      "                                                                                           ..\n",
      "Studio_trenova                                                                              0\n",
      "Studio_ufotable                                                                             0\n",
      "Studio_ufotable, Shaft, A-1 Pictures, SILVER LINK., Lerche, Lay-duce, CloverWorks, Drive    0\n",
      "Studio_ufotable, feel., Studio Flag                                                         0\n",
      "Release_Year                                                                                0\n",
      "Length: 1562, dtype: int64\n"
     ]
    }
   ],
   "source": [
    "print(filtered_item_data_df.isna().sum())"
   ]
  },
  {
   "cell_type": "code",
   "execution_count": 28,
   "id": "92e25c3e",
   "metadata": {},
   "outputs": [
    {
     "data": {
      "text/plain": [
       "(19848, 1562)"
      ]
     },
     "execution_count": 28,
     "metadata": {},
     "output_type": "execute_result"
    }
   ],
   "source": [
    "filtered_item_data_df.shape"
   ]
  },
  {
   "cell_type": "code",
   "execution_count": 29,
   "id": "d7775449",
   "metadata": {},
   "outputs": [
    {
     "data": {
      "text/plain": [
       "Index(['user_id', 'Username', 'Mean Score', 'Completed', 'avg_Action',\n",
       "       'avg_Adventure', 'avg_Avant Garde', 'avg_Award Winning',\n",
       "       'avg_Boys Love', 'avg_Comedy', 'avg_Drama', 'avg_Ecchi', 'avg_Erotica',\n",
       "       'avg_Fantasy', 'avg_Girls Love', 'avg_Gourmet', 'avg_Hentai',\n",
       "       'avg_Horror', 'avg_Mystery', 'avg_Romance', 'avg_Sci-Fi',\n",
       "       'avg_Slice of Life', 'avg_Sports', 'avg_Supernatural', 'avg_Suspense',\n",
       "       'Age', 'Viewer_Category', 'Age_Group__Gen_Alpha', 'Age_Group__Zoomers',\n",
       "       'Age_Group__Millennials', 'Age_Group__Gen_X', 'Age_Group__Boomers_Plus',\n",
       "       'Category_Classic_Era_Fans', 'Category_Gen_Alpha_Viewers',\n",
       "       'Category_Millennial_Favorites', 'Category_Retro_Anime_Lovers',\n",
       "       'Category_Zoomer_Picks', 'Gender_Female', 'Gender_Male',\n",
       "       'Gender_Non-Binary'],\n",
       "      dtype='object')"
      ]
     },
     "execution_count": 29,
     "metadata": {},
     "output_type": "execute_result"
    }
   ],
   "source": [
    "user_data.columns"
   ]
  },
  {
   "cell_type": "code",
   "execution_count": 30,
   "id": "11a73dda",
   "metadata": {},
   "outputs": [
    {
     "data": {
      "text/plain": [
       "Index(['anime_id', 'Name', 'English name', 'Other name', 'Score', 'Synopsis',\n",
       "       'Source', 'Rating', 'Rank', 'Popularity',\n",
       "       ...\n",
       "       'Studio_pH Studio, D & D Pictures', 'Studio_pH Studio, Noovo',\n",
       "       'Studio_production doA', 'Studio_studio MOTHER', 'Studio_studio YOG',\n",
       "       'Studio_trenova', 'Studio_ufotable',\n",
       "       'Studio_ufotable, Shaft, A-1 Pictures, SILVER LINK., Lerche, Lay-duce, CloverWorks, Drive',\n",
       "       'Studio_ufotable, feel., Studio Flag', 'Release_Year'],\n",
       "      dtype='object', length=1562)"
      ]
     },
     "execution_count": 30,
     "metadata": {},
     "output_type": "execute_result"
    }
   ],
   "source": [
    "filtered_item_data_df.columns"
   ]
  },
  {
   "cell_type": "code",
   "execution_count": 31,
   "id": "4f5dfc3e",
   "metadata": {},
   "outputs": [
    {
     "data": {
      "text/plain": [
       "Index(['Username', 'Gender', 'Mean Score', 'Completed', 'Birth_Year',\n",
       "       'user_id', 'anime_id', 'Anime Title', 'rating', 'Genres',\n",
       "       'Genre_Action', 'Genre_Adventure', 'Genre_Avant Garde',\n",
       "       'Genre_Award Winning', 'Genre_Boys Love', 'Genre_Comedy', 'Genre_Drama',\n",
       "       'Genre_Ecchi', 'Genre_Erotica', 'Genre_Fantasy', 'Genre_Girls Love',\n",
       "       'Genre_Gourmet', 'Genre_Hentai', 'Genre_Horror', 'Genre_Mystery',\n",
       "       'Genre_Romance', 'Genre_Sci-Fi', 'Genre_Slice of Life', 'Genre_Sports',\n",
       "       'Genre_Supernatural', 'Genre_Suspense'],\n",
       "      dtype='object')"
      ]
     },
     "execution_count": 31,
     "metadata": {},
     "output_type": "execute_result"
    }
   ],
   "source": [
    "user_input.columns"
   ]
  },
  {
   "cell_type": "code",
   "execution_count": 32,
   "id": "2284909e",
   "metadata": {},
   "outputs": [
    {
     "name": "stdout",
     "output_type": "stream",
     "text": [
      "Columns containing 'UNKNOWN': ['English name', 'Other name', 'Scored By']\n"
     ]
    }
   ],
   "source": [
    "# Check if any column in filtered_item_data_df contains the value 'UNKNOWN'\n",
    "columns_with_unknown = filtered_item_data_df.columns[filtered_item_data_df.isin(['UNKNOWN']).any()]\n",
    "\n",
    "# Print the columns that contain 'UNKNOWN'\n",
    "print(\"Columns containing 'UNKNOWN':\", list(columns_with_unknown))\n"
   ]
  },
  {
   "cell_type": "code",
   "execution_count": 33,
   "id": "1e65f654",
   "metadata": {},
   "outputs": [
    {
     "name": "stdout",
     "output_type": "stream",
     "text": [
      "Total instances with 'UNKNOWN' values: 15974\n"
     ]
    }
   ],
   "source": [
    "unknown_counts = filtered_item_data_df.isin(['UNKNOWN']).sum().sum()\n",
    "print(f\"Total instances with 'UNKNOWN' values: {unknown_counts}\")"
   ]
  },
  {
   "cell_type": "code",
   "execution_count": 38,
   "id": "3886534c",
   "metadata": {},
   "outputs": [],
   "source": [
    "from scipy.sparse import csr_matrix, hstack\n",
    "import numpy as np\n",
    "import pandas as pd\n",
    "\n",
    "def prepare_training_data(user_input_df, user_data_df, filtered_item_data_df):\n",
    "    \"\"\"\n",
    "    Prepares training data for a neural network using sparse matrices during processing,\n",
    "    then converts back to dense arrays in the output.\n",
    "    \n",
    "    Parameters:\n",
    "    -----------\n",
    "    user_input_df : DataFrame\n",
    "        Contains user ratings for anime with columns including user_id, anime_id, rating\n",
    "    user_data_df : DataFrame\n",
    "        Contains user demographic data and average genre ratings\n",
    "    filtered_item_data_df : DataFrame\n",
    "        Contains anime metadata including genres, types, and ratings\n",
    "        \n",
    "    Returns:\n",
    "    --------\n",
    "    dict\n",
    "        A dictionary containing:\n",
    "        - 'X_U': User features array (dense)\n",
    "        - 'X_A': Anime features array (dense)\n",
    "        - 'Y': Rating values array\n",
    "        - 'X_U_columns': List of column names for user features\n",
    "        - 'X_A_columns': List of column names for anime features\n",
    "        - 'Y_column': Name of the rating column\n",
    "        - 'X_U_indices': List of indices for user features\n",
    "        - 'X_A_indices': List of indices for anime features\n",
    "        - 'Y_index': Index of the rating column\n",
    "        - 'merged_df': The merged and cleaned dataframe\n",
    "    \"\"\"\n",
    "    # Step 1: Merge dataframes with suffixes to handle column conflicts\n",
    "    merged_df = user_input_df.merge(user_data_df, on='user_id', suffixes=('', '_user'))\n",
    "    merged_df = merged_df.merge(filtered_item_data_df, on='anime_id', suffixes=('', '_anime'))\n",
    "    \n",
    "    # Step 2: Identify columns to drop (non-numerical or identifiers)\n",
    "    columns_to_drop = ['Username', 'user_id', 'anime_id', 'Anime Title', \n",
    "                     'Name', 'English name', 'Other name', 'Synopsis', \n",
    "                     'Source', \"Scored by\", 'Image URL']\n",
    "    \n",
    "    # Only drop columns that actually exist in the merged dataframe\n",
    "    columns_to_drop = [col for col in columns_to_drop if col in merged_df.columns]\n",
    "    \n",
    "    # Drop identified columns\n",
    "    cleaned_df = merged_df.drop(columns_to_drop, axis=1)\n",
    "    \n",
    "    # Step 3: Define columns for each component\n",
    "    X_U_columns = [\n",
    "        'Mean Score', 'Completed',\n",
    "        'avg_Action', 'avg_Adventure', 'avg_Avant Garde', 'avg_Award Winning',\n",
    "        'avg_Boys Love', 'avg_Comedy', 'avg_Drama', 'avg_Ecchi', 'avg_Erotica',\n",
    "        'avg_Fantasy', 'avg_Girls Love', 'avg_Gourmet', 'avg_Hentai',\n",
    "        'avg_Horror', 'avg_Mystery', 'avg_Romance', 'avg_Sci-Fi',\n",
    "        'avg_Slice of Life', 'avg_Sports', 'avg_Supernatural', 'avg_Suspense',\n",
    "        'Gender_Female', 'Gender_Male', 'Gender_Non-Binary','Age',\n",
    "        'Category_Classic_Era_Fans', 'Category_Gen_Alpha_Viewers',\n",
    "        'Category_Millennial_Favorites', \n",
    "        'Category_Retro_Anime_Lovers', \n",
    "        'Category_Zoomer_Picks'\n",
    "    ]\n",
    "    \n",
    "    excluded_columns = ['anime_id', 'Name', 'English name', 'Other name',\n",
    "                      'Score', \"Synopsis\", \"Source\", \"Rank\",\"Rating\"]\n",
    "    \n",
    "    X_A_columns = [col for col in filtered_item_data_df.columns \n",
    "                  if col not in excluded_columns and col in cleaned_df.columns]\n",
    "    X_U_columns = [col for col in X_U_columns if col in cleaned_df.columns]\n",
    "    \n",
    "    Y_column = \"rating\"\n",
    "    if Y_column not in cleaned_df.columns:\n",
    "        raise ValueError(f\"Rating column '{Y_column}' not found in merged dataframe\")\n",
    "    \n",
    "    # Step 4: Get indices for features\n",
    "    X_U_indices = [cleaned_df.columns.get_loc(col) for col in X_U_columns]\n",
    "    X_A_indices = [cleaned_df.columns.get_loc(col) for col in X_A_columns]\n",
    "    Y_index = cleaned_df.columns.get_loc(Y_column)\n",
    "    \n",
    "    # Step 5: Process with sparse matrices\n",
    "    # Convert relevant portions to sparse format\n",
    "    X_U_sparse = csr_matrix(cleaned_df.iloc[:, X_U_indices].values)\n",
    "    X_A_sparse = csr_matrix(cleaned_df.iloc[:, X_A_indices].values)\n",
    "    \n",
    "    # Perform sparse operations if needed (e.g., scaling)\n",
    "    # ... (your sparse-compatible preprocessing here) ...\n",
    "    \n",
    "    # Convert back to dense for output (if your model requires dense inputs)\n",
    "    X_U = X_U_sparse.toarray()\n",
    "    X_A = X_A_sparse.toarray()\n",
    "    Y = cleaned_df.iloc[:, Y_index].values\n",
    "    \n",
    "    return {\n",
    "        \"X_U\": X_U,\n",
    "        \"X_A\": X_A,\n",
    "        \"Y\": Y,\n",
    "        \"X_U_columns\": X_U_columns,\n",
    "        \"X_A_columns\": X_A_columns,\n",
    "        \"Y_column\": Y_column,\n",
    "        \"X_U_indices\": X_U_indices,\n",
    "        \"X_A_indices\": X_A_indices,\n",
    "        \"Y_index\": Y_index,\n",
    "        \"merged_df\": cleaned_df,\n",
    "    }\n"
   ]
  },
  {
   "cell_type": "code",
   "execution_count": 39,
   "id": "486c4d0c",
   "metadata": {},
   "outputs": [],
   "source": [
    "# Prepare the training data\n",
    "# Select a smaller dataframe with 200000 samples from user_input\n",
    "user_input_sample = user_input.sample(n=200000, random_state=42)\n",
    "\n",
    "# Ensure all columns in user_input_sample, user_data, and filtered_item_data_df are numeric\n",
    "user_input_sample = user_input_sample.select_dtypes(include=[np.number])\n",
    "user_data = user_data.select_dtypes(include=[np.number])\n",
    "filtered_item_data_df = filtered_item_data_df.select_dtypes(include=[np.number])\n",
    "\n",
    "# Prepare the training data using the sampled dataframe\n",
    "result = prepare_training_data(user_input_sample, user_data, filtered_item_data_df)\n",
    "\n",
    "# Access the prepared data\n",
    "X_U = result['X_U']  # User features\n",
    "X_A = result['X_A']  # Anime features\n",
    "Y = result['Y']      # Ratings\n",
    "\n",
    "# You can also access indices if needed\n",
    "X_U_indices = result['X_U_indices']\n",
    "X_A_indices = result['X_A_indices']"
   ]
  },
  {
   "cell_type": "code",
   "execution_count": 40,
   "id": "4fbf410b",
   "metadata": {},
   "outputs": [
    {
     "data": {
      "text/plain": [
       "32"
      ]
     },
     "execution_count": 40,
     "metadata": {},
     "output_type": "execute_result"
    }
   ],
   "source": [
    "len(result['X_U_columns']) # Number of user feature names"
   ]
  },
  {
   "cell_type": "code",
   "execution_count": 41,
   "id": "ed29ca73",
   "metadata": {},
   "outputs": [
    {
     "data": {
      "text/plain": [
       "(200000, 32)"
      ]
     },
     "execution_count": 41,
     "metadata": {},
     "output_type": "execute_result"
    }
   ],
   "source": [
    "X_U.shape"
   ]
  },
  {
   "cell_type": "code",
   "execution_count": 42,
   "id": "2ead081d",
   "metadata": {},
   "outputs": [
    {
     "data": {
      "text/plain": [
       "(200000, 1551)"
      ]
     },
     "execution_count": 42,
     "metadata": {},
     "output_type": "execute_result"
    }
   ],
   "source": [
    "X_A.shape"
   ]
  },
  {
   "cell_type": "code",
   "execution_count": 43,
   "id": "dad9a37e",
   "metadata": {},
   "outputs": [
    {
     "data": {
      "text/plain": [
       "(200000,)"
      ]
     },
     "execution_count": 43,
     "metadata": {},
     "output_type": "execute_result"
    }
   ],
   "source": [
    "Y.shape"
   ]
  },
  {
   "cell_type": "code",
   "execution_count": 44,
   "id": "c8bb3363",
   "metadata": {},
   "outputs": [
    {
     "data": {
      "text/plain": [
       "array([ 7,  9, 10,  9, 10,  7,  9,  2,  8,  8], dtype=int64)"
      ]
     },
     "execution_count": 44,
     "metadata": {},
     "output_type": "execute_result"
    }
   ],
   "source": [
    "Y[:10]"
   ]
  },
  {
   "cell_type": "markdown",
   "id": "6d561d94",
   "metadata": {},
   "source": [
    "# Neural Network for implementing Content Based Filtering:"
   ]
  },
  {
   "cell_type": "code",
   "execution_count": 45,
   "id": "30fd1563",
   "metadata": {},
   "outputs": [],
   "source": [
    "import numpy as np\n",
    "import tensorflow as tf\n",
    "from tensorflow.keras import layers, models\n",
    "from sklearn.model_selection import train_test_split\n"
   ]
  },
  {
   "cell_type": "code",
   "execution_count": 46,
   "id": "23c72040",
   "metadata": {},
   "outputs": [
    {
     "name": "stdout",
     "output_type": "stream",
     "text": [
      "Training set: 120000 samples\n",
      "Validation set: 40000 samples\n",
      "Test set: 40000 samples\n",
      "(120000, 32)\n"
     ]
    }
   ],
   "source": [
    "from sklearn.model_selection import train_test_split\n",
    "from sklearn.preprocessing import StandardScaler\n",
    "import tensorflow as tf\n",
    "import numpy as np\n",
    "\n",
    "# --- Scaling the data ---\n",
    "# Create scalers\n",
    "user_scaler = StandardScaler()\n",
    "anime_scaler = StandardScaler()\n",
    "\n",
    "# Ensure all columns in X_A are numeric\n",
    "# Convert categorical columns (e.g., 'Rating') to numeric using one-hot encoding\n",
    "#X_A_df = pd.DataFrame(X_A, columns=result['X_A_columns'])  # Convert X_A to DataFrame for easier processing\n",
    "\n",
    "# print(X_A_df.columns)  # Check the columns after encoding\n",
    "# Scale the features\n",
    "X_U_scaled = user_scaler.fit_transform(X_U)\n",
    "X_A_scaled = anime_scaler.fit_transform(X_A)\n",
    "\n",
    "# --- Splitting the scaled data ---\n",
    "# First split: 80% train+val, 20% test\n",
    "X_U_temp, X_U_test, X_A_temp, X_A_test, Y_temp, Y_test = train_test_split(\n",
    "    X_U_scaled, X_A_scaled, Y, test_size=0.2, random_state=42\n",
    ")\n",
    "\n",
    "# Second split: 75% train, 25% validation (results in 60% train, 20% val, 20% test overall)\n",
    "X_U_train, X_U_val, X_A_train, X_A_val, Y_train, Y_val = train_test_split(\n",
    "    X_U_temp, X_A_temp, Y_temp, test_size=0.25, random_state=42\n",
    ")\n",
    "\n",
    "print(f\"Training set: {X_U_train.shape[0]} samples\")\n",
    "print(f\"Validation set: {X_U_val.shape[0]} samples\")\n",
    "print(f\"Test set: {X_U_test.shape[0]} samples\")\n",
    "\n",
    "print(X_U_train.shape)\n"
   ]
  },
  {
   "cell_type": "code",
   "execution_count": 47,
   "id": "507e6f05",
   "metadata": {},
   "outputs": [
    {
     "data": {
      "text/html": [
       "<pre style=\"white-space:pre;overflow-x:auto;line-height:normal;font-family:Menlo,'DejaVu Sans Mono',consolas,'Courier New',monospace\"><span style=\"font-weight: bold\">Model: \"functional_2\"</span>\n",
       "</pre>\n"
      ],
      "text/plain": [
       "\u001b[1mModel: \"functional_2\"\u001b[0m\n"
      ]
     },
     "metadata": {},
     "output_type": "display_data"
    },
    {
     "data": {
      "text/html": [
       "<pre style=\"white-space:pre;overflow-x:auto;line-height:normal;font-family:Menlo,'DejaVu Sans Mono',consolas,'Courier New',monospace\">┏━━━━━━━━━━━━━━━━━━━━━┳━━━━━━━━━━━━━━━━━━━┳━━━━━━━━━━━━┳━━━━━━━━━━━━━━━━━━━┓\n",
       "┃<span style=\"font-weight: bold\"> Layer (type)        </span>┃<span style=\"font-weight: bold\"> Output Shape      </span>┃<span style=\"font-weight: bold\">    Param # </span>┃<span style=\"font-weight: bold\"> Connected to      </span>┃\n",
       "┡━━━━━━━━━━━━━━━━━━━━━╇━━━━━━━━━━━━━━━━━━━╇━━━━━━━━━━━━╇━━━━━━━━━━━━━━━━━━━┩\n",
       "│ user_input          │ (<span style=\"color: #00d7ff; text-decoration-color: #00d7ff\">None</span>, <span style=\"color: #00af00; text-decoration-color: #00af00\">32</span>)        │          <span style=\"color: #00af00; text-decoration-color: #00af00\">0</span> │ -                 │\n",
       "│ (<span style=\"color: #0087ff; text-decoration-color: #0087ff\">InputLayer</span>)        │                   │            │                   │\n",
       "├─────────────────────┼───────────────────┼────────────┼───────────────────┤\n",
       "│ item_input          │ (<span style=\"color: #00d7ff; text-decoration-color: #00d7ff\">None</span>, <span style=\"color: #00af00; text-decoration-color: #00af00\">1551</span>)      │          <span style=\"color: #00af00; text-decoration-color: #00af00\">0</span> │ -                 │\n",
       "│ (<span style=\"color: #0087ff; text-decoration-color: #0087ff\">InputLayer</span>)        │                   │            │                   │\n",
       "├─────────────────────┼───────────────────┼────────────┼───────────────────┤\n",
       "│ user_nn             │ (<span style=\"color: #00d7ff; text-decoration-color: #00d7ff\">None</span>, <span style=\"color: #00af00; text-decoration-color: #00af00\">32</span>)        │     <span style=\"color: #00af00; text-decoration-color: #00af00\">53,472</span> │ user_input[<span style=\"color: #00af00; text-decoration-color: #00af00\">0</span>][<span style=\"color: #00af00; text-decoration-color: #00af00\">0</span>]  │\n",
       "│ (<span style=\"color: #0087ff; text-decoration-color: #0087ff\">Sequential</span>)        │                   │            │                   │\n",
       "├─────────────────────┼───────────────────┼────────────┼───────────────────┤\n",
       "│ item_nn             │ (<span style=\"color: #00d7ff; text-decoration-color: #00d7ff\">None</span>, <span style=\"color: #00af00; text-decoration-color: #00af00\">32</span>)        │    <span style=\"color: #00af00; text-decoration-color: #00af00\">442,336</span> │ item_input[<span style=\"color: #00af00; text-decoration-color: #00af00\">0</span>][<span style=\"color: #00af00; text-decoration-color: #00af00\">0</span>]  │\n",
       "│ (<span style=\"color: #0087ff; text-decoration-color: #0087ff\">Sequential</span>)        │                   │            │                   │\n",
       "├─────────────────────┼───────────────────┼────────────┼───────────────────┤\n",
       "│ dot (<span style=\"color: #0087ff; text-decoration-color: #0087ff\">Dot</span>)           │ (<span style=\"color: #00d7ff; text-decoration-color: #00d7ff\">None</span>, <span style=\"color: #00af00; text-decoration-color: #00af00\">1</span>)         │          <span style=\"color: #00af00; text-decoration-color: #00af00\">0</span> │ user_nn[<span style=\"color: #00af00; text-decoration-color: #00af00\">0</span>][<span style=\"color: #00af00; text-decoration-color: #00af00\">0</span>],    │\n",
       "│                     │                   │            │ item_nn[<span style=\"color: #00af00; text-decoration-color: #00af00\">0</span>][<span style=\"color: #00af00; text-decoration-color: #00af00\">0</span>]     │\n",
       "└─────────────────────┴───────────────────┴────────────┴───────────────────┘\n",
       "</pre>\n"
      ],
      "text/plain": [
       "┏━━━━━━━━━━━━━━━━━━━━━┳━━━━━━━━━━━━━━━━━━━┳━━━━━━━━━━━━┳━━━━━━━━━━━━━━━━━━━┓\n",
       "┃\u001b[1m \u001b[0m\u001b[1mLayer (type)       \u001b[0m\u001b[1m \u001b[0m┃\u001b[1m \u001b[0m\u001b[1mOutput Shape     \u001b[0m\u001b[1m \u001b[0m┃\u001b[1m \u001b[0m\u001b[1m   Param #\u001b[0m\u001b[1m \u001b[0m┃\u001b[1m \u001b[0m\u001b[1mConnected to     \u001b[0m\u001b[1m \u001b[0m┃\n",
       "┡━━━━━━━━━━━━━━━━━━━━━╇━━━━━━━━━━━━━━━━━━━╇━━━━━━━━━━━━╇━━━━━━━━━━━━━━━━━━━┩\n",
       "│ user_input          │ (\u001b[38;5;45mNone\u001b[0m, \u001b[38;5;34m32\u001b[0m)        │          \u001b[38;5;34m0\u001b[0m │ -                 │\n",
       "│ (\u001b[38;5;33mInputLayer\u001b[0m)        │                   │            │                   │\n",
       "├─────────────────────┼───────────────────┼────────────┼───────────────────┤\n",
       "│ item_input          │ (\u001b[38;5;45mNone\u001b[0m, \u001b[38;5;34m1551\u001b[0m)      │          \u001b[38;5;34m0\u001b[0m │ -                 │\n",
       "│ (\u001b[38;5;33mInputLayer\u001b[0m)        │                   │            │                   │\n",
       "├─────────────────────┼───────────────────┼────────────┼───────────────────┤\n",
       "│ user_nn             │ (\u001b[38;5;45mNone\u001b[0m, \u001b[38;5;34m32\u001b[0m)        │     \u001b[38;5;34m53,472\u001b[0m │ user_input[\u001b[38;5;34m0\u001b[0m][\u001b[38;5;34m0\u001b[0m]  │\n",
       "│ (\u001b[38;5;33mSequential\u001b[0m)        │                   │            │                   │\n",
       "├─────────────────────┼───────────────────┼────────────┼───────────────────┤\n",
       "│ item_nn             │ (\u001b[38;5;45mNone\u001b[0m, \u001b[38;5;34m32\u001b[0m)        │    \u001b[38;5;34m442,336\u001b[0m │ item_input[\u001b[38;5;34m0\u001b[0m][\u001b[38;5;34m0\u001b[0m]  │\n",
       "│ (\u001b[38;5;33mSequential\u001b[0m)        │                   │            │                   │\n",
       "├─────────────────────┼───────────────────┼────────────┼───────────────────┤\n",
       "│ dot (\u001b[38;5;33mDot\u001b[0m)           │ (\u001b[38;5;45mNone\u001b[0m, \u001b[38;5;34m1\u001b[0m)         │          \u001b[38;5;34m0\u001b[0m │ user_nn[\u001b[38;5;34m0\u001b[0m][\u001b[38;5;34m0\u001b[0m],    │\n",
       "│                     │                   │            │ item_nn[\u001b[38;5;34m0\u001b[0m][\u001b[38;5;34m0\u001b[0m]     │\n",
       "└─────────────────────┴───────────────────┴────────────┴───────────────────┘\n"
      ]
     },
     "metadata": {},
     "output_type": "display_data"
    },
    {
     "data": {
      "text/html": [
       "<pre style=\"white-space:pre;overflow-x:auto;line-height:normal;font-family:Menlo,'DejaVu Sans Mono',consolas,'Courier New',monospace\"><span style=\"font-weight: bold\"> Total params: </span><span style=\"color: #00af00; text-decoration-color: #00af00\">495,808</span> (1.89 MB)\n",
       "</pre>\n"
      ],
      "text/plain": [
       "\u001b[1m Total params: \u001b[0m\u001b[38;5;34m495,808\u001b[0m (1.89 MB)\n"
      ]
     },
     "metadata": {},
     "output_type": "display_data"
    },
    {
     "data": {
      "text/html": [
       "<pre style=\"white-space:pre;overflow-x:auto;line-height:normal;font-family:Menlo,'DejaVu Sans Mono',consolas,'Courier New',monospace\"><span style=\"font-weight: bold\"> Trainable params: </span><span style=\"color: #00af00; text-decoration-color: #00af00\">494,016</span> (1.88 MB)\n",
       "</pre>\n"
      ],
      "text/plain": [
       "\u001b[1m Trainable params: \u001b[0m\u001b[38;5;34m494,016\u001b[0m (1.88 MB)\n"
      ]
     },
     "metadata": {},
     "output_type": "display_data"
    },
    {
     "data": {
      "text/html": [
       "<pre style=\"white-space:pre;overflow-x:auto;line-height:normal;font-family:Menlo,'DejaVu Sans Mono',consolas,'Courier New',monospace\"><span style=\"font-weight: bold\"> Non-trainable params: </span><span style=\"color: #00af00; text-decoration-color: #00af00\">1,792</span> (7.00 KB)\n",
       "</pre>\n"
      ],
      "text/plain": [
       "\u001b[1m Non-trainable params: \u001b[0m\u001b[38;5;34m1,792\u001b[0m (7.00 KB)\n"
      ]
     },
     "metadata": {},
     "output_type": "display_data"
    },
    {
     "name": "stdout",
     "output_type": "stream",
     "text": [
      "Epoch 1/60\n",
      "\u001b[1m3750/3750\u001b[0m \u001b[32m━━━━━━━━━━━━━━━━━━━━\u001b[0m\u001b[37m\u001b[0m \u001b[1m14s\u001b[0m 3ms/step - loss: 26.4473 - mean_absolute_error: 3.3699 - val_loss: 2.0115 - val_mean_absolute_error: 1.0726 - learning_rate: 0.0010\n",
      "Epoch 2/60\n",
      "\u001b[1m3750/3750\u001b[0m \u001b[32m━━━━━━━━━━━━━━━━━━━━\u001b[0m\u001b[37m\u001b[0m \u001b[1m11s\u001b[0m 3ms/step - loss: 2.1409 - mean_absolute_error: 1.1249 - val_loss: 1.9435 - val_mean_absolute_error: 1.0639 - learning_rate: 0.0010\n",
      "Epoch 3/60\n",
      "\u001b[1m3750/3750\u001b[0m \u001b[32m━━━━━━━━━━━━━━━━━━━━\u001b[0m\u001b[37m\u001b[0m \u001b[1m11s\u001b[0m 3ms/step - loss: 2.0153 - mean_absolute_error: 1.0883 - val_loss: 1.8566 - val_mean_absolute_error: 1.0275 - learning_rate: 0.0010\n",
      "Epoch 4/60\n",
      "\u001b[1m3750/3750\u001b[0m \u001b[32m━━━━━━━━━━━━━━━━━━━━\u001b[0m\u001b[37m\u001b[0m \u001b[1m11s\u001b[0m 3ms/step - loss: 1.9256 - mean_absolute_error: 1.0627 - val_loss: 1.8558 - val_mean_absolute_error: 1.0210 - learning_rate: 0.0010\n",
      "Epoch 5/60\n",
      "\u001b[1m3750/3750\u001b[0m \u001b[32m━━━━━━━━━━━━━━━━━━━━\u001b[0m\u001b[37m\u001b[0m \u001b[1m11s\u001b[0m 3ms/step - loss: 1.8517 - mean_absolute_error: 1.0405 - val_loss: 1.8701 - val_mean_absolute_error: 1.0222 - learning_rate: 0.0010\n",
      "Epoch 6/60\n",
      "\u001b[1m3750/3750\u001b[0m \u001b[32m━━━━━━━━━━━━━━━━━━━━\u001b[0m\u001b[37m\u001b[0m \u001b[1m12s\u001b[0m 3ms/step - loss: 1.7902 - mean_absolute_error: 1.0235 - val_loss: 1.8545 - val_mean_absolute_error: 1.0215 - learning_rate: 0.0010\n",
      "Epoch 7/60\n",
      "\u001b[1m3750/3750\u001b[0m \u001b[32m━━━━━━━━━━━━━━━━━━━━\u001b[0m\u001b[37m\u001b[0m \u001b[1m11s\u001b[0m 3ms/step - loss: 1.7396 - mean_absolute_error: 1.0104 - val_loss: 1.8642 - val_mean_absolute_error: 1.0295 - learning_rate: 0.0010\n",
      "Epoch 8/60\n",
      "\u001b[1m3750/3750\u001b[0m \u001b[32m━━━━━━━━━━━━━━━━━━━━\u001b[0m\u001b[37m\u001b[0m \u001b[1m11s\u001b[0m 3ms/step - loss: 1.6876 - mean_absolute_error: 0.9948 - val_loss: 1.9295 - val_mean_absolute_error: 1.0382 - learning_rate: 0.0010\n",
      "Epoch 9/60\n",
      "\u001b[1m3750/3750\u001b[0m \u001b[32m━━━━━━━━━━━━━━━━━━━━\u001b[0m\u001b[37m\u001b[0m \u001b[1m11s\u001b[0m 3ms/step - loss: 1.6427 - mean_absolute_error: 0.9826 - val_loss: 1.9402 - val_mean_absolute_error: 1.0402 - learning_rate: 0.0010\n",
      "Epoch 10/60\n",
      "\u001b[1m3750/3750\u001b[0m \u001b[32m━━━━━━━━━━━━━━━━━━━━\u001b[0m\u001b[37m\u001b[0m \u001b[1m11s\u001b[0m 3ms/step - loss: 1.5528 - mean_absolute_error: 0.9541 - val_loss: 1.8767 - val_mean_absolute_error: 1.0254 - learning_rate: 2.0000e-04\n",
      "Epoch 11/60\n",
      "\u001b[1m3750/3750\u001b[0m \u001b[32m━━━━━━━━━━━━━━━━━━━━\u001b[0m\u001b[37m\u001b[0m \u001b[1m11s\u001b[0m 3ms/step - loss: 1.4965 - mean_absolute_error: 0.9367 - val_loss: 1.8831 - val_mean_absolute_error: 1.0277 - learning_rate: 2.0000e-04\n"
     ]
    }
   ],
   "source": [
    "# --- TensorFlow model ---\n",
    "# Set random seed for reproducibility\n",
    "tf.random.set_seed(42)\n",
    "\n",
    "# Define inputs for user and item features\n",
    "user_input = tf.keras.Input(shape=(X_U_train.shape[1],), name=\"user_input\")\n",
    "item_input = tf.keras.Input(shape=(X_A_train.shape[1],), name=\"item_input\")\n",
    "\n",
    "# Define user network with dropout for regularization\n",
    "user_nn = tf.keras.Sequential([\n",
    "    tf.keras.layers.Dense(256, activation='relu'),\n",
    "    tf.keras.layers.BatchNormalization(),\n",
    "    tf.keras.layers.Dropout(0.3),\n",
    "    tf.keras.layers.Dense(128, activation='relu'),\n",
    "    tf.keras.layers.BatchNormalization(),\n",
    "    tf.keras.layers.Dropout(0.2),\n",
    "    tf.keras.layers.Dense(64, activation='relu'),\n",
    "    tf.keras.layers.BatchNormalization(),\n",
    "    tf.keras.layers.Dense(32, activation='linear')\n",
    "], name=\"user_nn\")\n",
    "\n",
    "# Define item network with dropout for regularization\n",
    "item_nn = tf.keras.Sequential([\n",
    "    tf.keras.layers.Dense(256, activation='relu'),\n",
    "    tf.keras.layers.BatchNormalization(),\n",
    "    tf.keras.layers.Dropout(0.3),\n",
    "    tf.keras.layers.Dense(128, activation='relu'),\n",
    "    tf.keras.layers.BatchNormalization(),\n",
    "    tf.keras.layers.Dropout(0.2),\n",
    "    tf.keras.layers.Dense(64, activation='relu'),\n",
    "    tf.keras.layers.BatchNormalization(),\n",
    "    tf.keras.layers.Dense(32, activation='linear')\n",
    "], name=\"item_nn\")\n",
    "\n",
    "# Pass inputs through respective networks\n",
    "vu = user_nn(user_input)\n",
    "va = item_nn(item_input)\n",
    "\n",
    "# Compute dot product\n",
    "output = tf.keras.layers.Dot(axes=1)([vu, va])\n",
    "\n",
    "# Create model\n",
    "model = tf.keras.Model([user_input, item_input], output)\n",
    "\n",
    "# Define callbacks\n",
    "early_stopping = tf.keras.callbacks.EarlyStopping(\n",
    "    monitor='val_loss',\n",
    "    patience=5,\n",
    "    restore_best_weights=True\n",
    ")\n",
    "\n",
    "reduce_lr = tf.keras.callbacks.ReduceLROnPlateau(\n",
    "    monitor='val_loss',\n",
    "    factor=0.2,\n",
    "    patience=3,\n",
    "    min_lr=0.00001\n",
    ")\n",
    "\n",
    "# Compile model\n",
    "model.compile(\n",
    "    optimizer=tf.keras.optimizers.Adam(learning_rate=0.001),\n",
    "    loss='mean_squared_error',\n",
    "    metrics=['mean_absolute_error']\n",
    ")\n",
    "\n",
    "# Model summary\n",
    "model.summary()\n",
    "\n",
    "# Train the model\n",
    "history = model.fit(\n",
    "    [X_U_train, X_A_train],\n",
    "    Y_train,\n",
    "    validation_data=([X_U_val, X_A_val], Y_val),\n",
    "    epochs=60,\n",
    "    batch_size=32,\n",
    "    callbacks=[early_stopping, reduce_lr],\n",
    "    verbose=1\n",
    ")\n",
    "\n"
   ]
  },
  {
   "cell_type": "code",
   "execution_count": 48,
   "id": "5459029f",
   "metadata": {},
   "outputs": [
    {
     "name": "stdout",
     "output_type": "stream",
     "text": [
      "\u001b[1m1250/1250\u001b[0m \u001b[32m━━━━━━━━━━━━━━━━━━━━\u001b[0m\u001b[37m\u001b[0m \u001b[1m2s\u001b[0m 1ms/step - loss: 1.8571 - mean_absolute_error: 1.0247\n",
      "Test loss (MSE): 1.8746775388717651\n",
      "Test MAE: 1.029756784439087\n"
     ]
    }
   ],
   "source": [
    "# Evaluate on test set\n",
    "test_results = model.evaluate([X_U_test, X_A_test], Y_test, verbose=1)\n",
    "print(f\"Test loss (MSE): {test_results[0]}\")\n",
    "print(f\"Test MAE: {test_results[1]}\")"
   ]
  },
  {
   "cell_type": "code",
   "execution_count": 53,
   "id": "419ad13f",
   "metadata": {},
   "outputs": [
    {
     "name": "stdout",
     "output_type": "stream",
     "text": [
      "INFO:tensorflow:Assets written to: ../saved_model/recommender_model_6\\assets\n"
     ]
    },
    {
     "name": "stderr",
     "output_type": "stream",
     "text": [
      "INFO:tensorflow:Assets written to: ../saved_model/recommender_model_6\\assets\n"
     ]
    },
    {
     "name": "stdout",
     "output_type": "stream",
     "text": [
      "Saved artifact at '../saved_model/recommender_model_6'. The following endpoints are available:\n",
      "\n",
      "* Endpoint 'serve'\n",
      "  args_0 (POSITIONAL_ONLY): List[TensorSpec(shape=(None, 32), dtype=tf.float32, name='user_input'), TensorSpec(shape=(None, 1551), dtype=tf.float32, name='item_input')]\n",
      "Output Type:\n",
      "  TensorSpec(shape=(None, 1), dtype=tf.float32, name=None)\n",
      "Captures:\n",
      "  2157527331856: TensorSpec(shape=(), dtype=tf.resource, name=None)\n",
      "  2157527331472: TensorSpec(shape=(), dtype=tf.resource, name=None)\n",
      "  2157527330704: TensorSpec(shape=(), dtype=tf.resource, name=None)\n",
      "  2157527332432: TensorSpec(shape=(), dtype=tf.resource, name=None)\n",
      "  2157527330896: TensorSpec(shape=(), dtype=tf.resource, name=None)\n",
      "  2157527331088: TensorSpec(shape=(), dtype=tf.resource, name=None)\n",
      "  2157527331664: TensorSpec(shape=(), dtype=tf.resource, name=None)\n",
      "  2157527329552: TensorSpec(shape=(), dtype=tf.resource, name=None)\n",
      "  2157527331280: TensorSpec(shape=(), dtype=tf.resource, name=None)\n",
      "  2157527329744: TensorSpec(shape=(), dtype=tf.resource, name=None)\n",
      "  2157527328016: TensorSpec(shape=(), dtype=tf.resource, name=None)\n",
      "  2157527332048: TensorSpec(shape=(), dtype=tf.resource, name=None)\n",
      "  2157527327632: TensorSpec(shape=(), dtype=tf.resource, name=None)\n",
      "  2157527326864: TensorSpec(shape=(), dtype=tf.resource, name=None)\n",
      "  2157527328784: TensorSpec(shape=(), dtype=tf.resource, name=None)\n",
      "  2161074530128: TensorSpec(shape=(), dtype=tf.resource, name=None)\n",
      "  2157823972688: TensorSpec(shape=(), dtype=tf.resource, name=None)\n",
      "  2157823973840: TensorSpec(shape=(), dtype=tf.resource, name=None)\n",
      "  2161074530320: TensorSpec(shape=(), dtype=tf.resource, name=None)\n",
      "  2161074531472: TensorSpec(shape=(), dtype=tf.resource, name=None)\n",
      "  2157527333584: TensorSpec(shape=(), dtype=tf.resource, name=None)\n",
      "  2161074532048: TensorSpec(shape=(), dtype=tf.resource, name=None)\n",
      "  2161074532432: TensorSpec(shape=(), dtype=tf.resource, name=None)\n",
      "  2161074531856: TensorSpec(shape=(), dtype=tf.resource, name=None)\n",
      "  2161074530704: TensorSpec(shape=(), dtype=tf.resource, name=None)\n",
      "  2161074532240: TensorSpec(shape=(), dtype=tf.resource, name=None)\n",
      "  2161074533200: TensorSpec(shape=(), dtype=tf.resource, name=None)\n",
      "  2161074534352: TensorSpec(shape=(), dtype=tf.resource, name=None)\n",
      "  2161074534736: TensorSpec(shape=(), dtype=tf.resource, name=None)\n",
      "  2161074532816: TensorSpec(shape=(), dtype=tf.resource, name=None)\n",
      "  2161074533584: TensorSpec(shape=(), dtype=tf.resource, name=None)\n",
      "  2161074534544: TensorSpec(shape=(), dtype=tf.resource, name=None)\n",
      "  2161074535504: TensorSpec(shape=(), dtype=tf.resource, name=None)\n",
      "  2161074535120: TensorSpec(shape=(), dtype=tf.resource, name=None)\n",
      "  2157522666512: TensorSpec(shape=(), dtype=tf.resource, name=None)\n",
      "  2157522665744: TensorSpec(shape=(), dtype=tf.resource, name=None)\n",
      "  2161074535888: TensorSpec(shape=(), dtype=tf.resource, name=None)\n",
      "  2157522665552: TensorSpec(shape=(), dtype=tf.resource, name=None)\n",
      "  2157522666896: TensorSpec(shape=(), dtype=tf.resource, name=None)\n",
      "  2157522668048: TensorSpec(shape=(), dtype=tf.resource, name=None)\n"
     ]
    },
    {
     "name": "stderr",
     "output_type": "stream",
     "text": [
      "WARNING:absl:The `save_format` argument is deprecated in Keras 3. We recommend removing this argument as it can be inferred from the file path. Received: save_format=h5\n",
      "WARNING:absl:You are saving your model as an HDF5 file via `model.save()` or `keras.saving.save_model(model)`. This file format is considered legacy. We recommend using instead the native Keras format, e.g. `model.save('my_model.keras')` or `keras.saving.save_model(model, 'my_model.keras')`. \n"
     ]
    }
   ],
   "source": [
    "# Save in TensorFlow SavedModel format\n",
    "model.export('../saved_model/recommender_model_6')\n",
    "\n",
    "# Save in HDF5 format\n",
    "model.save('../saved_model/recommender_model_6.h5', save_format='h5')\n"
   ]
  },
  {
   "cell_type": "code",
   "execution_count": null,
   "id": "ec9301f3",
   "metadata": {},
   "outputs": [],
   "source": [
    "# # Save in TensorFlow SavedModel format\n",
    "# model.export('../saved_model/recommender_model_2')\n",
    "\n",
    "# # Save in HDF5 format\n",
    "# model.save('../recommender_model_2.h5', save_format='h5')\n"
   ]
  },
  {
   "cell_type": "code",
   "execution_count": 54,
   "id": "b724a94d",
   "metadata": {},
   "outputs": [
    {
     "name": "stderr",
     "output_type": "stream",
     "text": [
      "WARNING:absl:Compiled the loaded model, but the compiled metrics have yet to be built. `model.compile_metrics` will be empty until you train or evaluate the model.\n"
     ]
    }
   ],
   "source": [
    "model=tf.keras.models.load_model('../saved_model/recommender_model_6.h5')\n"
   ]
  },
  {
   "cell_type": "code",
   "execution_count": 55,
   "id": "a0ca098b",
   "metadata": {},
   "outputs": [
    {
     "data": {
      "text/plain": [
       "array([[-0.25989455,  0.32317614,  0.24692126,  0.51687892, -0.1317057 ,\n",
       "        -0.28708446,  1.57206042, -0.27704778,  0.16021278,  0.157398  ,\n",
       "         0.07581517,  0.29228819,  0.25436898,  0.71397845,  0.11641071,\n",
       "         0.16433943,  0.25063178, -0.08446916,  0.29093007,  0.14058532,\n",
       "         0.09544477,  0.11204122,  0.44291244, -0.6441875 ,  0.65238654,\n",
       "        -0.07278681, -0.27320431,  0.        ,  0.        ,  0.        ,\n",
       "         0.        ,  0.        ],\n",
       "       [-1.11070908, -0.39802264, -0.82766483, -1.06390135,  1.00888589,\n",
       "        -0.63833223, -1.10495582, -0.98105748, -1.56264593, -0.81415629,\n",
       "        -3.2394846 , -1.25647216, -3.49930131,  0.5472529 ,  0.08170883,\n",
       "         0.0280102 , -1.25054341, -1.64605076, -0.42125418, -0.54687925,\n",
       "        -0.60209419, -0.98151224, -1.66798113,  1.55234306, -1.53283358,\n",
       "        -0.07278681, -0.00468354,  0.        ,  0.        ,  0.        ,\n",
       "         0.        ,  0.        ],\n",
       "       [ 0.60325062, -0.81813842,  0.22304156,  1.12842165,  0.84594423,\n",
       "         0.71648059,  0.16356495,  0.88860762,  0.42821302, -3.49460518,\n",
       "         0.07581517,  0.93473693,  0.11566523,  0.08630578,  0.08170883,\n",
       "        -1.00419677,  0.59341981,  1.04078816,  0.93306341,  1.33082249,\n",
       "         0.79298373, -0.05619777,  0.22187647, -0.6441875 ,  0.65238654,\n",
       "        -0.07278681, -0.32690847,  0.        ,  0.        ,  0.        ,\n",
       "         0.        ,  0.        ],\n",
       "       [-0.32154778, -0.75745503, -1.35301802, -0.51005133, -0.62053067,\n",
       "        -0.42507465,  0.16356495, -0.41554149, -0.59274029, -0.51054558,\n",
       "         0.07581517, -0.41899434, -0.46515673,  0.5472529 ,  0.08170883,\n",
       "         0.56358929,  0.28609261, -0.36004239,  0.38433128,  0.17136732,\n",
       "         0.12334633, -0.52486354,  0.35449805, -0.6441875 ,  0.65238654,\n",
       "        -0.07278681, -0.11209185,  0.        ,  0.        ,  0.        ,\n",
       "         0.        ,  0.        ],\n",
       "       [-0.14891875, -0.45870603, -0.09933426, -0.44082008,  0.60153175,\n",
       "         0.2021535 ,  0.16356495, -0.2539655 , -0.09502555, -0.24163323,\n",
       "        -2.59935467, -0.25838216, -1.76550441, -0.43348566,  0.08170883,\n",
       "         0.29093085, -0.05669543, -0.45190013, -0.11770024, -1.23434382,\n",
       "        -0.60209419, -0.14031727,  0.06715128, -0.6441875 ,  0.65238654,\n",
       "        -0.07278681, -0.27320431,  0.        ,  0.        ,  0.        ,\n",
       "         0.        ,  0.        ]])"
      ]
     },
     "execution_count": 55,
     "metadata": {},
     "output_type": "execute_result"
    }
   ],
   "source": [
    "import numpy as np\n",
    "X_U_test[:5]\n"
   ]
  },
  {
   "cell_type": "code",
   "execution_count": 56,
   "id": "b345239c",
   "metadata": {},
   "outputs": [
    {
     "data": {
      "text/plain": [
       "array([[ 1.69920481, -0.38654972, -0.72123611, ..., -0.00223607,\n",
       "        -0.01245086,  0.75442207],\n",
       "       [ 1.5770615 , -0.38654972, -0.71797694, ..., -0.00223607,\n",
       "        -0.01245086, -0.7860036 ],\n",
       "       [-0.47928185, -0.04080992, -0.29046938, ..., -0.00223607,\n",
       "        -0.01245086,  1.87473164],\n",
       "       [-0.72674102, -0.25985486,  0.2798146 , ..., -0.00223607,\n",
       "        -0.01245086,  0.05422858],\n",
       "       [-0.7373162 , -0.24332945,  0.3301047 , ..., -0.00223607,\n",
       "        -0.01245086,  0.61438337]])"
      ]
     },
     "execution_count": 56,
     "metadata": {},
     "output_type": "execute_result"
    }
   ],
   "source": [
    "X_A_test[:5]"
   ]
  },
  {
   "cell_type": "code",
   "execution_count": 57,
   "id": "a41b7802",
   "metadata": {},
   "outputs": [
    {
     "name": "stdout",
     "output_type": "stream",
     "text": [
      "\u001b[1m1/1\u001b[0m \u001b[32m━━━━━━━━━━━━━━━━━━━━\u001b[0m\u001b[37m\u001b[0m \u001b[1m0s\u001b[0m 103ms/step\n"
     ]
    },
    {
     "data": {
      "text/plain": [
       "array([[7.463675 ],\n",
       "       [6.215206 ],\n",
       "       [8.96331  ],\n",
       "       [6.965341 ],\n",
       "       [7.7632103],\n",
       "       [7.7176785],\n",
       "       [7.10887  ],\n",
       "       [8.700842 ],\n",
       "       [8.901836 ],\n",
       "       [8.921344 ],\n",
       "       [9.275683 ],\n",
       "       [8.296733 ],\n",
       "       [7.4497223],\n",
       "       [7.7219424],\n",
       "       [8.352077 ],\n",
       "       [8.433327 ],\n",
       "       [7.4812627],\n",
       "       [8.009763 ],\n",
       "       [7.835172 ],\n",
       "       [8.43903  ]], dtype=float32)"
      ]
     },
     "execution_count": 57,
     "metadata": {},
     "output_type": "execute_result"
    }
   ],
   "source": [
    "#Make predictions on X-U_test and X-A_test\n",
    "predictions = model.predict([X_U_test[:20], X_A_test[:20]])\n",
    "predictions[:20]"
   ]
  },
  {
   "cell_type": "code",
   "execution_count": 58,
   "id": "128f511f",
   "metadata": {},
   "outputs": [
    {
     "data": {
      "text/plain": [
       "array([ 8,  5,  9,  4,  7,  8,  8,  9,  9, 10,  9,  7,  8,  8,  7,  9,  6,\n",
       "        7,  7,  7], dtype=int64)"
      ]
     },
     "execution_count": 58,
     "metadata": {},
     "output_type": "execute_result"
    }
   ],
   "source": [
    "Y_test[:20]"
   ]
  },
  {
   "cell_type": "code",
   "execution_count": null,
   "id": "7b28c3a7",
   "metadata": {},
   "outputs": [],
   "source": [
    "# Optional: Plot training history\n",
    "# Uncomment if you're running in an environment that supports plotting\n",
    "\"\"\"\n",
    "import matplotlib.pyplot as plt\n",
    "\n",
    "plt.figure(figsize=(12, 4))\n",
    "plt.subplot(1, 2, 1)\n",
    "plt.plot(history.history['loss'], label='Training Loss')\n",
    "plt.plot(history.history['val_loss'], label='Validation Loss')\n",
    "plt.title('Loss Over Epochs')\n",
    "plt.xlabel('Epoch')\n",
    "plt.ylabel('Loss (MSE)')\n",
    "plt.legend()\n",
    "\n",
    "plt.subplot(1, 2, 2)\n",
    "plt.plot(history.history['mean_absolute_error'], label='Training MAE')\n",
    "plt.plot(history.history['val_mean_absolute_error'], label='Validation MAE')\n",
    "plt.title('Mean Absolute Error Over Epochs')\n",
    "plt.xlabel('Epoch')\n",
    "plt.ylabel('MAE')\n",
    "plt.legend()\n",
    "plt.tight_layout()\n",
    "plt.show()\n",
    "\"\"\""
   ]
  }
 ],
 "metadata": {
  "kernelspec": {
   "display_name": "Python 3",
   "language": "python",
   "name": "python3"
  },
  "language_info": {
   "codemirror_mode": {
    "name": "ipython",
    "version": 3
   },
   "file_extension": ".py",
   "mimetype": "text/x-python",
   "name": "python",
   "nbconvert_exporter": "python",
   "pygments_lexer": "ipython3",
   "version": "3.12.5"
  }
 },
 "nbformat": 4,
 "nbformat_minor": 5
}
