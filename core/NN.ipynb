{
 "cells": [
  {
   "cell_type": "markdown",
   "id": "0db3612a",
   "metadata": {},
   "source": [
    "# Obtained_data:"
   ]
  },
  {
   "cell_type": "markdown",
   "id": "6d561d94",
   "metadata": {},
   "source": [
    "# Neural Network for implementing COntent Based Filtering:"
   ]
  },
  {
   "cell_type": "code",
   "execution_count": null,
   "id": "30fd1563",
   "metadata": {},
   "outputs": [],
   "source": [
    "import numpy as np\n",
    "import tensorflow as tf\n",
    "from tensorflow.keras import layers, models\n"
   ]
  },
  {
   "cell_type": "code",
   "execution_count": null,
   "id": "49eb2fca",
   "metadata": {},
   "outputs": [],
   "source": [
    "tf.random.set_seed(42)\n",
    "num_outputs=32\n",
    "# Define the model for the user\n",
    "# The model is a simple feedforward neural network with 4 hidden layers\n",
    "User_NN=tf.keras.models.sequential([\n",
    "    tf.keras.layers.Dense(256,activation='relu'),\n",
    "    tf.keras.layers.Dense(128,activation='relu'),\n",
    "    tf.keras.layers.Dense(64,activation='relu'),\n",
    "    tf.keras.layers.Dense(units=num_outputs,activation=\"Linear\")    \n",
    "])\n",
    "\n",
    "item_NN=tf.keras.models.sequential([\n",
    "    tf.keras.layers.Dense(256,activation='relu'),\n",
    "    tf.keras.layers.Dense(128,activation='relu'),\n",
    "    tf.keras.layers.Dense(64,activation='relu'),\n",
    "    tf.keras.layers.Dense(units=num_outputs,activation=\"Linear\") \n",
    "])\n",
    "\n",
    "# Create the user input and point input layers\n",
    "user_input = tf.keras.Input(shape=(num_outputs,), name='user_input')\n",
    "vu=User_NN(input=user_input)\n",
    "vu=tf.linalg.norm(vu,axis=1)\n",
    "\n",
    "\n"
   ]
  }
 ],
 "metadata": {
  "language_info": {
   "name": "python"
  }
 },
 "nbformat": 4,
 "nbformat_minor": 5
}
