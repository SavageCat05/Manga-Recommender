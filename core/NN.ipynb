{
 "cells": [
  {
   "cell_type": "markdown",
   "id": "0db3612a",
   "metadata": {},
   "source": [
    "# Obtained_data:"
   ]
  },
  {
   "cell_type": "code",
   "execution_count": 1,
   "id": "ce088793",
   "metadata": {},
   "outputs": [],
   "source": [
    "import numpy as np "
   ]
  },
  {
   "cell_type": "code",
   "execution_count": 2,
   "id": "ad86276c",
   "metadata": {},
   "outputs": [],
   "source": [
    "import pandas as pd\n",
    "user_data=pd.read_csv(\"Final_User_Dataset.csv\")\n",
    "item_data=pd.read_csv(\"Final_Anime_Dataset.csv\")\n",
    "user_input=pd.read_csv(\"User_input.csv\")\n",
    "\n"
   ]
  },
  {
   "cell_type": "code",
   "execution_count": 3,
   "id": "7bbd5b8b",
   "metadata": {},
   "outputs": [
    {
     "data": {
      "text/plain": [
       "Index(['user_id', 'Username', 'Gender', 'Birth_Year', 'Mean Score',\n",
       "       'Completed', 'avg_Action', 'avg_Adventure', 'avg_Avant Garde',\n",
       "       'avg_Award Winning', 'avg_Boys Love', 'avg_Comedy', 'avg_Drama',\n",
       "       'avg_Ecchi', 'avg_Erotica', 'avg_Fantasy', 'avg_Girls Love',\n",
       "       'avg_Gourmet', 'avg_Hentai', 'avg_Horror', 'avg_Mystery', 'avg_Romance',\n",
       "       'avg_Sci-Fi', 'avg_Slice of Life', 'avg_Sports', 'avg_Supernatural',\n",
       "       'avg_Suspense'],\n",
       "      dtype='object')"
      ]
     },
     "execution_count": 3,
     "metadata": {},
     "output_type": "execute_result"
    }
   ],
   "source": [
    "user_data.columns"
   ]
  },
  {
   "cell_type": "code",
   "execution_count": 4,
   "id": "ede8c699",
   "metadata": {},
   "outputs": [
    {
     "data": {
      "text/plain": [
       "Index(['anime_id', 'Name', 'English name', 'Other name', 'Score', 'Genres',\n",
       "       'Synopsis', 'Type', 'Episodes', 'Aired', 'Premiered', 'Status',\n",
       "       'Producers', 'Licensors', 'Studios', 'Source', 'Duration', 'Rating',\n",
       "       'Rank', 'Popularity', 'Favorites', 'Scored By', 'Members', 'Image URL',\n",
       "       'Genre_Action', 'Genre_Adventure', 'Genre_Avant Garde',\n",
       "       'Genre_Award Winning', 'Genre_Boys Love', 'Genre_Comedy', 'Genre_Drama',\n",
       "       'Genre_Ecchi', 'Genre_Erotica', 'Genre_Fantasy', 'Genre_Girls Love',\n",
       "       'Genre_Gourmet', 'Genre_Hentai', 'Genre_Horror', 'Genre_Mystery',\n",
       "       'Genre_Romance', 'Genre_Sci-Fi', 'Genre_Slice of Life', 'Genre_Sports',\n",
       "       'Genre_Supernatural', 'Genre_Suspense', 'Genre_UNKNOWN', 'Type_Movie',\n",
       "       'Type_Music', 'Type_ONA', 'Type_OVA', 'Type_Special', 'Type_TV',\n",
       "       'Type_UNKNOWN', 'Rating_G - All Ages', 'Rating_PG - Children',\n",
       "       'Rating_PG-13 - Teens 13 or older',\n",
       "       'Rating_R - 17+ (violence & profanity)', 'Rating_R+ - Mild Nudity',\n",
       "       'Rating_Rx - Hentai', 'Rating_UNKNOWN', 'Release_Year'],\n",
       "      dtype='object')"
      ]
     },
     "execution_count": 4,
     "metadata": {},
     "output_type": "execute_result"
    }
   ],
   "source": [
    "item_data.columns"
   ]
  },
  {
   "cell_type": "code",
   "execution_count": 6,
   "id": "1fc7c9d1",
   "metadata": {},
   "outputs": [],
   "source": [
    "item_data.drop(columns=\"Type\", inplace=True)"
   ]
  },
  {
   "cell_type": "code",
   "execution_count": 7,
   "id": "a0e42210",
   "metadata": {},
   "outputs": [
    {
     "name": "stdout",
     "output_type": "stream",
     "text": [
      "   user_id  Username  Birth_Year  Mean Score  Completed  avg_Action  \\\n",
      "0        1     Xinil        1985        7.37      233.0        7.68   \n",
      "1       20    vondur        1988        8.06       94.0        8.02   \n",
      "2       66    Hiromi        1990        7.53      148.0        7.49   \n",
      "3       82    Achtor        1989        7.17      153.0        7.36   \n",
      "4      112  luffykun        1983        8.77      125.0        8.60   \n",
      "\n",
      "   avg_Adventure  avg_Avant Garde  avg_Award Winning  avg_Boys Love  ...  \\\n",
      "0           7.90              8.0               8.18            0.0  ...   \n",
      "1           8.24              9.0               8.43            0.0  ...   \n",
      "2           7.31              7.0               7.90            0.0  ...   \n",
      "3           7.71              8.8               8.25            0.0  ...   \n",
      "4           8.36              0.0               9.80            0.0  ...   \n",
      "\n",
      "   avg_Mystery  avg_Romance  avg_Sci-Fi  avg_Slice of Life  avg_Sports  \\\n",
      "0         7.86         7.27        7.37               7.54        7.56   \n",
      "1         8.36         8.00        8.19               8.33        8.38   \n",
      "2         7.54         7.53        7.32               6.62        8.00   \n",
      "3         7.76         7.20        7.39               7.05        6.75   \n",
      "4         9.00         8.89        8.00               0.00        9.50   \n",
      "\n",
      "   avg_Supernatural  avg_Suspense  Gender_Female  Gender_Male  \\\n",
      "0              7.66          8.18              0            1   \n",
      "1              8.43          8.56              0            1   \n",
      "2              7.85          7.00              0            1   \n",
      "3              7.40          8.18              0            1   \n",
      "4              8.60         10.00              0            1   \n",
      "\n",
      "   Gender_Non-Binary  \n",
      "0                  0  \n",
      "1                  0  \n",
      "2                  0  \n",
      "3                  0  \n",
      "4                  0  \n",
      "\n",
      "[5 rows x 29 columns]\n"
     ]
    }
   ],
   "source": [
    "from sklearn.preprocessing import OneHotEncoder\n",
    "\n",
    "# Initialize the OneHotEncoder\n",
    "encoder = OneHotEncoder(sparse_output=False, drop=None, dtype=int)\n",
    "\n",
    "# Fit and transform the 'Gender' column\n",
    "gender_encoded = encoder.fit_transform(user_data[['Gender']])\n",
    "\n",
    "# Get the column names for the encoded features\n",
    "gender_columns = encoder.get_feature_names_out(['Gender'])\n",
    "\n",
    "# Create a DataFrame for the encoded features\n",
    "gender_encoded_df = pd.DataFrame(gender_encoded, columns=gender_columns)\n",
    "\n",
    "# Concatenate the one-hot encoded columns with the original DataFrame\n",
    "user_data = pd.concat([user_data, gender_encoded_df], axis=1)\n",
    "\n",
    "# Drop the original 'Gender' column if no longer needed\n",
    "user_data.drop(columns=['Gender'], inplace=True)\n",
    "\n",
    "# Display the updated DataFrame\n",
    "print(user_data.head())"
   ]
  },
  {
   "cell_type": "code",
   "execution_count": 8,
   "id": "c5d8dede",
   "metadata": {},
   "outputs": [
    {
     "data": {
      "text/plain": [
       "(71285, 29)"
      ]
     },
     "execution_count": 8,
     "metadata": {},
     "output_type": "execute_result"
    }
   ],
   "source": [
    "user_data.shape"
   ]
  },
  {
   "cell_type": "code",
   "execution_count": 9,
   "id": "9dcd0112",
   "metadata": {},
   "outputs": [
    {
     "data": {
      "text/plain": [
       "Index(['user_id', 'Username', 'Birth_Year', 'Mean Score', 'Completed',\n",
       "       'avg_Action', 'avg_Adventure', 'avg_Avant Garde', 'avg_Award Winning',\n",
       "       'avg_Boys Love', 'avg_Comedy', 'avg_Drama', 'avg_Ecchi', 'avg_Erotica',\n",
       "       'avg_Fantasy', 'avg_Girls Love', 'avg_Gourmet', 'avg_Hentai',\n",
       "       'avg_Horror', 'avg_Mystery', 'avg_Romance', 'avg_Sci-Fi',\n",
       "       'avg_Slice of Life', 'avg_Sports', 'avg_Supernatural', 'avg_Suspense',\n",
       "       'Gender_Female', 'Gender_Male', 'Gender_Non-Binary'],\n",
       "      dtype='object')"
      ]
     },
     "execution_count": 9,
     "metadata": {},
     "output_type": "execute_result"
    }
   ],
   "source": [
    "user_data.columns"
   ]
  },
  {
   "cell_type": "code",
   "execution_count": 10,
   "id": "48596c15",
   "metadata": {},
   "outputs": [
    {
     "data": {
      "text/plain": [
       "Index(['anime_id', 'Name', 'English name', 'Other name', 'Score', 'Genres',\n",
       "       'Synopsis', 'Episodes', 'Aired', 'Premiered', 'Status', 'Producers',\n",
       "       'Licensors', 'Studios', 'Source', 'Duration', 'Rating', 'Rank',\n",
       "       'Popularity', 'Favorites', 'Scored By', 'Members', 'Image URL',\n",
       "       'Genre_Action', 'Genre_Adventure', 'Genre_Avant Garde',\n",
       "       'Genre_Award Winning', 'Genre_Boys Love', 'Genre_Comedy', 'Genre_Drama',\n",
       "       'Genre_Ecchi', 'Genre_Erotica', 'Genre_Fantasy', 'Genre_Girls Love',\n",
       "       'Genre_Gourmet', 'Genre_Hentai', 'Genre_Horror', 'Genre_Mystery',\n",
       "       'Genre_Romance', 'Genre_Sci-Fi', 'Genre_Slice of Life', 'Genre_Sports',\n",
       "       'Genre_Supernatural', 'Genre_Suspense', 'Genre_UNKNOWN', 'Type_Movie',\n",
       "       'Type_Music', 'Type_ONA', 'Type_OVA', 'Type_Special', 'Type_TV',\n",
       "       'Type_UNKNOWN', 'Rating_G - All Ages', 'Rating_PG - Children',\n",
       "       'Rating_PG-13 - Teens 13 or older',\n",
       "       'Rating_R - 17+ (violence & profanity)', 'Rating_R+ - Mild Nudity',\n",
       "       'Rating_Rx - Hentai', 'Rating_UNKNOWN', 'Release_Year'],\n",
       "      dtype='object')"
      ]
     },
     "execution_count": 10,
     "metadata": {},
     "output_type": "execute_result"
    }
   ],
   "source": [
    "item_data.columns\n"
   ]
  },
  {
   "cell_type": "code",
   "execution_count": 11,
   "id": "e2b9f364",
   "metadata": {},
   "outputs": [
    {
     "data": {
      "text/plain": [
       "anime_id                                    0\n",
       "Name                                        0\n",
       "English name                                0\n",
       "Other name                                  0\n",
       "Score                                    9213\n",
       "Genres                                      0\n",
       "Synopsis                                    0\n",
       "Episodes                                    0\n",
       "Aired                                       0\n",
       "Premiered                                   0\n",
       "Status                                      0\n",
       "Producers                                   0\n",
       "Licensors                                   0\n",
       "Studios                                     0\n",
       "Source                                      0\n",
       "Duration                                    0\n",
       "Rating                                      0\n",
       "Rank                                        0\n",
       "Popularity                                  0\n",
       "Favorites                                   0\n",
       "Scored By                                   0\n",
       "Members                                     0\n",
       "Image URL                                   0\n",
       "Genre_Action                                0\n",
       "Genre_Adventure                             0\n",
       "Genre_Avant Garde                           0\n",
       "Genre_Award Winning                         0\n",
       "Genre_Boys Love                             0\n",
       "Genre_Comedy                                0\n",
       "Genre_Drama                                 0\n",
       "Genre_Ecchi                                 0\n",
       "Genre_Erotica                               0\n",
       "Genre_Fantasy                               0\n",
       "Genre_Girls Love                            0\n",
       "Genre_Gourmet                               0\n",
       "Genre_Hentai                                0\n",
       "Genre_Horror                                0\n",
       "Genre_Mystery                               0\n",
       "Genre_Romance                               0\n",
       "Genre_Sci-Fi                                0\n",
       "Genre_Slice of Life                         0\n",
       "Genre_Sports                                0\n",
       "Genre_Supernatural                          0\n",
       "Genre_Suspense                              0\n",
       "Genre_UNKNOWN                               0\n",
       "Type_Movie                                  0\n",
       "Type_Music                                  0\n",
       "Type_ONA                                    0\n",
       "Type_OVA                                    0\n",
       "Type_Special                                0\n",
       "Type_TV                                     0\n",
       "Type_UNKNOWN                                0\n",
       "Rating_G - All Ages                         0\n",
       "Rating_PG - Children                        0\n",
       "Rating_PG-13 - Teens 13 or older            0\n",
       "Rating_R - 17+ (violence & profanity)       0\n",
       "Rating_R+ - Mild Nudity                     0\n",
       "Rating_Rx - Hentai                          0\n",
       "Rating_UNKNOWN                              0\n",
       "Release_Year                             4659\n",
       "dtype: int64"
      ]
     },
     "execution_count": 11,
     "metadata": {},
     "output_type": "execute_result"
    }
   ],
   "source": [
    "\n",
    "item_data.isna().sum()"
   ]
  },
  {
   "cell_type": "code",
   "execution_count": 12,
   "id": "a067f280",
   "metadata": {},
   "outputs": [],
   "source": [
    "filtered_item_data_df = item_data.drop(columns=[\"Genres\",\"Episodes\",\"Rating_UNKNOWN\",'Producers','Aired',\"Premiered\",\"Status\",\"Studios\",\"Licensors\",\"Duration\"])"
   ]
  },
  {
   "cell_type": "code",
   "execution_count": 13,
   "id": "4e1ea698",
   "metadata": {},
   "outputs": [
    {
     "data": {
      "text/plain": [
       "Index(['anime_id', 'Name', 'English name', 'Other name', 'Score', 'Synopsis',\n",
       "       'Source', 'Rating', 'Rank', 'Popularity', 'Favorites', 'Scored By',\n",
       "       'Members', 'Image URL', 'Genre_Action', 'Genre_Adventure',\n",
       "       'Genre_Avant Garde', 'Genre_Award Winning', 'Genre_Boys Love',\n",
       "       'Genre_Comedy', 'Genre_Drama', 'Genre_Ecchi', 'Genre_Erotica',\n",
       "       'Genre_Fantasy', 'Genre_Girls Love', 'Genre_Gourmet', 'Genre_Hentai',\n",
       "       'Genre_Horror', 'Genre_Mystery', 'Genre_Romance', 'Genre_Sci-Fi',\n",
       "       'Genre_Slice of Life', 'Genre_Sports', 'Genre_Supernatural',\n",
       "       'Genre_Suspense', 'Genre_UNKNOWN', 'Type_Movie', 'Type_Music',\n",
       "       'Type_ONA', 'Type_OVA', 'Type_Special', 'Type_TV', 'Type_UNKNOWN',\n",
       "       'Rating_G - All Ages', 'Rating_PG - Children',\n",
       "       'Rating_PG-13 - Teens 13 or older',\n",
       "       'Rating_R - 17+ (violence & profanity)', 'Rating_R+ - Mild Nudity',\n",
       "       'Rating_Rx - Hentai', 'Release_Year'],\n",
       "      dtype='object')"
      ]
     },
     "execution_count": 13,
     "metadata": {},
     "output_type": "execute_result"
    }
   ],
   "source": [
    "filtered_item_data_df.columns"
   ]
  },
  {
   "cell_type": "code",
   "execution_count": 14,
   "id": "f5df5f3a",
   "metadata": {},
   "outputs": [
    {
     "data": {
      "text/plain": [
       "(24905, 50)"
      ]
     },
     "execution_count": 14,
     "metadata": {},
     "output_type": "execute_result"
    }
   ],
   "source": [
    "filtered_item_data_df.shape"
   ]
  },
  {
   "cell_type": "code",
   "execution_count": 15,
   "id": "03cacdfb",
   "metadata": {},
   "outputs": [],
   "source": [
    "# Keep rows where both 'Score' and 'Release_Year' are not null\n",
    "filtered_item_data_df = filtered_item_data_df[filtered_item_data_df[\"Score\"].notna() & filtered_item_data_df[\"Release_Year\"].notna()]"
   ]
  },
  {
   "cell_type": "code",
   "execution_count": 16,
   "id": "f8ed202c",
   "metadata": {},
   "outputs": [
    {
     "name": "stdout",
     "output_type": "stream",
     "text": [
      "anime_id                                 0\n",
      "Name                                     0\n",
      "English name                             0\n",
      "Other name                               0\n",
      "Score                                    0\n",
      "Synopsis                                 0\n",
      "Source                                   0\n",
      "Rating                                   0\n",
      "Rank                                     0\n",
      "Popularity                               0\n",
      "Favorites                                0\n",
      "Scored By                                0\n",
      "Members                                  0\n",
      "Image URL                                0\n",
      "Genre_Action                             0\n",
      "Genre_Adventure                          0\n",
      "Genre_Avant Garde                        0\n",
      "Genre_Award Winning                      0\n",
      "Genre_Boys Love                          0\n",
      "Genre_Comedy                             0\n",
      "Genre_Drama                              0\n",
      "Genre_Ecchi                              0\n",
      "Genre_Erotica                            0\n",
      "Genre_Fantasy                            0\n",
      "Genre_Girls Love                         0\n",
      "Genre_Gourmet                            0\n",
      "Genre_Hentai                             0\n",
      "Genre_Horror                             0\n",
      "Genre_Mystery                            0\n",
      "Genre_Romance                            0\n",
      "Genre_Sci-Fi                             0\n",
      "Genre_Slice of Life                      0\n",
      "Genre_Sports                             0\n",
      "Genre_Supernatural                       0\n",
      "Genre_Suspense                           0\n",
      "Genre_UNKNOWN                            0\n",
      "Type_Movie                               0\n",
      "Type_Music                               0\n",
      "Type_ONA                                 0\n",
      "Type_OVA                                 0\n",
      "Type_Special                             0\n",
      "Type_TV                                  0\n",
      "Type_UNKNOWN                             0\n",
      "Rating_G - All Ages                      0\n",
      "Rating_PG - Children                     0\n",
      "Rating_PG-13 - Teens 13 or older         0\n",
      "Rating_R - 17+ (violence & profanity)    0\n",
      "Rating_R+ - Mild Nudity                  0\n",
      "Rating_Rx - Hentai                       0\n",
      "Release_Year                             0\n",
      "dtype: int64\n"
     ]
    }
   ],
   "source": [
    "print(filtered_item_data_df.isna().sum())"
   ]
  },
  {
   "cell_type": "code",
   "execution_count": 17,
   "id": "92e25c3e",
   "metadata": {},
   "outputs": [
    {
     "data": {
      "text/plain": [
       "(14754, 50)"
      ]
     },
     "execution_count": 17,
     "metadata": {},
     "output_type": "execute_result"
    }
   ],
   "source": [
    "filtered_item_data_df.shape"
   ]
  },
  {
   "cell_type": "code",
   "execution_count": 20,
   "id": "d7775449",
   "metadata": {},
   "outputs": [
    {
     "data": {
      "text/plain": [
       "Index(['user_id', 'Username', 'Birth_Year', 'Mean Score', 'Completed',\n",
       "       'avg_Action', 'avg_Adventure', 'avg_Avant Garde', 'avg_Award Winning',\n",
       "       'avg_Boys Love', 'avg_Comedy', 'avg_Drama', 'avg_Ecchi', 'avg_Erotica',\n",
       "       'avg_Fantasy', 'avg_Girls Love', 'avg_Gourmet', 'avg_Hentai',\n",
       "       'avg_Horror', 'avg_Mystery', 'avg_Romance', 'avg_Sci-Fi',\n",
       "       'avg_Slice of Life', 'avg_Sports', 'avg_Supernatural', 'avg_Suspense',\n",
       "       'Gender_Female', 'Gender_Male', 'Gender_Non-Binary'],\n",
       "      dtype='object')"
      ]
     },
     "execution_count": 20,
     "metadata": {},
     "output_type": "execute_result"
    }
   ],
   "source": [
    "user_data.columns"
   ]
  },
  {
   "cell_type": "code",
   "execution_count": 18,
   "id": "11a73dda",
   "metadata": {},
   "outputs": [
    {
     "data": {
      "text/plain": [
       "Index(['anime_id', 'Name', 'English name', 'Other name', 'Score', 'Synopsis',\n",
       "       'Source', 'Rating', 'Rank', 'Popularity', 'Favorites', 'Scored By',\n",
       "       'Members', 'Image URL', 'Genre_Action', 'Genre_Adventure',\n",
       "       'Genre_Avant Garde', 'Genre_Award Winning', 'Genre_Boys Love',\n",
       "       'Genre_Comedy', 'Genre_Drama', 'Genre_Ecchi', 'Genre_Erotica',\n",
       "       'Genre_Fantasy', 'Genre_Girls Love', 'Genre_Gourmet', 'Genre_Hentai',\n",
       "       'Genre_Horror', 'Genre_Mystery', 'Genre_Romance', 'Genre_Sci-Fi',\n",
       "       'Genre_Slice of Life', 'Genre_Sports', 'Genre_Supernatural',\n",
       "       'Genre_Suspense', 'Genre_UNKNOWN', 'Type_Movie', 'Type_Music',\n",
       "       'Type_ONA', 'Type_OVA', 'Type_Special', 'Type_TV', 'Type_UNKNOWN',\n",
       "       'Rating_G - All Ages', 'Rating_PG - Children',\n",
       "       'Rating_PG-13 - Teens 13 or older',\n",
       "       'Rating_R - 17+ (violence & profanity)', 'Rating_R+ - Mild Nudity',\n",
       "       'Rating_Rx - Hentai', 'Release_Year'],\n",
       "      dtype='object')"
      ]
     },
     "execution_count": 18,
     "metadata": {},
     "output_type": "execute_result"
    }
   ],
   "source": [
    "filtered_item_data_df.columns"
   ]
  },
  {
   "cell_type": "code",
   "execution_count": 19,
   "id": "4f5dfc3e",
   "metadata": {},
   "outputs": [
    {
     "data": {
      "text/plain": [
       "Index(['Username', 'Gender', 'Mean Score', 'Completed', 'Birth_Year',\n",
       "       'user_id', 'anime_id', 'Anime Title', 'rating', 'Genres',\n",
       "       'Genre_Action', 'Genre_Adventure', 'Genre_Avant Garde',\n",
       "       'Genre_Award Winning', 'Genre_Boys Love', 'Genre_Comedy', 'Genre_Drama',\n",
       "       'Genre_Ecchi', 'Genre_Erotica', 'Genre_Fantasy', 'Genre_Girls Love',\n",
       "       'Genre_Gourmet', 'Genre_Hentai', 'Genre_Horror', 'Genre_Mystery',\n",
       "       'Genre_Romance', 'Genre_Sci-Fi', 'Genre_Slice of Life', 'Genre_Sports',\n",
       "       'Genre_Supernatural', 'Genre_Suspense'],\n",
       "      dtype='object')"
      ]
     },
     "execution_count": 19,
     "metadata": {},
     "output_type": "execute_result"
    }
   ],
   "source": [
    "user_input.columns"
   ]
  },
  {
   "cell_type": "code",
   "execution_count": 20,
   "id": "3886534c",
   "metadata": {},
   "outputs": [],
   "source": [
    "def prepare_training_data(user_input_df, user_data_df, filtered_item_data_df):\n",
    "    \"\"\"\n",
    "    Prepares training data for a neural network by merging dataframes and extracting\n",
    "    user features (X_U), anime features (X_A), and ratings (Y).\n",
    "    \n",
    "    Parameters:\n",
    "    -----------\n",
    "    user_input_df : DataFrame\n",
    "        Contains user ratings for anime with columns including user_id, anime_id, rating\n",
    "    user_data_df : DataFrame\n",
    "        Contains user demographic data and average genre ratings\n",
    "    filtered_item_data_df : DataFrame\n",
    "        Contains anime metadata including genres, types, and ratings\n",
    "        \n",
    "    Returns:\n",
    "    --------\n",
    "    dict\n",
    "        A dictionary containing:\n",
    "        - 'X_U': User features array\n",
    "        - 'X_A': Anime features array\n",
    "        - 'Y': Rating values array\n",
    "        - 'X_U_columns': List of column names for user features\n",
    "        - 'X_A_columns': List of column names for anime features\n",
    "        - 'Y_column': Name of the rating column\n",
    "        - 'X_U_indices': List of indices for user features\n",
    "        - 'X_A_indices': List of indices for anime features\n",
    "        - 'Y_index': Index of the rating column\n",
    "        - 'merged_df': The merged and cleaned dataframe\n",
    "    \"\"\"\n",
    "    import numpy as np\n",
    "    \n",
    "    # Step 1: Merge dataframes\n",
    "    merged_df = user_input_df.merge(user_data_df, on='user_id')\n",
    "    merged_df = merged_df.merge(filtered_item_data_df, on='anime_id')\n",
    "    \n",
    "    # Step 2: Identify columns to drop (non-numerical or identifiers)\n",
    "    columns_to_drop = ['Username', 'user_id', 'anime_id', 'Anime Title', \n",
    "                      'Name', 'English name', 'Other name', 'Synopsis', \n",
    "                      'Source', 'Image URL']\n",
    "    \n",
    "    # Only drop columns that actually exist in the merged dataframe\n",
    "    columns_to_drop = [col for col in columns_to_drop if col in merged_df.columns]\n",
    "    \n",
    "    # Drop identified columns\n",
    "    cleaned_df = merged_df.drop(columns_to_drop, axis=1)\n",
    "    \n",
    "    # Step 3: Define columns for each component\n",
    "    X_U_columns = ['Birth_Year', 'Mean Score', 'Completed',\n",
    "                  'avg_Action', 'avg_Adventure', 'avg_Avant Garde', 'avg_Award Winning',\n",
    "                  'avg_Boys Love', 'avg_Comedy', 'avg_Drama', 'avg_Ecchi', 'avg_Erotica',\n",
    "                  'avg_Fantasy', 'avg_Girls Love', 'avg_Gourmet', 'avg_Hentai',\n",
    "                  'avg_Horror', 'avg_Mystery', 'avg_Romance', 'avg_Sci-Fi',\n",
    "                  'avg_Slice of Life', 'avg_Sports', 'avg_Supernatural', 'avg_Suspense',\n",
    "                  'Gender_Female', 'Gender_Male', 'Gender_Non-Binary']\n",
    "    \n",
    "    X_A_columns = ['Score', 'Rating', 'Rank', 'Popularity', 'Favorites', 'Scored By',\n",
    "                  'Members', 'Release_Year',\n",
    "                  'Genre_Action', 'Genre_Adventure', 'Genre_Avant Garde', 'Genre_Award Winning',\n",
    "                  'Genre_Boys Love', 'Genre_Comedy', 'Genre_Drama', 'Genre_Ecchi', 'Genre_Erotica',\n",
    "                  'Genre_Fantasy', 'Genre_Girls Love', 'Genre_Gourmet', 'Genre_Hentai',\n",
    "                  'Genre_Horror', 'Genre_Mystery', 'Genre_Romance', 'Genre_Sci-Fi',\n",
    "                  'Genre_Slice of Life', 'Genre_Sports', 'Genre_Supernatural',\n",
    "                  'Genre_Suspense', 'Genre_UNKNOWN',\n",
    "                  'Type_Movie', 'Type_Music', 'Type_ONA', 'Type_OVA', 'Type_Special', 'Type_TV', 'Type_UNKNOWN',\n",
    "                  'Rating_G - All Ages', 'Rating_PG - Children', 'Rating_PG-13 - Teens 13 or older',\n",
    "                  'Rating_R - 17+ (violence & profanity)', 'Rating_R+ - Mild Nudity', 'Rating_Rx - Hentai']\n",
    "    \n",
    "    Y_column = 'rating'\n",
    "    \n",
    "    # Filter to include only columns that exist in the cleaned dataframe\n",
    "    X_U_columns = [col for col in X_U_columns if col in cleaned_df.columns]\n",
    "    X_A_columns = [col for col in X_A_columns if col in cleaned_df.columns]\n",
    "    \n",
    "    # Verify rating column exists\n",
    "    if Y_column not in cleaned_df.columns:\n",
    "        raise ValueError(f\"Rating column '{Y_column}' not found in merged dataframe\")\n",
    "    \n",
    "    # Step 4: Get indices for each component\n",
    "    X_U_indices = [cleaned_df.columns.get_loc(col) for col in X_U_columns]\n",
    "    X_A_indices = [cleaned_df.columns.get_loc(col) for col in X_A_columns]\n",
    "    Y_index = cleaned_df.columns.get_loc(Y_column)\n",
    "    \n",
    "    # Step 5: Extract features using indices\n",
    "    X_U = cleaned_df.iloc[:, X_U_indices].values\n",
    "    X_A = cleaned_df.iloc[:, X_A_indices].values\n",
    "    Y = cleaned_df.iloc[:, Y_index].values\n",
    "    \n",
    "    # Return all relevant data and metadata\n",
    "    return {\n",
    "        'X_U': X_U,\n",
    "        'X_A': X_A,\n",
    "        'Y': Y,\n",
    "        'X_U_columns': X_U_columns,\n",
    "        'X_A_columns': X_A_columns,\n",
    "        'Y_column': Y_column,\n",
    "        'X_U_indices': X_U_indices,\n",
    "        'X_A_indices': X_A_indices,\n",
    "        'Y_index': Y_index,\n",
    "        'merged_df': cleaned_df\n",
    "    }"
   ]
  },
  {
   "cell_type": "code",
   "execution_count": 22,
   "id": "486c4d0c",
   "metadata": {},
   "outputs": [],
   "source": [
    "result = prepare_training_data(user_input, user_data, filtered_item_data_df)\n",
    "\n",
    "# Access the prepared data\n",
    "X_U = result['X_U']  # User features\n",
    "X_A = result['X_A']  # Anime features\n",
    "Y = result['Y']      # Ratings\n",
    "\n",
    "# You can also access indices if needed\n",
    "X_U_indices = result['X_U_indices']\n",
    "X_A_indices = result['X_A_indices']"
   ]
  },
  {
   "cell_type": "code",
   "execution_count": 23,
   "id": "ed29ca73",
   "metadata": {},
   "outputs": [
    {
     "data": {
      "text/plain": [
       "(8443619, 24)"
      ]
     },
     "execution_count": 23,
     "metadata": {},
     "output_type": "execute_result"
    }
   ],
   "source": [
    "X_U.shape"
   ]
  },
  {
   "cell_type": "code",
   "execution_count": 24,
   "id": "2ead081d",
   "metadata": {},
   "outputs": [
    {
     "data": {
      "text/plain": [
       "(8443619, 22)"
      ]
     },
     "execution_count": 24,
     "metadata": {},
     "output_type": "execute_result"
    }
   ],
   "source": [
    "X_A.shape"
   ]
  },
  {
   "cell_type": "code",
   "execution_count": 25,
   "id": "dad9a37e",
   "metadata": {},
   "outputs": [
    {
     "data": {
      "text/plain": [
       "(8443619,)"
      ]
     },
     "execution_count": 25,
     "metadata": {},
     "output_type": "execute_result"
    }
   ],
   "source": [
    "Y.shape"
   ]
  },
  {
   "cell_type": "code",
   "execution_count": 26,
   "id": "c8bb3363",
   "metadata": {},
   "outputs": [
    {
     "data": {
      "text/plain": [
       "array([9, 7, 5, 8, 8, 8, 7, 5, 6, 7], dtype=int64)"
      ]
     },
     "execution_count": 26,
     "metadata": {},
     "output_type": "execute_result"
    }
   ],
   "source": [
    "Y[:10]"
   ]
  },
  {
   "cell_type": "markdown",
   "id": "6d561d94",
   "metadata": {},
   "source": [
    "# Neural Network for implementing Content Based Filtering:"
   ]
  },
  {
   "cell_type": "code",
   "execution_count": 27,
   "id": "30fd1563",
   "metadata": {},
   "outputs": [],
   "source": [
    "import numpy as np\n",
    "import tensorflow as tf\n",
    "from tensorflow.keras import layers, models\n"
   ]
  },
  {
   "cell_type": "code",
   "execution_count": 4,
   "id": "49eb2fca",
   "metadata": {},
   "outputs": [
    {
     "ename": "TypeError",
     "evalue": "missing a required argument: 'inputs'",
     "output_type": "error",
     "traceback": [
      "\u001b[1;31m---------------------------------------------------------------------------\u001b[0m",
      "\u001b[1;31mTypeError\u001b[0m                                 Traceback (most recent call last)",
      "Cell \u001b[1;32mIn[4], line 21\u001b[0m\n\u001b[0;32m     19\u001b[0m \u001b[38;5;66;03m# Create the user input and point input layers\u001b[39;00m\n\u001b[0;32m     20\u001b[0m user_input \u001b[38;5;241m=\u001b[39m tf\u001b[38;5;241m.\u001b[39mkeras\u001b[38;5;241m.\u001b[39mInput(shape\u001b[38;5;241m=\u001b[39m(num_outputs,), name\u001b[38;5;241m=\u001b[39m\u001b[38;5;124m'\u001b[39m\u001b[38;5;124muser_input\u001b[39m\u001b[38;5;124m'\u001b[39m)\n\u001b[1;32m---> 21\u001b[0m vu\u001b[38;5;241m=\u001b[39m\u001b[43mUser_NN\u001b[49m\u001b[43m(\u001b[49m\u001b[38;5;28;43minput\u001b[39;49m\u001b[38;5;241;43m=\u001b[39;49m\u001b[43muser_input\u001b[49m\u001b[43m)\u001b[49m\n\u001b[0;32m     22\u001b[0m vu\u001b[38;5;241m=\u001b[39mtf\u001b[38;5;241m.\u001b[39mlinalg\u001b[38;5;241m.\u001b[39mnorm(vu,axis\u001b[38;5;241m=\u001b[39m\u001b[38;5;241m1\u001b[39m)\n\u001b[0;32m     24\u001b[0m \u001b[38;5;66;03m# Create the item input and point input layers\u001b[39;00m\n",
      "File \u001b[1;32mc:\\Users\\Lenovo\\AppData\\Local\\Programs\\Python\\Python312\\Lib\\site-packages\\keras\\src\\utils\\traceback_utils.py:122\u001b[0m, in \u001b[0;36mfilter_traceback.<locals>.error_handler\u001b[1;34m(*args, **kwargs)\u001b[0m\n\u001b[0;32m    119\u001b[0m     filtered_tb \u001b[38;5;241m=\u001b[39m _process_traceback_frames(e\u001b[38;5;241m.\u001b[39m__traceback__)\n\u001b[0;32m    120\u001b[0m     \u001b[38;5;66;03m# To get the full stack trace, call:\u001b[39;00m\n\u001b[0;32m    121\u001b[0m     \u001b[38;5;66;03m# `keras.config.disable_traceback_filtering()`\u001b[39;00m\n\u001b[1;32m--> 122\u001b[0m     \u001b[38;5;28;01mraise\u001b[39;00m e\u001b[38;5;241m.\u001b[39mwith_traceback(filtered_tb) \u001b[38;5;28;01mfrom\u001b[39;00m \u001b[38;5;28;01mNone\u001b[39;00m\n\u001b[0;32m    123\u001b[0m \u001b[38;5;28;01mfinally\u001b[39;00m:\n\u001b[0;32m    124\u001b[0m     \u001b[38;5;28;01mdel\u001b[39;00m filtered_tb\n",
      "File \u001b[1;32mc:\\Users\\Lenovo\\AppData\\Local\\Programs\\Python\\Python312\\Lib\\inspect.py:3273\u001b[0m, in \u001b[0;36mSignature.bind\u001b[1;34m(self, *args, **kwargs)\u001b[0m\n\u001b[0;32m   3268\u001b[0m \u001b[38;5;28;01mdef\u001b[39;00m \u001b[38;5;21mbind\u001b[39m(\u001b[38;5;28mself\u001b[39m, \u001b[38;5;241m/\u001b[39m, \u001b[38;5;241m*\u001b[39margs, \u001b[38;5;241m*\u001b[39m\u001b[38;5;241m*\u001b[39mkwargs):\n\u001b[0;32m   3269\u001b[0m \u001b[38;5;250m    \u001b[39m\u001b[38;5;124;03m\"\"\"Get a BoundArguments object, that maps the passed `args`\u001b[39;00m\n\u001b[0;32m   3270\u001b[0m \u001b[38;5;124;03m    and `kwargs` to the function's signature.  Raises `TypeError`\u001b[39;00m\n\u001b[0;32m   3271\u001b[0m \u001b[38;5;124;03m    if the passed arguments can not be bound.\u001b[39;00m\n\u001b[0;32m   3272\u001b[0m \u001b[38;5;124;03m    \"\"\"\u001b[39;00m\n\u001b[1;32m-> 3273\u001b[0m     \u001b[38;5;28;01mreturn\u001b[39;00m \u001b[38;5;28;43mself\u001b[39;49m\u001b[38;5;241;43m.\u001b[39;49m\u001b[43m_bind\u001b[49m\u001b[43m(\u001b[49m\u001b[43margs\u001b[49m\u001b[43m,\u001b[49m\u001b[43m \u001b[49m\u001b[43mkwargs\u001b[49m\u001b[43m)\u001b[49m\n",
      "File \u001b[1;32mc:\\Users\\Lenovo\\AppData\\Local\\Programs\\Python\\Python312\\Lib\\inspect.py:3186\u001b[0m, in \u001b[0;36mSignature._bind\u001b[1;34m(self, args, kwargs, partial)\u001b[0m\n\u001b[0;32m   3184\u001b[0m                 msg \u001b[38;5;241m=\u001b[39m \u001b[38;5;124m'\u001b[39m\u001b[38;5;124mmissing a required\u001b[39m\u001b[38;5;132;01m{argtype}\u001b[39;00m\u001b[38;5;124m argument: \u001b[39m\u001b[38;5;132;01m{arg!r}\u001b[39;00m\u001b[38;5;124m'\u001b[39m\n\u001b[0;32m   3185\u001b[0m                 msg \u001b[38;5;241m=\u001b[39m msg\u001b[38;5;241m.\u001b[39mformat(arg\u001b[38;5;241m=\u001b[39mparam\u001b[38;5;241m.\u001b[39mname, argtype\u001b[38;5;241m=\u001b[39margtype)\n\u001b[1;32m-> 3186\u001b[0m                 \u001b[38;5;28;01mraise\u001b[39;00m \u001b[38;5;167;01mTypeError\u001b[39;00m(msg) \u001b[38;5;28;01mfrom\u001b[39;00m \u001b[38;5;28;01mNone\u001b[39;00m\n\u001b[0;32m   3187\u001b[0m \u001b[38;5;28;01melse\u001b[39;00m:\n\u001b[0;32m   3188\u001b[0m     \u001b[38;5;66;03m# We have a positional argument to process\u001b[39;00m\n\u001b[0;32m   3189\u001b[0m     \u001b[38;5;28;01mtry\u001b[39;00m:\n",
      "\u001b[1;31mTypeError\u001b[0m: missing a required argument: 'inputs'"
     ]
    }
   ],
   "source": [
    "tf.random.set_seed(42)\n",
    "num_outputs=32\n",
    "# Define the model for the user\n",
    "# The model is a simple feedforward neural network with 4 hidden layers\n",
    "User_NN=tf.keras.models.Sequential([\n",
    "    tf.keras.layers.Dense(256,activation='relu'),\n",
    "    tf.keras.layers.Dense(128,activation='relu'),\n",
    "    tf.keras.layers.Dense(64,activation='relu'),\n",
    "    tf.keras.layers.Dense(units=num_outputs,activation=\"linear\")    \n",
    "])\n",
    "\n",
    "item_NN=tf.keras.models.Sequential([\n",
    "    tf.keras.layers.Dense(256,activation='relu'),\n",
    "    tf.keras.layers.Dense(128,activation='relu'),\n",
    "    tf.keras.layers.Dense(64,activation='relu'),\n",
    "    tf.keras.layers.Dense(units=num_outputs,activation=\"linear\") \n",
    "])\n",
    "\n",
    "# Create the user input and point input layers\n",
    "user_input = tf.keras.Input(shape=(num_outputs,), name='user_input')\n",
    "vu=User_NN(input=user_input)\n",
    "vu=tf.linalg.norm(vu,axis=1)\n",
    "\n",
    "# Create the item input and point input layers\n",
    "item_input = tf.keras.Input(shape=(num_outputs,), name='item_input')\n",
    "va=item_NN(input=item_input)\n",
    "va=tf.linalg.norm(va,axis=1)\n",
    "\n",
    "#Compute the dot product of the user and item vectors\n",
    "dot_product = tf.keras.layers.Dot(axes=1)([vu, va])\n",
    "\n",
    "model=tf.keras.Model(inputs=[user_input, item_input], outputs=dot_product)\n",
    "\n",
    "model.summary()\n"
   ]
  },
  {
   "cell_type": "code",
   "execution_count": null,
   "id": "507e6f05",
   "metadata": {},
   "outputs": [],
   "source": [
    "# Compiling the model\n",
    "      \n",
    "model.compile(optimizer=tf.keras.optimizers.Adam(learning_rate=0.001), loss='mean_squared_error')"
   ]
  }
 ],
 "metadata": {
  "kernelspec": {
   "display_name": "Python 3",
   "language": "python",
   "name": "python3"
  },
  "language_info": {
   "codemirror_mode": {
    "name": "ipython",
    "version": 3
   },
   "file_extension": ".py",
   "mimetype": "text/x-python",
   "name": "python",
   "nbconvert_exporter": "python",
   "pygments_lexer": "ipython3",
   "version": "3.12.5"
  }
 },
 "nbformat": 4,
 "nbformat_minor": 5
}
