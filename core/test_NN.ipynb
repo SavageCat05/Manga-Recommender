import unittest
import pandas as pd
import numpy as np
from sklearn.base import BaseEstimator, TransformerMixin
from sklearn.impute import SimpleImputer
from core.NN import AnimeDataCleaner

# test_NN.py

# Import the AnimeDataCleaner class from your module

class TestAnimeDataCleaner(unittest.TestCase):
    def setUp(self):
        """Set up test data for each test case."""
        # Create a simple test DataFrame
        self.test_data = pd.DataFrame({
            'anime_id': [1, 2, 3, 4, 5],
            'Score': [7.8, 'UNKNOWN', 8.5, np.nan, 6.9],
            'Rating': ['PG-13', 'R', 'UNKNOWN', 'PG', 'G'],
            'Members': [10000, 5000, 'UNKNOWN', 8000, np.nan],
            'Release_Year': [2010, 2015, 2020, np.nan, 2018]
        })

    def test_initialization(self):
        """Test that the class initializes with correct parameters."""
        cleaner = AnimeDataCleaner(
            unknown_placeholders=['UNKNOWN'],
            columns_to_clean=['Score', 'Rating', 'Members'],
            imputer_strategy='mean',
            require_columns=['Score', 'Release_Year']
        )
        
        self.assertEqual(cleaner.unknown_placeholders, ['UNKNOWN'])
        self.assertEqual(cleaner.columns_to_clean, ['Score', 'Rating', 'Members'])
        self.assertEqual(cleaner.imputer_strategy, 'mean')
        self.assertEqual(cleaner.require_columns, ['Score', 'Release_Year'])
        self.assertIsNone(cleaner.imputer_)
        self.assertIsNone(cleaner.columns_imputed_)

    def test_fit(self):
        """Test the fit method."""
        cleaner = AnimeDataCleaner(
            unknown_placeholders=['UNKNOWN'],
            columns_to_clean=['Score', 'Members'],
            imputer_strategy='mean'
        )
        
        cleaner.fit(self.test_data)
        
        # Check if the imputer was created
        self.assertIsInstance(cleaner.imputer_, SimpleImputer)
        
        # Check that the correct columns were selected for imputation
        self.assertIn('Score', cleaner.columns_imputed_)
        self.assertIn('Members', cleaner.columns_imputed_)
        self.assertNotIn('Rating', cleaner.columns_imputed_)  # Rating is string type
        
        # Check that rows_before_ was set correctly
        self.assertEqual(cleaner.rows_before_, 5)

    def test_transform_basic(self):
        """Test basic transformation with default parameters."""
        cleaner = AnimeDataCleaner(
            unknown_placeholders=['UNKNOWN'],
            columns_to_clean=['Score', 'Members'],
            imputer_strategy='mean'
        )
        
        # Fit and transform the data
        transformed_df = cleaner.fit_transform(self.test_data)
        
        # Check that UNKNOWN values were replaced and imputed
        self.assertFalse((transformed_df['Score'] == 'UNKNOWN').any())
        self.assertFalse(transformed_df['Score'].isna().any())
        self.assertFalse((transformed_df['Members'] == 'UNKNOWN').any())
        self.assertFalse(transformed_df['Members'].isna().any())
        
        # Original Rating column should remain unchanged
        self.assertTrue((transformed_df['Rating'] == 'UNKNOWN').any())

    def test_transform_with_required_columns(self):
        """Test transformation with required columns."""
        cleaner = AnimeDataCleaner(
            unknown_placeholders=['UNKNOWN'],
            columns_to_clean=['Score', 'Members'],
            imputer_strategy='mean',
            require_columns=['Score', 'Release_Year']
        )
        
        # Fit and transform the data
        transformed_df = cleaner.fit_transform(self.test_data)
        
        # Since one row has NaN in Release_Year, we should have 4 rows left
        self.assertEqual(len(transformed_df), 4)
        
        # Verify no missing values in required columns
        self.assertFalse(transformed_df['Score'].isna().any())
        self.assertFalse(transformed_df['Release_Year'].isna().any())

    def test_imputation_strategies(self):
        """Test different imputation strategies."""
        # Test median strategy
        median_cleaner = AnimeDataCleaner(
            unknown_placeholders=['UNKNOWN'],
            columns_to_clean=['Score'],
            imputer_strategy='median'
        )
        median_df = median_cleaner.fit_transform(self.test_data)
        
        # Test constant strategy
        constant_cleaner = AnimeDataCleaner(
            unknown_placeholders=['UNKNOWN'],
            columns_to_clean=['Score'],
            imputer_strategy='constant',
            imputer_fill_value=5.0
        )
        constant_df = constant_cleaner.fit_transform(self.test_data)
        
        # The imputed values should be different
        self.assertNotEqual(
            median_df.loc[1, 'Score'],  # UNKNOWN value imputed with median
            constant_df.loc[1, 'Score'] # UNKNOWN value imputed with constant 5.0
        )
        self.assertEqual(constant_df.loc[1, 'Score'], 5.0)

    def test_verbose_output(self):
        """Test verbose output functionality."""
        # This is harder to test directly, but we can ensure it doesn't break anything
        cleaner = AnimeDataCleaner(
            unknown_placeholders=['UNKNOWN'],
            columns_to_clean=['Score'],
            verbose=True
        )
        
        # If verbose works, this should execute without errors
        transformed_df = cleaner.fit_transform(self.test_data)
        self.assertIsNotNone(transformed_df)

    def test_empty_dataframe(self):
        """Test behavior with an empty DataFrame."""
        empty_df = pd.DataFrame(columns=['Score', 'Rating', 'Members', 'Release_Year'])
        
        cleaner = AnimeDataCleaner(columns_to_clean=['Score'])
        
        # This should handle empty DataFrame gracefully
        result = cleaner.fit_transform(empty_df)
        self.assertTrue(result.empty)

if __name__ == '__main__':
    unittest.main()